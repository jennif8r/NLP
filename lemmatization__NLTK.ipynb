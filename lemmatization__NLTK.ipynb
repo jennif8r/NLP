{
  "nbformat": 4,
  "nbformat_minor": 0,
  "metadata": {
    "colab": {
      "provenance": [],
      "authorship_tag": "ABX9TyM4HL9L+Ki/GT+ENciuDOOb",
      "include_colab_link": true
    },
    "kernelspec": {
      "name": "python3",
      "display_name": "Python 3"
    },
    "language_info": {
      "name": "python"
    }
  },
  "cells": [
    {
      "cell_type": "markdown",
      "metadata": {
        "id": "view-in-github",
        "colab_type": "text"
      },
      "source": [
        "<a href=\"https://colab.research.google.com/github/jennif8r/NLP/blob/main/lemmatization__NLTK.ipynb\" target=\"_parent\"><img src=\"https://colab.research.google.com/assets/colab-badge.svg\" alt=\"Open In Colab\"/></a>"
      ]
    },
    {
      "cell_type": "code",
      "execution_count": 1,
      "metadata": {
        "colab": {
          "base_uri": "https://localhost:8080/"
        },
        "id": "veeXlLOBuzb6",
        "outputId": "4771144b-d5ef-4243-a06a-7a1a6786eb53"
      },
      "outputs": [
        {
          "output_type": "stream",
          "name": "stdout",
          "text": [
            "Requirement already satisfied: nltk in /usr/local/lib/python3.10/dist-packages (3.8.1)\n",
            "Requirement already satisfied: click in /usr/local/lib/python3.10/dist-packages (from nltk) (8.1.7)\n",
            "Requirement already satisfied: joblib in /usr/local/lib/python3.10/dist-packages (from nltk) (1.4.2)\n",
            "Requirement already satisfied: regex>=2021.8.3 in /usr/local/lib/python3.10/dist-packages (from nltk) (2024.5.15)\n",
            "Requirement already satisfied: tqdm in /usr/local/lib/python3.10/dist-packages (from nltk) (4.66.4)\n"
          ]
        },
        {
          "output_type": "stream",
          "name": "stderr",
          "text": [
            "[nltk_data] Downloading package punkt to /root/nltk_data...\n",
            "[nltk_data]   Unzipping tokenizers/punkt.zip.\n",
            "[nltk_data] Downloading package stopwords to /root/nltk_data...\n",
            "[nltk_data]   Unzipping corpora/stopwords.zip.\n",
            "[nltk_data] Downloading package wordnet to /root/nltk_data...\n"
          ]
        },
        {
          "output_type": "execute_result",
          "data": {
            "text/plain": [
              "True"
            ]
          },
          "metadata": {},
          "execution_count": 1
        }
      ],
      "source": [
        "!pip install nltk\n",
        "import nltk\n",
        "nltk.download('punkt')\n",
        "nltk.download('stopwords')\n",
        "nltk.download('wordnet')\n"
      ]
    },
    {
      "cell_type": "code",
      "source": [
        "import nltk\n",
        "from nltk.tokenize import word_tokenize\n",
        "from nltk.corpus import stopwords\n",
        "from nltk.stem import WordNetLemmatizer\n",
        "import string\n",
        "\n",
        "# Texto de exemplo em português\n",
        "texto = \"mudar, mudando, mudanças, alterado, mudança\"\n",
        "\n",
        "# Tokenização\n",
        "tokens = word_tokenize(texto, language='portuguese')\n",
        "\n",
        "# Remoção de pontuação\n",
        "tokens = [word for word in tokens if word.isalnum()]\n",
        "\n",
        "# Remoção de stopwords\n",
        "stop_words = set(stopwords.words('portuguese'))\n",
        "tokens = [word for word in tokens if word.lower() not in stop_words]\n",
        "\n",
        "# Lematização\n",
        "lemmatizer = WordNetLemmatizer()\n",
        "lemmas = [lemmatizer.lemmatize(token) for token in tokens]\n",
        "\n",
        "# Exibindo os resultados\n",
        "print(\"Tokens:\", tokens)\n",
        "print(\"Lemmas:\", lemmas)\n"
      ],
      "metadata": {
        "colab": {
          "base_uri": "https://localhost:8080/"
        },
        "id": "01Emblj6u0id",
        "outputId": "adeb2a4c-025c-4cbd-9dc3-bc96c995f609"
      },
      "execution_count": 5,
      "outputs": [
        {
          "output_type": "stream",
          "name": "stdout",
          "text": [
            "Tokens: ['mudar', 'mudando', 'mudanças', 'alterado', 'mudança']\n",
            "Lemmas: ['mudar', 'mudando', 'mudanças', 'alterado', 'mudança']\n"
          ]
        }
      ]
    },
    {
      "cell_type": "markdown",
      "source": [
        "#em ingles"
      ],
      "metadata": {
        "id": "j1IGgzTBvMz8"
      }
    },
    {
      "cell_type": "code",
      "source": [
        "import nltk\n",
        "from nltk.stem import WordNetLemmatizer\n",
        "\n",
        "# Lista de palavras para lematização\n",
        "words = [\"change\", \"changing\", \"changes\", \"changed\", \"change\"]\n",
        "\n",
        "# Inicializa o lematizador\n",
        "lemmatizer = WordNetLemmatizer()\n",
        "\n",
        "# Lematização das palavras\n",
        "lemmas = [lemmatizer.lemmatize(word, pos='v') for word in words]\n",
        "\n",
        "# Exibindo os resultados\n",
        "print(\"Original Words:\", words)\n",
        "print(\"Lemmatized Words:\", lemmas)\n"
      ],
      "metadata": {
        "colab": {
          "base_uri": "https://localhost:8080/"
        },
        "id": "Mjw4qxbFvFy_",
        "outputId": "8a1e9401-db04-4228-d50a-6ff6a29dc30e"
      },
      "execution_count": 7,
      "outputs": [
        {
          "output_type": "stream",
          "name": "stdout",
          "text": [
            "Original Words: ['change', 'changing', 'changes', 'changed', 'change']\n",
            "Lemmatized Words: ['change', 'change', 'change', 'change', 'change']\n"
          ]
        }
      ]
    }
  ]
}