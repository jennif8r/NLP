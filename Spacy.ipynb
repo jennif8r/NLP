{
  "nbformat": 4,
  "nbformat_minor": 0,
  "metadata": {
    "colab": {
      "provenance": [],
      "toc_visible": true,
      "authorship_tag": "ABX9TyPwcAgTIqmCLEu9lODkNhMs",
      "include_colab_link": true
    },
    "kernelspec": {
      "name": "python3",
      "display_name": "Python 3"
    },
    "language_info": {
      "name": "python"
    }
  },
  "cells": [
    {
      "cell_type": "markdown",
      "metadata": {
        "id": "view-in-github",
        "colab_type": "text"
      },
      "source": [
        "<a href=\"https://colab.research.google.com/github/jennif8r/NLP/blob/main/Spacy.ipynb\" target=\"_parent\"><img src=\"https://colab.research.google.com/assets/colab-badge.svg\" alt=\"Open In Colab\"/></a>"
      ]
    },
    {
      "cell_type": "markdown",
      "source": [
        "#Baixando Biblioteca..."
      ],
      "metadata": {
        "id": "N_iGsSNILkdv"
      }
    },
    {
      "cell_type": "code",
      "execution_count": 1,
      "metadata": {
        "id": "wllOpltc0sVQ",
        "colab": {
          "base_uri": "https://localhost:8080/"
        },
        "collapsed": true,
        "outputId": "40ebcb78-cc23-4198-f5a1-2d543a15eb7e"
      },
      "outputs": [
        {
          "output_type": "stream",
          "name": "stdout",
          "text": [
            "Collecting spacy==3.2.0\n",
            "  Downloading spacy-3.2.0-cp310-cp310-manylinux_2_17_x86_64.manylinux2014_x86_64.whl (6.0 MB)\n",
            "\u001b[2K     \u001b[90m━━━━━━━━━━━━━━━━━━━━━━━━━━━━━━━━━━━━━━━━\u001b[0m \u001b[32m6.0/6.0 MB\u001b[0m \u001b[31m12.9 MB/s\u001b[0m eta \u001b[36m0:00:00\u001b[0m\n",
            "\u001b[?25hRequirement already satisfied: spacy-legacy<3.1.0,>=3.0.8 in /usr/local/lib/python3.10/dist-packages (from spacy==3.2.0) (3.0.12)\n",
            "Requirement already satisfied: spacy-loggers<2.0.0,>=1.0.0 in /usr/local/lib/python3.10/dist-packages (from spacy==3.2.0) (1.0.5)\n",
            "Requirement already satisfied: murmurhash<1.1.0,>=0.28.0 in /usr/local/lib/python3.10/dist-packages (from spacy==3.2.0) (1.0.10)\n",
            "Requirement already satisfied: cymem<2.1.0,>=2.0.2 in /usr/local/lib/python3.10/dist-packages (from spacy==3.2.0) (2.0.8)\n",
            "Requirement already satisfied: preshed<3.1.0,>=3.0.2 in /usr/local/lib/python3.10/dist-packages (from spacy==3.2.0) (3.0.9)\n",
            "Collecting thinc<8.1.0,>=8.0.12 (from spacy==3.2.0)\n",
            "  Downloading thinc-8.0.17-cp310-cp310-manylinux_2_17_x86_64.manylinux2014_x86_64.whl (659 kB)\n",
            "\u001b[2K     \u001b[90m━━━━━━━━━━━━━━━━━━━━━━━━━━━━━━━━━━━━━━━━\u001b[0m \u001b[32m659.5/659.5 kB\u001b[0m \u001b[31m9.5 MB/s\u001b[0m eta \u001b[36m0:00:00\u001b[0m\n",
            "\u001b[?25hRequirement already satisfied: blis<0.8.0,>=0.4.0 in /usr/local/lib/python3.10/dist-packages (from spacy==3.2.0) (0.7.11)\n",
            "Collecting wasabi<1.1.0,>=0.8.1 (from spacy==3.2.0)\n",
            "  Downloading wasabi-0.10.1-py3-none-any.whl (26 kB)\n",
            "Requirement already satisfied: srsly<3.0.0,>=2.4.1 in /usr/local/lib/python3.10/dist-packages (from spacy==3.2.0) (2.4.8)\n",
            "Requirement already satisfied: catalogue<2.1.0,>=2.0.6 in /usr/local/lib/python3.10/dist-packages (from spacy==3.2.0) (2.0.10)\n",
            "Collecting typer<0.5.0,>=0.3.0 (from spacy==3.2.0)\n",
            "  Downloading typer-0.4.2-py3-none-any.whl (27 kB)\n",
            "Collecting pathy>=0.3.5 (from spacy==3.2.0)\n",
            "  Downloading pathy-0.11.0-py3-none-any.whl (47 kB)\n",
            "\u001b[2K     \u001b[90m━━━━━━━━━━━━━━━━━━━━━━━━━━━━━━━━━━━━━━━━\u001b[0m \u001b[32m47.3/47.3 kB\u001b[0m \u001b[31m2.9 MB/s\u001b[0m eta \u001b[36m0:00:00\u001b[0m\n",
            "\u001b[?25hRequirement already satisfied: tqdm<5.0.0,>=4.38.0 in /usr/local/lib/python3.10/dist-packages (from spacy==3.2.0) (4.66.4)\n",
            "Requirement already satisfied: numpy>=1.15.0 in /usr/local/lib/python3.10/dist-packages (from spacy==3.2.0) (1.25.2)\n",
            "Requirement already satisfied: requests<3.0.0,>=2.13.0 in /usr/local/lib/python3.10/dist-packages (from spacy==3.2.0) (2.31.0)\n",
            "Collecting pydantic!=1.8,!=1.8.1,<1.9.0,>=1.7.4 (from spacy==3.2.0)\n",
            "  Downloading pydantic-1.8.2-py3-none-any.whl (126 kB)\n",
            "\u001b[2K     \u001b[90m━━━━━━━━━━━━━━━━━━━━━━━━━━━━━━━━━━━━━━━━\u001b[0m \u001b[32m126.0/126.0 kB\u001b[0m \u001b[31m4.3 MB/s\u001b[0m eta \u001b[36m0:00:00\u001b[0m\n",
            "\u001b[?25hRequirement already satisfied: jinja2 in /usr/local/lib/python3.10/dist-packages (from spacy==3.2.0) (3.1.4)\n",
            "Requirement already satisfied: setuptools in /usr/local/lib/python3.10/dist-packages (from spacy==3.2.0) (67.7.2)\n",
            "Requirement already satisfied: packaging>=20.0 in /usr/local/lib/python3.10/dist-packages (from spacy==3.2.0) (24.1)\n",
            "Requirement already satisfied: langcodes<4.0.0,>=3.2.0 in /usr/local/lib/python3.10/dist-packages (from spacy==3.2.0) (3.4.0)\n",
            "Requirement already satisfied: language-data>=1.2 in /usr/local/lib/python3.10/dist-packages (from langcodes<4.0.0,>=3.2.0->spacy==3.2.0) (1.2.0)\n",
            "Collecting smart-open<7.0.0,>=5.2.1 (from pathy>=0.3.5->spacy==3.2.0)\n",
            "  Downloading smart_open-6.4.0-py3-none-any.whl (57 kB)\n",
            "\u001b[2K     \u001b[90m━━━━━━━━━━━━━━━━━━━━━━━━━━━━━━━━━━━━━━━━\u001b[0m \u001b[32m57.0/57.0 kB\u001b[0m \u001b[31m3.8 MB/s\u001b[0m eta \u001b[36m0:00:00\u001b[0m\n",
            "\u001b[?25hCollecting pathlib-abc==0.1.1 (from pathy>=0.3.5->spacy==3.2.0)\n",
            "  Downloading pathlib_abc-0.1.1-py3-none-any.whl (23 kB)\n",
            "Requirement already satisfied: typing-extensions>=3.7.4.3 in /usr/local/lib/python3.10/dist-packages (from pydantic!=1.8,!=1.8.1,<1.9.0,>=1.7.4->spacy==3.2.0) (4.12.2)\n",
            "Requirement already satisfied: charset-normalizer<4,>=2 in /usr/local/lib/python3.10/dist-packages (from requests<3.0.0,>=2.13.0->spacy==3.2.0) (3.3.2)\n",
            "Requirement already satisfied: idna<4,>=2.5 in /usr/local/lib/python3.10/dist-packages (from requests<3.0.0,>=2.13.0->spacy==3.2.0) (3.7)\n",
            "Requirement already satisfied: urllib3<3,>=1.21.1 in /usr/local/lib/python3.10/dist-packages (from requests<3.0.0,>=2.13.0->spacy==3.2.0) (2.0.7)\n",
            "Requirement already satisfied: certifi>=2017.4.17 in /usr/local/lib/python3.10/dist-packages (from requests<3.0.0,>=2.13.0->spacy==3.2.0) (2024.6.2)\n",
            "Requirement already satisfied: click<9.0.0,>=7.1.1 in /usr/local/lib/python3.10/dist-packages (from typer<0.5.0,>=0.3.0->spacy==3.2.0) (8.1.7)\n",
            "Requirement already satisfied: MarkupSafe>=2.0 in /usr/local/lib/python3.10/dist-packages (from jinja2->spacy==3.2.0) (2.1.5)\n",
            "Requirement already satisfied: marisa-trie>=0.7.7 in /usr/local/lib/python3.10/dist-packages (from language-data>=1.2->langcodes<4.0.0,>=3.2.0->spacy==3.2.0) (1.2.0)\n",
            "Installing collected packages: wasabi, typer, smart-open, pydantic, pathlib-abc, thinc, pathy, spacy\n",
            "  Attempting uninstall: wasabi\n",
            "    Found existing installation: wasabi 1.1.3\n",
            "    Uninstalling wasabi-1.1.3:\n",
            "      Successfully uninstalled wasabi-1.1.3\n",
            "  Attempting uninstall: typer\n",
            "    Found existing installation: typer 0.12.3\n",
            "    Uninstalling typer-0.12.3:\n",
            "      Successfully uninstalled typer-0.12.3\n",
            "  Attempting uninstall: smart-open\n",
            "    Found existing installation: smart-open 7.0.4\n",
            "    Uninstalling smart-open-7.0.4:\n",
            "      Successfully uninstalled smart-open-7.0.4\n",
            "  Attempting uninstall: pydantic\n",
            "    Found existing installation: pydantic 2.8.0\n",
            "    Uninstalling pydantic-2.8.0:\n",
            "      Successfully uninstalled pydantic-2.8.0\n",
            "  Attempting uninstall: thinc\n",
            "    Found existing installation: thinc 8.2.5\n",
            "    Uninstalling thinc-8.2.5:\n",
            "      Successfully uninstalled thinc-8.2.5\n",
            "  Attempting uninstall: spacy\n",
            "    Found existing installation: spacy 3.7.5\n",
            "    Uninstalling spacy-3.7.5:\n",
            "      Successfully uninstalled spacy-3.7.5\n",
            "\u001b[31mERROR: pip's dependency resolver does not currently take into account all the packages that are installed. This behaviour is the source of the following dependency conflicts.\n",
            "en-core-web-sm 3.7.1 requires spacy<3.8.0,>=3.7.2, but you have spacy 3.2.0 which is incompatible.\n",
            "inflect 7.0.0 requires pydantic>=1.9.1, but you have pydantic 1.8.2 which is incompatible.\u001b[0m\u001b[31m\n",
            "\u001b[0mSuccessfully installed pathlib-abc-0.1.1 pathy-0.11.0 pydantic-1.8.2 smart-open-6.4.0 spacy-3.2.0 thinc-8.0.17 typer-0.4.2 wasabi-0.10.1\n"
          ]
        }
      ],
      "source": [
        "!pip install -U spacy==3.2.0"
      ]
    },
    {
      "cell_type": "markdown",
      "source": [
        "Baixando a biblioteca do modelo pré-treinado em portugues:"
      ],
      "metadata": {
        "id": "iqaOiVI_Ckrc"
      }
    },
    {
      "cell_type": "code",
      "source": [
        "!python -m spacy download 'pt_core_news_lg'"
      ],
      "metadata": {
        "colab": {
          "base_uri": "https://localhost:8080/"
        },
        "collapsed": true,
        "id": "w_pUxaNmBoiE",
        "outputId": "7deb442f-2323-49c2-aec4-4b38514c2506"
      },
      "execution_count": 2,
      "outputs": [
        {
          "output_type": "stream",
          "name": "stdout",
          "text": [
            "2024-07-08 11:28:21.469291: E external/local_xla/xla/stream_executor/cuda/cuda_dnn.cc:9261] Unable to register cuDNN factory: Attempting to register factory for plugin cuDNN when one has already been registered\n",
            "2024-07-08 11:28:21.469357: E external/local_xla/xla/stream_executor/cuda/cuda_fft.cc:607] Unable to register cuFFT factory: Attempting to register factory for plugin cuFFT when one has already been registered\n",
            "2024-07-08 11:28:21.472710: E external/local_xla/xla/stream_executor/cuda/cuda_blas.cc:1515] Unable to register cuBLAS factory: Attempting to register factory for plugin cuBLAS when one has already been registered\n",
            "2024-07-08 11:28:21.490875: I tensorflow/core/platform/cpu_feature_guard.cc:182] This TensorFlow binary is optimized to use available CPU instructions in performance-critical operations.\n",
            "To enable the following instructions: AVX2 FMA, in other operations, rebuild TensorFlow with the appropriate compiler flags.\n",
            "2024-07-08 11:28:23.696722: W tensorflow/compiler/tf2tensorrt/utils/py_utils.cc:38] TF-TRT Warning: Could not find TensorRT\n",
            "\u001b[33mDEPRECATION: https://github.com/explosion/spacy-models/releases/download/pt_core_news_lg-3.2.0/pt_core_news_lg-3.2.0-py3-none-any.whl#egg=pt_core_news_lg==3.2.0 contains an egg fragment with a non-PEP 508 name pip 25.0 will enforce this behaviour change. A possible replacement is to use the req @ url syntax, and remove the egg fragment. Discussion can be found at https://github.com/pypa/pip/issues/11617\u001b[0m\u001b[33m\n",
            "\u001b[0mCollecting pt-core-news-lg==3.2.0\n",
            "  Downloading https://github.com/explosion/spacy-models/releases/download/pt_core_news_lg-3.2.0/pt_core_news_lg-3.2.0-py3-none-any.whl (577.4 MB)\n",
            "\u001b[2K     \u001b[90m━━━━━━━━━━━━━━━━━━━━━━━━━━━━━━━━━━━━━━━━\u001b[0m \u001b[32m577.4/577.4 MB\u001b[0m \u001b[31m2.4 MB/s\u001b[0m eta \u001b[36m0:00:00\u001b[0m\n",
            "\u001b[?25hRequirement already satisfied: spacy<3.3.0,>=3.2.0 in /usr/local/lib/python3.10/dist-packages (from pt-core-news-lg==3.2.0) (3.2.0)\n",
            "Requirement already satisfied: spacy-legacy<3.1.0,>=3.0.8 in /usr/local/lib/python3.10/dist-packages (from spacy<3.3.0,>=3.2.0->pt-core-news-lg==3.2.0) (3.0.12)\n",
            "Requirement already satisfied: spacy-loggers<2.0.0,>=1.0.0 in /usr/local/lib/python3.10/dist-packages (from spacy<3.3.0,>=3.2.0->pt-core-news-lg==3.2.0) (1.0.5)\n",
            "Requirement already satisfied: murmurhash<1.1.0,>=0.28.0 in /usr/local/lib/python3.10/dist-packages (from spacy<3.3.0,>=3.2.0->pt-core-news-lg==3.2.0) (1.0.10)\n",
            "Requirement already satisfied: cymem<2.1.0,>=2.0.2 in /usr/local/lib/python3.10/dist-packages (from spacy<3.3.0,>=3.2.0->pt-core-news-lg==3.2.0) (2.0.8)\n",
            "Requirement already satisfied: preshed<3.1.0,>=3.0.2 in /usr/local/lib/python3.10/dist-packages (from spacy<3.3.0,>=3.2.0->pt-core-news-lg==3.2.0) (3.0.9)\n",
            "Requirement already satisfied: thinc<8.1.0,>=8.0.12 in /usr/local/lib/python3.10/dist-packages (from spacy<3.3.0,>=3.2.0->pt-core-news-lg==3.2.0) (8.0.17)\n",
            "Requirement already satisfied: blis<0.8.0,>=0.4.0 in /usr/local/lib/python3.10/dist-packages (from spacy<3.3.0,>=3.2.0->pt-core-news-lg==3.2.0) (0.7.11)\n",
            "Requirement already satisfied: wasabi<1.1.0,>=0.8.1 in /usr/local/lib/python3.10/dist-packages (from spacy<3.3.0,>=3.2.0->pt-core-news-lg==3.2.0) (0.10.1)\n",
            "Requirement already satisfied: srsly<3.0.0,>=2.4.1 in /usr/local/lib/python3.10/dist-packages (from spacy<3.3.0,>=3.2.0->pt-core-news-lg==3.2.0) (2.4.8)\n",
            "Requirement already satisfied: catalogue<2.1.0,>=2.0.6 in /usr/local/lib/python3.10/dist-packages (from spacy<3.3.0,>=3.2.0->pt-core-news-lg==3.2.0) (2.0.10)\n",
            "Requirement already satisfied: typer<0.5.0,>=0.3.0 in /usr/local/lib/python3.10/dist-packages (from spacy<3.3.0,>=3.2.0->pt-core-news-lg==3.2.0) (0.4.2)\n",
            "Requirement already satisfied: pathy>=0.3.5 in /usr/local/lib/python3.10/dist-packages (from spacy<3.3.0,>=3.2.0->pt-core-news-lg==3.2.0) (0.11.0)\n",
            "Requirement already satisfied: tqdm<5.0.0,>=4.38.0 in /usr/local/lib/python3.10/dist-packages (from spacy<3.3.0,>=3.2.0->pt-core-news-lg==3.2.0) (4.66.4)\n",
            "Requirement already satisfied: numpy>=1.15.0 in /usr/local/lib/python3.10/dist-packages (from spacy<3.3.0,>=3.2.0->pt-core-news-lg==3.2.0) (1.25.2)\n",
            "Requirement already satisfied: requests<3.0.0,>=2.13.0 in /usr/local/lib/python3.10/dist-packages (from spacy<3.3.0,>=3.2.0->pt-core-news-lg==3.2.0) (2.31.0)\n",
            "Requirement already satisfied: pydantic!=1.8,!=1.8.1,<1.9.0,>=1.7.4 in /usr/local/lib/python3.10/dist-packages (from spacy<3.3.0,>=3.2.0->pt-core-news-lg==3.2.0) (1.8.2)\n",
            "Requirement already satisfied: jinja2 in /usr/local/lib/python3.10/dist-packages (from spacy<3.3.0,>=3.2.0->pt-core-news-lg==3.2.0) (3.1.4)\n",
            "Requirement already satisfied: setuptools in /usr/local/lib/python3.10/dist-packages (from spacy<3.3.0,>=3.2.0->pt-core-news-lg==3.2.0) (67.7.2)\n",
            "Requirement already satisfied: packaging>=20.0 in /usr/local/lib/python3.10/dist-packages (from spacy<3.3.0,>=3.2.0->pt-core-news-lg==3.2.0) (24.1)\n",
            "Requirement already satisfied: langcodes<4.0.0,>=3.2.0 in /usr/local/lib/python3.10/dist-packages (from spacy<3.3.0,>=3.2.0->pt-core-news-lg==3.2.0) (3.4.0)\n",
            "Requirement already satisfied: language-data>=1.2 in /usr/local/lib/python3.10/dist-packages (from langcodes<4.0.0,>=3.2.0->spacy<3.3.0,>=3.2.0->pt-core-news-lg==3.2.0) (1.2.0)\n",
            "Requirement already satisfied: smart-open<7.0.0,>=5.2.1 in /usr/local/lib/python3.10/dist-packages (from pathy>=0.3.5->spacy<3.3.0,>=3.2.0->pt-core-news-lg==3.2.0) (6.4.0)\n",
            "Requirement already satisfied: pathlib-abc==0.1.1 in /usr/local/lib/python3.10/dist-packages (from pathy>=0.3.5->spacy<3.3.0,>=3.2.0->pt-core-news-lg==3.2.0) (0.1.1)\n",
            "Requirement already satisfied: typing-extensions>=3.7.4.3 in /usr/local/lib/python3.10/dist-packages (from pydantic!=1.8,!=1.8.1,<1.9.0,>=1.7.4->spacy<3.3.0,>=3.2.0->pt-core-news-lg==3.2.0) (4.12.2)\n",
            "Requirement already satisfied: charset-normalizer<4,>=2 in /usr/local/lib/python3.10/dist-packages (from requests<3.0.0,>=2.13.0->spacy<3.3.0,>=3.2.0->pt-core-news-lg==3.2.0) (3.3.2)\n",
            "Requirement already satisfied: idna<4,>=2.5 in /usr/local/lib/python3.10/dist-packages (from requests<3.0.0,>=2.13.0->spacy<3.3.0,>=3.2.0->pt-core-news-lg==3.2.0) (3.7)\n",
            "Requirement already satisfied: urllib3<3,>=1.21.1 in /usr/local/lib/python3.10/dist-packages (from requests<3.0.0,>=2.13.0->spacy<3.3.0,>=3.2.0->pt-core-news-lg==3.2.0) (2.0.7)\n",
            "Requirement already satisfied: certifi>=2017.4.17 in /usr/local/lib/python3.10/dist-packages (from requests<3.0.0,>=2.13.0->spacy<3.3.0,>=3.2.0->pt-core-news-lg==3.2.0) (2024.6.2)\n",
            "Requirement already satisfied: click<9.0.0,>=7.1.1 in /usr/local/lib/python3.10/dist-packages (from typer<0.5.0,>=0.3.0->spacy<3.3.0,>=3.2.0->pt-core-news-lg==3.2.0) (8.1.7)\n",
            "Requirement already satisfied: MarkupSafe>=2.0 in /usr/local/lib/python3.10/dist-packages (from jinja2->spacy<3.3.0,>=3.2.0->pt-core-news-lg==3.2.0) (2.1.5)\n",
            "Requirement already satisfied: marisa-trie>=0.7.7 in /usr/local/lib/python3.10/dist-packages (from language-data>=1.2->langcodes<4.0.0,>=3.2.0->spacy<3.3.0,>=3.2.0->pt-core-news-lg==3.2.0) (1.2.0)\n",
            "Installing collected packages: pt-core-news-lg\n",
            "Successfully installed pt-core-news-lg-3.2.0\n",
            "\u001b[38;5;2m✔ Download and installation successful\u001b[0m\n",
            "You can now load the package via spacy.load('pt_core_news_lg')\n"
          ]
        }
      ]
    },
    {
      "cell_type": "code",
      "source": [
        "import spacy"
      ],
      "metadata": {
        "id": "bONb4uXfZf0B"
      },
      "execution_count": 3,
      "outputs": []
    },
    {
      "cell_type": "code",
      "source": [
        "nlp = spacy.load('pt_core_news_lg')"
      ],
      "metadata": {
        "colab": {
          "base_uri": "https://localhost:8080/"
        },
        "id": "8SnBmXlBZoKG",
        "outputId": "097391e5-993b-4c40-d7f9-aafd3c8a9498"
      },
      "execution_count": 4,
      "outputs": [
        {
          "output_type": "stream",
          "name": "stderr",
          "text": [
            "/usr/local/lib/python3.10/dist-packages/torch/__init__.py:747: UserWarning: torch.set_default_tensor_type() is deprecated as of PyTorch 2.1, please use torch.set_default_dtype() and torch.set_default_device() as alternatives. (Triggered internally at ../torch/csrc/tensor/python_tensor.cpp:431.)\n",
            "  _C._set_default_tensor_type(t)\n"
          ]
        }
      ]
    },
    {
      "cell_type": "code",
      "source": [
        "print(type(nlp))"
      ],
      "metadata": {
        "colab": {
          "base_uri": "https://localhost:8080/"
        },
        "id": "petBkgwFZzta",
        "outputId": "0c9850f5-9c65-4ced-cdb9-565762f28af0"
      },
      "execution_count": 5,
      "outputs": [
        {
          "output_type": "stream",
          "name": "stdout",
          "text": [
            "<class 'spacy.lang.pt.Portuguese'>\n"
          ]
        }
      ]
    },
    {
      "cell_type": "markdown",
      "source": [
        "vamos verificar o que tem no objeto:"
      ],
      "metadata": {
        "id": "VennVhZjaIb9"
      }
    },
    {
      "cell_type": "code",
      "source": [
        "print(nlp.pipe_names)"
      ],
      "metadata": {
        "colab": {
          "base_uri": "https://localhost:8080/"
        },
        "id": "D1fW8hNeZ7TZ",
        "outputId": "4dfddd41-8869-4d01-d2e0-e14b1627267f"
      },
      "execution_count": 6,
      "outputs": [
        {
          "output_type": "stream",
          "name": "stdout",
          "text": [
            "['tok2vec', 'morphologizer', 'parser', 'attribute_ruler', 'lemmatizer', 'ner']\n"
          ]
        }
      ]
    },
    {
      "cell_type": "code",
      "source": [
        "#Ao invez de subirmos um documento iremo criar e digitar seu dados dentro dele:\n",
        "\n",
        "documento = nlp(\"As ações da Magazine Luiza S.A.,Franca, Brasil, acumularam baixa de 70% ao ano. Assim já devolveram todos os ganhos do período da pandemia.\")\n",
        "#documento = nlp(\"alegações extraordinárias requerem evidências extraordinárias.carl sagan: 'https://carlsangan.com'\")"
      ],
      "metadata": {
        "id": "UaqEKsRFaSKC"
      },
      "execution_count": 8,
      "outputs": []
    },
    {
      "cell_type": "code",
      "source": [
        "len(documento.vocab)"
      ],
      "metadata": {
        "colab": {
          "base_uri": "https://localhost:8080/"
        },
        "id": "TgNYC5YIa1jU",
        "outputId": "fca8538b-49c2-4b3d-d26c-8725116ecae0"
      },
      "execution_count": 9,
      "outputs": [
        {
          "output_type": "execute_result",
          "data": {
            "text/plain": [
              "381"
            ]
          },
          "metadata": {},
          "execution_count": 9
        }
      ]
    },
    {
      "cell_type": "code",
      "source": [
        "print(type(documento))"
      ],
      "metadata": {
        "colab": {
          "base_uri": "https://localhost:8080/"
        },
        "id": "SqP3qzbBa5YL",
        "outputId": "6392bf41-b7b1-4866-d91d-98331a566ccd"
      },
      "execution_count": 10,
      "outputs": [
        {
          "output_type": "stream",
          "name": "stdout",
          "text": [
            "<class 'spacy.tokens.doc.Doc'>\n"
          ]
        }
      ]
    },
    {
      "cell_type": "markdown",
      "source": [
        "#Produção de Tokens"
      ],
      "metadata": {
        "id": "eDqLiVgxfn_f"
      }
    },
    {
      "cell_type": "markdown",
      "source": [
        "### Tokenization\n",
        "Processo de separar a sentença em suas partes: palavras, pontos, símbolos.\n",
        "\n",
        "![Exemplo](/Imagem/Tokenization.png)"
      ],
      "metadata": {
        "id": "1Yx6i-wBf7e3"
      }
    },
    {
      "cell_type": "code",
      "source": [
        "#pegar o nosso documento e fazer a tokenização dela.\n",
        "for token in documento:\n",
        "  print(token.text)"
      ],
      "metadata": {
        "colab": {
          "base_uri": "https://localhost:8080/"
        },
        "id": "0lVDp-pvbFrP",
        "outputId": "7c683296-b461-42ea-85c9-7e416a081312"
      },
      "execution_count": 11,
      "outputs": [
        {
          "output_type": "stream",
          "name": "stdout",
          "text": [
            "As\n",
            "ações\n",
            "da\n",
            "Magazine\n",
            "Luiza\n",
            "S.A.,Franca\n",
            ",\n",
            "Brasil\n",
            ",\n",
            "acumularam\n",
            "baixa\n",
            "de\n",
            "70\n",
            "%\n",
            "ao\n",
            "ano\n",
            ".\n",
            "Assim\n",
            "já\n",
            "devolveram\n",
            "todos\n",
            "os\n",
            "ganhos\n",
            "do\n",
            "período\n",
            "da\n",
            "pandemia\n",
            ".\n"
          ]
        }
      ]
    },
    {
      "cell_type": "code",
      "source": [
        "print(len(documento))"
      ],
      "metadata": {
        "colab": {
          "base_uri": "https://localhost:8080/"
        },
        "id": "EqMZhdQGG-6a",
        "outputId": "ba04d5d6-0689-4970-9dc3-171d4345e936"
      },
      "execution_count": 12,
      "outputs": [
        {
          "output_type": "stream",
          "name": "stdout",
          "text": [
            "28\n"
          ]
        }
      ]
    },
    {
      "cell_type": "markdown",
      "source": [
        "Identificar quais tokens é alfanumerico,stop word..."
      ],
      "metadata": {
        "id": "NAvxcyYKH4JR"
      }
    },
    {
      "cell_type": "code",
      "source": [
        "print(\"Token: \", [token.text for token in documento])\n",
        "print(\"Stop word: \", [token.is_stop for token in documento])\n",
        "print(\"Alfanumerico: \", [token.is_alpha for token in documento])\n",
        "print(\"Maísculo: \", [token.is_upper for token in documento])\n",
        "print(\"Pontuação: \", [token.is_punct for token in documento])\n",
        "print(\"Número: \", [token.like_num for token in documento])\n",
        "print(\"Setença Inicial: \", [token.is_sent_start for token in documento])"
      ],
      "metadata": {
        "colab": {
          "base_uri": "https://localhost:8080/"
        },
        "id": "L_4DZXRvHDWq",
        "outputId": "9f7c7f87-6dfc-4efd-b2e5-2355e0c382d4"
      },
      "execution_count": 13,
      "outputs": [
        {
          "output_type": "stream",
          "name": "stdout",
          "text": [
            "Token:  ['As', 'ações', 'da', 'Magazine', 'Luiza', 'S.A.,Franca', ',', 'Brasil', ',', 'acumularam', 'baixa', 'de', '70', '%', 'ao', 'ano', '.', 'Assim', 'já', 'devolveram', 'todos', 'os', 'ganhos', 'do', 'período', 'da', 'pandemia', '.']\n",
            "Stop word:  [True, False, True, False, False, False, False, False, False, False, False, True, False, False, True, False, False, True, True, False, True, True, False, True, False, True, False, False]\n",
            "Alfanumerico:  [True, True, True, True, True, False, False, True, False, True, True, True, False, False, True, True, False, True, True, True, True, True, True, True, True, True, True, False]\n",
            "Maísculo:  [False, False, False, False, False, False, False, False, False, False, False, False, False, False, False, False, False, False, False, False, False, False, False, False, False, False, False, False]\n",
            "Pontuação:  [False, False, False, False, False, False, True, False, True, False, False, False, False, True, False, False, True, False, False, False, False, False, False, False, False, False, False, True]\n",
            "Número:  [False, False, False, False, False, False, False, False, False, False, False, False, True, False, False, False, False, False, False, False, False, False, False, False, False, False, False, False]\n",
            "Setença Inicial:  [True, False, False, False, False, False, False, False, False, False, False, False, False, False, False, False, False, True, False, False, False, False, False, False, False, False, False, False]\n"
          ]
        }
      ]
    },
    {
      "cell_type": "code",
      "source": [
        "#mostrar o formato das palavras\n",
        "print(\"Tokens: \", [token.text for token in documento])\n",
        "print(\"Formato: \", [token.shape_ for token in documento])"
      ],
      "metadata": {
        "colab": {
          "base_uri": "https://localhost:8080/"
        },
        "id": "Yd6Nd3ccH_ud",
        "outputId": "debf6cf8-1a78-457b-fc5e-5540fb96c113"
      },
      "execution_count": 15,
      "outputs": [
        {
          "output_type": "stream",
          "name": "stdout",
          "text": [
            "Tokens:  ['As', 'ações', 'da', 'Magazine', 'Luiza', 'S.A.,Franca', ',', 'Brasil', ',', 'acumularam', 'baixa', 'de', '70', '%', 'ao', 'ano', '.', 'Assim', 'já', 'devolveram', 'todos', 'os', 'ganhos', 'do', 'período', 'da', 'pandemia', '.']\n",
            "Formato:  ['Xx', 'xxxx', 'xx', 'Xxxxx', 'Xxxxx', 'X.X.,Xxxxx', ',', 'Xxxxx', ',', 'xxxx', 'xxxx', 'xx', 'dd', '%', 'xx', 'xxx', '.', 'Xxxxx', 'xx', 'xxxx', 'xxxx', 'xx', 'xxxx', 'xx', 'xxxx', 'xx', 'xxxx', '.']\n"
          ]
        }
      ]
    },
    {
      "cell_type": "code",
      "source": [
        "for token in documento:\n",
        "  if token.like_num:\n",
        "    print(\"Número encontrado: \", token.text)\n",
        "  if token.is_punct:\n",
        "    print(\"Pontuação encontrada: \", token.text)"
      ],
      "metadata": {
        "colab": {
          "base_uri": "https://localhost:8080/"
        },
        "id": "gniP4yYeIPUQ",
        "outputId": "3d7045d0-c0f6-4577-8697-edb296a6d8b0"
      },
      "execution_count": 17,
      "outputs": [
        {
          "output_type": "stream",
          "name": "stdout",
          "text": [
            "Pontuação encontrada:  ,\n",
            "Pontuação encontrada:  ,\n",
            "Número encontrado:  70\n",
            "Pontuação encontrada:  %\n",
            "Pontuação encontrada:  .\n",
            "Pontuação encontrada:  .\n"
          ]
        }
      ]
    },
    {
      "cell_type": "markdown",
      "source": [
        "#Part-Of-Speech (POS)\n",
        "Adiciona tags a cada token, como por exemplo, se é verbo, substantivo, etc.\n",
        "\n",
        "![Exemplo](/Imagem/PartsOfSpeechTaggong.png)"
      ],
      "metadata": {
        "id": "DpsbIXLQJFsH"
      }
    },
    {
      "cell_type": "markdown",
      "source": [
        "O spaCy também gera as dependências dos tokens, que são as dependências sintáticas que existem entre os diferentes tokens."
      ],
      "metadata": {
        "id": "2zdMLDCpLwIn"
      }
    },
    {
      "cell_type": "code",
      "source": [
        "# Os atributos com subscrito (_) mostram a representação textual do valor; sem o subscrito, eles podem retornar códigos numéricos que representam esses valores. Na verdade, eles trazem a referência para o objeto.\n",
        "for token in documento:\n",
        "  print(token.text, \" - \", token.pos_, \" - \", token.dep_ , \" - \", token.lemma_ , \" - \", token.shape_)"
      ],
      "metadata": {
        "colab": {
          "base_uri": "https://localhost:8080/"
        },
        "id": "YtFlI-mHIvSI",
        "outputId": "dde5b9c6-567c-470d-cbf8-c3bc82e0f224"
      },
      "execution_count": 23,
      "outputs": [
        {
          "output_type": "stream",
          "name": "stdout",
          "text": [
            "As  -  DET  -  det  -  As  -  Xx\n",
            "ações  -  NOUN  -  nsubj  -  ações  -  xxxx\n",
            "da  -  ADP  -  case  -  da  -  xx\n",
            "Magazine  -  PROPN  -  nmod  -  Magazine  -  Xxxxx\n",
            "Luiza  -  PROPN  -  appos  -  Luiza  -  Xxxxx\n",
            "S.A.,Franca  -  PROPN  -  flat:name  -  S.A.,Franca  -  X.X.,Xxxxx\n",
            ",  -  PUNCT  -  punct  -  ,  -  ,\n",
            "Brasil  -  PROPN  -  conj  -  Brasil  -  Xxxxx\n",
            ",  -  PUNCT  -  punct  -  ,  -  ,\n",
            "acumularam  -  VERB  -  ROOT  -  acumular  -  xxxx\n",
            "baixa  -  NOUN  -  obj  -  baixo  -  xxxx\n",
            "de  -  ADP  -  case  -  de  -  xx\n",
            "70  -  NUM  -  nummod  -  70  -  dd\n",
            "%  -  SYM  -  nmod  -  %  -  %\n",
            "ao  -  ADP  -  case  -  ao  -  xx\n",
            "ano  -  NOUN  -  obl  -  ano  -  xxx\n",
            ".  -  PUNCT  -  punct  -  .  -  .\n",
            "Assim  -  ADV  -  advmod  -  Assim  -  Xxxxx\n",
            "já  -  ADV  -  advmod  -  já  -  xx\n",
            "devolveram  -  VERB  -  ROOT  -  devolver  -  xxxx\n",
            "todos  -  DET  -  det  -  todo  -  xxxx\n",
            "os  -  DET  -  det  -  o  -  xx\n",
            "ganhos  -  NOUN  -  obj  -  ganho  -  xxxx\n",
            "do  -  ADP  -  case  -  do  -  xx\n",
            "período  -  NOUN  -  nmod  -  período  -  xxxx\n",
            "da  -  ADP  -  case  -  da  -  xx\n",
            "pandemia  -  NOUN  -  nmod  -  pandemia  -  xxxx\n",
            ".  -  PUNCT  -  punct  -  .  -  .\n"
          ]
        }
      ]
    },
    {
      "cell_type": "code",
      "source": [
        "#Traz uma descrição morfológica das palavras:\n",
        "for token in documento:\n",
        "  print(token.text, \" - \", token.morph)"
      ],
      "metadata": {
        "colab": {
          "base_uri": "https://localhost:8080/"
        },
        "id": "sIhTLD6cMeK0",
        "outputId": "1f13fe61-baff-491e-ebb7-5850536e7e1e"
      },
      "execution_count": 26,
      "outputs": [
        {
          "output_type": "stream",
          "name": "stdout",
          "text": [
            "As  -  Definite=Def|Gender=Fem|Number=Plur|PronType=Art\n",
            "ações  -  Gender=Fem|Number=Plur\n",
            "da  -  Definite=Def|Gender=Fem|Number=Sing|PronType=Art\n",
            "Magazine  -  Gender=Fem|Number=Sing\n",
            "Luiza  -  Gender=Fem|Number=Sing\n",
            "S.A.,Franca  -  Number=Sing\n",
            ",  -  \n",
            "Brasil  -  Gender=Masc|Number=Sing\n",
            ",  -  \n",
            "acumularam  -  Mood=Ind|Number=Plur|Person=3|Tense=Past|VerbForm=Fin\n",
            "baixa  -  Gender=Fem|Number=Sing\n",
            "de  -  \n",
            "70  -  NumType=Card\n",
            "%  -  \n",
            "ao  -  Definite=Def|Gender=Masc|Number=Sing|PronType=Art\n",
            "ano  -  Gender=Masc|Number=Sing\n",
            ".  -  \n",
            "Assim  -  \n",
            "já  -  \n",
            "devolveram  -  Mood=Ind|Number=Plur|Person=3|Tense=Past|VerbForm=Fin\n",
            "todos  -  Gender=Masc|Number=Plur|PronType=Tot\n",
            "os  -  Definite=Def|Gender=Masc|Number=Plur|PronType=Art\n",
            "ganhos  -  Gender=Masc|Number=Plur\n",
            "do  -  Definite=Def|Gender=Masc|Number=Sing|PronType=Art\n",
            "período  -  Gender=Masc|Number=Sing\n",
            "da  -  Definite=Def|Gender=Fem|Number=Sing|PronType=Art\n",
            "pandemia  -  Gender=Fem|Number=Sing\n",
            ".  -  \n"
          ]
        }
      ]
    },
    {
      "cell_type": "code",
      "source": [
        "#Mais refinada:\n",
        "for token in documento:\n",
        "  print(token.text, \" - \", token.tag_)"
      ],
      "metadata": {
        "colab": {
          "base_uri": "https://localhost:8080/"
        },
        "id": "3diTc5cDOPmE",
        "outputId": "4735063f-a3c1-4cb7-9df8-353060b607ef"
      },
      "execution_count": 27,
      "outputs": [
        {
          "output_type": "stream",
          "name": "stdout",
          "text": [
            "As  -  DET\n",
            "ações  -  NOUN\n",
            "da  -  ADP\n",
            "Magazine  -  PROPN\n",
            "Luiza  -  PROPN\n",
            "S.A.,Franca  -  PROPN\n",
            ",  -  PUNCT\n",
            "Brasil  -  PROPN\n",
            ",  -  PUNCT\n",
            "acumularam  -  VERB\n",
            "baixa  -  NOUN\n",
            "de  -  ADP\n",
            "70  -  NUM\n",
            "%  -  SYM\n",
            "ao  -  ADP\n",
            "ano  -  NOUN\n",
            ".  -  PUNCT\n",
            "Assim  -  ADV\n",
            "já  -  ADV\n",
            "devolveram  -  VERB\n",
            "todos  -  DET\n",
            "os  -  DET\n",
            "ganhos  -  NOUN\n",
            "do  -  ADP\n",
            "período  -  NOUN\n",
            "da  -  ADP\n",
            "pandemia  -  NOUN\n",
            ".  -  PUNCT\n"
          ]
        }
      ]
    },
    {
      "cell_type": "markdown",
      "source": [
        "####Listando Entidade Nomeadas\n",
        "\n",
        "lista de entidades nomeadas do spacy:\n",
        "\n",
        "![image.png](data:image/png;base64,iVBORw0KGgoAAAANSUhEUgAAAvoAAAKeCAYAAADUer+ZAAAAAXNSR0IArs4c6QAAAARnQU1BAACxjwv8YQUAAAAJcEhZcwAADsMAAA7DAcdvqGQAALYwSURBVHhe7P0PbBxZnth5/soGPMYuisbclCe9pcaSmDIFS94DZ3BHesrbEPckDmzYVtIciLt9LkLqYRqe9p7MmwObFk6c3D1fmrWtonXbK+vsXq8pjwTO3myTay6pbsNAU8JSmLvqTi4wTWAteURrjlyUapt2GeOj4d0ZG7bu/YuIF5ERmZHJTP4JfT+N7GJm/Hvx4kXm7734ReidN4oAAAAAKJTf4/4LAAAAoEAI9AEAAIACItAHAAAACohAHwAAACggAn0AAACggAj0AQAAgALq6eM1P/vsM/niiy/kX/yLfyE8xRMAAABF9s4778i//W//2/Lee+/Jl770JffpyelJoP87v/M78g//4T80f/f19cmP/diPmR0HjuK3fuu35Kd+6qfcOwAAgNPl3/ybfyP/6l/9K/nt3/5t+T2/5/fIH/kjf0R+/+///W7q8etJ6o4O8nVw/5M/+ZNm5wjyAQAAUHQ6uNcx8B/6Q39Ifu/v/b3hwPdJ6Xqgr9N1tD/wB/6A+S8AAADwtvmJn/gJ+df/+l+HsfFJ6Hqgr3PydboOAAAA8DbTA986Nj4pXQ/09Y23+pIFAAAA8DbTMbGOjU9K1wN9fW8vOfkAAAB42+k8/ZN88mRPbsYFAAAAcLII9AEAAIACItAHAAAACohAHwAAACggAn0AAACggLof6P/DXzP/3G/661vyQzXLZ3+/Jl+9vSqv7BJAD30h3/mleDv88tWvyi//je/ID0/gsbbttP0vvvfLMvblr8qd730m8tvfU2XWZw8AAEA+3Q/03//35Vce/op5/fX/+GfVBz8rX/umff8rD39Ofkp+Vw7/p38g33/1hfzu79pFgJ7741+Tv+7a5X/6Cxfk/7f+dfnKn/2qfGvnOBthO23/C/n+d9+Tv7Z1T64e3JGxq78qH1y64KYBAAC09s6bLj/c89d//dflp37qp8zfX3z3L8mXZ0X+2n//1+XP/CHzEdCx3/qt3wrbVn56RP/L8nX5a/Lr3/wz8p77VP6XH8q3fuEr8k25JX/3v/kFueg+BgAA6CYdv3z5y192747XieTo//BvRGk86p18S6dU/I3vy2ffuyO/+CfU31/+0/L1pR/KoZmu/a68+t635Jf/ozGbfvEnviK/HJsOtOnf+mn5c1/7SGRnS57/T+6z/+WVfGfxF+VPf9m2wV9c3JLP3CQ5fC6/evsrMmbSf8bkK//5Vtj+Dne/I3f+4p+WL+tpark7z/QU167vfUe2vvFVNe0vyXd+lGz7yr/+Qr6/9MvyFd3u1fxjf8Gl9fz2D+VX/4ori/n8jmy9NktYselflj/9F+/Id36LS2QAACByem7G/d435e8cjMpffvBd+ZWvXZDvL35F5r9rk6g/++683PhL/7382H/0V+W7v74pv/aLf1T+kZr+F/7Wc9UFADrT97/5g+r/vy9f/LZ+95l856/ckK//DxfkL/83dfn1/+oX5N31X5Sv/8pzNe1Qtv7zn5fai5+R6pO61J/8VfkP5F+q/6ku6P/4LfkLV78uv3HuF+Sv/b1fl83/5y/Il8wU528sy4ufuye//g/Trmp9Id+7/Wflq3/nn8h/8PW/K5u//l2p/rHfb9v0638gn/1v/6L8l39PlWXtr8pPP/87quPxHbWEoq9GfO0r8jd/9DPyS//Vpvz631uQq/JYvn59Xr6nOhMAAADa6Qn0L1Tk/zz1s/LBuQ/kZ6d+SX7pj6vY/9lvqMDmuXznP/uOyC/+kvzln1fT3/uS/PTPV+U/mbsoP/x/PJbfINJHN/yP35FvrP+k3Pq//ZKMnuuT9y5ck+k/r9rY336mWqDvx6Tv3M/K1/4vPyfvqQ7A9//bb8oP/3hVFn75mvzsT70nXxq6Jh9dChOERP6Pf1H+3P+uz71JePFY/ub6F/LRx/fkaz93Ub703gcyWvkzNo3o3/tIbv38T8uX+mxZpv6c+uzvf2auMHzxbFm+uTMqv/R//Zr83IUvyXs/NSpf+/g/lWtffEd+9Vl4DQIAALzlTk+g/6U/KFE49Pvl9+s3+o7FL17LP/pC5GfO/2EVYkV+8g+dU///mRuNBdr3xWf/QP3/z8mXSurv/X9gOpV3JmyqjH79/DdUiK/a3r9ULXN05tfk1k89k/krQ/Llq1+XX/0fdXrOZ/Lie+o///s/Kh/oFab5g3/Aa9dxepvP1fZ/5rzfsp3DV/K95Tvyy9Nfla9e/bJ85Z77XPnH/9P31f//jPzhf9e+N378D8qX1H++/8UJPEoIAACcSqcn0P8Xv+Ol4fxj+Sf76j8//q78vvfOyR9+T+Q3Xv6jWJrOP/7Ra5H3/qh8iZt80YnD78vy3/6evFf5SH5OtaH3+v+ovCc/Lbf+m7rU6/7rF9Snyo//tPzC3e/Kr3/6d+WXLn5fal97IN//3Z+UD/59Ne2H/8iMtLfrvS/9YbXN35B/tJ+8LPWZrH79T8tf+h9+Uq7V7sm9X30ivzbjJik/+e/qp1mp5YJ7C7Tf/iemDD/Xr8N9AACA0xTor39Lvvnd5/LFF69k62/9F7L04j352p/8WemTi3Lpz/+0fPFfflM++bvfl1dffCbPv/tN+b8vPpef/vOXbBAGtHL4j+Q3fvB9+b56fW/5l+Wrf+qrstr3S3L///Sz9krR4CWZGvqhLH3rv5bf+ELn2P9L+Sc/fCz/7Q//ufr7C/ne0q/KD18fyuHv7ZM/+N5P6iWU9+SP/cmP5L1n35Rf/saqfP+3vpDPdlblV5/lHFX/9y5JZegL+dZ/8nX5O997Lp/ptr/0HXkuh/KFyRf6ffL7VOEO/7+rsvxfmyWM9/7YVfnovS355n/2Lfnei8/ki9/6vvzqN/6KrL73kVz7417aEAAAeKudnkD/P/xIRvf/C/mKftrJfyty9a//mvzSH7MpDRe/+rfku3d/Rj77O1+XP/3lMfkL33ohP3P3u/K3vspDEZHT/+db8pdufFW+euPr8s3vifzsf/pd+XsPvyY//W+56T92Ub72rV+Tyo//91L7U1+WkZE/KzP/r9+Sd//gu2ri75N3f/eZzP9HI+rzr8gnv/XH5K89+ovys6p59v0fqvJrf2tKvvQb31Kdhy/LV375e/LPf+z32XW2dFF+4b/6u/JX//i/lNW/8vMy9uVflL/5Sq1Tff5nar8goy9q8vNf/nmp/b8/kD/xH7pFtB8flep/9yumrHcmxuTLf+qX5fHvrciv/HdVGf1xNw8AAHjr9fQ5+vnoxxB+Rb4582vyD/9jxueRrbPn6J8Nhzur8je/9Xfks5+7J3/95zMz/gEAwBnz1j1HH0Bc39A1ufXnf06+94Pfso/QBAAAOCICfeDEPZdfnf6qfOWTF3Lrz12K/vVeAACAIzgFqTtAPkVO3QEAAMVE6g4AAACAriLQBwAAAAqIQB8AAAAoIAJ9AAAAoIAI9AEAAIACItAHAAAACohAHwAAACignjxHHwAAAIB1Us/R73qg//LlSzl//rx7B3QPbQsAAJw1Jxm/kLoDAAAAFBCBPgAAAFBABPoAAABAARHoAwAAAAVEoA8AAAAUEIE+AAAAUEAE+gAAAEABEegDAAAABUSgDwAAABQQgT4AAABQQL0J9F+vyFRfn/R5r6nVAzdR2V6MTTOvO3U7LWXZcFqoLouxeRbVJ3H1O/509bqxIl4JlANZuZG+rC1Dyuc4kxraQkGO7cHqVEq77oA+H/Oux5wbU7Ly2r1vmz53j7K8En5/qOPYlfL0yeK2e5vCtJ+G7yAAAE6/Ho7oV2Xz8FAOzWtThqYH48H+xJLshtPV69aIm6DFl60ujEXLmh/2ezLwwlv2yYDshz/0NoAfex5f/+7VdRlsCAjKUp6oyT2/XCik8oPdqC082JGxAgT7pWvLcvhwUkru/bE4NynLh8syec69P3YqML+yI0vm/J+TkdzlSetg6O8K+10yN+w+SjFyS20r9v0EAMDZcEypOyMy96QqG6/23ft2jMj1B+Vo2c/3ZGNiXC75P+zDk+EP/cHqrFREBfmJAEgHRbsPRCrLfni3IUNXl0SmZ482wogzpXTtrixN7HidQ5wZr/dlR4akv0sdjUsfn2SnBQCA3jq2HP2D/R331xG9PyDltXV5lhqkHcizxxtSvZk+yln6cFzKC1vxkdz+SbmrOwC3u5ACgTNiX/bW3J+KSYFJTeuJp4hFV6SyPleSaWmJlI/4tuIpI7EUozypNLGUG3sla3HbL1tjSks8jSnlqkZK2popc7gf/sh4nm0GKXL2NbXa2NlP1kmsPn16fy9UVPe8JmN6XlMmvzxWwz6afRpTS21I5YL6zNWZHhQYjHX842WN5vP3PzFPoq7aPoYAAPTQMQX6dXk0rQLwy97l77WKDIY/lk1yZNWP9Oy0yNKUW1Zfqn8yFPvBjugAriwD77u3Sef6ZUgaR3LNCK9UZJYUnrfCweo9qbmrQjqIG3w8HqZ5mbQeF9TV74zJTpjysysz/ebjzM9NIBqmldhpS8+9tDPVWp+98rdVltp914bVsn662e7NYKXtqV3ZklG3js15Fdh6HVgdhI7Jpiub3v6Am3I02dvUQfGgrF+N0qZmXlVUwB0x9T891JDml/p9MDwnhy+WpByk9qWk06Tuo0nv2VRLle2xSU13aizr5lU3yff6meyF86jj66f+dekYAgDQLT0M9N2om3mNiTxJ5MEmcvTjObLesrdF7iZzcPUPvv4hNXn3TUYAcyvJ5Mc6hedRbHQOxbGhgsegU2kCexPsNV4BKl2bkap31SdKNyvJyHAUHqZ9Xn9ak/KDu15bVe3qZlU2Hj9zga96f8vblr7CtLanuqeO93dpeCScrx3VJ3MShL8jUyooDtapOsz3FlSA7AXHpWuT4bxHkb3NZ7K+VpWZa9GejNzSAXfA1b+3fJCqV3vawZl4lH3cfmRS/u76ZVXLNhwD1WmYC+cpyaWrXlqh1oVjCABAtxzTzbjNb3ZrFCy723Sk3dyMGBsB7JeBiQ3Z+9xMbtQsv1f9gM/Mqw5GItUCxeDfjBuN6NoUntqVoEOqXzrFw1710TdhbsqY/dy7epT++YHsPxcZ6k+EdibVzAvm9ah/sC2ThuLozusTcR3cxpSbIzP3tgyoM+QYtdxm+hW4Uv+QyPP9sL5zO8I+mtTCi/25AnM/PWdwOjyCvT+GAAC06dhy9DsTjLQ3u1l2REbnRXb2dVhgR9iyRgMPPl2XjfnRzBE+M9q4MCaLn7oPUHC6Y+jSOYJOgHlFV5DME1fUZ+bqUSLYj39ekv6LQTtMCIJPHeTfH4iuZJk0FI+7UnX4YlzWL3Q5UEx2OI5D2jZNZzvQpGOeM+iOOcI+5u1c6CD/3gdRp1GnX8X08hgCANCmUx7oK+cSN8uqYCmev1uXrYVoJNXk2z8fS70J0uQCN31Mnn06UG3aG2lFgemOYdaN2Aeycif63ASCRtbnqvVcrspGrFOq5r1dEbl6yQStyVFj0/EM/l5djJYz95I4unPQcC9KB85dkvGJ+BWrg9WVxlQ1s+2abAXnmLlHpsOzwa3Lf3xtfdk/t1zH/EriBugrtfj9PHnl3cc0w6NSXYtfPayrZeP1nrxqY1OPAlnH0FwB4EohAOAEnFygn7gZt1kwE9wsO6h/LN8fkJ1EqkU8/78kkw+91Ar3sjdc+rnAGYbnZHPe/Y3C0+lfmxcTbdEEZSXp120u+OyKyKZJ+cn6XDGpG+5GcTPd3ty57HK6bf5/1C5nXw2FI/qlftXhCJfTbdpeVdCdg7LrKByNPi/szcHB9gcf6zH1JNfZDc6x2yIzyVHr3NS6XGpdsM2ty36Ovq1/++8auO2l3c+TW7N91Ln/ro5Tv2sayzr2KnlVQa3/plc3fbOydzGqm6xjCADASXnnjeL+7oqXL1/K+fPn3Tuge96+tqWfBPNI+h/m6KACAIBT6STjl9OfugO8tfQINUE+AADoDIE+AAAAUEAE+gAAAEABEegDAAAABUSgDwAAABQQgT4AAABQQAT6AAAAQAER6AMAAAAFRKAPAAAAFBCBPgAAAFBA77xR3N9dof+ZXwAAAADW+fPn3V/HqyeB/kntDIqNtgUAAM6ak4xfSN0BAAAACohAHwAAACggAn0AAACggAj0AQAAgAIi0AcAAAAKiEAfAAAAKCACfQAAAKCACPQBAACAAiLQBwAAAAqIQB8AAAAooN4E+q9XZKqvT/ru1N0HkYPVqZTP67Ko5/deU6sHbpoTrNN/JdZTv5OY3reo1oy3nW0XU7Ly2n0Q0u0u7fN22La7uO3e9pRf3tbbTT/XcjLnG+fPqbG9KH03VsR+K7bX5kw7CJdFg1jdWtl1dpznOwAcXe9G9CfKUl641zqIMgHFmOw82JXDw0P32pXxx4MpX7RV2Qzn2ZTqwlhDh6DsrWf3wY6MEaxAKU+IVJZ70RJGZE61tblh9/bYnNR2cfLaO/ala8ty+HBSSu49WlCB/+CrGVtnDR1ezjsAZ0vvAv21IRl/oIKr281Gkg5k5XZFRAXny9f8n6GSTD7clSWpyKPMkZMRuf6gLBuv9t37RqVrd2VpYkf2jzRii0K4Om46hozEAWjm4P3rcnhrxL0DgLOtpzn6/TrQVsH6bDINJ/D6mayvVWUmFuQHSnLpallqT48yCrsve2vuT7zlLsnck6rUrjS7wqM6njeapH4l0sfs1SS7TKwDoVMBvPli6TMuTaCuUwPSprcqQ6jVdhflmfs4YNIRwunJ9AObkhBO+9R9HEqUyy9zol6adaaSZfCvyOkUq/gVOj9VKU28TIvb8flt6tKKm8d+3nwbQZ0m12tmDDXbh2Q9xqdF0soWfh4un//Yx5ZTxya2nw2pKYljmazjzOPZ6XJJzdfTXjsI6iK+zvaOma8ujy7M2m3pertQkQ2pyZhezrT5YHtmZitxvkfT4m0heTzzHWsAOJoe34xbksmPl0Sm3Rdn0ud7sjExIP3ubVKpf0jk+b76ak2hflRmp0WWprJHXg5W70ltYlwunXMf4O02PCeb8+pHOxZYe1THc+9qkPq1K0sTNbkXBAQ6iLmwLuMvotSxcTslTv/oX9mRpXA+tZ7niRSztYrck7t2+oslKftXGpqVoRmzXYlS214MyPr0hpuoHcizV+Oy66bvPlCd6PtB8KcDkjGRJ25Ztd2BxzrACejgZlDW/XKpfbJlVtNuV2QoXHZTRs0yjXRgMzg9FEu/G5oebAjK8kmW6VBGn46pkCxhYV3kYz19WSZzfg/Ursy6ZdRLHZ+dK/FAvNk+1O/4aYi7MpP15aYlymbW/dg/RjvZbdWTXO7w8paMLbiJDWy9VS5uujKq15MhqVwIAs2s49npckmt1tOZoxyzTOr7wpyfQcpo2ih/w3m3JANmgj2n/JRUczyDDpf5/fLK9CTrrAGAo+lxoK+cm5S7OoWnK/nRbmRFv26L3E358d5QX+DBKIn58SM3FZ6RW/rejox7R1RbnQuvLtkrSkFqWH1Zp5jd9drbiEymXImqP61JOTaf6uzerMrG42f2B16bWJK7wbJqmzPzIjv7bmqTMjRjt3tdlcox513ZvdFUOW5F50Lpw3Epr+2JWfP2luoQL8n1MO/YdtDDpRuuvNl98q+2heVXJRhJzV9WHY3HG1J9MheV0aXfdXTVLuVqoDm27u/Q/EzuAD9QfeJ9r5jjsyHrn+r9y7cP0fEqqbqIytcgVja37pveMbo2o9rqVosAuHE526F1fye5etv0g9bh66ZDueUFvg3Hs9PlknKup11HPWadUZ2W+7X4utW2J/V+u3MqPM8VczzX1uVZ+N3jpZUOq/pyfwJAN/U+0FfsD1ZKfvT7A1GwkeJgf0fkYn/0AxbejGvz99NSgvybcbkBDY30j3z2vSP2CT2uoxiOiB/I/nORof5WrSljvhbtPCm9DM3kLJ+fYmBSEqzG8yxBX3nzO9n6daXmrrapoP+hu3lef545Aq3T6Moy8L576zS9atdMi6uB3dT/QdDlab0PI7cOZVPGbF2kPrUli00zrF3x6rhPX6FodY9RepkypdZbSfovBkF6xvHsdLmkluvpjnaOWeey6z79nOqXgYkN2ftc/ak6BMsvxmX9gj3WnV3VAoDWjiXQ18FVkB8dyxs+d0nGM0dy3EjM5bRxDjvimJkSBDRhbtI2HcV46K0D7Hsf+Jfag2AhbyDSZL6cQWl2GZpJ3+7+K6+ToIP8+wNReodJSbBSgx4T3Du6ozKxFC0bvMKOtA7y7GcmyE0N8rwgJ6lZJ6OZZOfp9b4Ki7svqsd8+6CDfV0Xu1fXZTB3sK/XXfZSvoJXnpSjZJlsxy9Vk05n1FFMOZ6dLpeUaz1H1+4x60z2urM7El7HQAf75hhviqgOHsE+gF44pkBfcfnRldgIpQ3Ydxq+5KI8zszHmKkvSZMS1PSpPkCaoKNY8XK6k6PitqMZGLlclY1Yx7IuKylXlBrns7nLcvVSjqCieRma0SOYG9OPojSP1ytyz8vTTo4wHny6Hg/k1/wnXNmUhJDukGfeVF+XRS+gi0ZSk9zN9bGbodWyV2phZ97sg5fipPPdG3LuA8OjUlVT/fsXdHpVq9rKs43o3gVFdZDGFoIUoVb7oOrtTrSsCfZy0+vu5PtsREbnk2V+JJWshxC4wZVY7r/bx1HzXZtxPDtdLqnletpsB07nx+woUtatzrsVfR7p9qnOKf+cOVidVWeRu2dMlTH6zdMdBvenvhco88ZjAGjf8QX6SmoOrRnVsCMafeEla3eTXYtHnAUjs4P+jwaQh+ko+sGICv513nnYDmdl76I3Xd+YZ24aDKaPyV7aCGTDfLYtxx8fm6VFGZrQz0q3/26EW/a2yIy3f0H6nF1vn8y+Gopy8E0age1wB9uVm16Ovi7XQ3sDY7C8ftlARQUpz6P1mvtiMs7bhjK6G4CDznx4PrvpW5dTvi9CIzKnyixemZrPb+XZRlUF3LNuur2xOsrBbr4PJVUb0brNTZptpA/qdW9e9JbXrxzfbSO3bCpjuNzT0ewcfXMs7c3U4TbMzaTBPmYdz06XS2q1Hl0P7bQDq/Nj1oI6N2b0Dfx6uZRj0bDuC+uq46yn6Oftx8+Z2D1jqnMdnW/2O4Jn8wPohXfeKO7vrnj58qWcP3/evQO6h7aFpsyTkfZkxgsa22OvJO7dPOv/IFJR9iOPt2lfAZxVJxm/HOuIPgD0hgr4bldkY360wyC/OEyKyFqUCgMAeHsR6AM4g/RIbpD6YNMfzLPZW6T7FZF+TnxUD/pJTfr57J1e1QAAFAmpOzgzaFsAAOCsIXUHAAAAQFcR6AMAAAAFRKAPAAAAFBCBPgAAAFBABPoAAABAARHoAwAAAAVEoA8AAAAUUE+eow8AAADAOqnn6PMPZuHMoG0BAICzhn8wCwAAAEBXEegDAAAABUSgDwAAABQQgT4AAABQQAT6AAAAQAER6AMAAAAFRKAPAAAAFBCBPgAAAFBABPoAAABAARHoAwAAAAXU00D/YHVK+vr6vNei1N20QP2OP12/pmTltZvo215MzKded5JrAxo1trE+Wdx2E9GGuix28bwz3w83VuTAve+q1ysylfVdchRHXW+bywdt17RXteziak9qCwBQUD0L9PUP1OD0kGweHsph8HoiMpYSZJUf7Ibz7D4QqVyIdwjMj90Via/rcFOqz/d7EySgcPw2pl9zw24CcqvfuScDL1T9Xd6SqS4EnKVry3L4cFJK7n1XnZuU5cNlmTzn3nfIdEb8jk1yvSZwbxzAyNRWueqyJZuqve7KwH31HXhhT0av9aS2Wmt3PwEAp0JvAv3tRRlbqKrAfE5G3EfG8JwK9qtSu589ile6NiNV2ZH9YMRLr+v5kuwm16XezfUqSACQcCD9Uy5AVefx3Q/tp+gl9R13S3/rlWTyoe6gJr8DAQBorieBfv1pTcoPrqf/KA2PSnVtXZ7lunR9ICv3a1K9SUCPXlDt64a+wuRSUsK0FPu5TfPx0yyC+f3p8StUdgR4xU2Plo2nsfkjo9621SsaKY9vI98yzcSXaUiZ8VPj1LR6ciRb9uXRhWj52U/dx2l1mJKaEk+fcvuit+mVI5nq11CvyeWb0uVJ1L/aH78cfr2lrd9eldwQWRgzn9vyeOvV5b9QkQ2pmSuVtr7i2zVi+5kxPdy2v99+nepXcr8TbcQ/XmYEPpqWvIqaLmN9qftppR5XAMCp0YNA/5/K/nORof6s0LxfBiY2ZO9z9zahfmdMavMz7tL2vuytlWXgfTMJ6NjG9GBmQFK7siWjQTqYCepmRT62KT6b8xtSWY6HL7Ur0fTDF0uycyURuC2su+l2BFwHkYOPx2XXpQ3tPtiRMRcs6fa+E6YV7cpMv/lYBWrPZO9q9PnSRE3uucA0c5lmtrdEntjtm/1cq8ijIPjTgZyfGvexyD0d4IZ0wDkWW35oeja2z1Edujq7HQXwOhgcMykodvrugwE3xXcgz175dVSOrvypoHXWTwN8MmqWaJs6tluXg3VUVZtw+5Cx/pFbthwyb8vekO6lr1Cq418WffVSLWdG39uUrHu1Pls7ts6j4+zaTdhh0EH5oKz7beT5mAvo1bTbFRnyjlfrGmuyvoz9zHdcAQAnqac34+blB2Hmh7jZD2Zs9IsRJOQTz9GPp0BUnwTvR2R0Xv0n7GiqTy5XRRL3glSfeDnW5yZlRgW26596c3jLmwD28UbsqpRJT1vYCtvuxqt991dJRobdXGq9c2E+dkkuXS1782Us04wK1qJA1e7nzr4tc8MVOLXtuzrADahOQm1iSa57y19/ILF9jupQTZ1SQeHanuqmKyqIvqfT+LxzunRtMtpWqCSTt7w6+nA8WofhpfMNj6Qsn4MK2MM6GL6uOk/+gEMX1t82FVzrK5Ze3em6n9RldHV+18vJN+0muBqqOoLra1WZ8drI5M2q1J5G34jB8dXHayTZSUnKsb6Y3McVAHCSehDo/4T0X/R/ZJIaR+nDIEzn71/xg/eU0X89uqTnNSNMQHf1f1CW8gd5hsgjeplsur3rEe+gc6pfY1JzgaUeNd4UmxqSTKfx0yJMConTbJls8bSMsQX3sfq8+RU4Ncf+jshaRQbdskF5/I5Hps/3ZGNiQJ3JOfideJMq4ugbWF+My7pLHcqXhtKGXq8/U/YVS1PnF/vDjo/lfR/qeg1SaYLXlZrrlOqc/l0Zf+wGUPyUnixN15eineMKADgxPRnR16OgG4+fpf9AmJGqcbkUjnh6VBC/Oa9+bMIfJjuSmTmqBJwC+6/8NJckHZyVZUk/rSa8oqBf0VUBHbjrz3avrsugC9x1kH/vAz9tI96ZSFsmm03L2LsZbFun17hJTrJj7u9TqX8oTF+JvfKkqrw/kBiZz6CD/PsDYepOQ0deB+Nm2qaI6jT1JNjv5fpTZacxmjpPDbJdx0DX64R+SIGrr+AVPqAguIHXdQpbBfst15eQ97gCAE5Ub1J3dMB+sdIYgJh81B1Z+jj75tqRWzZPOvihLV27a3JF849cAr0Ve2qUatP6CVNRykOS7qxKLGc9ogLwO9HnJrgzkqPsNv0n+Dt9Gds5SL8xNzlyXJetcETfpQVNP4qupJm0DPe3pm+g987Jtpy7JOMTfudd7cHqSkPKXXIE++DT9WhEX9VxtG0dHLs/VTm78sjHrPV3xAbvUVpTXRb1yHgqN5DhX8VU+7Siy2IeWlCR2dgNw7NSETdIoutVvfOnR9Q2vfqOrjjZqzqpx7Hp+lI0Oa7mSlSrjgUA4Fj0LEff3MimRxtjl4L1TWetniE9InMmhSe4wdGOTJmOg7+uC/pmMx43h3ziN+PmfVJNuqoK3GeDdemO64vm7VA/L76h/ZpAqKTCQu9zfX6YEVSXHx2m+8zK3sUgWMtaRncOyjL+YVqHw+bUV8Kn5myJeCP6pnz6SlqwztsiM7ErCOqcfKFvOg6W16/EDciZbBqJ6ay7ZQcf63A4zt63EM0z+2ooGtF/f8Dbtr1h1OTa6/SR+dGjfwdkrV/xy5UeIOt7NFzduWM6+fGSSNjetmRUfZ9l0XVvbrI186rXhXVVHj1F1bm56Tlqt+aG7tiIfXy6ftkyqs5GrL7Vcubqi+7wVWU0NV+/2fqUtP3McVwBACfrnTeK+7srXr58KefPn3fvgO45+bYVpcA0PIHlpOnR7eV+Wc6TTpNDkDq0nHml4uTV70zJfvBs/zPOPJlpekOqT3rYtrYXZWr/+qk+pgBQRCcZv5yKp+4AOCKdY96lIN+mI2VdHTg9Rm4VI8jXzL8SrK+a9PJ+pOE5gnwAeMsQ6ANvOxXY++kaNh2pOEH06ef+YawL6zI+1aXOGgAACqk7ODNoWwAA4KwhdQcAAABAVxHoAwAAAAVEoA8AAAAUEIE+AAAAUEAE+gAAAEABEegDAAAABUSgDwAAABRQT56jDwAAAMA6qefo8w9m4cygbQEAgLOGfzALAAAAQFcR6AMAAAAFRKAPAAAAFBCBPgAAAFBABPoAAABAARHoAwAAAAVEoA8AAAAUEIE+AAAAUEAE+gAAAEABEegDAAAABdTbQP/1ikz19Umf/7qxIgducv1OYlrfotTdNK1xep8sbruJQE6t2llzB7Jyo0+mVoNWe3LMftxpUnJzvrWzb766LPZNycpr97YgDlanmtcZAAAF1rNA3/zAXliX8ReHcngYvHZlSfZk382jlR/shtN3H+zIWCJQ8afr19ywmwC0oVU7y1K/Myh7Nw9l+VrJfXJyRm6p8t8ace/eDrpzcxo6WQAAnEW9CfRfr8js9JBsHi7L5Dn3mVGSyYdzkhWqlK7dlaWJHdkv2KgiTpf87exA+qfoXAIAgLOpJ4F+fbki8uB6ZkCfbV/21tyfQM/47UynrHhpPV5qmWw/ksHbGalm/nyJdfgj0ObKVjgtf1pNPN3ILteYhhLf7uKn7uPA9qK3juTIuE1Jiqb519msZmXProsmYuWJpwk1rs+Wb2xBZGN60Js/Xu6GOo1tY1GeuY8jieOdWL7T4wUAwGnUg0D/n8r+c5Gh/vZTHQ5W70ltYlwueVcB7I88P7zonlg7294SeRKkhm1Kda0ij9LuA1EB5NjzJdkN0n9u9rsJOnAci61jaHrWBqXhlS037cmoXaQFHfSOyaZbn041GnBTfMnt7srA44psuKla/al4266qc+mRO390sDwo61ejdKaZVxWpmWmWDngHH49H+6vTnYJORmZdNKED8Ct+eYakEnSiUtenr/4dyuZ8kHblrg6+fiZ7Ybl3ZWmiJveCDkxyGy8GZH06ViOmznaSaVxBR6XD4wUAwGnV25txA7GbcuMjeX4gbwKLh5PqJz4Sz9HPTvsBmslsZ8NzXmrOiIyqwHJnP2N8ei26v6Q0PGKXVx2F2sSSXPfWcf2ByPqnwTq8FCG1TMv2q86VewtV2fRy8UvXJhuXa9iuCow/XpKye6eN3PLOl+FRqQZlUcHy+lpVZrz7DkZuqU6O+1t3BJ493pDqzehcLF2bkerCVtTRTquLJupPa+pc9q7yDV+XJVmXZ0Hd5F3fuUmZC8tdkktXy7Lxyi7ZsA01790HXo24Orvr7bfZrzWvHO0eLwAATrEeBPo/If0XE8GS+sFdNoG6H0xYsUA+EeQD3ZLdzuKpIDpVJJXqEBw+ERkz80Wd1YP9HRWkVmTQLW86EtMbNvjU7f7FuKxfsJ/nemLU53uyMTEgrcbIzXYv9jc/X2Id7LFoxL7lNmxqU+1KtE92eRcEZ9RFtgNzlS9+dW5QKmsbsve5mtzm+vw0H13Xlt1GsyuJ6XXWLwMTrhydHC8AAE6xnozoj1yuysbjZ/ZyOHBq2RQW/VSdoBOgU0Uy6YBUz2eCQRuQlvqHROajNJvwFYzIe51cUYFzy+Dx/QEpe6PbWcx2n+/HzzEdwLs/TZB/YU9mwjJ5ney0bbzeV2F8QAe/ZVmKPTFLv7yb61PqIlvJdP6rYZpR9AqvpuRcnw7y733gp94EI/Z2G8mrMfuvotSd1DozyjLwvvuz3eMFAMAp1pvUHfWjvXlRj3KSU4/TTI9ce0Geaq1bGSP6B6uLUfB5rl9UyGjplJiFsfSAcHvR+1wHz+5PM9KecW6cuyTjE7UoH145WF1pnNcE6/79BKrTct/Lsk+O2uu0FfenLb+X267oG+i9kFguXZUohz4hqy50EJ71KEzd+a9dSd/nzLptkBy1tylGgf4Pyt59CIpJg3J/a/pYqTqbjd0sPSsVCe7XaHa88ly5AADgdOlZjr5+5rd9Xnl0mV1f/t95cDfxyM3m4pf7eaY2usnm01dcqkZf35ZIxoh+SUXM0Xz6JthgdHtE5l4syU4szcUFhSoYjz63N7+aEWwdhM+PZuR/65tQd2Xp+Vi4vsHHOuxMMGkm/nZnRW56OfomB95LKXoqXtqcKrO5aTg6t7Yux9PqSteWXWc9WL96uc5Hel3oILws4x9mpM6ozn/D94G7CTa7blVJp5ZETDl1naq6uak7DMG8s7J3McrB12WObeO2yIyfo5+y37H7NbKOFwAAZ9Q7bxT3d1e8fPlSzp8/794B3VOUtlW/MyX7U14aTBHoUe/lfll+y/5BLwAAWjnJ+IVAH2cGbQsAAJw1Jxm/HM/jNQEAAAAcKwJ9AAAAoIAI9AEAAIACItAHAAAACohAHwAAACggAn0AAACggAj0AQAAgAIi0AcAAAAKiEAfAAAAKKCe/Mu4AAAAAKyT+pdxexLon9TOoNhoWwAA4Kw5yfiF1B0AAACggAj0AQAAgAIi0AcAAAAKiEAfAAAAKCACfQAAAKCACPQBAACAAiLQBwAAAAqIQB8AAAAoIAJ9AAAAoIAI9AEAAIAC6k2g/3pFpvoWpe7eJh2sTklfX5/3yp5XthfzzwukqN/pk6nVA/eu90z7vuNaqTkXpmTltX3bC8H5ZPexLovBto+RruO+YD/VObu4bT8/sobzX73C/TuQlRuJaTdW1KeOqfsm03HsYucG2qDOa+97RNdj43eaOx+oXwCeYx/R1wHB4PSQbB4eymHweiIypn6Ek8GBCR6uSMO8W90KIoBeOzcpy4fLMnnOve+6A3n2alx21bkx82pQBbP3ZGBqxE07LnXZkk11fs7I3gV7zo4Ou0lHkHr+H25K9fl+LFivPommb16syGAsmK/Gl384KSU3BXnEA0ycXgers7J3U7XxW8d9/gM4zY430N9elLEF/cM7J7GvouE5FcBXpXY/+oHWIxZjz5dUANM471wXggigGEoyecsGryO3dDDby05FlhGZM8GF+q8JqBPnbCf0d0Xa+a+30SRYH7mlOgJre7Lv3gNvhwPZ77/LbyOABsca6Nef1qT84Hp6EDA8qn6g1+WZGTk6kGePN6R6k9E39FgyNaThsnciPSQcLdYjnWmfJ3kjomlpKOFyyTSURIpaIg0lumyfXK5x9DVI7bEvf73xfchKbwrSLWx6Ttq8zesivv08aVRqn+7XOjv/X+/LjvvzSDqs78a6svXt10Fy/9upn07W37SN62nqeNX9MgTTTR2MSU02pKKv1ORp+83W5+moLSWOSe70sMT+R8slttVwbqhju+qWNfvgPnvtL5c831qcj7n3Ib6eqdV417V0bVmWrwVnhy7PoIxd0Vf01Px+nWn+/gfHJnaM4981QRsLJNtn19LyAByLYwz0D2T/uchQf9ZPd78MTGzI3uf6733ZWyvLwPtmAtAb+gfwyo4svXBpHYe7svR8zAs89I/toKxf3XXTD2Xzqpu0vSUSpozoUeSKPGr1A6ivXLn1mGWkLEsfu2D29TPZC7ejyjFRk3tBOfSP8YV1GQ/LuSnjZoItX+WiTptx054MqaAs+uHWP9KDj21qj56++2BHxtyPeP3OmOw8iLY5028+TrcwJluXg21UZWN6NgpgmtSF2X4sVW9ThqYHWwQLnZ//9eWKbMyPeoMJNZMWGAQpzYLo0BHq2/DqanPebn9W7rr5dd09ih+fduunjfW3buOKOl73guVfLElZrd9s36SduXaqlw+upLRq+1nrC3TUllTd367IkDdt1CzQgtl/L/1LlWfATNDBsd/+3bkRC5JVB+fVqJ0epsPoTs+WjAbrix3/Vu0j7z7Y9fjfOzOvKqolZ2h2PJL7/7HIvekNNzGPKDVQL7/7oBy78g7gDHjTZb/5m7/55s1n337z0bufvPmB+8z60ZtvX3/3zSd197aBP/0Hbz5596M33/7MTAAM07Y68INvvPvmo5UfuXeR1M/rn7x59/q3VWtM/N2Cv64frXz05t1vBK0/vS1nlSngryNz3pbnWdo5p8tjl9HrjcqZLb4/WvNzOSpv+nyN60tKqTN9LN5V5TWvYJ/t+qPP1ctfb2r9tNZ5fafsmym3v4y/b+3XT3vrz9iXFm08vkx6+/XF5m+xvqO2pYZ9aarJulPKGd/XtP1O+8zbRs7zseU+pK6n9XEI+PUdP5ZW7BikbKtZ++v0nALedp3GL91wjCP6Jem/KLKznzUW4I/i+aP7QC9kXGF6f0DKLsf7YH9H5GJ/RvqIHnWLRorHFtzHOehR3DHZ9C69W346w2A46tbkStjne7IxMaDOFp9/nulzSqR2JVpvn0nF2JH91zanf1OVxHyevNzflqy6SB+ZL/UPibgbatPTAlLO/+BqiB4hdh8F/Jtxj34j4lHqO4VuTw3LBFrXT0tN19+6jXem87bfWta6SzL5cFfGH7v0lJR0oEbZV4bSz+1Ofnfs8Tdato+c+5C6nmay6qzVVfSc/NSfCxVp53oAgJN3rDn6I5ersvH4mfr6SbG9JbWJcblkbiQsyaWrZak9zfNlDnSiSYDmfmSzAy79wzpon3DhAszNeTepldcrMqtTNRIBqQ7y733gpxEE4WyTcjYJ2OyPuw5cXNqFW699RTfs2ht41faurieeVpNXs7poEji5IEvnGkflOnQ3E57k+X+U+m5X6/o5mtZtvH1HaPsttVq3DpTd57qD2jLYz67f7HO73ZQxG0wbudpHjn1IW0/mvSetj0fy+O+/aiNU10H+/YEwdSetow3gdDvep+4Mz6U8/k4J8kiDfGWldG1GqgvqizBl3ub5vUA+puPp5wfrH83bFZGrl2w7NDeIV2TWy2eur+r2mBwprMtWrlHNuixe0Dm6ySfJJEfe7M3ogcZy1mVFl+ncJRmfqIU594Y6P/STrezjLXXALFK5nRbAq329E31uAp+ONKsLF7Bf8XPYVR1cqUn1cvOR99K1uyaX/GhXGprQ3zkZ6+68vtvVef3k1bKNt63Ttp9Hs3WrevHqvf+DINzUgW7WDaIp9as62it63pRzWz+esiLBYFOWDaksR+WwyyzJdX38W7aPrH1IONcvQ+Ldo6OYe0/c33Gtz7/YPRtq/+/5x8ttK3xktRmIiLaUvPJx8Ol6VA59DiVu5AVw+vQw0Lc3iYWX/NwXgh5BNKOH/jRzs1DysYD2UX2mY+DPe3/AfqkCbdiYdpfL3cvcjGge66pvlgs+tzfARSk1ug3amyOD5cZe6R+9Ebn+QAXQ4XJbIjlGNfXNr/qGungqjT4vSjJ5s+p9Pit7F70goKGcY7JnOgU2FcAExMH6zLkUdST0iHnDOWSCjZL0qxAl/Fwv19Ez5pvXhd6+uckx2I4qu75xsPVjAO3IZ0PZUztKzaR/D+kAppwV7B6hvtvVef3k1LKNt+IdX9Mx6qzt59Ns3f0y4NW7ucHcXBXTgW52R6uhfi+si5iguPHcNutseQ6UZemDrWgZfXUuXKZV+8jah6TGsm1d1jdFp2l9/gU3bJvpt0VmwquFmtqWfrR18N2TmB4OuLnlZ18NMaIPnDHv6ER993dXvHz5Us6fP+/eAd3z1rctPYJ2RT+itp1ADY30KPAj6X/YeYCOU0KdE1P714/pfKjLov4H6V6cxL9V0T1BmiDfIcDxOcn45XhTdwB0To/O6pG+rPtckJMeeSXILwR1ThCwtsGkEpVl/EPqDHhbEOgDZ4LNRTapHfxDcgDyMHn0Li1Hv8y/qXC2r0gAaA+pOzgzaFsAAOCsIXUHAAAAQFcR6AMAAAAFRKAPAAAAFBCBPgAAAFBABPoAAABAARHoAwAAAAVEoA8AAAAUUE+eow8AAADAOqnn6PMPZuHMoG0BAICzhn8wCwAAAEBXEegDAAAABUSgDwAAABQQgT4AAABQQAT6AAAAQAER6AMAAAAFRKAPAAAAFBCBPgAAAFBABPoAAABAARHoAwAAAAXUm0D/9YpM9fVJn/eaWj1wE5Xtxdi0hunOwepUYr5FqbtpoZR19fVNycprN904kJUbfbK47d566ndStt1Qfre+1G3ZV9q6cZrUZTFxzBqOuz6+N1ZUa8lg2kWybZ1ltk46b7vZ59WxiB2vo+4LfOa719Wt/o5s/E7VdJ3HPw++s81xUOfLYsr3+mnh72PXFe67AsBZ1cMR/apsHh7KoXltytD0YDywmliS3WD6iyURNd3/kdY/LoPTQ9461OuJyFjaj7m/LjPfkFQupHceWjFf/hfWZfyFt74X47L3qVrX8Fz42e6Dssj8Zvh+btitAKeP+dEdk50Hu+HxOjzclfHHg+390J+blOXDZZk859431RgEnS46SL8nA6qdF6PtjsjciZ2Hp+NYpw5adEKdL7P6u/fhpJTcR+UJkcpywzBLwoE8ezWuvot3ZeC+6hyo79GBD4M1nD6la8ty6O1jV+nvCv07dLtHHQkAyOmYUnfUj/CTqmy82nfvE9SX4sy8yM6++0rcXpSxBd1RmFNLenSgrdZTu9/iy1PPZzoPj9RPcBvUdm3nIhHMqfLNXTu9P1hoRgW0tysiKshfjh3Dkkw+3JUlqcijt3QU+NLHeTsteJvUl/X5cj3+3Xt1XKoLYy2umKhz6pYOnPW5pTvTb3n7Gh6V6tq6PGNUH8AJOrYc/YP9HfdXa/WnNSknf2gCeb88z12S8YmabLURxDXdLs6m189kfa0qM6kdtZJculqW2tNEd9BP0YqN+CdHbm3qSjjvHbcedwWhJhvmypK/jmQ6WnwE1qafpE9LkZZqFPsso3zKweqsDPojtKbMyW2njFSnbdPn151+edtse/+MxD6kpe8Zdr4gEDX1rLZt006i5fz6T24/fmz87bh62PbryE0/rmPtpJfR7vvYgsjG9KD63Dtmqce1mbpsLZRlvGEk/pIZrKldyap/rcWxato2GkXHTr38NhdbT+P5uLjq9vnG35a/7bUJy2snDW05Uf4jH8sRGZ3fkHV9NRgATsgxBfp1eTS9IdXLGSG0+sLVI/g2GDuQ/eciQ/1ZI+j9MjCxIXufu7eZStJ/0btK0FKr7eJM+nxPNiYGVKtJV+ofEnm+H/3Yr1Vk8OlomOKzeVG9Tw1IdFAwKOtXg3SgXVl67kY8TYrPplSlLEs6BcylB+hgIZ6OZlPagkCkfsdPL9qVmaxCBxo6vapM92tSvam316R8SToYjKWrbcq4m9QWHThd2bH77G0zCHza3j9NddT2/H1Qnfd7OYNiWRiTrcu2LJvzNZP2Nyt37br0FUbvip85No912omdf/fBjozFjrsK5O+L3PXKYaYf17FWsstoR9A350XKZp1uJL2T4/p6X3ZkSPrTRuKH52w9ZgXozY5Vi7bRQP8mPI9SMndvugoy65GoXlPSY2qP3XF6+OflarIjv/1IKrIk1xtSvJLni6rPq27KEY5l/wfl7CvZAHAMehjo2x9WO8oxJvIkkT+rA6pgugmsEmk6wEnQ93vcilriyNSSlBe2GkcxG64UqGDrZrXx6kDoQJ49Vp3dJ347H5HrD+KBSBQUlGRkuFWnMzFi6Mo0qs+zNspnUzXuemkWIzKZegWkOXtFzF+P3ebG42dhINbe/imxtDl7BSZ34DS/GX7njFyuqv/36kN3klRIu286Se7YmA6SVbo2I9XYcVeB/MfBdLtfsQ5iTC+OdZ4yxnV8XJt0jEduqU7Nwr30+xGaHKs8baPB2p6ENTQ8Yva74arr8HUVtsev8Mbq6MPx2Plrlr96KZwech2Au179jFzT6znasWwYSACAY3ZMN+Om3CQX3kCrfzj8kcZWI/H7srdWloH33dtM+Ufo7TztXgHAmfD+gJS9gCHJpJRd7G/84Q+c6xf1U91IXymIdWbV60qtyY96erv1A4GRW4eyKWN2Xc3SYzy6IyIuWDr4dD3Krc5dvm5dycpYj1f/neyf5qdwDE5vuE/bpMuRGcDqYyNSuxJtRw9O1MKOQLt6cazbLWOvrlDqIFcybzJNP1at20YDcz+WffhClJ5j12PTk4LtDEplrckVXtX5mJkPUjh1WlJ6Gl/290BvzlsAOC7HlqOfzd6o6+d+6tG3zJGe7S2pTYzLpbRLy77YJdqsIN7+cASabhdn07lm92q40bqslDLNpDKkMIFj4mlP+pX5FI8mKWdegKGDBr2e3avrMpgnaND7Z0Y09b5IlFudu3zd6uA2WY8XYLe7fzpwvPdBlE5hnnbVdfrYuNSboJ7Mq9ObSXtxrNst4xGOa5OOsVa6dtfcxD67Gp8r+1jlaxsNgqecvVAt/IIO9u16qk/8/bevZk9b0t/rZvRd/3bMj3oj85HskfcuHMtmAwkA0GOnINBXkrmf+r3OjU5+YQZ5nuEl9HQ6pzI5nwnip2djl5z1DYmxfE1zGVinFCVuInt9up8HjWZKMvnxkuxcSbspb1AqF6P0DmPNfwqPmsc8sSflBm0TYOtgJ2+7cDf+xm5mrMvilZrraKht3Ynauwk8DF3OZNl9er0i68uPVLjvdYDbKF/juVGXFbOcDXLWw5sJbXmzNK7H1Z9JlcjaPxsgpudqJ0eCbces+2wddu9RiJ0e62Z10X4ZM4+ruUHXv4nVY65gtbqSYc8pma5I1BqaH6vmbaPRwepiNK93VU2vp/kNwSl0mtbCliw+Deo/hbnfJX6+1Fd1XXd+LDWTKvRBZlcGAHrudAT6is39jG7O0iMkZnQkvESrXuYmrJQRLD/fX70GX81Iw0iXuRRsn68fzqdvbIuNcKofsId6JGonnvJwYU9G8+S24nRyN0xKLO3B3Xjn5eMbE0sy8DSaR3cE4o/lDOi2Ym/Ki9bpB+QuxcF7Eot+bne8bfn3rpRUWO21Y93WTdvUqQMu7z6DzkOWhZoMebnJrcvnaTg3xmTPBGxBQBesY0tGn+hc9wwN67F1bOsva/90gJj2lBdNbV/fVxAet1nZu9iLEX21JXVszOBCUD79yrrptEG3jnWzumhdRpPGZY6VC+Izj2szOZ8Uo86pu7GrKy2OVdO20aikYmO/3PLEfZ+r9TR8P7e8GqL3qSa152k34Qb0v8MQP1/GXtmR+M6Opdb8eALAcXjnjeL+7oqXL1/K+fPn3Tuge068bZmnmOzJzHHeOL69KFP71zMDojNP1+lyvywnO1xvo9NSFyfRzk8N/ajMManptLfYIFAH9BXo+wNHXw+AM+8k4xcCfZwZJ922zGP29NUiglIUXPgoz7c0SK3fmZL9qU7v0VBMZ0k/2vQI6wBQGCcZv5ya1B3gtDL3fPTpp4gMySZBPt4COl0l+8by4grO9TGZOVqAbtIFCfIBnDxG9HFm0LYAAMBZw4g+AAAAgK4i0AcAAAAKiEAfAAAAKCACfQAAAKCACPQBAACAAiLQBwAAAAqIQB8AAAAooJ48Rx8AAACAdVLP0ecfzMKZQdsCAABnDf9gFgAAAICuItAHAAAACohAHwAAACggAn0AAACggAj0AQAAgAIi0AcAAAAKiEAfAAAAKCACfQAAAKCACPQBAACAAiLQBwAAAAqoN4H+6xWZ6uuTPv91Y0UOzOeLUnezxWwv2nmCv5PL33FLuWlTq2bOmPqd4PMDWbmRWD54BdvAW0O3i2Q7WNx2E3GsonO0R/zvkZ6ry2LflKy8tu8OVqei7ynglDPtld9DoPB6OKJflc3DQzkMXg8npXTukoxP1OReWpD+tCblq5ek5N7LxJLs+svfGnETlImyyPSj9A6DUZLJh8Gym6okZVl64d7rcri58PYoP9iN2pJ6zQ27CT1C0Hc2cdzeRvEOW1ElO9mla8un9veQ8xDonmNO3SnJpatl2Xj8LDGKUJethbKMf5j3K2dcxudrMsYXAQAAAJDq2HP0Sx+OS3ltXZ75oyfbW1KbGJdL59z7HC7d2pTqwhgpGOhYWhpJ/DM90hel+0Sf29SwxW1/ejQiqNcxOL0hotpnPE0ovr6+RBqbGcXKmBZxo4/bfnpcYt5k6lusQ9y4vN0vv2zJbSdS4RrW501LpALE9klN23efh5qWVa1d1aW/fPxoNeGvt1mZ1Cs4PlnHLWv+LH6ZY+0rsa+xaYl0x3zfa/HjYttjvB3GthEce++7N7PNuRSoFbcvpjxpnzU9/vFp8bJkSy1TWtpn4rNW+1L3pwftzKxjTGqyIZUL6nOv/Mnj3liXWdPiMsuVtQ5X3gO/vcTqVUvUe2y97vtp1bWpG39b/rZ6P7YgsjE9qOZ1bSDYjvqzsa0kPvPLol/dOE9j64y32/Tvz8T3UN7tAG+7N132m7/5m2/efPbtNx+9++6bd73XRys/cnP86M23rzd7r9Q/iS2rX5/UvWnXv62Wcn+/+8mbH5gJb9784BuJ9Rg/ePPJux+9+fZn7i3OLNO2OqDbRbw9uTbjtyXNtNugPel247W7WDuybTbZ9vx1/WjlozfvfiOYqtn1+e3TzBMsE9u2Uv9B9HeMXU+0LVeWYFvmnPDbe/L8SiwfnqvBtludn/a9fz7G6yiaFts/zZTNW1ersiaOz49UnYTryuK24de9OTbhe7WNb3jrTJSx8bg1m99vE26at//J/fvBN/zjq6fF69yvxx+Ef2dJ1JVi27m/vfj01PJm7burx6hMSsZnfrn94x/f/o/UPvllSZddpmQdxdefZ1/Csrg2Hy+33w7d8v752OG+NStX5jpcef12qOeN3tuyRMsmt2Pryt+uFt+eorcTzOP/rfnfR6Y8fv0k2l5i2fznaeJ88NfhHz8jpb2vxPcPOM06jV+6oYeBvv8lGRf7UkqbN/ml40tM87+8Gr7IjMYvcZxNRwn0G9uFFm8bsR+XlDaop9v1NAYdyXbc8EOV2qa97Zvl87TTlPbsrTt1X2PbTi7f+AMaK3vW+Rn7EY5E20+pI6Xl+eqXVf/d5HskVWxfnWbfR62OW1Js/ibtx0ivA8tftvEYtJS6T/HyNNZv4zbjZdPT3TrT6jHts4Tk8W1alw2alylev0fbl3jd+OvS0o+bv/18+9a8XJnraNWGU49Dq/qw24u1h9h64nWQ3NeGtukvq/8OypZT4zp1mdO3b6TuM3B2nGSgfyKP1yxdm5GqS985+HRdNuZHxbvVti0jU0si07Oxy9FAPiNy/YHI+qf6AvCBPHsssjRlW+LB/o7IWkUGw0vL9nLyxquG5JNczPou9idufOuXgYkN2ftc/XluUpZfjMu6Th9Q28qXupF0IPvPRYb6E/e6vD8g5bW9xrQZoyT9F1OWCXy+JxtSkzGvHvqu1ESe77vL5vHL6To9wNqXvbWyDLzv3jbIUdbhOTl8Im7b8ZSTtpzrlyH3p+GnDFyoqP1rod35s8TSc3S6SEA/PGBXxh/rtAo1LZEWkUofl4kB1YI6pY+PSO1KUJ6gTDuy31Y9Zx1/dXbdOpRNsekX+dIsmpfJ/G4sbNkUFZ3uOT8jkybds1v7Ekhvu6V+1Ypcu8+3b83L1Vb9eG245XdJR7K+C3txntp12jSioF4GpbKWXf70fQaQx4kE+vpLZXR+Q32p1NUXyoZUL3ca5isqQLqrvqAqt1Pyf4EW9D0jom8Of/1M1iW6T8T8qM9vxp7UY17+05/a4AcJcV5AoYN9s51NERUctB/s26B9Zz8lZOg0KNQ/6MknYOmXeVqHDvIGZe9m9PnmvFsuNfCwP/BWzrLqIEKv23SCOgz2X++r0MrRQfv9gWh/XiypI9BEu/Nn0UH+hT2ZCdZjngbmi54UZoK/PMF+svPm72dL+vh4TyMLX8sueM6j2fG3dDCrP9+9ui6DLYP9VmXSvxs12VLnhX5KW/S70Y198TUJmr1gs/W+tS5X7vrxjm2u75IOpH8X9uI8teusPvHrxL6ynoaWvc8AWjmhQF99wV2uqh79mOrFV2X0iI86LF27K0tSkYo3mgTkcu6S+klbl0fL6yL+412HR7t7s7de31pFZr0b3g5WZ1WrdT+oKqCMtqUDBPdnm+x55V/hUsHY7Up839ph6ide7khy5FM/Pcv96X7Ma/e94GX7kTrf3d9Kq7IerC5G0/xReR18NwuKVD0/CuvSrfPBdXPVMDkyaK4our/TtDt/puQIvB6Rdn/qelv0Avv+D4KuhA6kMzp8uj2pNfiPKq4vx6826PX4Tzir34lfRbh01Q6QZNZjS82Ovyr7nWjdJlAzmuxTjjLpNlN7uqi24/9udGNffPbpcLUriRtnrwSdi6x9S2pWrhbraNKGW36XdCrju7AX56k5jrH6bSFln+uret22PTW7GRp42/Uw0E9c7k8+McH8UClZaTvqpPbTJppf2izJ5McdjrThrRC/TOz/MNgf49rCkMxcC37atBGZe7EkO7HL7vlHlG2agf/UCLW+w00Z8sox+HhcdoPnWL8/4G1rUNav7nb2rH9zGX3IPkHEW9dybN/aoUea4+XWr2Cf9OX+aFtb6nw2CxkmNeGidx4/HY2P+LYoa0lFxdG0MZEndiRUB9+xf3MjaWJJBp5G66xc3IzW6R0X/Zp9NRT73kget1bz5zZ83QxGRHWh/6WRgOrYPY+2YdqFuXKkA+msgRDbPsU7LluX41cJggGQYJuN05fjx0e/8lxJCDU7/qqj5+/vFZFN09ab7VOOMunfjYWa7ARBr3O0ffH2w/3O6PXtPtjxfsN0+wtGnLP2rVF2uVqso0kbNse+2XdJBpvmqpfJ+h7L+C7sxXmq1hmvX/XyfuPzfH+OvSKVB8jjHZ2o7/7uipcvX8r58+fdO6B7aFswo4k3Hkn/w7lYoFdI24sytX89fyctTA86xXXT7j69jfRIuE4XaxG4n25v0XkK5HCS8QuBPs4M2haQRQdWduS30/tIcEoUItAH4DvJ+OXEcvQBAJ2yuclh2oNL7yDIBwD4GNHHmUHbAgAAZw0j+gAAAAC6ikAfAAAAKCACfQAAAKCACPQBAACAAiLQBwAAAAqIQB8AAAAoIAJ9AAAAoIB68hx9AAAAANZJPUeffzALZwZtCwAAnDX8g1kAAAAAuopAHwAAACggAn0AAACggAj0AQAAgAIi0AcAAAAKiEAfAAAAKCACfQAAAKCACPQBAACAAiLQBwAAAAqIQB8AAAAooO4H+v/478tU35SsvHbvnYPVKem7sSIH7r1Vl8XEvGa+vj7vtajmStheTMzTJ1Or3ppfr6gyxJez620sV5o8Zajf8afb1+K2m9iKKX9aWQ5k5UZyvW7bZp+S0+wrtu+ISTtO9uUfU90O2zh+HtNW7jS00O5LadP52DYV7Fv6eXhW5T9uxdpvAADy6X6g/5PDMj6xIXufu/fGgTx7vCGyti7P/OD29b7syJD0n7NvdVA2OD0km4eHchi8noiMpf2YTyzJbjDPiyWR6cHsH3wVWNv1Lsuk21aWdspQfrAbzaNec8NuQlMq8Lq/I9V5kfVP08OO6pNonZvzNRnTAcq5SVkOtvWkGtv/5WsltySSRm4FdbkrSxN+3c7JiJlDB8L3ZOCFPX76+Be541S6tiyHDyfl7LeY+HFr5XTud+NABwAA3dSD1J2fkP6LIrWn3tjj62eyvlaWcqIDcPDpumzMj9qASwXjYwtVFWAHAZgzPGcC29r9JqNxKgieUYHzzn7KHHok9MqOLL1IrDfNUcqQl64LGZfrU+Oqc/Ko5QjtyNSSlNf2ZN+9R/dd+rh1BxCnD8cNAIDmepKjP3K5KvJ8PwqKP99TAf2M3L1a9joAdpS/etmG1PWnNSk/uJ4ejA+PSjV5NSCXuixeUGH1i3wBQW/KEKc7N3L1kpTOXZLxiZps5Ug7QO8crM7K4LJukzbFZWxBZGN6UILUqsbUnHgqTCObTpKeIuTWlzEtLr6exU/dxyFbjnBdedOHdNqYS2FJu3oRfubmW1HvzfaD/dWfB9tM2a5ePpyWJ1XGbace1osb4fa3420jOh4ldQ6ZTxLHI15v4f55+20l6i+cljh+/jKJ9LnsNhCXeszNusakJhtSuZDYTqKO824HAICk3tyMmwiKdQCtA/rSh+NSDjsA+7K3VpaB9/XfB7L/XGSoP+vCer8MNKQDedQPox6Jn4mlsOzIvRtjIk/yjvodsQy56M6NyPiHehsluRTr+KRRwcjtikhW5wNdVJLJhzpVKkjJ6mS0WAeJY7LjpXTtPtixqVd6sgruZv20sCejZqlGdj0SphntysDjigoJAzpIHZT1q8F2dmXp+VjbAaHukG88fmbLpqny3fPPo7WK7F22ZTDpMToANVfHonLp7frB9NjzKKVs92a//bwVtZ17ctcu80Bs4Pt01G7jxZKUF+7lTm+p3/Hrf1dmUouQrD913K+6SdtbXr1vqu+xijwy9WrPxSFvWtbR8+kgf/DxeFQnuj3ojopJxVPrl7KtzyCtyNSxRG1E7f+AWRMAAO3rTaCvwtLR+Q2Xg16XrQUX0J/rl6GgA6B+UGsT43Kp00vv6gd4MBj1MkFBempO80D6aOzIbzDyluNGye1HUpFon03HZ2GrYbnalWCdsyIfk4N/Zpg2vSR3veNVujaTuBK0I/vB38Mj6R04t57rYe656oR8rAJe986mwvkdWzX9ZrX9tp7okMdS6bRYGWyHvfzgrtcBstuNdRa8NLOS2r9cLderM3NO6OB3ypXinL7y1V4He+NVWAIZGU4pgTkP48dp5JoLtIfnvJx//T0WTwmM/lbHruW9Ae6q5c3o3gDTHlLOeUt1Ju7XpPrE+y5THYLJltsBACBdjwJ9kf4PyvYHV99wGwb0UQfgYH9HyjqFxcxdMnn9qTn2hj/674Q3o26qH8600cwhmXloRxzzpTW0X4b4zbit7wHQgVKsg3JBj9LW5F4ifSK4YdSMbt720w1wmuk2LRf7w6DO8q4E6VHcF+Oyrkes1fHPGoFPX49Hp8KpdqNvELcdQvW6otqWny6Xy4hcV21Mn482KJUowG6QccXr/YHoHhJzL4u9cT3vE64a6MEA7wb9dumbrzdFnfO6DLFUnUjz+tWj/VG96lQuS1/x2ZXxx65zn+s7RX9n+B13/dLpOl5nLyblew4AgCPoWaAfjFavBDnp7nPbAXhmRrr8oKEhjcDXdPR/ROb0jbJX0kbU9Y+z7QjkeZJK52XIw17ZiNIe3EuVPWubpWt3ZUkqMpuj7Dh5pf6hjGDbC97CpydtiqgAMC3YT12PCe4dHVyHHV3v1cFTZfR5Krr9uZvEs9t3k47wxIDqzjg62NdlMR2ak3miTPCkpd2r6zKYEuxnHyeb0rN3M6pTncoV0d8n7nPdmWgZ7OtOXso5n5kW1o30QAAAIj0L9O0l95pUpuMBvc3TXzepB6P+JWkVIGxerDT+MAd5wR83CWL0svoxlKk/vKoj0Orxm4GjlKGVrI5C05t8VWDxsS777IkETHBBoZdqoW/eray5N0nmWMY7Zmb+IIBW7Shqgzqoc38mmVHyIDdcsykdIX1udasDaNa1Lo+W4x3yNKYjHGuLNm89WO5gdTGaZkbmrW4+srT58VDluROdu2beNCnHqb6ql0uOqOvOuftT/b3ofb/oAQvLXgFI/27R9+G0c1XO3bfjD1q8XpEVvW79HdTRv6MAAHib9S7QVz9aegRQJBHQm8BiI54L7OiRODMKF17mVi9zY1rrGyNHbjUZudejqGbUv3XAcZQyZLOBWpSq5LPpTBXz5JcUqux3zQ2K/MgfB/04U90pDFNPgk6kawuzMmOex59OdSoPN2XIu3fD3IgZjLSrAH4nTOOwN4OmPgPepPgsefPOitz0cvTV2vSVKn87+tWyI5vKBqO1haHEzewp9Gj9kyF7s6y3D8E9JKV+dyOtmRbcCK9TfsruBvQuaHo81HeO6gCF564+b1OvcjQep7FXOpXHpjJF+7AlEo7oq46ZTgN085vjekt/g+nOQeI7zqOf328GD9xy5hV2GLztucEFPb+5YTeY94LqgJHKAwDo0DtvFPd3V7x8+VLOnz/v3gHdQ9s6g/RjJJf7ZdkExQW0vShT+9e5YR4AkOkk45cejuifUub51W60zH/lurmuhV6uGziL9NWJogb52vAcQT4A4NRiRB9nBm0LAACcNYzoAwAAAOgqAn0AAACggAj0AQAAgAIi0AcAAAAKiEAfAAAAKCACfQAAAKCACPQBAACAAiLQBwAAAAqoJ/9gFgAAAADrpP7BLP5lXJwZtC0AAHDW8C/jAgAAAOgqAn0AAACggAj0AQAAgAIi0AcAAAAKiEAfAAAAKCACfQAAAKCACPQBAACAAiLQBwAAAAqIQB8AAAAoIAJ9AAAAoIB6E+i/XpGpvkWpu7dZ6nf6pO/Gihy493a5KVl57d47B6tT8fmMuiymzAskmXbWl3g1tCcUWxG/Lw5k5YZtz1Orp7M1m+/uO61+CU4TW6eL2+5tE+m/SwBwupzciL4K6u89r0pV1uVZ8ON77pKMT2zI3ufuvXEgzx5viKx582mv92VHhqT/nHsPNFF+sCuHh4fha/NiRQYL2lHUHZvTGvgVTs5BjV44WJ2VysVN056Xr5XcpzgupWvLcvhwUqh5AKfZiQX6B5+ui1y9LtevilSWg5/JkvRfFKk99X42Xz+T9bWylBMdAL38xvyojLj3QDtGbh3K7gO/7QFny/6rDSl/0O/eAQDQ6IQCfT1KLzL+YUlKH45LeWErHBEbuVwVeb4fXQ79fE8F9DNy92rZ6wDYUf7qZcJ8dC7Z9mx6h5/i0zhSG08DstMb0xPil/+D6dGy3nJuXQ0j8NuL4bS+2JUHl4KyrUeS4+sLtju2ILIxPRhfLrY+9YqVN77fWVcDGvejcV5/nxqm6zLcWJF6OI8rn1+2ZJpHZj0oiX2KlyVKa7HT9t3nkaZlzVMnevsXKrIhNRnT85myu2O/6o6PS+1IbitKDQnair+9+H7Gl9XHOvs456n/FXf8dBnM/G21zcQ5kkxdiR2TRXnmPo4klg/brtW4r1myjk9KfXrHxc6faEctZJbJ1We45dxlB4Bj9KbLfvM3f/PNm8++/eajdz958wP3WQM9/fq33/zIvPnRm29ff/fNJ3XzRvnBm0/e/ejNtz9z777hpsWWic+Dt4NpWx3QbeijFdty4vx2pP+Oz/ejlY/evBu2Obued78RteofrXzbtHEzn/d5sk2b6WrdwXuzHn9b9U/Ue+98SXsfa/tq+cT542+/YX/N+vzzxS4TzBOf/0dvflD3lvUk9yO5XjvdP+9tWePzR9sK1heW3XxveOVsWg+63Fl1Ft8/zdZ5/rLmrZPG7zp3PLxyms++Eb03204eP28dpqzB9OT66z+IzefvY976D98rwTHw99s/RmnHIFo+bf3evKbsan1h27TzN5Q5x77GJbZr3gfHNlmfdl7/2Jt9jJ2vPrt8sO74sXLvg2X1/rZddgBvo07jl244kRH9+nJF5Ooll9tYkkux0foRGZ3fkPVP9ThJXbYWyjLwvvrzXL8MBXn621tSmxiXS+Tno1tMm1qSu16uc+najFSDNqfvKVmoyuat6CpS6dpk/tSx+U2ZG7Z/mqtWUpWZYFvDo+rdjuy7Ucb605qUH1yP1j18XZb8e1mkLEsfB7nBJZm8mbgKlmDXd1cmw/PFLrPx+Fm4zMarYMS7JCPDTbKOvf0w5QpT6txVtidzXp2MyPUH/rmteHVsrqjofZlyS5yL36PTqh5Gbnnb8uvQpPt59auM3NpU0wP5ypq7TlJUb/q526q+b0XvzX6v7Yl/jcEvy8jUUmJ61DZkeMQrsy9//V8Pjl+gjbYpw3PR8VfrH51Xpdu3rajheJ2blLtq+6FW55iRY1/deqL90Psp7jfDiurBllHmZ8L233DVOJOrU+9YmvLGrgL68hwnADheJxDo6+A9uORsL3MOTm+ILNwLL6f2f1C2P7L6htswoI86AAf7O1IOOwpAh7wbunWbkov9iTbVLwNB4KlTyCYG1Cdd8P6AlDPXdSD7z+PnR1/foFTWkjep52XXN9SfOFt0GVwwqe9X2JQxu61kKkZu+7K35jrlnlL/UHZQpTvvmTfU56gHcyNsMG1Mau7j1seqdVm7UyceP6XFpPvkpILl5Rfjsn7BLpv9NJgO6j9N07ap+SkwNn3IymhnnpbnWM59NetZ0zfTR+XQvyFRxyxO/550di+DrlOR2pVoO7adeQF9IPdxAoDjdfyBvhuN2fWegGKeghKO4qsfJ5c7vWJu2I0CetsBeGZGWZr9oAB5mCtLbgQyOyBywZMXGPeWvSG9+iR+fuhXNJLaDru+YNQ1xgvodGCrt7F7dV0GOwpsvYAtqSG4y6NFPegg/8KezISfeyP2acfKdOoC+cp69DpxdJB/fyD6znuxpFpVG3QQ6fZRVNCZHkR2u/7T6CB/UPZuuv1Qr009Wm6ktzN9w3Cg5Tmm5dhXs555+7Sh2Mu72tYduk7LsvQisZ3DZe/qmCfXcQKA43Xsgb65vJsyGq8vp4apBOf0JfyaVKbjAb3pADxfN5flRzsKegDN3cz43Esj0CkKaxWZ9W48NI8vFHdFybXJMe9m0YPVFXMJ3wQe3uV8s9yae9MBfS7UrnTvZj5zbk3Pejcgqv2/HaTPqb/vREGs2ZeOuBS8WLnrsnil1vFN803rITlqrwcQ3J/2SkFN7nnHUnfqvJCzRVm7VSdWciTbPDHM/d2S6iREAaMOPN2fDbpf/42SVw3s1dmAGYiZfhRt36S7ub+1VudY3n3V61kYO4ZAWtepSOV2jk5eVtnNVaf2bv4FgG7qYaDvnkQRvtQPkPniL5un7TRwPwKPzJelHR3SuaKxgF4HW+onksdqol3JFBAzKhl7BvaIzB1uypCfUvZ4XHbDeUoy+XBXlp67dA4zXf+kK8NzsjkftfdZmZGlzIAsB7W+3Qc78fOnjRFlneMtZj9cgKHWd/hkSCourUDv//rVXffsdXWuqVArTIO4IrLZ4bPB9XPF4+UeE3nS6ZUIpVk9mHx9r9xP9bdFoPFYbl32c/RblbWNOjk3KTPBsU8+Mcixed1Ru5l9NZR/RP/9AdkJU0fsccuqz67XfwObCx+1oy2RcEQ/Zfu3RWb8HP1W51jufVXrebHkzatfvQmm9T7Zf3PD21bacW7jOAHAcXpH35Hr/u6Kly9fyvnz5907oHtoWwAA4Kw5yfjlRJ66AwAAAKC3CPQBAACAAiLQBwAAAAqIQB8AAAAoIAJ9AAAAoIAI9AEAAIACItAHAAAACohAHwAAACggAn0AAACggAj0AQAAgAJ6543i/u4K/c/8AgAAALDOnz/v/jpePQn0T2pnUGy0LQAAcNacZPxC6g4AAABQQAT6AAAAQAER6AMAAAAFRKAPAAAAFBCBPgAAAFBABPoAAABAARHoAwAAAAVEoA8AAAAUEIE+AAAAUEAE+gAAAEAB9SbQf70iU32LUndvs9Tv9EnfjRU5cO9DZnk17U7jGg5Wp1I/N+vSy3ivxW03cXuxyXZSyum2Hy7f4EBWbiS3NyUrr91kvb3YNPVKKTOOU10WE8dkarWhRXQuq42dCNs+4+3XftbVfX7LZX0XAQBwWpzciL4Kpu89r0pV1uVZECD7JspSXrgXBc+ZbAA3JptyeHgYvZ5UZWe/s6CmvlyRofmq1J6m/IibTsCgrF/djW1v94HI3uduHm1iSXa96Ye3RtwEHDtzzMZk54F/zHZl/PHgKQrOe6t+Z1D2bh7K8rWS+wQAABTdiQX6B5+ui1y9LtevilSWUwLqtSEZV8Fz5XbzQKx+xwVwyUB6eK7DoKYuWwtVGb01KtWGjsaBrNxWnYAnjQFT6dqyzA27NzhF7DET1Ubix6wkkw93ZUkq8ijzyk1RHEj/1CHtEwCAt8wJBfoH8uyxyPiHJSl9OC7lha3UNJ/+a3dNIDablW6grwqooHymm6OU21tSmx+VEfW/0fkNWf/U2/b2I1WaJblOwHR2vH4m62tZbaQkl66Wwys3jakYyRQY+z5K/2mWnhafd2p1RRa99C6dahZPo9FXprz0r+S2/HK5NKEVl66WnWLmqHY7GHaYg33yU5n87WqJadt+iluynEoybSmRupadLtRuWfTLr/OU5U09+XWXXJ+aqo9zk/WlT1Ni+7Uoz9zHgfh6cxwXAAB67GQCfR18ybhcOqf+PndJxidqspX6o1iSyY+XRKZnG36sjc/3ZGNiQPrd226oP61J9bK9OjByuSobj5+FAczB/o7IxX5VqhzWKjLIj/7Ja9FGSv1DIs/3w2PclGq3e2HK1q4sqXZ7LzWI1QFjPL1r5lVFam5qa8nl1baej8XbkGpfe5ftujsZqa9d2ZJRV7ZN1aGNrpzpoHlM5Imddnh4V+R+RTbMtHzqT0U23bp1Ct3G9KN4wJzQqix+ytXugx0ZS6RbRctvSnVhTJ1vsyIfe+vzrhjqYHzw8XiYVmfWF3Simh1fHeRf8fbrxYCsT/u1ciDPXvnrVR3I+/FyAgBw3E4k0Nc58HL1kguY46OqDc5Nyl2dwpOW3pMidlNuuzfKuSsEo0HgNDwq1bWMewiM+AhgbOQykaNP2kQBqLY4F14ZsO1249W+e+9JuYowcksFoe7vlhqWVx3em4l7RlT7OsqVpeqTOQmS3UamlqS8tidmT/QVrdi6bWe77N7lMXIrWrc5h2RH9jPPodZluevVY+naTMM5GS2vr8Kp/8zPyKQeRNCfqM561JHTVxI3pHpz0n33uPUFVxSbHF89AFB+cD3aL/O95NeKqqdb3nr1lcpgPwAAOCEnEOjrHHiRjenBMEAe1CNjTW68tT/GiRFN7f2Bhh/TkVvRiFou3mivvm9gQ2oy5srV1zem3kUjgo2jvzrP225vUwcYOH1S2oivras0it+RNO02zVGvNOnlY+1Qva7U8l95OIJ26yOVufk5KLs+hzqTXpZ+GZjYiN/47un/oCzlD7Jqfl/21vQVAK9eTfmijkj68T2Q/eciQ/0tasVP7bnQ3lUQAAB64fgDfTdKF3sijQmUE/nwMSMy96SqfqATebHnmqX9eLKCPRNQBdxoX5iy4F4vlqJ7CFqO8OPUcW0kK8XGHHOXqtWKDgLvfeCnkWR0JtPa2+t9FU7mpJdPOUcOH0Yjxj2V7FDEzpMWdJB/YU9mwnK3cSUjITutqiwD77s/26I7CWVZeuHVqXktmysA2ce3JP0XpeEpXvuvvFrRQf79geiY6e8NNwkAgJNy7IG+uQQepu1EkvnwDYbnVGegJpXYKKpNK9i50uL54C7YC3NxjbosXqlFl/FdukSYthOIdSZ0h2NIKhfIuT87bBuR6cFEG7F58JWLm2FalQksvRvDD1ZnpbLm3qj546O6tpOQ6ly/DEm8c6HT1fy59ciz397106PCkW/d5prdhN5DNuXEfxKRqqf7/pi8HVGPOuX2PAolr2bojr37s22mYx2vB3NMgvt72qbTcbKe5NX8+Jrj5d9rYNL83N9K8uqDvTromCscjTcFAwDQaz0M9BOpB/oJFubHsWyettPA/ag3e9Rhap7zuUlZPtyUIS8VSL8Gp4dkM3zkpk6xsTc0RvPYGw6DIM8EYuZpO0nuHoLgxjrV4dCjdbpz4W9v7Hk8lzh5M+7b8rz2Uym1jaggXwXxsTQP15kM2u2szMjShJum25DOkw+P+6zsXcwas1UdwsT2ti7H227JPVEqaCPx6bq9NrbpY+lc6royV8+C7c6K3PRHp6OOk52+JaNq/tDw9dh+9T2Vjkf00+rR3Eh7hCsb+jG4mxcT56YZAGh+fPVy5sbdYJnbIjPeFZ0gvTBY5+yrIUb0AQAn7p03ivu7K16+fCnnz59374Du6XrbMmkmbqR9frPH/6iZfoLMPRl4YdNEzpQgLeW4UocAACiQk4yNT+SpO8CpYEb6XU41/3JxBpuak5ZuBwAATjcCfQAefeUhSF/RL/sc+87+lWkAAHCSSN3BmUHbAgAAZw2pOwAAAAC6ikAfAAAAKCACfQAAAKCACPQBAACAAiLQBwAAAAqIQB8AAAAoIAJ9AAAAoIB68hx9AAAAANZJPUeffzALZwZtCwAAnDX8g1kAAAAAuopAHwAAACggAn0AAACggAj0AQAAgAIi0AcAAAAKiEAfAAAAKCACfQAAAKCACPQBAACAAiLQBwAAAAqIQB8AAAAooN4E+q9XZKqvT/oSr8VtNz3Jze9Pr99pXN6+FqWuZ9hebJx2x0wBYlLb0o0VOXDTT6e6LPZNycpr97ZrDmTlRpNz8a1wtDo4WJ06A+3neB2lTvT5ObVKbQJAL/RwRL8qm4eHchi8XizJzhUVYKUE4/XligzNV6X2NJo2citYdleWJtTangTv52TEzSMTS7Lrb+NWOAWIKT/YjdqJem1erMhgG4G0CWTexo6k6YS7zvVbKhmIlq4ty+HDSSm592+97UUZfDVDnQDAKXR8qTvnJmX5cFOqC/cSwVVdthaqMnprNGUa0Bu6I7n7QKSyzFUg4CgO3r/OIAsAnFLHnKM/IqPzG7L+qXeZdntLavOjakrKNKCHSh+OS3lhKxytNqP2XnpPkNqhR3QHpzdEFsa8z236RzR/fNQ7li6UmdLQfB2WTuEJpsevQGRvw19Gv7JH5BuvVHhpLTo97kJFNqQmY3o9wXyJtLlY2kUibS87PSa57437Fk/naJbK5Mq86rYd1kW8HrLTQ7KOg/18bEFkY3pQfe62r/ffbMOrq5D/WdZ6tbxlU5Jpit7xanr8UgTzx9p6bHkltj2/zt26Y/Vcl0cXZmPHJXkeJfctNl2tY999Hmqyv1q+cwsAoB37zbj9H5Rl41X01V5/WpPqZTsaNHK5KhuPn+X/4l7T6RfRl352UAGkONcvQ7Ij+yZIOZBnr8bDVLDdB2Wp3bdBhB39L4vMb5ppc8Pqw9fPZO9qkA6k08tqci8IaFSgMvY8SivbvdlvP09qtg5jQyoXtmTUrefwyZB674LFzG3oAHJMdrxUpd0HOzLWSUA0PGdS7spBGp4bta0/lSgt74k6Z6cfuQBWBYK3KzIUptltyqj5PEkHjINSuWjr067H27cO1R6L3NXrMikkth7EK8vQdDwgDWUeh5JMPjyUzfkg9WtZJs/ZRaySXLqq2omXcijbj6QiS3K9RRup3/GP0a7MZDQRE/Re2ZGlF8F+qPU8H2veMWhFdVhn5W76+sz2/OOrjsvteNuJ13OcDuIHp4e8tE1d74Phd7OZ/jg6zw5v7klFdaRCrfY377kFADCOPdCPeb0i93Tajv5R1IZHpbq2Ls/SfozTJHL0TQAGdEQFdbeiwMWM9q/tNY42Bs5Nyty1cG4T8PkdWPGWLQ2PNARERqt1qBB76YV3T8rwdRMsbgUd2rRt6Ctk6ry4G65XTbs209551cLILb9M6pwNO0vWzn4QFo7ISNo5qQLg9TXVefDTPZL71oHqTS/wdPVgAm5jRK4/kPQrhi2PQ7bkVSE9cFG+esmWo8V6o79Lqp6i4+Uz63tw1+tgqHZ6s80BkSTVYV32yuWvz27verzNSbztxOo5RnWWH29I9YnXPky9B50hN91fXnUmdUcqkGt/85xbAADj2AP9/VcbUv7AjsIcfLoepQWY15h6t0HeNI7H630Vog5JfxBU6NHEoC2alJXm/BQCk9oT0CPhT8S166x0EytzHalK0n/R/ZmxjYP9HZGL/Yngp18GJjZk73P39qhi6Tn6nA3oEfBdGX+s01zUtGRKSODzPdmYGFCl8tl9izoJR2PqIXHFT9dvVgDf3nHwqGB+Zj7ooNj7jWa8TlbWevVVok2xqWDZ6ScHsv9cZKg/Ecq+P9C8E9ouvT7zh92eTVMKyj0olbW8bWdf9tbKMvC+e+uU+odEnu/rtadOj+TY3zbOLQDAcQf6bgTf/hAGoz/RiLx56VQBb4QM6BX9tCcJRi91kH9/ILpCZFJWsukA7t4HfnpMYm4dkJj1jMv6hfSApOU6GthAKJSyjSioSmoWYLVBB/kX9mTGlVmnZlTdJEsH+3aaCWTTgv0mgWpDkNchUw8u1Sr2SrlptP3jEKdTDs2IdXi/kdVqvcGTxXavrstgarDfpPPT0FE6At3xMn/Y7TV8J6tXvqulTTqUpvOZNt1v0zn3N8e5BQCwji/Q14HUBZ2/6y7rusv3YdpO4NwlGT/iJXygOXtToc71DVJckiPh9mpTluTIo+20Bg5WF6Pgw9wHkKb5Oqz41a2D1dkw/ztzGyb9rSKzXg63XW5cLsXyyy0TEMduSFbzrrk3aZKj8Tq4dX+q0FYWvcBe34+Typ3jY34nQOdee2l85l4eL11D57RH28lB18PCWI77dvIchxbMtrZk0bvfqPl6Vfu7EwX25hhkMPctxe4tsPdBiEsPavv4abGnm6ljdkWV26XTmE7LlU7vlXD3LMSWd+s39WID+eDeF0Pf0+CVt9X+ZrZ7czXuaPd4AEAR9TDQ91Ny1MuNlgYjQ3o0dcMb/Yq4Hwv/xyBL4tI8T2BAlmQ6wt7Nw9jNhCaP3T1VR79mXw3FRvT96YvbNm+4pv9dCDP/rOxdjOYuqSi4ciGYpm8ITd7EqTVfh1WWpQ+23HSd+jEkm67M2dsYkTl3A2S4nL75MesZ58M6Rzo6V2dlRvS/WxFyqSlmug7MTc62d9491f9iRqBfBp5HdWi2m/rYRZvio2+yDOa1N4BGud2la3dj29m6nLxy0Iqqh+Df7gi2kZrq0fo4jEwtifhP3WmgnxhWk5rqOEb3BDRbrx7b9upQ73uT42NvVA7WMyjrV3ejHPtWxy/N/LjI7WB99qbgcMRerc/cvO3WZ15tfK/qf2Mgvry9ITpYv0lZMv+GhZv+dDSWo99qf/OdWwCAwDtvFPd3V7x8+VLOnz/v3gHdQ9sCjsY89Ub/41Y89x4Ajs1Jxi8n+9QdAAAAAD1BoA8AAAAUEIE+ALwldA49aTsA8PYg0AcAAAAKiEAfAAAAKCACfQAAAKCACPQBAACAAiLQBwAAAAqIQB8AAAAoIAJ9AAAAoIDeeaO4v7tC/zO/AAAAAKzz58+7v45XTwL9k9oZFBttCwAAnDUnGb+QugMAAAAUEIE+AAAAUEAE+gAAAEABEegDAAAABUSgDwAAABQQgT4AAABQQAT6AAAAQAER6AMAAAAFRKAPAAAAFBCBPgAAAFBA3Q/0//Hfl6m+PulLeU2tHqgZDmTlRp8sbtvZ5fWKmd9OS2Pn77uxov5ythcb13+n7iYCcfU76e3rYHWqe+3GteOwXaeqy2LLefB20m1jSlZeu3eqzfKdBgA4qu4H+j/5J2X58FAO9etJVWRiSXbd++VrJTdTwkRZZPqR+qlLsf1IKmvub5+3XvO6NeImAMdNdUZv78mMaodzw+6jVCMy13IeQLWUW3ynAQCO7nSk7uhAfqImWw0jnSqAul+T6rzqMACn1et96f94ToXxAAAAp8cpydEfkpmbVand99JztNfPZF2W5Ppl9x7oKZcmFqaERakUwbTFVZuiE6aS6TSyC2MydsEuE6UIpc3vPvM6tCZ9KNxeMsXIpvqkT4sEKUgm3cPMu2iujvnrTi4b366d33IpJNuu3A3TlWTqXCzFxC2/6uYJp2XvS3ZZkuLrsHUbzO+2Gx4vRZfTT/lz9R9uKzM1ptW6guPolcesy19/YvkG8bJMre67z63gmLp38XI3rSMAACKn52bc4esqpK/IIy8Iqi9XRK5ektSEn7WKDIY/fPHgCUjamB70AiX7GpzecFM1HUwNSuXiZpQO9mRIKhfiQVXtschdPe3hpGmX9acim+H8VbWdeApacn6fDuYGp4ei5Q83ZUiVM2jL9TtjsvNg103blZl++3mqhTHZumzXszlfkzG1f7Ny1y6bKJfZ7uPxMPVt98GOjMWC3g2p3HflVttdmlDrC6brgPfKjiy9sMua6c/HEh0JtfyrUTvdpJ/ogHhM5EmwjN7PWRsIv16RWb8OnoyaNTRKrmNXBh5X1Jbyssd3/WpUn7rcR/neqF3ZklG3P1VV/319syIf2/Jtzqs6WPbr1Jcsy6HMvKpIzU1t8PqZ7PnlVsfjXkanDwAA3+kJ9FUYdOlqWWpP3Y+jCgDuLVRlJjOvP56jT94zmimHAXP02n1QdlMVffVorSqbfl607nwmUsqqN+MB+8gtL2VneFSqsiP73khucv7IgTx7vCHVJ37Kz4hcV2UKzwFl41Uw0luSkeGMc0Gb3wzPgZHLOtXNO3di5XLb9cpVujajAtUtr4NSlqWPg+klmbyp1vd8Xy2pOzY1VZd3ZfKcmajY6RuPn5npllp+yqvH7S2pqfP1eniO6v0UWf80WMKrs+GR9BSohnWo7X68pLaUkzu+0feJLbdf1+2Kjt2IjM6r/8zPhPVijoGrswYNZVHz31KdBfd3g3OTMueVW39PRu0CAIBspyjQVz9hJuC4Z0b6Dj5dl4350fQffaDbPt+TjYkBiQ+al6T/ogpD95uMnrqn7dirBGPZo7IN9mVvrSwD77u3Tql/KAwQ9Q2Zm6JHitW6YykoLbw/IOWGfQno7erR6OjKhi13vIOS7kD2n4sM9UcBqqG3t7an1pzuYH+n4QqcvppiglUVxC6/GJd1l/qUNcJu1nGxXx2RDunjq/ZSX+kI9/uKOlpZwXib+j8oS/mD9BpvkNrWmovSspJXogAAyHaqAv1opG9FHk1LfFQQ6KUmwWpDYBvQQf4F+7Qde5Wgyahsg34ZmNiQvc/dW58X0Jqnr+irD1fXZbCdYD+T3m7ZS70JXsveKH2WJh2fJoGr6bzMeylRwSu4eqKDffPZpojqgKQF+34HKGSC95xM5yfxpC79Skmp6rm0tvZ6X3W10ukg/94H0RWp2JUoAACaOGWBvvpB/3BcZLoiNe8yONBz5y7JuJ+Lrm0vythCVUaz0sKSI7M6vcT92ZpLVbvi3wNQl8UrNale1gHwgazciQJ7E+h2hd6uSOV2Z50GnZKyEeTXG6qct5vcS6Pp1KGFjHx4VcfR57oT4v5MMsGxfw+P2u59v7ZtxylKB7J1GdLHVyoymyu3vcW6jupcvwypluLn2ev7kdI7LcmrKDb1KqTvmeDmXABAhlMX6OvRvZl5ccFOE4lUgLZSG4AGJZl8aG/QDNvUFX2jbZPHZrobyMN2+FRnxudXurZsb4QNlnc3m9pc+5IKN71167J0afRZb3fzYuL8id2M28TwnLtJOVjW3lSa+W9kGCMy92JJdmLpQu6pNCqAjz6360q938ak+PjrmBW56efo25x9CW+63pJR/e94hPTxtTc7R2XIShVqta6j0v+eQrwsW5ezrga5ewm8/d67yIg+ACCfd94o7u+uePnypZw/f969A7qHtoWYMHWKf8MAAHB6nWT8cvpG9AEAAAAcGYE+AAAAUEAE+gDOJvO0HtJ2AADIQqAPAAAAFBCBPgAAAFBABPoAAABAARHoAwAAAAVEoA8AAAAUEIE+AAAAUEAE+gAAAEABvfNGcX93hf5nfgEAAABY58+fd38dr54E+ie1Myg22hYAADhrTjJ+IXUHAAAAKCACfQAAAKCACPQBAACAAiLQBwAAAAqIQB8AAAAoIAJ9AAAAoIAI9AEAAIACItAHAAAACohAHwAAACggAn0AAACggHoT6L9ekam+PunzXlOrB26isr0Ym2Zed+p2Wsqy4TRfw3xTsvLaTWu2fjctVh6nfif4/EBWbiSWD143VtRUnCX6uMaP46KktCh06GB1qivnhVlP2rme4sjbNN8fnbYD/f1gv29021rcdh/HvpPi627ct4x1AADQRT0c0a/K5uGhHJrXpgxND8aD64kl2Q2nq9etETdBiy9bXRiLLWt+NC+sy/gLb/kX47L3ac71T5RFph81+ZEvyeTDYFm1fSnLUrCth5NqKs6a8oPdsC3sPtiRsVMY7LcT6J4mpWvLx35enMQ2m1OB++2KDD2J2ti94DtLdQBmH4/Lbuw7DgCA3jum1J0RmXtSlY1X++59O0bk+oNytOz2ogxOD6mOwLJMnrMfGecmZe5a3p/9cRmfr8nYGQyqcHSla3dlaWJH9oMrQMCR7cveWlVGh+27Uv9Q+J1VX16X8Y8ZIAAAHL9jy9E/2N9xfx1N/WlNyg+uq/D/aC7dslcKuGT+NtJBmftTMSPpXmpPQ5rZjRVZcek/YXtJpIdF7agui97n0bpsOtjitj89SjfT6RuD0xsiqk3660uWLd5e4ylmdt1eCpsSX967iuH2qx5Od8v5+5W3I+zWZffUlWE7O40lWe60FJzGqxtB/bm3sW02r1srflwWP3UfhxJlaljep6/42YGGkVuHMmeC+34ZmKjJVnDc1Pdd+YN+U84xmYkPShhp6wAAoLuOKdCvyyMVxFQve+H5WkUG/R/eWADj0Ze9p0WWpvSyB7L/XGSoP8fYWMv126sMtSunL4UDvXWwek9qE+NySQVZOqC0V4hcapZLM4u1F9WW9i7b6SYg00HmFYmWebEkA2ZGHUyOibj0Dbuu2VjAWLuyJaNuuc35DanctsGqDvZ2H5RF5jej7agpz16Nhyloenrtvh/cDsr61SglafTpmNTMNMvsm04ZCZffiV/FUvt1T+66aSKVC+pceTpq16f2qbxwr0mw24zar/sid812d2VJBcDRdhvLvXnVTTqirLptPC67MvC4okoZsGWqXLR1b15PhlR9tPPdoAL3j5dk54r9vtH1fvfavizqdkLKDgDghPQw0Fc/7mGgbX9kY6NWiRz6+IiWt+xtHTAk0nTyaLp+Z3hOBQS1KJcWhbWhgveg02eCX5PfrQLpx6oD+mTOu0JkU8VqT70QT7Wl62H7UUHh/Vp8mXOTMqmnb2+pDoQ/r16XyLp374i/3MiUCqbX9iQ7oU0Fj7eilI/Sh+PR/K+fyfpaVWa8dLURfZXK/a3Lafbtprf8tRmpLmxFwasq6123vFm3vhfFdKiVc5dkfGJD9j63b9uj1hOmqqh9uKlK9XzfBt3bj6Qi0Xa1kWvdSWvJrNuG42KDctWtslxdxgLy4eumgxKM0Oei2sFy8J2j2tf+Hf29p8rUyVUSAAC64Jhuxs0ItDMFy+6qkKAis2EgXpL+iyI7+90LzHVAIIlRVxSPfzNudBOnTuEpy8D75k1I51eHgWmD9GU0k56WuJKk03E6uzfF8YPEC94o9Od7sjExIP3ubSObnlRzI8z2pUf8M+5NONcvQ+p//e12qNtk6uhif1cC+7xabjO1Lo/4XfN6Re7Jpvreq8vilZ3wZv5NIV0QAHB8ji1HvzN25M0PxEcuV2Xj8bOMIKwD5yblrk5buL1iR//wFtF51Rmj1pmBYfYypoPgUm9ir05TN3SQf38gujKl02ncJCN5NeD1vgrjA7qc3tOiwlcHV8e6qHknqjdSt6mDe/envD+QeWUlV5pggwNZub0u4/rqiD4mLk1M6/+g3NWBCgAAmjnlgb7iBeLm51FfUhc9aprIn329IosdpuCYp7CodVYW3Ad4S5Tk0tVy4j4NPQJbi99PEpOyjGp7K3qUdni0qzd4J0eiDz5dj4JTvS2Jp53Vl/28c11O77w5oujfmDgiXe41/yqdWvdqYxlNcO6lGR2szkrFu4G6LSaQr8ij8LjY9KvQOZ2mlHgKl76JdiF6ik47dFnXr961HSp9pWRtXZ6ZgQqbTtWs82D+zQfSewAAXXJygX4ixSHtyRuBIBAfND+AJfOMe/ssdG/5C3sy6j9es431m3X6Obt4a+jnscfbUsr9JAkNy1xYV8GknjIicy+iGzLtq9nTW+JsDn301B3/vX7Nvhry2qjdlnj3Hmxd9nP0bTk3LybOg46CSH0TfFnGP+xkdDtJldvd8ByUaexVytUTd/9MUMezMiNLE25au3TufOy4zIrc9M93/Z2yK0vPo7q2N1v7927kpDoI9kbcYI/0Tf/6xl69XnsTcntpjAAAdO6dN4r7uytevnwp58+fd++A7qFttfB6RaZUh3emkwC1Gb3e5X5Z5ukxAAC07STjl9OfugMgB50XXpGN+dHuBvmaHhEnyAcA4Mwh0AfOJP3s9yAVxaaFmOfAE5ADAACHQB84k+y9KrEn6hDkAwAAD4E+AAAAUEAE+gAAAEABEegDAAAABUSgDwAAABQQgT4AAABQQAT6AAAAQAER6AMAAAAF9M4bxf3dFfqf+QUAAABgnT9/3v11vHoS6J/UzqDYaFsAAOCsOcn4hdQdAAAAoIAI9AEAAIACItAHAAAACohAHwAAACggAn0AAACggAj0AQAAgAIi0AcAAAAKiEAfAAAAKCACfQAAAKCACPQBAACAAupNoP96Rab6+mRq9cB9kHQgKzf6pO/GivrLV5dFtVyf92pch1u2b1HNnWC2G31evxNfl34tbqsJ24vpy+vPG8qEs0y3gfR2aNuRaQ+ZdHuckpXX7i1aMudci3PoYHWqx+eZ/R5pfmzzaOf4H32b2W2191oek8R3a7tOct8A4G3WuxH9ibLI9KP0H4btR1JZc38HzA/JmOw82JXDw0P32pXxx4MpP0BlKU/U5F6OH45ybH2HMjesPhyek8355PIq8Lu/I0sfT0rJfYKzb+RyVTbS2uHrZ7K+VpVR3R7QlsygTXWU732gzreHzc+h0rXllvMczYjMBef6sTmJbXZP748JAOAk9C7Q14G8Csa3Gka4dEBdk+p81b3X1Ge3KyIqKF++5v/UlGTy4a4sSUUexdazIUNXl1RHYrbj0daRKb18FAAerM5K5eKMTJ5zH6AYhkelKo3t8ODTddmYH1XhGbqlLqOJ8xcAAJykHuboD8nMTRVi3U+MxuuRVBW6X7/s3mtudHUmNUgoyaWrZak9TYzJ9k/K3QcildsdpgCcm5SZcFS/Lo+mRZamCPuKZ0RG5yXRfg7k2eMNqV7WxztIBQtezdITkvPG0zpM+sOdFTdPNM18nrr+eKpaVmqDXW/dpsV46/DXm1w2vs3EdJeiVvfnUeuPMeltwfLBvtj9H1tQXe3pwcbPr4y5+ZP7qOZbdevT22lIkctRr+G0POkjdn1BGk1j/aXUdWx/01JwUtJ4YvsR32aeOo7tl5p3330eSpSp4Rh5gn2MtFme2L5o8ba5+Kn7OJAoW9P213LfEvUKAOia3t6MO3y9YTS+vlwRuXopfon48z3ZmBiQfvc2qdQ/JPJ83/sRskrX7pr1z2YESJoNSIIflHiQEIzqr6zek9o8o/lFpdN3ZGErOvYmdcyl7ahO5t7VIL1rV5YyU8J04DQolYubUSrYkyGpXEgEngvrIh/r6cumPemAZ/DxuOy6ZXYf7MiYC7Dqd/xUtV2ZyToBtIUx2bps16HTzsZUe56Vu3bZJ/H0JLPN6SHZdNs8PNyUIXUexILXtYrcC5Z/sSRltf5YUHhFouX1fpoOtb7CprcfpMTZfWxdhxtSeTVqp99KdqZb1OvrFZn19+XJqFmqbV792fryrgYm91fVx4CbdCRN6jjZLg5v7klFdaBCpkw7svTCTdf1+nwsszOYS7NjHqOD/DGRJ9G2Bx5X1FGM1J/67SOl/bXct7T2BQDott4G+snRePWjfW8ha+S+Eyrw+DiegpMUz9Gfi6dqnNNXBXakwmh+sSXSd+pPa6pdXLdtQbWBubA92va68aph/DG86rTpB6q6I5tMT4t1GN2Vg5tR7nPp2oxUvU5HtK2SjAw3OS/mN8P8b9NxUXsUnkdm/3Zk342um20+8dv6iFx/kLgqNrEkd4PlzdUtkZ19G2rF6kczHfZ1eZY16tqyDsvZ51eueg32TRkeiZ/DeXn1Z9e/IXuf6zeqo6FTCf36Uvsz2Y1c+8w6bmwX9r4h97dij8Fdry2p77qbKqB+/KzzgLjJMY/Z3pKamvd6WAf2e7bs3mkjt7z6Smt/LfetjfYFAOhYjwP9ILC5Z0bPMvOi3x+Q8tpe4+Vd52B/R+Rif/TD4TM/WLVwlLRd5mrBxLhcYjS/wPxAty5bC2UZ/zBqTX5Kx+C0P27pSb3qVJL+ixnBkrEve2sitSvR+vv6xlSXwwZFI7cOZVNcukssbaIFfb5kXgHT2yzLwPvurZN1VazRgew/T14JG5TKWhAYp8tVh2la1as6v5dfjMv6Bbvu9BHoo0ivr95qtU17DIb6E994Lb4nu6Xp923APDwhOOa6TQfy7Vu77QsA0JmeB/o2yBJZ/3QlOw/+3CUZT71xV/PzqdON3NpUnYmxxjxSwCl9OC5lPZJuRiujjp0OUM2TYtxVn13VIUjVJMhqCMhC/TIwUfbSL4KXS3lRdLBvtnt1XQbbCfYz6W1mBE2tgjfDBtnVMG0jemU9USZ3HabJU6862Dfr3hRRnabuBvtN6qtn0rZpA2CrSQeySYpjt6R2CnWHzP1pgvwLezLjjrc+LtGjFfLtWzvtCwDQuWMI9G2QJdOVJnnw9tLwTsOPeJS/2/xHYETmnlSlprbRxlgi3iauMzl2pSbl8B6R5Mip7VSmCpZP3MA4ttDsEZ06jSXrhnHVtu9En5vgqitcutyVxA2xar+bdZZ9OjUovnwzbdRhmlb1qv6OvhN0EOn+NCPKecvYTEp9qXWvNHQmbAC7/mlwxGyddsYGu7EHFSQeOWwfC+s/VUy1F/1ksuT9TY5pP15KmHmKWPIRxnmZzpd/b5VNbwolr8LozrP7M+++ZbYvnb/fleMKANCOJdAP8kGbBhpm1M6O2NnLufaS7rq+ya/hBr4UiTzQQPwScfaTTVB0NqDT+eJR2o7Ne45Sa2Zl72LWaLSaVz/q9XnwZBn1MjcUJu77SNDPJ9+8WJHBYBn9MkGtCojE+1yvq0vPMdfbNDf9htu0N1bmHjFV51J8efXyrjbYm9iDp+60U4dpWtSrCjr1AICdZr8PzH7oYLNLj0dtqK8L62q7bmLIDkbY/dbzbcnoE/8Rwe0xaVt+u3g6Gv/+UsfA3pTsprt9z3x8qfn+szdp6/lnZUaWgk5Ru0y6lB14sdueFbnp5eibnHq/7PqOkUiefWvWvgAA3fPOG8X93RUvX76U8+fPu3dA99C2EKjfmZL9qSgFCgCA0+ok45fjGdEHgC4auUWQDwBAKwT6AAAAQAER6AMAAAAFRKAPAAAAFBCBPgAAAFBABPoAAABAARHoAwAAAAVEoA8AAAAUEIE+AAAAUEAE+gAAAEABvfNGcX93hf5nfgEAAABY58+fd38dr54E+ie1Myg22hYAADhrTjJ+IXUHAAAAKCACfQAAAKCACPQBAACAAiLQBwAAAAqIQB8AAAAoIAJ9AAAAoIAI9AEAAIACItAHAAAACohAHwAAACggAn0AAACggHoa6B+sTklfX5/3WpS6m2YdyMqNPlncdm899Tt9MrV64N4F7Px9d+JrMbYXzTYal/HX5ZaPlcm9bqyoqYpej/tbL5c6r96P1ysy1TclK6/1Qh7zeXI/cZLscWxyTFzbSWuHucSOeV0WW6zLnBdpbRgFodtA9N1g2t8RjnfL9tuOrO8tAEAh9SzQ1z9Og9NDsnl4KIfB64nI2FECqu1HUrlYlerCVvqP3kRZZPpRkx/Ekkw+DMqzKVUpy9IL9/7hpJoaN3IrmHdXliZEqk+C93Mycm5S7j4QqSzHt1ZfrsjQEzXdvcfpUJ7YkXspnUDT+btfc393w4jMqTYyN+ze4q1nvkdutfpGiHcOQqoTeu+DXTl8MSD3gsGIo1DfW8uHyzJ5zr0HABRabwJ99eM0tlBVQX4i4B2eU8F+VWr3O/vBqj+tSfXynIzO1zKCtnEZV9PGjmm0tHRtRnU67kU/znq/ny/JdYK8U2nj8bPGdqc7j6rLV1UdOeC0OXj/uixfK9kA/eNL7lMAAPLpSaCvA/Lyg+vpo9rDo1JdW5dnbV86rsuW6jyMqiB65HI1PWhTLt3aVMH3WOdXDdoyItfDUX07Mly92XhlAKfA1RlZUiH9o0S7MJ3Hm9dlwL0PuXQe+0qOtNr0nGD64qfuYyMlHS22rkV55j4OJFPc/GVj6WO5R3QTKWrhcsnUtfh+BSlF0TZtuohfvmRqXLLsaalzIV0Puix+fTTsU7xu/fXFt+WnsjTfr0bN59f7H9+PjNH2UHx9U6v77nMrqFcrZf9MOs2Y1GRDKhfU52Gd1OXRhcFw3r7bUctpPFYpdR9rd0G7SuxLYp6mxw8AcOb0IND/p7L/XGSoPyvc7ZeBiQ3Z+9y9zWt7S2rzo7bz0LSzMCJz+qrBlS7ltLYQjuqv6pFhRvNPr36ZvJm4mqQCrHuu8xijg58rEqWdPRmSyu0o+FpUQZmEaVy7MvC4okK0DMl1vRiQ9Wl/7gN59mpcdt303QflqIxqWX2FKJx2s98s0ZwOOgdl/equK9+hbF6NPq9c3Aw/N/t1IXGeqE7y1mW3nL46poK/Wbnr5lcdbC81Tgeb8fS8TRmaHmzeyV6ryODTUTe/2sZF9T4WBPt1q9c3a4NSdaxm/W09GbWL5N2vULvzt9JY3zOvKipoT1e/MyY7D4J5d2VGH1KTTuOlEgZphOo7z6+Lqqq7WEfVO1b22Li60hra3VJjZ1apP/Xbefz4AgDOvp7ejNs96sdUj5ZfDq4RjMjo/Iasf5ox+jQ8Z4KU9PSebtMdCxUoTDOaf+olOoj6fgpJufLUcEVq+LrqwrnldIdzwu/QlWTy4yUVoqVrWJe5t8OfWy1/K2o3pQ/Hpby2J+GYsPd3aXikdfsyqUhLclenezgj19T6Xz+T9bWqbPq54nq/Jmqy5QeP85vh/QX6ypmo8HMmWJeuP9mRfVN/qoPyeEOqsftR9BUu1VF52iRUVHW365VhZErVXXDPTUPd2itm0XkebFtRdWHWkne/Au3O34pbX1hHyoi+quj+TrPxKjyiMjLc5Iiq77HoXg/9nadqYN/7TvOOld2HYADFfV/6x0a1u8lwXZGRW948seMLACiCHgT6PyH9FxM/SDH7srdWloH33dsmwqsC5sdUpHYlusQ8tqB+MJuMPukAQvwRrl56f0AFeikjwzhl/FQrnQpWlvEPk4HWgbkitTHtpUz0DUplzQZRB/s7Ihf7Wwfchl1X9tUtx0+fuOBdHTD3tNgb2Funo1iZ5ft8TzYmBiR+TaDU/FzV7bphmUD6eVzqHxJ5vq/2PKdz/aKWMEzZ9Yh/WO/6hv4NGxjrUe8X47KuU1vU5+FVg3b3q5N6aCZ1fdn0jbmbMmb3r2Uqlr5aENWF/s7LJ/93rE0bCrah04cAAEXSkxF9k0OfFYSbUbtxuWSe+pD1A2sDpMDBp+uyMe9dajcv/SScJqNwZuRUBXW3V6LRUbz1bKrVlqys3pPa/EzK00dsm4yesBS99OhpaiCrgz33Z1x6+95/5c2tg/z7A2F6jk6xiF0d0MG++VwHua2D/cxAWwft/pUCT8uOSKomKXi5O0LK631R4b1hyt5wnqtXMPpuUlz0Z5siqtNvgv1296vb9ZC2Pm+f0gRP89q9ui6DmcG+TQnauxnVw+a8m9RSzvRIHeRf2JMZt377JDIAQJH0JnXHpc6MJZ/9bPJGd2Tp4yhVwXYK4iPvB6uzXr67SxEI03YCJbl0tXmaQOnaXXMDZiX3SBiKT6dA1KQyLbI0lWxTlm6Tmfd4mMDOz5W2aRJZ+j8oxzu95r4A97eSHIE3ndrg79XF6LzwRr7NeZQVIJr0pIrMemlr9VU177lLMq46xrEnUqn16KdjdXYlyp1/sXqqy+IVP8UuRbLubnvpU7rsWTfSq7JGn+tA1v3Z7n7lmN8cM+9mf51Xn3mEzXGJpwnqlLD0jp/a3zvRcTMdm0zJUXl9Bcr92VLKsVHtbiVZr8mrEXoQxv1pynqDm3MB4KzrWY6+HrXafbDj0g7cSwUBon4W+/1RVJOeoG+Gi+YbfDwuu+ENaY+kspb+o23ymf3HWzZonj+Nt5PJCw+vKqVQbbKh7QaBtUkhWZKdMI1sVuRmdhsrXVuOr+u2yIyXo2+vMLhUDvWafTUUrqukIrDovNA3qdrnn+vOQfnqpbBzEKef429vig3WOfZKdyT0vyGxK0vPo23ZmzU7/zcfGvbN3Ujb9N8QmFiSgafB/PamWPP4SEOVPVa3+uWuYqgOVvS5vfnVbqfd/Wo9fzBAEKQQbV1uNtLdWN/Z85dUUO2lJunthv9+h0srC5+6470382+J5B7RTzk2F9ZVHbqJAXPviVeep/qODABAkbzzRnF/d8XLly/l/Pnz7l0j/Tg4m2uqnzDBP9yC/Fq1rbeDHml9JP0POw/QT4y+EqHTlFL+cToAAIrqJOOXY3/qTvSvzRLkA+3TI9JnMMgHAADH7tgDfQAAAAC9R6AP4Hjo+3FI2wEA4NgQ6AMAAAAFRKAPAAAAFBCBPgAAAFBABPoAAABAARHoAwAAAAVEoA8AAAAUEIE+AAAAUEDvvFHc312h/5lfAAAAANb58+fdX8erJ4H+Se0Mio22BQAAzpqTjF9I3QEAAAAKiEAfAAAAKCACfQAAAKCACPQBAACAAiLQBwAAAAqIQB8AAAAoIAJ9AAAAoIAI9AEAAIACItAHAAAACohAHwAAACigngb6B6tT0tfX570Wpe6mBep3/On6NSUrr91E7fWKTMWm29fitpse2F6UvhsrcuDe2vUm1mXUZTH1c7eMt46QKUNj2XEWHMjKDXu89fFtaDdtMO05rX10gWl7d47SwnS71m002t/mulcvJyP7PE6lvx90/epzuUfHEACA06Zngb4OHganh2Tz8FAOg9cTkbGUIL38YDecZ/eBSOVCMqiuxtfzYkl2rrQOjMoTal3LOYMnFQDce15VW1qXZ3mDB7xVSteW5fDhpJTc+24auaXa9a0R9w6nnen0HaljBgBA7/Um0N9elLEFHZzPSSx0GZ5TwX5VavezR9RK12ZUsL0j+82C7XOTsny4KdWFe81H9K6Oq3nGco1WHny6rua/LtevttE5AAAAAE6pngT69ac1KT+4Hg/yA8OjUl3rxqj5iIzOb8j6p80uwl+SOd2xuNIq7eZAnj0WGf+wJKUPx6W8sNVifpwdJZl8uCyT5+yo+dyw+zhI9dL/DVLCYikdLjVk1U3Xo7ex9DCd+qKvTun53PJmhNd+bteZTC3xpwXzW/ER4pRta35ZE8vr82HOdKyj/W0uo17MtqNtTK1651ds+8l985dT07b9dDe3P/78reqyRd1Nre67zyPJVMFY2fUgg75iogcJcl+VSa8Le7VyQ2RhzHweDSQkji8pQgCAE9aDQP+fyv5zkaH+rJ/SfhmY2JC9z93bhPqdManNz+QIVNSaPijLxqvGH/wY9QO/OV+TsVhQlPD6mazLuFzS2zx3ScYnarJ15nKW0ba1igw+HQ1TwjYvqvexdrIhlVduekZaTe3Kloya5fUVJh34zYp87NanOqLR1SEdBA7K+tUgTW1Xlp43u9qU2LYOjK/syNILu+5g+Vgw2wX6/NsJU+l2ZabfTTDblyiF7smQVG4HgawOiMdEngRluytyv6L2oD1RXbq6C9efrLtDmXlVkZqZZukgP54quClD04O5rualS+6TXt+s6XzojtHug7LI/KaZZjtJjWXcvGpWBADAienpzbh5bagf5GAUbOuy+pHscq7yyK3maT715YrI1UtulK8kl66Wpfa0SccAxTCxJLteWxuZWkpczSnL0lTztlh9EqSn6StM6j9eJ3XkclXk+b4NVnVncq0qM9eCDnBJJm9Wm7Sz+LbtVbK7XgfYLr/x+JkLhrsn6jyXZGTYlrfhKt3wdVkK7mfZ3pKaqsvr4VUBVbaPVV26d3lFdemOxdqemJI01J07p93fOsh+9ngjtrw+HtdVMN7xedywT3p9kn0FcfuRVFSN3PXLeK0393MAAJBXDwL9n5D+iyI7+1nhx77srZVl4H33Vglvxs2VZhPZf7Uh5Q+CIcdm7I90NELoq8vWQryzYS/Lt8j/R/Gc65ch92cn9BWmzPb4+Z5sSM3cjB60s74rtagj0NRB+lWy9weiYLhL9Gj1ptiUFD+1Rm/fP0f6+galsmavzB3s74hc7O9dUKvrbmJAss/0xu8UrdSvjmau+m1k9klf8Qn3134vZF1B7HkdAADQgZ6M6OuRzMyRRjNS5tJkkvKk2QT0U3IW4qN8zZSu3ZUlqchsMrfXjdztusvt4WX3lvn/KJzX+6LCtd7QQXlKO8v3FJ9Sdue5aQDcGfMEIFW23avrMmiCfbv9apjGEr3C3P5kQG06Nl2S1qGJHasm6YAdBt+mk+BSc2KvjKuNR+lUAADQK71J3dEBu853Tt6MFuQZf5wd3Ng0mxZPytHruVCRodil+lZsOoFMx3N7TUpCmLYTadpZQTGsVeSRfyPl7YpI1k3kR3XukoybjmZnLcq0R5cjbrnyprTdiM4bb+cZ+Wr+O9E5a4JXR28/62qbuYE9WZf3/bPMBuJRx7kui/pqRl7mSktN7nl1p9Ptoo6ES7eLlc9uo3q5ydFs9u9j6IcG5Hxil2EeMhA/vvVVXZf2GHT7XgoAAPLoWY6+uWFNjwh6l77tzXytnggy4p6U4z91I5HycH/AjIxGTwrJ6dyk3NU30QXMVYGyedpOA/fDHQUviTLwD2idfRNLMvA0OJ6DUrm4Kcs5rxC1Tz/lxt4gGrWhNoJw82jaIalciMqrb/xsXl6d0lKV0dznSUmF5F66ij5fgysOavu7D3bi50DQkddPsjHnbDBtVuSmn6MfdLKDfd+SUTV/fvqJQvG627rs5+irLVxbTpTP3kjb9DtCX3WYH83o2KltBv9eR7jO6DvJPAY49tSdxjKOvSKVBwBwst55o7i/u+Lly5dy/vx59w7onq62LX1VSHcYe/QPYJ0Kah+n9q/3sPPSxBmo3/qdKdmfyvMoUgAAOneSsfGpeOoOgB4YnjuZIN+lzaSlxJ0mI7cI8gEAxUagD+CI9DPn/RQX+yz+k+lkAACAAKk7ODNoWwAA4KwhdQcAAABAVxHoAwAAAAVEoA8AAAAUEIE+AAAAUEAE+gAAAEABEegDAAAABUSgDwAAABRQT56jDwAAAMA6qefo8w9m4cygbQEAgLOGfzALAAAAQFcR6AMAAAAFRKAPAAAAFBCBPgAAAFBABPoAAABAARHoAwAAAAVEoA8AAAAUEIE+AAAAUEAE+gAAAEABEegDAAAABdTbQP/1ikz19Ulf+JqSldduWuhAVm6oaXfq7r1ne9Fb1r6mVg/cRKVh/fa1uO2mB8x8ixJsoX5Hz5dWlrospn7ulrmxokqbkFg3Tp9OjvepY9rZGSlrJl3f0XlUv/P2nTemLaZ91+F4FeJ8AoDWehboH6xOSd+FdRl/cSiHh+71Ylz2Pk2EytuPpHKxKtWFrfQf/Ykl2Q2XXxKZHkwE8lXZDKa7eXautP4xLU+IVJZz/uCqH4V7z1UZZV2e8cNwJrV1vE+jc5OyfLgsk+fc+7Noe0vkiTpHb+7JoAr4x2RURtykt8XILbX/t962vW5Hbzrf5vfI/00owvkEADn0JtDfXpTB6SEVgCe+SNWX69y1kntj1Z/WpHp5Tkbna3LPH61Po5afmRfZ2W8yn/kC31Qdh3vNfyyujqt5xhpH/1McfLqu5r8u16+e8WDxbdbG8UaPDM/J3LD9r+mUE/ACANBTPQn0dfBefnA9x2hdXbYWqjKqfvxHLldl4/GzxtSYjoyojsOGrCevHsRckrknValdaZU+cCDPHouMf1iS0ofjUs668oBTrvXxbhj1c2llQecgmG5TgfTLrst87tLGYqllWiz9zB+pdCOXq2662a5LYwvn98saH+n0txmfL8mly7jX4qqfapYyeqrLG0tRS5SpyZWyxvpJ1EciFS9ZV/F9SqlLn0m9iOb1O3D566bZvK5utv3tJNaVKENY3ib7GdRRcFyicidSGHOso612GJN9TI++7vi8yfmD9Ue8c8zU55jUZEMqF9Syrh3aZVZcmYP2mjxXEu3Yo/dlcHpDRHX09by2zlPOJ1WuWNlj5VQSx6RhOgCcQj0I9P+p7D8XGeqPj9yn2t6S2ry7fD88KtW1Fqkx6ot2THUMZhJXBdL0f1CWjVf77l2G4TnZnK/JWLMv7NfPZF3G5ZK+MnHukoxP1GTLCypwhuQ53q2oYGHrsk0TM+tSP/izcteOUKuOxMb0oygY1IHBFYlSy54MSeW2H0SrgObVaDS6rdra3tVd+/5wV5ZUW0u9yqUCollzxSxY76ibkKSDmTGbLuPWOfC4oraalw6mBmXdL9PzFldFvPqx9TEbBlP1p35dxOtKB1j2KqCbfrgpQw1pegFVrtsVGQr3a1OCGjDreTwepvvtPtjJPN6t51XH577IXTPdHo9wug5KY6mJm+pbwmq2n5ERmTNphq7zoFMYZUl23VWOlutopx3G5DimHa+73eOYEFyNlbIs6Xp9OCnhN/3CusjHen36KrHdh8rFTbcN9dLn1oVER8zR6VK7D8oi83Z+c1UpjdrvcD9dvYSdFHMu79hypU0HgFOqtzfjNqW+rO/rtJ1g3D9jFH6tYvJ5zQjKUx0UzeW4UpDfyK3maT715YrI1UvuB6ckl66WpfY062cOp12r492SChaCQEFfhdL3iIQdT91ZlR3ZDwPbxJWt4esqlPM7syqgmfJacyy1zba17M5qtB0ZHkk/J3RHemJJroeBTUkmP15SW81Jd3LX/I61Wv5mtXn79+rH7O/Ehux9bt+O3PLO3Vhd6atmG1J94p/bI3JdBWfNthWl8Kn9N9t067kZBYilazPqeKddhcszrzo+HwfT7b7L8321pPteeHDXS00ckUlXT9n7mWBSEXVnbkUWdRAZbivHOtpohzF5jmmn6+7wOOYyPxPVtduHTT/1y7S1Iw7CqP1eTtRLcJXZnsv+8Y5PB4DTqgeB/k9I/8UWefSa+bIWqekbZ10gP7YgjaNF4c24OkDLn2O9/2pDyh/0u3fN6B8iSYy0BnRqkS7TYFhGewn4CIEiTliz492m9wekPDEg6a3swFzZ8ttOX9+gVNaiwDeNn/Zi2loaPfL5YlzWdXqDmi/rnDjY3xG52B8Gj237fE82xI7ohvtwpRYGu22LpbroFI3AvuytlWXgfffWKfUPZWxLBVkPd2X8savbcBReryf+nWK3kxaYtjNvkj22mVctM/ezke54Dk1XZCcWRCptrKN5O0xo95i2s+62j2OH9D40lKmU73enHXrfzR8Zx1tPX9tTew0Ap1dPRvTz5NvrG1w35r1Lr8Hl0MxRmZGcOfWK+pG8lzPFRytduytLUpHZ1cRXthsRtR2N6LXZMv8fp1nm8e4qG3hUw/SS6JWVOqCD/HsfBCkVLt0gi0lz0PNtiqhgNS3YTw2wTKCXkwnyGtt/LKUiL5Pqsicz4Xp0ikagXwa8kf+YzI6KDvbtujZlzAX7ej0u7SPcjn6lPV2lnXmTmgSVTfez0cHqPdmZV3P4AxxtrqMt3TymDTo5jh1oEmDnShnNKzxXmhzv3J0gADgZvUndMSkKOuUmEZSrH7BFk9PoLvGGaTuBFqkxeXKsdS7lBZ2/618+bkUFDR/rR3dWYiNn5nJtmLYT6e6Nwzh+6cfbBMZe6sbB6qxU1tybDuh2kqtjaiRHDe05kkq18Siw18GV+zPJBEQVeRTOa9PlIjYwizqtdVnUo7uBc5dk3HSIutDSk6OwuhPt/gzP+1hd2bI0fkdoapr3HaDvx7H0evJerWln3kbmO8C7/0CXaUXXU9P9TFDHUd8jcPfWnNz17w9oZx3t6uYxbdD6OHblHNP74N8voam61Pdv6Qc7dCx2pdaV26V2NR5ve59IkNZprsQ1+10CgBPSoxx9O9pmbm7zLxFf2JNRPcqubzxbS/9Stk+2yU6NsTnW/k1QicvQ9wfMaFXWqGmmc5Pqx9YbQTVXBcrmaTsNdJ5qLIBKlCHZwcHpkzzeWtCRdMdxVmZkKSuIzkOtr+EcSPtH1wx1zuhc6TCVZFb2LmaM6KsA3vxbEWY+e2Nlans3KT7u35Vw65Sbfo5+0OEJ0ou2ZPSJP3asz2N7M6Wdbl950+diws6/W89TnfkdKV1bTtSVvYk4/TxWHZTn9gkq+mVuqHX52no9mxe97ehXRgDWzrwN1LG1N4AGy47Jnu6ktdjPkB619wJJc5VJ75Peft51dKSLxzRFy+PY8hxzqXXeU3ca6X2wN8OG+2Bues8e3LH3X/hP3UkxPy5y261PlXvngXdeNRxve95FOf0AcDq980Zxf3fFy5cv5fz58+4d0D20rS4I00LaueIFFJt5WtCrGf5tBwA9cZLxywk+dQcAAABArxDoAwAAAAVE6g7ODNoWAAA4a0jdAQAAANBVBPoAAABAAXU90H/nnXeky9lAAAAAwJmjY2IdG5+Urgf6P/ZjPya/8zu/494BAAAAbycdE+vY+KR0PdB/99135Z/9s3/m3gEAAABvJx0T69j4pHQ90P/xH/9x+Vf/6l/Jb//2b7tPAAAAgLeLjoV1TKxj45PSk5tx/51/59+Rf/7P/7n8z//z/yz/6//6v5KzDwAAgMLTMa+OfXUMrGNhHROfpK4/R9+nezJ6J3/3d3+XYB8AAACFpm+81Tn5Ol3nJEfyAz0N9AEAAACcjJ6k7gAAAAA4WQT6AAAAQAER6AMAAAAFRKAPAAAAFBCBPgAAAFBABPoAAABAARHoAwAAAAVEoA8AAAAUEIE+AAAAUEAE+gAAAEABEegDAAAABUSgDwAAABQQgT4AAABQQAT6AAAAQAER6AMAAAAFRKAPAAAAFBCBPgAAAFBABPoAAABAARHoAwAAAAVEoA8AAAAUEIE+AAAAUEAE+gAAAEABEegDAAAABUSgDwAAABQQgT4AAABQQAT6AAAAQAER6AMAAAAFRKCftL0ofX2LUndvO1W/0yd9d466FhzdgazcOL3H4lS3k9crMtXXJ4vb7n2GruyD2daUrLx275FPl76vzqRj2HfTtm+sqG+RJs7KMeAc65hpB+q7sGVbOKPevnjldMcF3daDQL8ui/qESL7eqkYEAACO4mB1qiGWmFo93lBbl2Hs+ZLsHh7K4cNJKbnP8RZxg15BR0+3iVYDYKdJz0b0q0/USaFPjOB1a8RNOT7mS6KgPXCksZ3M+AlYksmHJ9P+zpaUujs3Kcvq3J0bdu+Bt8zILfXdQXB3Auz30eCrmXgc8WJJ5NW+m+d47L/aELnYTxsolPbigvryuoy/UPPf3JNB3S4fj8v1M/S7SOoOAAA4JXRaxZjsPNhtDMT04AODNjhmI7eWZfKc+mN4znY4z1jn/0QC/TDfzb38UcROp8XZ/KvBadUTX6uYHlg0sp9MLcrKrYzPl3a5MF6eVrmPebfrBPmU2+6SkTd/8nJmvB5c7lk4PSqXWS6ZQpXM2wzyTc1/3Tq8y1XJz3zNy5UuuUx6+bzpWVdoTHnHpKb+rF2x89rt2/oIj1+4v4l6Skst8+tAvxq2nV3X6RJtICOdrZN6bNYWzTS1rfh6vfaXVXfJtmHk2IccxyxeFrWNz92EmMS2kutJHp+M+tRa1kGg1TEP6iQ8L731xJZNWXeyXhLlTR731t85KdtI1lnDPG202YZ9jdbVuo0myxHfTnL5ZF3kPl5aol4bytKi3hvrJFpHUA5f62OgNd9/I3f7jb7DWtZHy31Nyt73bNltKKyv2L417nvTtr79SCprVZm51iSUCtpmap1mHZMUTc93ewzHFtSfC2OJcjb7bgqOVz2sp7BOcxyfZudGclrsWIV1Ei9b4/dIouxZbaRp3aTR6208JvFzqLFu9MvuR7xcyXbYtM0kpJ230bb1cv7fVvy8jm+/9baT50Rj+U/Um677wZtP3n33zSd19zbhRysfvXn3+rff/Mi9f1P/JJy32bQ3n337zScr4RQz7d13P3rz7c/c+xQN61N+tPJJbJkffOPdhm2+q8r/7rufqD1x1LY/Up995G3fLPeNcI6G8iSnt9xukttmY/kT++TmC+qp2XbNsn6ZNbO8V4/B/ofz2eOZ9plfH63KlcaU1a9ntfS3r6vPwvUk25Ka/o0mddYwv2bXGZY1qNdY23H7GKs3tT+J9pUsb6tjHJdRZ2nb7aQevXWktsXYtl09+8uk1V2ybeTchx98I+WYJvcxdtxd/adsyy+P2Y+gbtLKFtufuDx1kOeYh+0nPEZuPWmf+eVpKG9ynkT5U457bP+1oCxe+Vp9z5j3sX1u0mYb9tVq2Ubd+3g7ibbTUKdBXSTLGVtHSp0G31Xecg1ty5SlRb3rdSTWG+xLsr6S9Zl2DNL2PyhrvI7ytl9X5sQ6G+qx1b6mbTO572llT0jWSeOxTU5PnlfN23py/ensviXLmW9ZK9f5rjSu09Zb9rkZHK/4ulseH6Vx+1Fd5T3vYssnfguCsvv1ZushXo68dROn153YZyVef411E26/4bP0ejCS+55k9jtR1thn8fbTULfed0Drbds6jbURN0+z8+g49SzQtwcuegWV0njSRJpNa2S3k3mglYaDlybZIBpODCu2LnMQkw0+3nBa7ktaQ/SlNmS9z81OpHgZksw+JMtktuOtM6VcjSddoj5alitFcrsB//OseTKltYlEnaTWqxLb76y25X/evK6TstpivI46rcccbTG57YbjnLLPifrPtw+NGttKSt2mbatZW211/iS0roM8x1xJlNMw60n7LCqf3n5DW2m6D2ntNrENrVU9xKa312btNpN10rqNNm0PWfuR+Lz18VLM++S64serVb1ntelAbF9yHoOs/Y99ntyXpuxxa1xne/uaLH/Wvjevk+ZtyOxjw7Kt2l18eup+pNH7FttWettMlzivQ42fJ49ny+8mtz/Jedo9PnHp+xYrm1k+uU/xus06tvF9zF83cTnKmCiPZdeb9ln2tlq1qcblm5UjPq2VfHXa/Dw6Xsd2M25wQ9/I1JKUzWWwxks8zaYZscteNtWgE7HLMFfS1jIk/Tofy1PqHxJZ2xNzG9Dne7Khtj4WlkW/BqWyZmbN1Hq7SWUZeN/9qb3elx215coFf7vu0qJRksmbVdmYHlSft3H5Mo+JAel3fzZoWa4Uug4nxuVSop7l3CUZn9iQPZ3KcW5SZubderMuL3YkUa/a+wPq0x3Z1+3O7E9VRhtuthmR0XmRnX192a69utY3dJWvXmqe19dpPeZpi124mSzXPjj+ZVCTQhfIrNs4cwOcu1wevi5U1L46w9dlacLud7NLuDHN6iDXMW+m8TsjciD7z8W1FW9/Gr4D/EvXiWOYdb6kyP6e6eT7od3vILuv1csZedR5zvtArjZ7tHpvp03nOwbZ+z9yuSryfF/NoXTQfssfJL+B+2VgImibedtYJGvfSx+OSzn4rWuQow01HLeS9F9UZYvdRNukrSvxeTMMj0p1bV2eBbHC9pbUcp4jRznfW343OfHjleP4NGtfuX8bUn7bPLna+5G/Czsz1N/qLGzeZuJG5PqDstSeBi20LlsLZVmaSv9eahl7Ntl2Z+fR8Tr+HH33JI/DJ0Ou0XoV22SaCRwuuDufTedhUzXFdtmDpe+YNo/KMttqfy3GhHvcVuK1nJpX2MXtqr3e9LYXvoIblNzNIrsPdlzw1+WAP1OLcnXIPPXicFeWnrsv1q4G/EfUk7ruoB7baos95jrjY7IZlmNXfeF2oqxvxvP2x77cTVE64NBPTVDfA0PuxzN3wH9CGp5EZl5z6idJhQEmOB8TCedRbV4Fce3J8T3TlTbbm3O9V5rV+8npTfs9ln09Yhtq1db7P1DfF0GHqCkdeG7I+qd2zvrTmlRvHs9Nks2/m7Id7ficrfOumzr5fjSB9sKWbZutOoFNYs/ufDefrJN76o75stAVFp2ooYZpujemT5LWJ1JT+mDrk6WDO6b1l4jMj9oTUo/++iMJrRxhuzHn+mVIrWkrx00epWvLqg51Zygxf/IL1IwIH1Eb5Qpl1eHrZ7K+lhyVcD+KOmgJTtwuO/h0PRpNydwf2w6TIw+ZdZ2w8fhZ4sfLjvKEulmPPdJqH2w9qo5H0x+flH1MtEP9Y9+4rTQjMqe+fHVnIt/8Gdo85u2xI5rR6FLSgTx7vGGCh6aPMk05zgf7O+4vpY3vmbxttkHLNtpiX9s674+qVb23086cVsegyTbNb0jDaPcR2q+rs/EP9Rpb72tS1r7bc7jJFVwnfxtyv9/mKkfrtm5HQivyKEe71COxYvZBb6P1lcLQEc73ttuMkeP4NPsu7+S3IUNj2fP+DuX5LkxclUuuuyM5vx+TzumrhHY/9LmX68pdQ+zZettHPY+Ow7EH+vU72b3/7Gn+JUqrfqd16k4s3UbTJ5K49AyjLouplzZrMubfYb69aC6RhZdjTQPakMrt+F3omeXPvd1W7KWz2pX4dg5WF13v80BW7mTfGd/4BdppOZJalStFmJbjL6PKf7siG/MztkP3ekUW2xrlamwn6RLbVduZnfYvv7nLflfil/FMm1NBrH1+bvO6TjKXBlXdz3r7c7A6m7j82Ek9ttkWM7Wuuzz70HDOuboNmeOe3MfGdhi0VX9bZr7gio46J7v7VIM8x7xzJm1jYSxe5rB92yDAT1doaBsm1SNxnJN12/J7pr02m651Gw0ug/sj1OH0POd9FzWvd1Xz12akqtrZoH+lMKtt5TkGStr+298QL3Wgg/ar0z6iZVydeaOUrfY1KXXf3f5kj4znaEOJfbe/1UEQnqOt69HVJ6r7cCXlKocq35RfXv39Jyo4XlWd3GAgzjEjsZlXgDs/31t+N2VoeXxSz41gvR38NqTI+zvUWd24Mt6P2kfjujuRo82ksmlmtaeLphPY7ClO2b+Xrbfd2Xl0zFyufhfZmyCSN+MGN5yYmx68z/2bKZpNC240CaZ9Um91s4Zmb5owy7ibIswNEuF6VJmSN0UF781/g/nStuOt270a9sW7uaPldpOa3JiTrKfkDSb+tGS5G8qR3E5KudJuKkn7LLtc2do55k3rK+AdN7vv8Rtnwnqtx9cd264Tryv1iu1P67pukNgfvc1kO9Har8f22qKR1v6SdZfWBnPsQ6z8qo38oGVbSWmHWmJbsRsvvbKaV2L9SXnroPkxV9LKmVmX2fVrX/70+PfmRys/iLdbI3Gc9T4nttNwfsemt9lm0/bViR8/9UqtJ296i++K5PmX63il1bGrx9h+Na13LfmbFU1vLEfrY2A0tN3E9GSZmrZfu82gTTRdptm+ph7P5L6nH+9I8zYU1Ff8+Dav7/S2riXLpl+N5bNtPvm5LWer7+SW57uS2hYbjq+//eB4pRzRlm3Rbc+bp6F+vWmxcqUe35SyJMqup6XtY566aZQ8tsl1p9WNXSZ+rJKf5W0zSW65hrLHy5Gs17TyNd92fJ7W59Hxekf/n4v5geLTI0LmXo8jpoEBwLE4kJUbg7J+dfdk7rtpg76Xztyfc4x543rk3tyXEktZq8ti35aMnvi9GMDJO7kcfQAAgI65HOpk/rV+ckwilQd4WxHoAwCAsyfrX9HVef5vwdNogDwI9AEAwBmiU3P6pO/Kjiy9ID0HaIYcfQAAAKCAGNEHAAAACohAHwAAACggAn0AAACggAj0AQAAgAIi0AcAAAAKiEAfAAAAKCACfQAAAKCACPQBAACAAiLQBwAAAAqIQB8AAAAoIAJ9AAAAoICOPdCv3+mTvjt19+6EvV6Rqb4pWXnt3qMzvarH7UXpO6HjY9rpjRU5cO/zO5CVG30ytdrmkqYO1TbVa3G7s+3nWsbU6aKckjMwn0Q7SH6HdH6s8urwmAIAcMIY0QeSVNB9b6Eqmw8npeQ+6q26LF6oyNCTQzk8PJS5YfcxAADAERDo43RIG2kenlOB77JMnnPvj8WBrNzWQfecjLhPeu71vuxIWQbed++VkVsq6G+zo9HJMqfNwepU4+h8i3ZQhP0GAKAXCPSBmJJMPmRUHQAAnH09CvRtTqvONw5eOu84lZebbF6J0bwgH9f8V00P8mTNyJ+3XJ782fgyU7LyuZsQU5dFb735cn8Ty8TyylvXRXIf9cvuT3zZtH1M1kO++x+alKnF8dDy1GM7x8fs95Wa+qsmY2Z+N7KfHOUP38fru3v10sGxT9TX1Oq+m+DLXq8p54WKbKj/VS7o6XZ/gzZh2eOl99NvI1nnii82f/KKSahZ+82WrOPMc9zQ22hcb1Rmu4+D0xsiaxUZ1OsM9q/FfQX+fjcc9+AV1ktyX1PWm+uYtj6vAQA4aT0I9PUP6aBULm6afGPzelJ10xrVl/dkJpjvcFeWRP3IJ4IVWRiTrct2nuVr+gJ9XR69monW/2JJZHqw6Q+tDgAGp4dkM9zWjOxd0QGWT5d9TMTlSuvX5kVVnmYBnwkKxmTnwW64zO6DITcxpS5UWXeupASn3j7q+tpQ+9Onlt276X82GwuUdIAT3ydVf8/HWgSozY9Pq+ORtx7bOT4m9cKUoerW2yxtRncGtmQ0sW6/Pjuvlw6OvZdbr18zr8aksuamG83XW7q2bPahrP639EJPz9533SbCNnK4KVUVEM+26ECNPV+SXbfdwxcDcs90qDwp7ffwyZDpdLQ8nx6Pe+u27brzYNdeSdl9UBaZcGXuIB3H1GdQJvUK13fL1urB6pYMmHq2r8151Z78Y5z7mOY8rwEAOElvuuxHKx+9eff6t9/8yL1P+sE33n3z7jd+4N41Si5v5m+yPutHb759/d03H61kbvXNJ+++++aTunsb+Ozbbz5696M33/7MvjXbTpYtMU9Ss/3JqovUfYytw+5P2mfhPmaVq0V5Wx2fpPj8+eqxUavjo9Q/efPuu5+oLXiSn5n3jduJlfEo9dKVYx/f11zrTdlOfN1p7SGx30psmayyJ+o0q/1mfW7pdtC47m4sk9wno0WZM7eb0V5ictVHyjFNOYeyPgcA4KR0fUR//9WGlK9eamskzlx6d5e/zaX7pIv9KevTo2rBcoOJEbcEc7NjVUZb5F3rsuuR9aAs5mXSKrIcyP5zkerl9DHYrLoofTgu5bU9SUsI8JU/6Hd/pfh8TzYmxuVS8gbFc5dkfGJD9lLTkvIdn8zjkbMerTaOT1uGpD+xz6X+IZGgPo9QL9089oH215utaXtIyqqHmOx9GLlcFXm+H410+0w7CFKNotfYgpt+Kqj2d6Um5Qd3G27ijaX3xK5w5D+mRzmvAQA4Lid7M67LhR2T6BK4udTegv2h9tMhdmVpwk08orKfwhC+jvvJLyekw+OR1Mvj00u9OvbFbFNBmlXi5VJkTlr9zpjU5jddql/Adj5jKUdN0goBADjruh7o939Qlo3Hz9JHAhMOPl2XDS9/Np8DefZ4wwRP7T0ZpSZbyfxhPerp/tTaKbtVkv6Las1PG27nM7LWZ/d7QNoYn230/oCU19blWfKmydfPZH0t/qhGX7N9zHc8WtVjp8enc/WnNZH5UZvb3oN6aabx2O/Lnnf1otP1dkVKPRzs77i/tOz2a+o09Uqacq5fhtLaQUvJKyp2BL3rthdlTP87CMl2vL2lSt3630fo9Jh25bwGAKCLuh7ol67NmJsEYzfUqh/etJv0YikX2usVmU1L3YmxwcnGq+gC+cHqbPPUkHOTMjOvfsCv+E/YsJf2ffbSe/IGRzVf8uZgz8jUkpQXxmI34R2sLpqbZlPrwu1j9eYRn/tt9kmnT/j7dGCeAb8xP5M5Wtzs+LQ8HrnqsYPjo+kAXXZkPxmgN0jcPGmCOi/dotN6afvYl2TyZtWk5fht24wku7+1TtpUVwxfl6UJVQ+34zeaJs+vtPZr67QsS1NZHb4RGW1oB1G7T+eWuR+VJ61dNLTBdumrUqo9VtP+HYSGNtbYdnMd01zntVp3HzfnAgBOVg9Sd0ZkTj8RxM9L/v/PmQH7um7TUsipFzB1VQwMeUQsFTErRzW/mCGP4NIQ0MkuKHaBTm4Bn3aCBICNxCXQU1xgZvPxTWJQwNngAQIselQ3K0DXRmMJC82NDP7XqXNOO6afVBk2+t4msHwCT/wQER/EhCM58YNooIP0oDYgUUEtw56cB5DjF0EY3KhDDU+ywoWcuAdd5LS3FtjghannYzjohLZMiRxzqQJAp9hAT02C2QuMz170pSrY3AdMD3sILC3CDGNgur9rT0APMF2AGshQ9cUMvUAzoJIwAO6gQM3Fe0oSNgDt0AFZyHECxqBGOdCvvfMYkPYWANMuengQE6c0ztejYBSMglEwCkYBdQADAwDU29l9mI3WdQAAAABJRU5ErkJggg==)"
      ],
      "metadata": {
        "id": "a-8y2BQeO82P"
      }
    },
    {
      "cell_type": "code",
      "source": [
        "for ent in documento.ents:\n",
        "  print(ent.text, \" - \", ent.label_)"
      ],
      "metadata": {
        "colab": {
          "base_uri": "https://localhost:8080/"
        },
        "id": "56jdjIFoOseO",
        "outputId": "26ba5ff7-421b-4c99-f54f-fd3f00986ca1"
      },
      "execution_count": 28,
      "outputs": [
        {
          "output_type": "stream",
          "name": "stdout",
          "text": [
            "Magazine Luiza  -  ORG\n",
            "Brasil  -  LOC\n"
          ]
        }
      ]
    },
    {
      "cell_type": "markdown",
      "source": [
        "####Gerenciando Stop Words"
      ],
      "metadata": {
        "id": "4LtbjHosRKAl"
      }
    },
    {
      "cell_type": "code",
      "source": [
        "for token in documento:\n",
        "  if token.is_stop:\n",
        "    print(\"Stop Word: \",token.text)"
      ],
      "metadata": {
        "colab": {
          "base_uri": "https://localhost:8080/"
        },
        "id": "SLqs6DlpQ3Uk",
        "outputId": "88a51abc-6964-4850-afbb-ac4cfb0b55b7"
      },
      "execution_count": 29,
      "outputs": [
        {
          "output_type": "stream",
          "name": "stdout",
          "text": [
            "Stop Word:  As\n",
            "Stop Word:  da\n",
            "Stop Word:  de\n",
            "Stop Word:  ao\n",
            "Stop Word:  Assim\n",
            "Stop Word:  já\n",
            "Stop Word:  todos\n",
            "Stop Word:  os\n",
            "Stop Word:  do\n",
            "Stop Word:  da\n"
          ]
        }
      ]
    },
    {
      "cell_type": "code",
      "source": [
        "for words in nlp.Defaults.stop_words:\n",
        "  print(words)"
      ],
      "metadata": {
        "colab": {
          "base_uri": "https://localhost:8080/"
        },
        "id": "8pamoWQKRXjc",
        "outputId": "c16e1e89-1a70-4366-9fdd-9b18c95ea88a"
      },
      "execution_count": 30,
      "outputs": [
        {
          "output_type": "stream",
          "name": "stdout",
          "text": [
            "custa\n",
            "dentro\n",
            "quinze\n",
            "sei\n",
            "dizer\n",
            "vos\n",
            "de\n",
            "aos\n",
            "conselho\n",
            "quieto\n",
            "pode\n",
            "dizem\n",
            "quarto\n",
            "naquele\n",
            "vens\n",
            "apenas\n",
            "valor\n",
            "quando\n",
            "dão\n",
            "isso\n",
            "portanto\n",
            "comprido\n",
            "estará\n",
            "vez\n",
            "naquela\n",
            "uma\n",
            "cada\n",
            "apontar\n",
            "temos\n",
            "vosso\n",
            "para\n",
            "fui\n",
            "outra\n",
            "vão\n",
            "foste\n",
            "tivestes\n",
            "e\n",
            "dezassete\n",
            "ou\n",
            "eu\n",
            "maiorias\n",
            "numa\n",
            "vais\n",
            "vossas\n",
            "corrente\n",
            "todas\n",
            "agora\n",
            "ora\n",
            "qual\n",
            "sétimo\n",
            "meses\n",
            "umas\n",
            "vezes\n",
            "grandes\n",
            "estar\n",
            "tu\n",
            "sem\n",
            "quarta\n",
            "antes\n",
            "ele\n",
            "num\n",
            "obrigado\n",
            "então\n",
            "neste\n",
            "elas\n",
            "essa\n",
            "seis\n",
            "estás\n",
            "tive\n",
            "tanta\n",
            "pouca\n",
            "segundo\n",
            "tuas\n",
            "em\n",
            "aquela\n",
            "era\n",
            "pegar\n",
            "usa\n",
            "lugar\n",
            "oito\n",
            "ainda\n",
            "esse\n",
            "possível\n",
            "último\n",
            "isto\n",
            "sabe\n",
            "quero\n",
            "treze\n",
            "dessa\n",
            "direita\n",
            "estava\n",
            "faz\n",
            "tentaram\n",
            "dá\n",
            "questão\n",
            "uns\n",
            "nós\n",
            "talvez\n",
            "nuns\n",
            "nova\n",
            "tente\n",
            "pelos\n",
            "devem\n",
            "oitavo\n",
            "às\n",
            "aqueles\n",
            "esses\n",
            "ambas\n",
            "teve\n",
            "pela\n",
            "adeus\n",
            "à\n",
            "certamente\n",
            "posição\n",
            "fazem\n",
            "somos\n",
            "estiveste\n",
            "também\n",
            "demais\n",
            "nessa\n",
            "foram\n",
            "enquanto\n",
            "nada\n",
            "sete\n",
            "catorze\n",
            "quieta\n",
            "estes\n",
            "vinda\n",
            "dezoito\n",
            "desde\n",
            "vai\n",
            "estou\n",
            "local\n",
            "seu\n",
            "tiveste\n",
            "primeira\n",
            "possivelmente\n",
            "meu\n",
            "saber\n",
            "puderam\n",
            "tarde\n",
            "ontem\n",
            "a\n",
            "aí\n",
            "têm\n",
            "nenhuma\n",
            "terceiro\n",
            "vinte\n",
            "cento\n",
            "breve\n",
            "vêm\n",
            "foi\n",
            "podem\n",
            "cá\n",
            "seria\n",
            "novos\n",
            "usar\n",
            "mal\n",
            "por\n",
            "entre\n",
            "vários\n",
            "fim\n",
            "grande\n",
            "ponto\n",
            "querem\n",
            "faço\n",
            "tens\n",
            "fez\n",
            "ser\n",
            "com\n",
            "estas\n",
            "seus\n",
            "alguns\n",
            "como\n",
            "baixo\n",
            "meio\n",
            "bastante\n",
            "podia\n",
            "mais\n",
            "tentar\n",
            "nem\n",
            "nossas\n",
            "quê\n",
            "favor\n",
            "ligado\n",
            "porquanto\n",
            "fazemos\n",
            "na\n",
            "todo\n",
            "apoia\n",
            "nível\n",
            "estão\n",
            "teu\n",
            "mas\n",
            "conhecido\n",
            "estiveram\n",
            "põem\n",
            "boa\n",
            "final\n",
            "parece\n",
            "no\n",
            "dezasseis\n",
            "tivemos\n",
            "poderá\n",
            "doze\n",
            "números\n",
            "quem\n",
            "segunda\n",
            "é\n",
            "eventual\n",
            "fostes\n",
            "cujo\n",
            "toda\n",
            "assim\n",
            "tipo\n",
            "mesmo\n",
            "lado\n",
            "ademais\n",
            "aquelas\n",
            "essas\n",
            "vós\n",
            "des\n",
            "obrigada\n",
            "quanto\n",
            "parte\n",
            "vossa\n",
            "pelo\n",
            "muito\n",
            "perto\n",
            "veja\n",
            "tão\n",
            "próximo\n",
            "algumas\n",
            "máximo\n",
            "longe\n",
            "fazer\n",
            "teus\n",
            "relação\n",
            "tempo\n",
            "através\n",
            "nosso\n",
            "conhecida\n",
            "menos\n",
            "dos\n",
            "pois\n",
            "duas\n",
            "próprio\n",
            "das\n",
            "primeiro\n",
            "põe\n",
            "eles\n",
            "deverá\n",
            "sobre\n",
            "tentei\n",
            "contra\n",
            "te\n",
            "os\n",
            "este\n",
            "onze\n",
            "as\n",
            "tudo\n",
            "somente\n",
            "da\n",
            "suas\n",
            "sexta\n",
            "nossa\n",
            "quatro\n",
            "aquilo\n",
            "porque\n",
            "diz\n",
            "poder\n",
            "disso\n",
            "fará\n",
            "nos\n",
            "dez\n",
            "dois\n",
            "muitos\n",
            "sistema\n",
            "vossos\n",
            "novo\n",
            "oitava\n",
            "ambos\n",
            "um\n",
            "irá\n",
            "momento\n",
            "tenho\n",
            "mês\n",
            "coisa\n",
            "três\n",
            "nas\n",
            "quais\n",
            "lhe\n",
            "esta\n",
            "inicio\n",
            "minhas\n",
            "outras\n",
            "não\n",
            "lá\n",
            "grupo\n",
            "está\n",
            "fomos\n",
            "quinta\n",
            "me\n",
            "posso\n",
            "quinto\n",
            "ir\n",
            "sim\n",
            "estivemos\n",
            "estive\n",
            "bem\n",
            "porquê\n",
            "fora\n",
            "iniciar\n",
            "atrás\n",
            "após\n",
            "meus\n",
            "pelas\n",
            "bom\n",
            "sou\n",
            "próxima\n",
            "forma\n",
            "deste\n",
            "logo\n",
            "tiveram\n",
            "esteve\n",
            "pôde\n",
            "só\n",
            "for\n",
            "área\n",
            "sua\n",
            "onde\n",
            "vem\n",
            "pontos\n",
            "exemplo\n",
            "o\n",
            "sempre\n",
            "ali\n",
            "terceira\n",
            "minha\n",
            "nesse\n",
            "sob\n",
            "fazia\n",
            "deve\n",
            "já\n",
            "aquele\n",
            "vocês\n",
            "desse\n",
            "desta\n",
            "sétima\n",
            "ver\n",
            "outros\n",
            "cedo\n",
            "dar\n",
            "qualquer\n",
            "apoio\n",
            "debaixo\n",
            "novas\n",
            "povo\n",
            "pouco\n",
            "cuja\n",
            "diante\n",
            "tendes\n",
            "até\n",
            "inclusive\n",
            "sois\n",
            "tanto\n",
            "cinco\n",
            "daquele\n",
            "estado\n",
            "nunca\n",
            "todos\n",
            "que\n",
            "do\n",
            "mil\n",
            "aqui\n",
            "fazes\n",
            "és\n",
            "tua\n",
            "nesta\n",
            "cima\n",
            "daquela\n",
            "embora\n",
            "você\n",
            "algo\n",
            "falta\n",
            "número\n",
            "nossos\n",
            "caminho\n",
            "fazeis\n",
            "contudo\n",
            "geral\n",
            "maioria\n",
            "partir\n",
            "sexto\n",
            "porém\n",
            "vindo\n",
            "acerca\n",
            "certeza\n",
            "além\n",
            "se\n",
            "estivestes\n",
            "tais\n",
            "nove\n",
            "tal\n",
            "dezanove\n",
            "maior\n",
            "ao\n",
            "quer\n",
            "são\n",
            "zero\n",
            "menor\n",
            "comprida\n",
            "ter\n",
            "tem\n",
            "depois\n",
            "ela\n"
          ]
        }
      ]
    },
    {
      "cell_type": "code",
      "source": [
        "#caso tenha alguma palavra que queira adicionar na stop word, que o spacy não tenha colocado:\n",
        "\n",
        "nlp.Defaults.stop_words.add('eita')\n",
        "nlp.vocab['eita'].is_stop = True"
      ],
      "metadata": {
        "id": "JSqjegw6Rf8U"
      },
      "execution_count": 31,
      "outputs": []
    },
    {
      "cell_type": "code",
      "source": [
        "nlp.vocab['eita'].is_stop"
      ],
      "metadata": {
        "colab": {
          "base_uri": "https://localhost:8080/"
        },
        "id": "5w69MeR_R3I1",
        "outputId": "a3d0b216-fecc-4b95-f746-c912cfbff76e"
      },
      "execution_count": 32,
      "outputs": [
        {
          "output_type": "execute_result",
          "data": {
            "text/plain": [
              "True"
            ]
          },
          "metadata": {},
          "execution_count": 32
        }
      ]
    },
    {
      "cell_type": "code",
      "source": [
        "#remover as stop words no nosso corpous:\n",
        "#crio uma lista com todos os tokens>\n",
        "token_lista = []\n",
        "for token in documento:\n",
        "  token_lista.append(token.text)\n",
        "\n",
        "#Agora vou ter uma lista stop words:\n",
        "stop_lista=[]\n",
        "for token in token_lista:\n",
        "  if token in nlp.Defaults.stop_words:\n",
        "    stop_lista.append(token)\n",
        "\n",
        "\n",
        "#Lista dos tokens sem o stop word:\n",
        "\n",
        "semStop = [ word for word in token_lista if word not in stop_lista]\n",
        "\n",
        "print(documento.text)\n",
        "\n",
        "print()\n",
        "\n",
        "print(semStop)\n",
        "\n",
        "\n"
      ],
      "metadata": {
        "colab": {
          "base_uri": "https://localhost:8080/"
        },
        "id": "cQbeA96tR64-",
        "outputId": "6d7a11c2-b5cf-4f5e-9cd3-228180145f99"
      },
      "execution_count": 36,
      "outputs": [
        {
          "output_type": "stream",
          "name": "stdout",
          "text": [
            "As ações da Magazine Luiza S.A.,Franca, Brasil, acumularam baixa de 70% ao ano. Assim já devolveram todos os ganhos do período da pandemia.\n",
            "\n",
            "['As', 'ações', 'Magazine', 'Luiza', 'S.A.,Franca', ',', 'Brasil', ',', 'acumularam', 'baixa', '70', '%', 'ano', '.', 'Assim', 'devolveram', 'ganhos', 'período', 'pandemia', '.']\n"
          ]
        }
      ]
    },
    {
      "cell_type": "markdown",
      "source": [
        "####Vocabulário\n",
        "\n",
        "![image.png](data:image/png;base64,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)\n",
        "\n",
        "\n",
        "Esta imagem ilustra como o spaCy processa e armazena informações sobre o texto em três componentes principais:\n",
        "\n",
        "DOC (Documento): Representa o texto processado, dividido em unidades chamadas tokens. Cada token possui atributos associados, como parte do discurso (PRON para pronome, VERB para verbo, NOUN para substantivo) e relações sintáticas com outros tokens (indicadas pelas setas nsubj e dobj, que representam sujeito nominal e objeto direto, respectivamente).\n",
        "\n",
        "VOCAB (Vocabulário): Armazena lexemas, que são as formas canônicas das palavras. Cada token no documento é vinculado a um lexema no Vocab, identificado por um hash numérico único. Esse sistema de hashing facilita uma recuperação rápida e eficiente das informações das palavras.\n",
        "\n",
        "STRING STORE (Armazenamento de Strings): É uma tabela que mapeia os hashes numéricos dos lexemas de volta para as strings de texto originais. Isso permite que o spaCy recupere rapidamente a forma de texto de qualquer palavra usando seu hash, associando-o novamente à sua forma textual, como \"I\", \"love\", e \"coffee\" para os hashes mostrados.\n",
        "\n",
        "Essa estrutura integrada permite que o spaCy seja extremamente eficiente na análise e manipulação de textos, fornecendo acesso rápido às informações detalhadas de cada palavra processada."
      ],
      "metadata": {
        "id": "ab68XEsSVuiT"
      }
    },
    {
      "cell_type": "code",
      "source": [
        "# a palavra \"dados\" tem que ter o mesmo hash:\n",
        "print(\"Hash: \", nlp.vocab.strings[\"dados\"])\n",
        "print(\"Hash: \", documento.vocab.strings[\"dados\"])\n",
        "\n",
        "#Qual a string referente ao hash:\n",
        "print(\"String: \", nlp.vocab.strings [6013848609874238634])\n"
      ],
      "metadata": {
        "colab": {
          "base_uri": "https://localhost:8080/"
        },
        "id": "Ac3y9pj4S9iE",
        "outputId": "ac011364-dcff-4895-bb78-8d2b41268f5b"
      },
      "execution_count": 45,
      "outputs": [
        {
          "output_type": "stream",
          "name": "stdout",
          "text": [
            "Hash:  6013848609874238634\n",
            "Hash:  6013848609874238634\n",
            "String:  dados\n"
          ]
        }
      ]
    },
    {
      "cell_type": "code",
      "source": [
        "lex = nlp.vocab['dados']\n",
        "print(lex.text, \" _ \", lex.orth, \" _ \", lex.is_alpha, \" _ \", lex.is_lower)"
      ],
      "metadata": {
        "id": "9qKBtoojWdfl",
        "outputId": "4067bdf1-dc2a-4a50-f252-4e4da672eca1",
        "colab": {
          "base_uri": "https://localhost:8080/"
        }
      },
      "execution_count": 46,
      "outputs": [
        {
          "output_type": "stream",
          "name": "stdout",
          "text": [
            "dados  _  6013848609874238634  _  True  _  True\n"
          ]
        }
      ]
    },
    {
      "cell_type": "markdown",
      "source": [
        "######Embedding (Incorporação de Palavras)\n",
        "Um embedding, ou incorporação de palavras, é uma representação de texto em forma de vetor num espaço de características contínuas, onde palavras semanticamente similares estão próximas umas das outras.\n",
        "\n",
        "- O código abaixo é usado para explorar a representação vetorial, ou embedding, da palavra \"dados\" em um modelo de linguagem processado pelo spaCy."
      ],
      "metadata": {
        "id": "FyvdKHzNX_Jg"
      }
    },
    {
      "cell_type": "code",
      "source": [
        "print(nlp(\"dados\").vector.shape)"
      ],
      "metadata": {
        "id": "sCr_EO_FXlng",
        "outputId": "35aa66db-19ae-47b0-8d44-2d6ca5902faa",
        "colab": {
          "base_uri": "https://localhost:8080/"
        }
      },
      "execution_count": 48,
      "outputs": [
        {
          "output_type": "stream",
          "name": "stdout",
          "text": [
            "(300,)\n"
          ]
        }
      ]
    },
    {
      "cell_type": "code",
      "source": [
        "#Se eu quiser ver todo o vetor eu retiro o shape:\n",
        "# os 300 peso da palavras em relação a outras 300 palavras\n",
        "print(nlp(\"dados\").vector)"
      ],
      "metadata": {
        "id": "LJ46R6uWX63x",
        "outputId": "c7f15060-5789-44a2-8ff7-c7e50019b0ee",
        "colab": {
          "base_uri": "https://localhost:8080/"
        }
      },
      "execution_count": 50,
      "outputs": [
        {
          "output_type": "stream",
          "name": "stdout",
          "text": [
            "[-1.8078e+00 -2.8421e+00 -5.5345e-01 -4.0565e+00 -2.3565e+00  4.7295e+00\n",
            " -3.3508e+00 -1.2036e+00 -5.3749e+00 -7.5768e-01 -2.0015e+00  5.3618e+00\n",
            "  2.2789e-01  1.2136e+00 -1.4418e+00 -3.0621e+00  2.2060e+00  1.1943e+00\n",
            " -1.8689e+00 -5.9128e+00 -5.1929e-01  2.1897e+00 -2.4651e+00  1.7600e+00\n",
            " -5.6308e+00  1.0053e+00  7.3080e-01  2.0417e-01 -6.0370e+00  1.7474e+00\n",
            "  2.0375e+00  2.7541e+00 -1.0423e+00  1.7632e+00 -1.4484e+00 -2.4344e+00\n",
            " -8.6094e-01  1.7867e+00 -4.9920e+00 -3.1162e+00 -5.3973e-01  2.4241e+00\n",
            "  4.4410e-01 -4.7503e+00  2.1383e+00  3.8537e-01 -2.2418e+00  5.8104e+00\n",
            " -1.1731e+00  2.4686e-02 -1.8413e+00 -5.9321e+00 -7.0872e-03 -2.3093e+00\n",
            "  5.5101e+00 -4.1795e-01  2.9754e+00  3.6709e-01 -8.0867e-01 -1.3751e+00\n",
            "  4.8132e+00 -2.2835e+00 -2.0920e-01  1.2578e+00  4.3466e+00  1.3846e+00\n",
            " -1.5847e+00  3.3322e+00 -4.3669e+00  1.8883e+00 -1.2312e+00  3.7902e-01\n",
            "  8.6331e-01 -4.0607e+00 -1.3444e+00  4.5210e+00  2.2995e-01 -5.9245e+00\n",
            " -2.0598e-01 -3.1810e+00 -3.8640e+00  7.2114e+00  3.1034e+00 -4.2856e+00\n",
            "  5.4147e+00 -7.2224e+00  4.3610e+00 -2.6696e+00  1.9245e+00 -2.6187e+00\n",
            " -5.1742e+00  1.0513e-01  1.9628e+00  1.0356e+00  6.8692e+00 -7.3888e-01\n",
            "  3.8783e+00  4.1958e+00 -8.8872e+00 -1.8452e+00  5.2786e+00  4.2920e+00\n",
            " -4.2204e-01  1.0009e+00  4.2165e-01  1.1927e+00 -8.4580e-01 -2.6577e+00\n",
            "  1.5024e+00  4.4229e-01 -2.5251e+00 -7.1781e-01  7.0878e-01  1.7207e+00\n",
            "  3.8369e+00 -1.5924e+00  2.0870e+00  4.3324e-01 -1.0600e+00  2.7058e+00\n",
            "  1.3282e+00 -7.1241e+00 -1.3663e+00 -3.0763e+00  2.7714e+00  1.3094e+00\n",
            "  1.6072e+00  3.6821e+00  5.3843e+00 -3.5457e-02 -2.9616e+00  1.5253e+00\n",
            "  2.0812e-01  6.0771e-01 -5.5709e-01  7.5687e+00 -9.1431e-01 -3.0477e+00\n",
            "  1.2046e+00  5.3871e-01  5.7112e-01  2.2039e+00 -5.1948e-02 -2.6353e+00\n",
            " -2.8517e+00  1.8675e-01  2.1013e+00  7.5272e-01 -8.7856e+00 -1.4493e+00\n",
            " -7.9085e-01 -1.6936e+00  1.4793e-02 -9.9357e+00  3.7818e+00 -1.7839e+00\n",
            "  1.5425e+00 -3.0899e-02 -5.1442e+00  4.2366e-01  3.2065e+00  3.9226e+00\n",
            " -1.4392e-02  1.5862e+00  7.0632e+00  7.5689e+00 -3.4420e+00 -6.1376e+00\n",
            "  5.0851e-01 -6.3689e-01 -1.8791e-01  1.9850e+00  3.0888e+00 -3.0506e+00\n",
            "  1.1851e-01 -1.2290e+00  7.6061e+00  1.8492e-01 -2.7509e+00 -1.3448e+00\n",
            "  1.9857e+00 -2.4650e+00 -2.0810e+00  5.6084e+00 -7.3379e-01  1.1205e+00\n",
            "  1.3258e-02 -7.0243e-01  1.0118e+00  3.8903e+00 -1.2631e+00 -2.7544e+00\n",
            "  9.3134e-01  2.7516e+00 -1.6767e+00  4.5501e+00 -4.9452e-01  1.0644e+00\n",
            " -1.2653e+00  3.9671e-01 -6.4705e+00 -7.7726e-01 -3.9283e+00  7.9536e+00\n",
            "  2.0967e+00  1.2104e+00  3.4474e+00 -2.2200e+00 -4.9974e+00  3.1827e-01\n",
            " -1.0450e+00 -2.1353e+00  1.0529e+00 -1.6568e+00 -3.0012e+00  4.2834e+00\n",
            "  6.9626e-01  4.5401e+00 -1.7153e-01 -5.9982e-01  3.6147e+00 -3.4545e+00\n",
            "  3.6811e-01 -4.1399e+00 -1.8144e+00  2.9088e+00  8.9164e-01 -2.4783e+00\n",
            " -3.6413e+00 -3.4140e-01 -8.0959e-01 -4.7451e+00  4.2487e+00  6.6012e+00\n",
            " -5.1022e+00  1.5260e+00  3.5160e+00 -1.4569e+00  1.4442e+00  6.8183e+00\n",
            " -5.0775e+00  1.0688e+00  4.8081e+00  3.6586e+00 -3.0766e+00 -8.5266e-01\n",
            " -3.3401e+00 -5.2864e+00 -9.1773e-01 -1.8197e+00  2.0192e+00 -6.7857e+00\n",
            " -3.6542e+00 -3.4654e+00  3.3276e+00  9.0340e-02 -3.0743e+00  3.3329e+00\n",
            " -2.6458e+00  2.6557e-02 -4.7538e-01  2.7974e+00  5.3304e+00  2.9937e+00\n",
            "  3.8899e+00 -3.3433e+00 -3.4940e+00  2.1821e+00  8.1387e+00  3.5272e-01\n",
            "  4.8159e+00 -7.8327e-01 -1.2468e+00  5.9163e+00 -6.0636e-02 -4.3255e-01\n",
            " -1.2690e+00 -3.2938e+00  3.2941e-02 -9.3676e-01 -7.1630e-01  1.4011e+00\n",
            "  1.8334e+00 -1.4261e+00 -1.9903e+00 -1.4721e+00  2.1466e+00 -2.0949e+00\n",
            " -7.6855e-01 -2.8615e+00 -2.0466e+00  7.1870e-01 -1.1195e+00 -3.1117e+00\n",
            "  1.5789e-01 -4.0320e+00 -9.2665e-01 -6.2468e-01 -2.7397e+00  6.0866e-01]\n"
          ]
        }
      ]
    },
    {
      "cell_type": "code",
      "source": [
        "# traz uma média das palavras que traz a sentença das outras palavras\n",
        "print(nlp(\"dados são uma nova forma de ver o mundo\").vector.shape)\n",
        "print(nlp(\"dados são uma nova forma de ver o mundo\").vector)"
      ],
      "metadata": {
        "id": "Y7Yf_7TWZAAg",
        "outputId": "cc247772-e322-4394-c6a9-f2e7562299d7",
        "colab": {
          "base_uri": "https://localhost:8080/"
        }
      },
      "execution_count": 52,
      "outputs": [
        {
          "output_type": "stream",
          "name": "stdout",
          "text": [
            "(300,)\n",
            "[ 0.5255733  -1.0520301  -1.0489888   0.22808893 -2.7599888   0.91837215\n",
            " -1.6993556  -0.44524103 -2.209261   -1.2901455   0.9939946  -1.3996754\n",
            "  0.7378708  -1.6957022  -1.382649   -1.1241877   2.503239    1.3766589\n",
            " -0.63682556  2.7080245  -0.6679023   0.7990059  -1.3761922   1.6491444\n",
            " -0.6950322   0.69378555 -0.19840002  1.6926199  -0.3071023   0.71506053\n",
            "  0.03211441  0.27212894 -1.9055911  -1.5586021  -0.9775556   0.7999823\n",
            " -0.9553054   0.5265729  -0.87427455 -1.2073755  -2.117481    1.2241988\n",
            "  1.5149522  -0.79308677 -1.1521667   0.13741441 -1.7882053   0.50415283\n",
            "  1.3089666   0.06542712 -0.6260744  -1.5624356  -0.707184   -1.2425367\n",
            " -0.04237115 -0.5879791   1.7004043  -0.24798778  0.11633212 -0.55506223\n",
            "  2.0148706   0.01965364  0.92778563  2.3571968  -0.49526003  1.0151839\n",
            "  0.57112557  1.3510779  -0.3038622  -0.24523441 -0.42284998 -0.69732666\n",
            "  0.71998227  0.2875956   0.10309222 -0.6866155   2.128672    0.9791889\n",
            " -1.4044011  -0.4600078   0.10599887  0.84635675  1.2420444   0.40497887\n",
            "  0.24567226 -2.4633954   0.30174115 -1.2952554   0.5795323  -1.899822\n",
            " -0.74619776  2.998889    2.0798278  -0.9101444   0.27261782  0.3154811\n",
            "  3.1923532   1.315211   -3.1751957   0.03176559  1.1431444   1.6177245\n",
            " -1.0905743   0.6142689   1.0441045  -1.0070856  -0.6415578  -0.75415665\n",
            "  0.04653723 -0.7180089  -0.09737895  0.02209669 -0.43218002 -0.37869656\n",
            " -1.4787056  -0.8019056   2.2888644  -0.58004665 -0.35054     0.8161524\n",
            "  0.56656885 -3.1986172  -0.13080996 -0.87027764  0.19671117 -0.18788989\n",
            "  2.1433      0.5740978   0.79283893  1.1020746   0.06806201  0.14578162\n",
            " -0.48713335 -0.9247377   0.84602445  1.326062   -0.13929449 -2.2536204\n",
            "  0.8378011   1.8202833  -2.1101756   0.01467665 -0.1241987  -0.28894553\n",
            " -2.689321    0.35465997  1.3067889   0.78942555 -3.1275606  -0.70258003\n",
            "  1.1796956  -0.09419552 -0.39751524 -2.17274     0.00593225  0.11152443\n",
            " -0.40126875 -0.7324776  -1.110687   -1.6154889   1.9177108   0.59479684\n",
            " -0.9205568   1.6399556   2.1313922   0.8705971  -0.4869177  -2.5268655\n",
            " -0.20582779 -1.351448    1.0684322   1.0798033   0.7770678  -0.88195336\n",
            " -0.94633335 -1.6027511   2.097808   -0.44511667 -1.657932    1.3012689\n",
            "  1.4642056   0.07117888 -0.45494658  1.4971966   1.3140267  -0.48212782\n",
            "  1.0694442  -2.269592    1.3391188   1.5931556  -1.7781789  -1.465089\n",
            "  0.23485115 -2.34892     0.940096    0.5333122  -0.74473196 -1.2676699\n",
            " -0.40783006 -0.7384778  -2.09579     2.0488043  -1.182571    0.37707764\n",
            "  1.1301712   0.28928337  1.3739567  -1.0200423   1.2103223   0.04722336\n",
            "  1.3624822  -1.2681168   1.4688356   0.8132446  -1.719049    1.8276443\n",
            "  1.0804734  -0.31434     0.88836336 -0.67704093 -1.0336466  -0.9087268\n",
            "  0.09643783 -2.5777566  -0.08628993 -0.8835056  -0.5007     -2.010551\n",
            "  0.9359345  -1.839522   -0.45124334 -1.67075     0.1972278  -0.69528896\n",
            " -0.8587457  -0.25463215  0.23403136 -1.7613523   0.39325333  2.0033166\n",
            "  0.16394782 -0.5912411   0.4513964   0.38095444  0.9961722  -0.5356072\n",
            " -0.24399893  1.2084801   1.047721   -0.3533555  -0.68883884 -0.05879111\n",
            " -1.0547067  -0.9298345   0.1543278   0.22240782 -0.8161553   2.490319\n",
            " -1.5402923   0.59167856 -1.8444476   0.68242     2.5562222   0.99307674\n",
            "  0.02924996 -0.70853776 -1.0495977   0.13625993  2.1210868   1.4868933\n",
            "  3.163472   -0.43712902 -0.514627    2.9385633  -2.2680051   0.10609888\n",
            "  2.2179537   0.63511777  0.40360793 -1.1280782  -1.7189742  -0.46922117\n",
            "  2.9208887  -0.7004363  -0.36562064  1.1512333  -1.4175044  -0.44106555\n",
            " -0.48883343 -0.5042111   0.28768444  3.4773679  -1.2891389  -0.65457785\n",
            "  0.3968733  -1.9304742   2.1593056  -0.50640225 -1.4050981   1.26994   ]\n"
          ]
        }
      ]
    },
    {
      "cell_type": "code",
      "source": [],
      "metadata": {
        "id": "UmLd40ebZYN_"
      },
      "execution_count": null,
      "outputs": []
    }
  ]
}