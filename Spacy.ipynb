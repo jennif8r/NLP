{
  "nbformat": 4,
  "nbformat_minor": 0,
  "metadata": {
    "colab": {
      "provenance": [],
      "toc_visible": true,
      "authorship_tag": "ABX9TyME721g7HX8Z8L07QIF5wlz",
      "include_colab_link": true
    },
    "kernelspec": {
      "name": "python3",
      "display_name": "Python 3"
    },
    "language_info": {
      "name": "python"
    }
  },
  "cells": [
    {
      "cell_type": "markdown",
      "metadata": {
        "id": "view-in-github",
        "colab_type": "text"
      },
      "source": [
        "<a href=\"https://colab.research.google.com/github/jennif8r/NLP/blob/main/Spacy.ipynb\" target=\"_parent\"><img src=\"https://colab.research.google.com/assets/colab-badge.svg\" alt=\"Open In Colab\"/></a>"
      ]
    },
    {
      "cell_type": "markdown",
      "source": [
        "#Baixando Biblioteca..."
      ],
      "metadata": {
        "id": "N_iGsSNILkdv"
      }
    },
    {
      "cell_type": "code",
      "execution_count": 1,
      "metadata": {
        "id": "wllOpltc0sVQ",
        "colab": {
          "base_uri": "https://localhost:8080/"
        },
        "collapsed": true,
        "outputId": "40ebcb78-cc23-4198-f5a1-2d543a15eb7e"
      },
      "outputs": [
        {
          "output_type": "stream",
          "name": "stdout",
          "text": [
            "Collecting spacy==3.2.0\n",
            "  Downloading spacy-3.2.0-cp310-cp310-manylinux_2_17_x86_64.manylinux2014_x86_64.whl (6.0 MB)\n",
            "\u001b[2K     \u001b[90m━━━━━━━━━━━━━━━━━━━━━━━━━━━━━━━━━━━━━━━━\u001b[0m \u001b[32m6.0/6.0 MB\u001b[0m \u001b[31m12.9 MB/s\u001b[0m eta \u001b[36m0:00:00\u001b[0m\n",
            "\u001b[?25hRequirement already satisfied: spacy-legacy<3.1.0,>=3.0.8 in /usr/local/lib/python3.10/dist-packages (from spacy==3.2.0) (3.0.12)\n",
            "Requirement already satisfied: spacy-loggers<2.0.0,>=1.0.0 in /usr/local/lib/python3.10/dist-packages (from spacy==3.2.0) (1.0.5)\n",
            "Requirement already satisfied: murmurhash<1.1.0,>=0.28.0 in /usr/local/lib/python3.10/dist-packages (from spacy==3.2.0) (1.0.10)\n",
            "Requirement already satisfied: cymem<2.1.0,>=2.0.2 in /usr/local/lib/python3.10/dist-packages (from spacy==3.2.0) (2.0.8)\n",
            "Requirement already satisfied: preshed<3.1.0,>=3.0.2 in /usr/local/lib/python3.10/dist-packages (from spacy==3.2.0) (3.0.9)\n",
            "Collecting thinc<8.1.0,>=8.0.12 (from spacy==3.2.0)\n",
            "  Downloading thinc-8.0.17-cp310-cp310-manylinux_2_17_x86_64.manylinux2014_x86_64.whl (659 kB)\n",
            "\u001b[2K     \u001b[90m━━━━━━━━━━━━━━━━━━━━━━━━━━━━━━━━━━━━━━━━\u001b[0m \u001b[32m659.5/659.5 kB\u001b[0m \u001b[31m9.5 MB/s\u001b[0m eta \u001b[36m0:00:00\u001b[0m\n",
            "\u001b[?25hRequirement already satisfied: blis<0.8.0,>=0.4.0 in /usr/local/lib/python3.10/dist-packages (from spacy==3.2.0) (0.7.11)\n",
            "Collecting wasabi<1.1.0,>=0.8.1 (from spacy==3.2.0)\n",
            "  Downloading wasabi-0.10.1-py3-none-any.whl (26 kB)\n",
            "Requirement already satisfied: srsly<3.0.0,>=2.4.1 in /usr/local/lib/python3.10/dist-packages (from spacy==3.2.0) (2.4.8)\n",
            "Requirement already satisfied: catalogue<2.1.0,>=2.0.6 in /usr/local/lib/python3.10/dist-packages (from spacy==3.2.0) (2.0.10)\n",
            "Collecting typer<0.5.0,>=0.3.0 (from spacy==3.2.0)\n",
            "  Downloading typer-0.4.2-py3-none-any.whl (27 kB)\n",
            "Collecting pathy>=0.3.5 (from spacy==3.2.0)\n",
            "  Downloading pathy-0.11.0-py3-none-any.whl (47 kB)\n",
            "\u001b[2K     \u001b[90m━━━━━━━━━━━━━━━━━━━━━━━━━━━━━━━━━━━━━━━━\u001b[0m \u001b[32m47.3/47.3 kB\u001b[0m \u001b[31m2.9 MB/s\u001b[0m eta \u001b[36m0:00:00\u001b[0m\n",
            "\u001b[?25hRequirement already satisfied: tqdm<5.0.0,>=4.38.0 in /usr/local/lib/python3.10/dist-packages (from spacy==3.2.0) (4.66.4)\n",
            "Requirement already satisfied: numpy>=1.15.0 in /usr/local/lib/python3.10/dist-packages (from spacy==3.2.0) (1.25.2)\n",
            "Requirement already satisfied: requests<3.0.0,>=2.13.0 in /usr/local/lib/python3.10/dist-packages (from spacy==3.2.0) (2.31.0)\n",
            "Collecting pydantic!=1.8,!=1.8.1,<1.9.0,>=1.7.4 (from spacy==3.2.0)\n",
            "  Downloading pydantic-1.8.2-py3-none-any.whl (126 kB)\n",
            "\u001b[2K     \u001b[90m━━━━━━━━━━━━━━━━━━━━━━━━━━━━━━━━━━━━━━━━\u001b[0m \u001b[32m126.0/126.0 kB\u001b[0m \u001b[31m4.3 MB/s\u001b[0m eta \u001b[36m0:00:00\u001b[0m\n",
            "\u001b[?25hRequirement already satisfied: jinja2 in /usr/local/lib/python3.10/dist-packages (from spacy==3.2.0) (3.1.4)\n",
            "Requirement already satisfied: setuptools in /usr/local/lib/python3.10/dist-packages (from spacy==3.2.0) (67.7.2)\n",
            "Requirement already satisfied: packaging>=20.0 in /usr/local/lib/python3.10/dist-packages (from spacy==3.2.0) (24.1)\n",
            "Requirement already satisfied: langcodes<4.0.0,>=3.2.0 in /usr/local/lib/python3.10/dist-packages (from spacy==3.2.0) (3.4.0)\n",
            "Requirement already satisfied: language-data>=1.2 in /usr/local/lib/python3.10/dist-packages (from langcodes<4.0.0,>=3.2.0->spacy==3.2.0) (1.2.0)\n",
            "Collecting smart-open<7.0.0,>=5.2.1 (from pathy>=0.3.5->spacy==3.2.0)\n",
            "  Downloading smart_open-6.4.0-py3-none-any.whl (57 kB)\n",
            "\u001b[2K     \u001b[90m━━━━━━━━━━━━━━━━━━━━━━━━━━━━━━━━━━━━━━━━\u001b[0m \u001b[32m57.0/57.0 kB\u001b[0m \u001b[31m3.8 MB/s\u001b[0m eta \u001b[36m0:00:00\u001b[0m\n",
            "\u001b[?25hCollecting pathlib-abc==0.1.1 (from pathy>=0.3.5->spacy==3.2.0)\n",
            "  Downloading pathlib_abc-0.1.1-py3-none-any.whl (23 kB)\n",
            "Requirement already satisfied: typing-extensions>=3.7.4.3 in /usr/local/lib/python3.10/dist-packages (from pydantic!=1.8,!=1.8.1,<1.9.0,>=1.7.4->spacy==3.2.0) (4.12.2)\n",
            "Requirement already satisfied: charset-normalizer<4,>=2 in /usr/local/lib/python3.10/dist-packages (from requests<3.0.0,>=2.13.0->spacy==3.2.0) (3.3.2)\n",
            "Requirement already satisfied: idna<4,>=2.5 in /usr/local/lib/python3.10/dist-packages (from requests<3.0.0,>=2.13.0->spacy==3.2.0) (3.7)\n",
            "Requirement already satisfied: urllib3<3,>=1.21.1 in /usr/local/lib/python3.10/dist-packages (from requests<3.0.0,>=2.13.0->spacy==3.2.0) (2.0.7)\n",
            "Requirement already satisfied: certifi>=2017.4.17 in /usr/local/lib/python3.10/dist-packages (from requests<3.0.0,>=2.13.0->spacy==3.2.0) (2024.6.2)\n",
            "Requirement already satisfied: click<9.0.0,>=7.1.1 in /usr/local/lib/python3.10/dist-packages (from typer<0.5.0,>=0.3.0->spacy==3.2.0) (8.1.7)\n",
            "Requirement already satisfied: MarkupSafe>=2.0 in /usr/local/lib/python3.10/dist-packages (from jinja2->spacy==3.2.0) (2.1.5)\n",
            "Requirement already satisfied: marisa-trie>=0.7.7 in /usr/local/lib/python3.10/dist-packages (from language-data>=1.2->langcodes<4.0.0,>=3.2.0->spacy==3.2.0) (1.2.0)\n",
            "Installing collected packages: wasabi, typer, smart-open, pydantic, pathlib-abc, thinc, pathy, spacy\n",
            "  Attempting uninstall: wasabi\n",
            "    Found existing installation: wasabi 1.1.3\n",
            "    Uninstalling wasabi-1.1.3:\n",
            "      Successfully uninstalled wasabi-1.1.3\n",
            "  Attempting uninstall: typer\n",
            "    Found existing installation: typer 0.12.3\n",
            "    Uninstalling typer-0.12.3:\n",
            "      Successfully uninstalled typer-0.12.3\n",
            "  Attempting uninstall: smart-open\n",
            "    Found existing installation: smart-open 7.0.4\n",
            "    Uninstalling smart-open-7.0.4:\n",
            "      Successfully uninstalled smart-open-7.0.4\n",
            "  Attempting uninstall: pydantic\n",
            "    Found existing installation: pydantic 2.8.0\n",
            "    Uninstalling pydantic-2.8.0:\n",
            "      Successfully uninstalled pydantic-2.8.0\n",
            "  Attempting uninstall: thinc\n",
            "    Found existing installation: thinc 8.2.5\n",
            "    Uninstalling thinc-8.2.5:\n",
            "      Successfully uninstalled thinc-8.2.5\n",
            "  Attempting uninstall: spacy\n",
            "    Found existing installation: spacy 3.7.5\n",
            "    Uninstalling spacy-3.7.5:\n",
            "      Successfully uninstalled spacy-3.7.5\n",
            "\u001b[31mERROR: pip's dependency resolver does not currently take into account all the packages that are installed. This behaviour is the source of the following dependency conflicts.\n",
            "en-core-web-sm 3.7.1 requires spacy<3.8.0,>=3.7.2, but you have spacy 3.2.0 which is incompatible.\n",
            "inflect 7.0.0 requires pydantic>=1.9.1, but you have pydantic 1.8.2 which is incompatible.\u001b[0m\u001b[31m\n",
            "\u001b[0mSuccessfully installed pathlib-abc-0.1.1 pathy-0.11.0 pydantic-1.8.2 smart-open-6.4.0 spacy-3.2.0 thinc-8.0.17 typer-0.4.2 wasabi-0.10.1\n"
          ]
        }
      ],
      "source": [
        "!pip install -U spacy==3.2.0"
      ]
    },
    {
      "cell_type": "markdown",
      "source": [
        "Baixando a biblioteca do modelo pré-treinado em portugues:"
      ],
      "metadata": {
        "id": "iqaOiVI_Ckrc"
      }
    },
    {
      "cell_type": "code",
      "source": [
        "!python -m spacy download 'pt_core_news_lg'"
      ],
      "metadata": {
        "colab": {
          "base_uri": "https://localhost:8080/"
        },
        "collapsed": true,
        "id": "w_pUxaNmBoiE",
        "outputId": "7deb442f-2323-49c2-aec4-4b38514c2506"
      },
      "execution_count": 2,
      "outputs": [
        {
          "output_type": "stream",
          "name": "stdout",
          "text": [
            "2024-07-08 11:28:21.469291: E external/local_xla/xla/stream_executor/cuda/cuda_dnn.cc:9261] Unable to register cuDNN factory: Attempting to register factory for plugin cuDNN when one has already been registered\n",
            "2024-07-08 11:28:21.469357: E external/local_xla/xla/stream_executor/cuda/cuda_fft.cc:607] Unable to register cuFFT factory: Attempting to register factory for plugin cuFFT when one has already been registered\n",
            "2024-07-08 11:28:21.472710: E external/local_xla/xla/stream_executor/cuda/cuda_blas.cc:1515] Unable to register cuBLAS factory: Attempting to register factory for plugin cuBLAS when one has already been registered\n",
            "2024-07-08 11:28:21.490875: I tensorflow/core/platform/cpu_feature_guard.cc:182] This TensorFlow binary is optimized to use available CPU instructions in performance-critical operations.\n",
            "To enable the following instructions: AVX2 FMA, in other operations, rebuild TensorFlow with the appropriate compiler flags.\n",
            "2024-07-08 11:28:23.696722: W tensorflow/compiler/tf2tensorrt/utils/py_utils.cc:38] TF-TRT Warning: Could not find TensorRT\n",
            "\u001b[33mDEPRECATION: https://github.com/explosion/spacy-models/releases/download/pt_core_news_lg-3.2.0/pt_core_news_lg-3.2.0-py3-none-any.whl#egg=pt_core_news_lg==3.2.0 contains an egg fragment with a non-PEP 508 name pip 25.0 will enforce this behaviour change. A possible replacement is to use the req @ url syntax, and remove the egg fragment. Discussion can be found at https://github.com/pypa/pip/issues/11617\u001b[0m\u001b[33m\n",
            "\u001b[0mCollecting pt-core-news-lg==3.2.0\n",
            "  Downloading https://github.com/explosion/spacy-models/releases/download/pt_core_news_lg-3.2.0/pt_core_news_lg-3.2.0-py3-none-any.whl (577.4 MB)\n",
            "\u001b[2K     \u001b[90m━━━━━━━━━━━━━━━━━━━━━━━━━━━━━━━━━━━━━━━━\u001b[0m \u001b[32m577.4/577.4 MB\u001b[0m \u001b[31m2.4 MB/s\u001b[0m eta \u001b[36m0:00:00\u001b[0m\n",
            "\u001b[?25hRequirement already satisfied: spacy<3.3.0,>=3.2.0 in /usr/local/lib/python3.10/dist-packages (from pt-core-news-lg==3.2.0) (3.2.0)\n",
            "Requirement already satisfied: spacy-legacy<3.1.0,>=3.0.8 in /usr/local/lib/python3.10/dist-packages (from spacy<3.3.0,>=3.2.0->pt-core-news-lg==3.2.0) (3.0.12)\n",
            "Requirement already satisfied: spacy-loggers<2.0.0,>=1.0.0 in /usr/local/lib/python3.10/dist-packages (from spacy<3.3.0,>=3.2.0->pt-core-news-lg==3.2.0) (1.0.5)\n",
            "Requirement already satisfied: murmurhash<1.1.0,>=0.28.0 in /usr/local/lib/python3.10/dist-packages (from spacy<3.3.0,>=3.2.0->pt-core-news-lg==3.2.0) (1.0.10)\n",
            "Requirement already satisfied: cymem<2.1.0,>=2.0.2 in /usr/local/lib/python3.10/dist-packages (from spacy<3.3.0,>=3.2.0->pt-core-news-lg==3.2.0) (2.0.8)\n",
            "Requirement already satisfied: preshed<3.1.0,>=3.0.2 in /usr/local/lib/python3.10/dist-packages (from spacy<3.3.0,>=3.2.0->pt-core-news-lg==3.2.0) (3.0.9)\n",
            "Requirement already satisfied: thinc<8.1.0,>=8.0.12 in /usr/local/lib/python3.10/dist-packages (from spacy<3.3.0,>=3.2.0->pt-core-news-lg==3.2.0) (8.0.17)\n",
            "Requirement already satisfied: blis<0.8.0,>=0.4.0 in /usr/local/lib/python3.10/dist-packages (from spacy<3.3.0,>=3.2.0->pt-core-news-lg==3.2.0) (0.7.11)\n",
            "Requirement already satisfied: wasabi<1.1.0,>=0.8.1 in /usr/local/lib/python3.10/dist-packages (from spacy<3.3.0,>=3.2.0->pt-core-news-lg==3.2.0) (0.10.1)\n",
            "Requirement already satisfied: srsly<3.0.0,>=2.4.1 in /usr/local/lib/python3.10/dist-packages (from spacy<3.3.0,>=3.2.0->pt-core-news-lg==3.2.0) (2.4.8)\n",
            "Requirement already satisfied: catalogue<2.1.0,>=2.0.6 in /usr/local/lib/python3.10/dist-packages (from spacy<3.3.0,>=3.2.0->pt-core-news-lg==3.2.0) (2.0.10)\n",
            "Requirement already satisfied: typer<0.5.0,>=0.3.0 in /usr/local/lib/python3.10/dist-packages (from spacy<3.3.0,>=3.2.0->pt-core-news-lg==3.2.0) (0.4.2)\n",
            "Requirement already satisfied: pathy>=0.3.5 in /usr/local/lib/python3.10/dist-packages (from spacy<3.3.0,>=3.2.0->pt-core-news-lg==3.2.0) (0.11.0)\n",
            "Requirement already satisfied: tqdm<5.0.0,>=4.38.0 in /usr/local/lib/python3.10/dist-packages (from spacy<3.3.0,>=3.2.0->pt-core-news-lg==3.2.0) (4.66.4)\n",
            "Requirement already satisfied: numpy>=1.15.0 in /usr/local/lib/python3.10/dist-packages (from spacy<3.3.0,>=3.2.0->pt-core-news-lg==3.2.0) (1.25.2)\n",
            "Requirement already satisfied: requests<3.0.0,>=2.13.0 in /usr/local/lib/python3.10/dist-packages (from spacy<3.3.0,>=3.2.0->pt-core-news-lg==3.2.0) (2.31.0)\n",
            "Requirement already satisfied: pydantic!=1.8,!=1.8.1,<1.9.0,>=1.7.4 in /usr/local/lib/python3.10/dist-packages (from spacy<3.3.0,>=3.2.0->pt-core-news-lg==3.2.0) (1.8.2)\n",
            "Requirement already satisfied: jinja2 in /usr/local/lib/python3.10/dist-packages (from spacy<3.3.0,>=3.2.0->pt-core-news-lg==3.2.0) (3.1.4)\n",
            "Requirement already satisfied: setuptools in /usr/local/lib/python3.10/dist-packages (from spacy<3.3.0,>=3.2.0->pt-core-news-lg==3.2.0) (67.7.2)\n",
            "Requirement already satisfied: packaging>=20.0 in /usr/local/lib/python3.10/dist-packages (from spacy<3.3.0,>=3.2.0->pt-core-news-lg==3.2.0) (24.1)\n",
            "Requirement already satisfied: langcodes<4.0.0,>=3.2.0 in /usr/local/lib/python3.10/dist-packages (from spacy<3.3.0,>=3.2.0->pt-core-news-lg==3.2.0) (3.4.0)\n",
            "Requirement already satisfied: language-data>=1.2 in /usr/local/lib/python3.10/dist-packages (from langcodes<4.0.0,>=3.2.0->spacy<3.3.0,>=3.2.0->pt-core-news-lg==3.2.0) (1.2.0)\n",
            "Requirement already satisfied: smart-open<7.0.0,>=5.2.1 in /usr/local/lib/python3.10/dist-packages (from pathy>=0.3.5->spacy<3.3.0,>=3.2.0->pt-core-news-lg==3.2.0) (6.4.0)\n",
            "Requirement already satisfied: pathlib-abc==0.1.1 in /usr/local/lib/python3.10/dist-packages (from pathy>=0.3.5->spacy<3.3.0,>=3.2.0->pt-core-news-lg==3.2.0) (0.1.1)\n",
            "Requirement already satisfied: typing-extensions>=3.7.4.3 in /usr/local/lib/python3.10/dist-packages (from pydantic!=1.8,!=1.8.1,<1.9.0,>=1.7.4->spacy<3.3.0,>=3.2.0->pt-core-news-lg==3.2.0) (4.12.2)\n",
            "Requirement already satisfied: charset-normalizer<4,>=2 in /usr/local/lib/python3.10/dist-packages (from requests<3.0.0,>=2.13.0->spacy<3.3.0,>=3.2.0->pt-core-news-lg==3.2.0) (3.3.2)\n",
            "Requirement already satisfied: idna<4,>=2.5 in /usr/local/lib/python3.10/dist-packages (from requests<3.0.0,>=2.13.0->spacy<3.3.0,>=3.2.0->pt-core-news-lg==3.2.0) (3.7)\n",
            "Requirement already satisfied: urllib3<3,>=1.21.1 in /usr/local/lib/python3.10/dist-packages (from requests<3.0.0,>=2.13.0->spacy<3.3.0,>=3.2.0->pt-core-news-lg==3.2.0) (2.0.7)\n",
            "Requirement already satisfied: certifi>=2017.4.17 in /usr/local/lib/python3.10/dist-packages (from requests<3.0.0,>=2.13.0->spacy<3.3.0,>=3.2.0->pt-core-news-lg==3.2.0) (2024.6.2)\n",
            "Requirement already satisfied: click<9.0.0,>=7.1.1 in /usr/local/lib/python3.10/dist-packages (from typer<0.5.0,>=0.3.0->spacy<3.3.0,>=3.2.0->pt-core-news-lg==3.2.0) (8.1.7)\n",
            "Requirement already satisfied: MarkupSafe>=2.0 in /usr/local/lib/python3.10/dist-packages (from jinja2->spacy<3.3.0,>=3.2.0->pt-core-news-lg==3.2.0) (2.1.5)\n",
            "Requirement already satisfied: marisa-trie>=0.7.7 in /usr/local/lib/python3.10/dist-packages (from language-data>=1.2->langcodes<4.0.0,>=3.2.0->spacy<3.3.0,>=3.2.0->pt-core-news-lg==3.2.0) (1.2.0)\n",
            "Installing collected packages: pt-core-news-lg\n",
            "Successfully installed pt-core-news-lg-3.2.0\n",
            "\u001b[38;5;2m✔ Download and installation successful\u001b[0m\n",
            "You can now load the package via spacy.load('pt_core_news_lg')\n"
          ]
        }
      ]
    },
    {
      "cell_type": "code",
      "source": [
        "import spacy"
      ],
      "metadata": {
        "id": "bONb4uXfZf0B"
      },
      "execution_count": 3,
      "outputs": []
    },
    {
      "cell_type": "code",
      "source": [
        "nlp = spacy.load('pt_core_news_lg')"
      ],
      "metadata": {
        "colab": {
          "base_uri": "https://localhost:8080/"
        },
        "id": "8SnBmXlBZoKG",
        "outputId": "097391e5-993b-4c40-d7f9-aafd3c8a9498"
      },
      "execution_count": 4,
      "outputs": [
        {
          "output_type": "stream",
          "name": "stderr",
          "text": [
            "/usr/local/lib/python3.10/dist-packages/torch/__init__.py:747: UserWarning: torch.set_default_tensor_type() is deprecated as of PyTorch 2.1, please use torch.set_default_dtype() and torch.set_default_device() as alternatives. (Triggered internally at ../torch/csrc/tensor/python_tensor.cpp:431.)\n",
            "  _C._set_default_tensor_type(t)\n"
          ]
        }
      ]
    },
    {
      "cell_type": "code",
      "source": [
        "print(type(nlp))"
      ],
      "metadata": {
        "colab": {
          "base_uri": "https://localhost:8080/"
        },
        "id": "petBkgwFZzta",
        "outputId": "0c9850f5-9c65-4ced-cdb9-565762f28af0"
      },
      "execution_count": 5,
      "outputs": [
        {
          "output_type": "stream",
          "name": "stdout",
          "text": [
            "<class 'spacy.lang.pt.Portuguese'>\n"
          ]
        }
      ]
    },
    {
      "cell_type": "markdown",
      "source": [
        "vamos verificar o que tem no objeto:"
      ],
      "metadata": {
        "id": "VennVhZjaIb9"
      }
    },
    {
      "cell_type": "code",
      "source": [
        "print(nlp.pipe_names)"
      ],
      "metadata": {
        "colab": {
          "base_uri": "https://localhost:8080/"
        },
        "id": "D1fW8hNeZ7TZ",
        "outputId": "4dfddd41-8869-4d01-d2e0-e14b1627267f"
      },
      "execution_count": 6,
      "outputs": [
        {
          "output_type": "stream",
          "name": "stdout",
          "text": [
            "['tok2vec', 'morphologizer', 'parser', 'attribute_ruler', 'lemmatizer', 'ner']\n"
          ]
        }
      ]
    },
    {
      "cell_type": "code",
      "source": [
        "#Ao invez de subirmos um documento iremo criar e digitar seu dados dentro dele:\n",
        "\n",
        "documento = nlp(\"As ações da Magazine Luiza S.A.,Franca, Brasil, acumularam baixa de 70% ao ano. Assim já devolveram todos os ganhos do período da pandemia.\")\n",
        "#documento = nlp(\"alegações extraordinárias requerem evidências extraordinárias.carl sagan: 'https://carlsangan.com'\")"
      ],
      "metadata": {
        "id": "UaqEKsRFaSKC"
      },
      "execution_count": 8,
      "outputs": []
    },
    {
      "cell_type": "code",
      "source": [
        "len(documento.vocab)"
      ],
      "metadata": {
        "colab": {
          "base_uri": "https://localhost:8080/"
        },
        "id": "TgNYC5YIa1jU",
        "outputId": "fca8538b-49c2-4b3d-d26c-8725116ecae0"
      },
      "execution_count": 9,
      "outputs": [
        {
          "output_type": "execute_result",
          "data": {
            "text/plain": [
              "381"
            ]
          },
          "metadata": {},
          "execution_count": 9
        }
      ]
    },
    {
      "cell_type": "code",
      "source": [
        "print(type(documento))"
      ],
      "metadata": {
        "colab": {
          "base_uri": "https://localhost:8080/"
        },
        "id": "SqP3qzbBa5YL",
        "outputId": "6392bf41-b7b1-4866-d91d-98331a566ccd"
      },
      "execution_count": 10,
      "outputs": [
        {
          "output_type": "stream",
          "name": "stdout",
          "text": [
            "<class 'spacy.tokens.doc.Doc'>\n"
          ]
        }
      ]
    },
    {
      "cell_type": "markdown",
      "source": [
        "#Produção de Tokens"
      ],
      "metadata": {
        "id": "eDqLiVgxfn_f"
      }
    },
    {
      "cell_type": "markdown",
      "source": [
        "### Tokenization\n",
        "Processo de separar a sentença em suas partes: palavras, pontos, símbolos.\n",
        "\n",
        "![Exemplo](/Imagem/Tokenization.png)"
      ],
      "metadata": {
        "id": "1Yx6i-wBf7e3"
      }
    },
    {
      "cell_type": "code",
      "source": [
        "#pegar o nosso documento e fazer a tokenização dela.\n",
        "for token in documento:\n",
        "  print(token.text)"
      ],
      "metadata": {
        "colab": {
          "base_uri": "https://localhost:8080/"
        },
        "id": "0lVDp-pvbFrP",
        "outputId": "7c683296-b461-42ea-85c9-7e416a081312"
      },
      "execution_count": 11,
      "outputs": [
        {
          "output_type": "stream",
          "name": "stdout",
          "text": [
            "As\n",
            "ações\n",
            "da\n",
            "Magazine\n",
            "Luiza\n",
            "S.A.,Franca\n",
            ",\n",
            "Brasil\n",
            ",\n",
            "acumularam\n",
            "baixa\n",
            "de\n",
            "70\n",
            "%\n",
            "ao\n",
            "ano\n",
            ".\n",
            "Assim\n",
            "já\n",
            "devolveram\n",
            "todos\n",
            "os\n",
            "ganhos\n",
            "do\n",
            "período\n",
            "da\n",
            "pandemia\n",
            ".\n"
          ]
        }
      ]
    },
    {
      "cell_type": "code",
      "source": [
        "print(len(documento))"
      ],
      "metadata": {
        "colab": {
          "base_uri": "https://localhost:8080/"
        },
        "id": "EqMZhdQGG-6a",
        "outputId": "ba04d5d6-0689-4970-9dc3-171d4345e936"
      },
      "execution_count": 12,
      "outputs": [
        {
          "output_type": "stream",
          "name": "stdout",
          "text": [
            "28\n"
          ]
        }
      ]
    },
    {
      "cell_type": "markdown",
      "source": [
        "Identificar quais tokens é alfanumerico,stop word..."
      ],
      "metadata": {
        "id": "NAvxcyYKH4JR"
      }
    },
    {
      "cell_type": "code",
      "source": [
        "print(\"Token: \", [token.text for token in documento])\n",
        "print(\"Stop word: \", [token.is_stop for token in documento])\n",
        "print(\"Alfanumerico: \", [token.is_alpha for token in documento])\n",
        "print(\"Maísculo: \", [token.is_upper for token in documento])\n",
        "print(\"Pontuação: \", [token.is_punct for token in documento])\n",
        "print(\"Número: \", [token.like_num for token in documento])\n",
        "print(\"Setença Inicial: \", [token.is_sent_start for token in documento])"
      ],
      "metadata": {
        "colab": {
          "base_uri": "https://localhost:8080/"
        },
        "id": "L_4DZXRvHDWq",
        "outputId": "9f7c7f87-6dfc-4efd-b2e5-2355e0c382d4"
      },
      "execution_count": 13,
      "outputs": [
        {
          "output_type": "stream",
          "name": "stdout",
          "text": [
            "Token:  ['As', 'ações', 'da', 'Magazine', 'Luiza', 'S.A.,Franca', ',', 'Brasil', ',', 'acumularam', 'baixa', 'de', '70', '%', 'ao', 'ano', '.', 'Assim', 'já', 'devolveram', 'todos', 'os', 'ganhos', 'do', 'período', 'da', 'pandemia', '.']\n",
            "Stop word:  [True, False, True, False, False, False, False, False, False, False, False, True, False, False, True, False, False, True, True, False, True, True, False, True, False, True, False, False]\n",
            "Alfanumerico:  [True, True, True, True, True, False, False, True, False, True, True, True, False, False, True, True, False, True, True, True, True, True, True, True, True, True, True, False]\n",
            "Maísculo:  [False, False, False, False, False, False, False, False, False, False, False, False, False, False, False, False, False, False, False, False, False, False, False, False, False, False, False, False]\n",
            "Pontuação:  [False, False, False, False, False, False, True, False, True, False, False, False, False, True, False, False, True, False, False, False, False, False, False, False, False, False, False, True]\n",
            "Número:  [False, False, False, False, False, False, False, False, False, False, False, False, True, False, False, False, False, False, False, False, False, False, False, False, False, False, False, False]\n",
            "Setença Inicial:  [True, False, False, False, False, False, False, False, False, False, False, False, False, False, False, False, False, True, False, False, False, False, False, False, False, False, False, False]\n"
          ]
        }
      ]
    },
    {
      "cell_type": "code",
      "source": [
        "#mostrar o formato das palavras\n",
        "print(\"Tokens: \", [token.text for token in documento])\n",
        "print(\"Formato: \", [token.shape_ for token in documento])"
      ],
      "metadata": {
        "colab": {
          "base_uri": "https://localhost:8080/"
        },
        "id": "Yd6Nd3ccH_ud",
        "outputId": "debf6cf8-1a78-457b-fc5e-5540fb96c113"
      },
      "execution_count": 15,
      "outputs": [
        {
          "output_type": "stream",
          "name": "stdout",
          "text": [
            "Tokens:  ['As', 'ações', 'da', 'Magazine', 'Luiza', 'S.A.,Franca', ',', 'Brasil', ',', 'acumularam', 'baixa', 'de', '70', '%', 'ao', 'ano', '.', 'Assim', 'já', 'devolveram', 'todos', 'os', 'ganhos', 'do', 'período', 'da', 'pandemia', '.']\n",
            "Formato:  ['Xx', 'xxxx', 'xx', 'Xxxxx', 'Xxxxx', 'X.X.,Xxxxx', ',', 'Xxxxx', ',', 'xxxx', 'xxxx', 'xx', 'dd', '%', 'xx', 'xxx', '.', 'Xxxxx', 'xx', 'xxxx', 'xxxx', 'xx', 'xxxx', 'xx', 'xxxx', 'xx', 'xxxx', '.']\n"
          ]
        }
      ]
    },
    {
      "cell_type": "code",
      "source": [
        "for token in documento:\n",
        "  if token.like_num:\n",
        "    print(\"Número encontrado: \", token.text)\n",
        "  if token.is_punct:\n",
        "    print(\"Pontuação encontrada: \", token.text)"
      ],
      "metadata": {
        "colab": {
          "base_uri": "https://localhost:8080/"
        },
        "id": "gniP4yYeIPUQ",
        "outputId": "3d7045d0-c0f6-4577-8697-edb296a6d8b0"
      },
      "execution_count": 17,
      "outputs": [
        {
          "output_type": "stream",
          "name": "stdout",
          "text": [
            "Pontuação encontrada:  ,\n",
            "Pontuação encontrada:  ,\n",
            "Número encontrado:  70\n",
            "Pontuação encontrada:  %\n",
            "Pontuação encontrada:  .\n",
            "Pontuação encontrada:  .\n"
          ]
        }
      ]
    },
    {
      "cell_type": "markdown",
      "source": [
        "#Part-Of-Speech (POS)\n",
        "Adiciona tags a cada token, como por exemplo, se é verbo, substantivo, etc.\n",
        "\n",
        "![Exemplo](/Imagem/PartsOfSpeechTaggong.png)"
      ],
      "metadata": {
        "id": "DpsbIXLQJFsH"
      }
    },
    {
      "cell_type": "markdown",
      "source": [
        "O spaCy também gera as dependências dos tokens, que são as dependências sintáticas que existem entre os diferentes tokens."
      ],
      "metadata": {
        "id": "2zdMLDCpLwIn"
      }
    },
    {
      "cell_type": "code",
      "source": [
        "# Os atributos com subscrito (_) mostram a representação textual do valor; sem o subscrito, eles podem retornar códigos numéricos que representam esses valores. Na verdade, eles trazem a referência para o objeto.\n",
        "for token in documento:\n",
        "  print(token.text, \" - \", token.pos_, \" - \", token.dep_ , \" - \", token.lemma_ , \" - \", token.shape_)"
      ],
      "metadata": {
        "colab": {
          "base_uri": "https://localhost:8080/"
        },
        "id": "YtFlI-mHIvSI",
        "outputId": "dde5b9c6-567c-470d-cbf8-c3bc82e0f224"
      },
      "execution_count": 23,
      "outputs": [
        {
          "output_type": "stream",
          "name": "stdout",
          "text": [
            "As  -  DET  -  det  -  As  -  Xx\n",
            "ações  -  NOUN  -  nsubj  -  ações  -  xxxx\n",
            "da  -  ADP  -  case  -  da  -  xx\n",
            "Magazine  -  PROPN  -  nmod  -  Magazine  -  Xxxxx\n",
            "Luiza  -  PROPN  -  appos  -  Luiza  -  Xxxxx\n",
            "S.A.,Franca  -  PROPN  -  flat:name  -  S.A.,Franca  -  X.X.,Xxxxx\n",
            ",  -  PUNCT  -  punct  -  ,  -  ,\n",
            "Brasil  -  PROPN  -  conj  -  Brasil  -  Xxxxx\n",
            ",  -  PUNCT  -  punct  -  ,  -  ,\n",
            "acumularam  -  VERB  -  ROOT  -  acumular  -  xxxx\n",
            "baixa  -  NOUN  -  obj  -  baixo  -  xxxx\n",
            "de  -  ADP  -  case  -  de  -  xx\n",
            "70  -  NUM  -  nummod  -  70  -  dd\n",
            "%  -  SYM  -  nmod  -  %  -  %\n",
            "ao  -  ADP  -  case  -  ao  -  xx\n",
            "ano  -  NOUN  -  obl  -  ano  -  xxx\n",
            ".  -  PUNCT  -  punct  -  .  -  .\n",
            "Assim  -  ADV  -  advmod  -  Assim  -  Xxxxx\n",
            "já  -  ADV  -  advmod  -  já  -  xx\n",
            "devolveram  -  VERB  -  ROOT  -  devolver  -  xxxx\n",
            "todos  -  DET  -  det  -  todo  -  xxxx\n",
            "os  -  DET  -  det  -  o  -  xx\n",
            "ganhos  -  NOUN  -  obj  -  ganho  -  xxxx\n",
            "do  -  ADP  -  case  -  do  -  xx\n",
            "período  -  NOUN  -  nmod  -  período  -  xxxx\n",
            "da  -  ADP  -  case  -  da  -  xx\n",
            "pandemia  -  NOUN  -  nmod  -  pandemia  -  xxxx\n",
            ".  -  PUNCT  -  punct  -  .  -  .\n"
          ]
        }
      ]
    },
    {
      "cell_type": "code",
      "source": [
        "#Traz uma descrição morfológica das palavras:\n",
        "for token in documento:\n",
        "  print(token.text, \" - \", token.morph)"
      ],
      "metadata": {
        "colab": {
          "base_uri": "https://localhost:8080/"
        },
        "id": "sIhTLD6cMeK0",
        "outputId": "1f13fe61-baff-491e-ebb7-5850536e7e1e"
      },
      "execution_count": 26,
      "outputs": [
        {
          "output_type": "stream",
          "name": "stdout",
          "text": [
            "As  -  Definite=Def|Gender=Fem|Number=Plur|PronType=Art\n",
            "ações  -  Gender=Fem|Number=Plur\n",
            "da  -  Definite=Def|Gender=Fem|Number=Sing|PronType=Art\n",
            "Magazine  -  Gender=Fem|Number=Sing\n",
            "Luiza  -  Gender=Fem|Number=Sing\n",
            "S.A.,Franca  -  Number=Sing\n",
            ",  -  \n",
            "Brasil  -  Gender=Masc|Number=Sing\n",
            ",  -  \n",
            "acumularam  -  Mood=Ind|Number=Plur|Person=3|Tense=Past|VerbForm=Fin\n",
            "baixa  -  Gender=Fem|Number=Sing\n",
            "de  -  \n",
            "70  -  NumType=Card\n",
            "%  -  \n",
            "ao  -  Definite=Def|Gender=Masc|Number=Sing|PronType=Art\n",
            "ano  -  Gender=Masc|Number=Sing\n",
            ".  -  \n",
            "Assim  -  \n",
            "já  -  \n",
            "devolveram  -  Mood=Ind|Number=Plur|Person=3|Tense=Past|VerbForm=Fin\n",
            "todos  -  Gender=Masc|Number=Plur|PronType=Tot\n",
            "os  -  Definite=Def|Gender=Masc|Number=Plur|PronType=Art\n",
            "ganhos  -  Gender=Masc|Number=Plur\n",
            "do  -  Definite=Def|Gender=Masc|Number=Sing|PronType=Art\n",
            "período  -  Gender=Masc|Number=Sing\n",
            "da  -  Definite=Def|Gender=Fem|Number=Sing|PronType=Art\n",
            "pandemia  -  Gender=Fem|Number=Sing\n",
            ".  -  \n"
          ]
        }
      ]
    },
    {
      "cell_type": "code",
      "source": [
        "#Mais refinada:\n",
        "for token in documento:\n",
        "  print(token.text, \" - \", token.tag_)"
      ],
      "metadata": {
        "colab": {
          "base_uri": "https://localhost:8080/"
        },
        "id": "3diTc5cDOPmE",
        "outputId": "4735063f-a3c1-4cb7-9df8-353060b607ef"
      },
      "execution_count": 27,
      "outputs": [
        {
          "output_type": "stream",
          "name": "stdout",
          "text": [
            "As  -  DET\n",
            "ações  -  NOUN\n",
            "da  -  ADP\n",
            "Magazine  -  PROPN\n",
            "Luiza  -  PROPN\n",
            "S.A.,Franca  -  PROPN\n",
            ",  -  PUNCT\n",
            "Brasil  -  PROPN\n",
            ",  -  PUNCT\n",
            "acumularam  -  VERB\n",
            "baixa  -  NOUN\n",
            "de  -  ADP\n",
            "70  -  NUM\n",
            "%  -  SYM\n",
            "ao  -  ADP\n",
            "ano  -  NOUN\n",
            ".  -  PUNCT\n",
            "Assim  -  ADV\n",
            "já  -  ADV\n",
            "devolveram  -  VERB\n",
            "todos  -  DET\n",
            "os  -  DET\n",
            "ganhos  -  NOUN\n",
            "do  -  ADP\n",
            "período  -  NOUN\n",
            "da  -  ADP\n",
            "pandemia  -  NOUN\n",
            ".  -  PUNCT\n"
          ]
        }
      ]
    },
    {
      "cell_type": "markdown",
      "source": [
        "####Listando Entidade Nomeadas\n",
        "\n",
        "lista de entidades nomeadas do spacy:\n",
        "\n",
        "![image.png](data:image/png;base64,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)"
      ],
      "metadata": {
        "id": "a-8y2BQeO82P"
      }
    },
    {
      "cell_type": "code",
      "source": [
        "for ent in documento.ents:\n",
        "  print(ent.text, \" - \", ent.label_)"
      ],
      "metadata": {
        "colab": {
          "base_uri": "https://localhost:8080/"
        },
        "id": "56jdjIFoOseO",
        "outputId": "26ba5ff7-421b-4c99-f54f-fd3f00986ca1"
      },
      "execution_count": 28,
      "outputs": [
        {
          "output_type": "stream",
          "name": "stdout",
          "text": [
            "Magazine Luiza  -  ORG\n",
            "Brasil  -  LOC\n"
          ]
        }
      ]
    },
    {
      "cell_type": "markdown",
      "source": [
        "####Gerenciando Stop Words"
      ],
      "metadata": {
        "id": "4LtbjHosRKAl"
      }
    },
    {
      "cell_type": "code",
      "source": [
        "for token in documento:\n",
        "  if token.is_stop:\n",
        "    print(\"Stop Word: \",token.text)"
      ],
      "metadata": {
        "colab": {
          "base_uri": "https://localhost:8080/"
        },
        "id": "SLqs6DlpQ3Uk",
        "outputId": "88a51abc-6964-4850-afbb-ac4cfb0b55b7"
      },
      "execution_count": 29,
      "outputs": [
        {
          "output_type": "stream",
          "name": "stdout",
          "text": [
            "Stop Word:  As\n",
            "Stop Word:  da\n",
            "Stop Word:  de\n",
            "Stop Word:  ao\n",
            "Stop Word:  Assim\n",
            "Stop Word:  já\n",
            "Stop Word:  todos\n",
            "Stop Word:  os\n",
            "Stop Word:  do\n",
            "Stop Word:  da\n"
          ]
        }
      ]
    },
    {
      "cell_type": "code",
      "source": [
        "for words in nlp.Defaults.stop_words:\n",
        "  print(words)"
      ],
      "metadata": {
        "colab": {
          "base_uri": "https://localhost:8080/"
        },
        "id": "8pamoWQKRXjc",
        "outputId": "c16e1e89-1a70-4366-9fdd-9b18c95ea88a"
      },
      "execution_count": 30,
      "outputs": [
        {
          "output_type": "stream",
          "name": "stdout",
          "text": [
            "custa\n",
            "dentro\n",
            "quinze\n",
            "sei\n",
            "dizer\n",
            "vos\n",
            "de\n",
            "aos\n",
            "conselho\n",
            "quieto\n",
            "pode\n",
            "dizem\n",
            "quarto\n",
            "naquele\n",
            "vens\n",
            "apenas\n",
            "valor\n",
            "quando\n",
            "dão\n",
            "isso\n",
            "portanto\n",
            "comprido\n",
            "estará\n",
            "vez\n",
            "naquela\n",
            "uma\n",
            "cada\n",
            "apontar\n",
            "temos\n",
            "vosso\n",
            "para\n",
            "fui\n",
            "outra\n",
            "vão\n",
            "foste\n",
            "tivestes\n",
            "e\n",
            "dezassete\n",
            "ou\n",
            "eu\n",
            "maiorias\n",
            "numa\n",
            "vais\n",
            "vossas\n",
            "corrente\n",
            "todas\n",
            "agora\n",
            "ora\n",
            "qual\n",
            "sétimo\n",
            "meses\n",
            "umas\n",
            "vezes\n",
            "grandes\n",
            "estar\n",
            "tu\n",
            "sem\n",
            "quarta\n",
            "antes\n",
            "ele\n",
            "num\n",
            "obrigado\n",
            "então\n",
            "neste\n",
            "elas\n",
            "essa\n",
            "seis\n",
            "estás\n",
            "tive\n",
            "tanta\n",
            "pouca\n",
            "segundo\n",
            "tuas\n",
            "em\n",
            "aquela\n",
            "era\n",
            "pegar\n",
            "usa\n",
            "lugar\n",
            "oito\n",
            "ainda\n",
            "esse\n",
            "possível\n",
            "último\n",
            "isto\n",
            "sabe\n",
            "quero\n",
            "treze\n",
            "dessa\n",
            "direita\n",
            "estava\n",
            "faz\n",
            "tentaram\n",
            "dá\n",
            "questão\n",
            "uns\n",
            "nós\n",
            "talvez\n",
            "nuns\n",
            "nova\n",
            "tente\n",
            "pelos\n",
            "devem\n",
            "oitavo\n",
            "às\n",
            "aqueles\n",
            "esses\n",
            "ambas\n",
            "teve\n",
            "pela\n",
            "adeus\n",
            "à\n",
            "certamente\n",
            "posição\n",
            "fazem\n",
            "somos\n",
            "estiveste\n",
            "também\n",
            "demais\n",
            "nessa\n",
            "foram\n",
            "enquanto\n",
            "nada\n",
            "sete\n",
            "catorze\n",
            "quieta\n",
            "estes\n",
            "vinda\n",
            "dezoito\n",
            "desde\n",
            "vai\n",
            "estou\n",
            "local\n",
            "seu\n",
            "tiveste\n",
            "primeira\n",
            "possivelmente\n",
            "meu\n",
            "saber\n",
            "puderam\n",
            "tarde\n",
            "ontem\n",
            "a\n",
            "aí\n",
            "têm\n",
            "nenhuma\n",
            "terceiro\n",
            "vinte\n",
            "cento\n",
            "breve\n",
            "vêm\n",
            "foi\n",
            "podem\n",
            "cá\n",
            "seria\n",
            "novos\n",
            "usar\n",
            "mal\n",
            "por\n",
            "entre\n",
            "vários\n",
            "fim\n",
            "grande\n",
            "ponto\n",
            "querem\n",
            "faço\n",
            "tens\n",
            "fez\n",
            "ser\n",
            "com\n",
            "estas\n",
            "seus\n",
            "alguns\n",
            "como\n",
            "baixo\n",
            "meio\n",
            "bastante\n",
            "podia\n",
            "mais\n",
            "tentar\n",
            "nem\n",
            "nossas\n",
            "quê\n",
            "favor\n",
            "ligado\n",
            "porquanto\n",
            "fazemos\n",
            "na\n",
            "todo\n",
            "apoia\n",
            "nível\n",
            "estão\n",
            "teu\n",
            "mas\n",
            "conhecido\n",
            "estiveram\n",
            "põem\n",
            "boa\n",
            "final\n",
            "parece\n",
            "no\n",
            "dezasseis\n",
            "tivemos\n",
            "poderá\n",
            "doze\n",
            "números\n",
            "quem\n",
            "segunda\n",
            "é\n",
            "eventual\n",
            "fostes\n",
            "cujo\n",
            "toda\n",
            "assim\n",
            "tipo\n",
            "mesmo\n",
            "lado\n",
            "ademais\n",
            "aquelas\n",
            "essas\n",
            "vós\n",
            "des\n",
            "obrigada\n",
            "quanto\n",
            "parte\n",
            "vossa\n",
            "pelo\n",
            "muito\n",
            "perto\n",
            "veja\n",
            "tão\n",
            "próximo\n",
            "algumas\n",
            "máximo\n",
            "longe\n",
            "fazer\n",
            "teus\n",
            "relação\n",
            "tempo\n",
            "através\n",
            "nosso\n",
            "conhecida\n",
            "menos\n",
            "dos\n",
            "pois\n",
            "duas\n",
            "próprio\n",
            "das\n",
            "primeiro\n",
            "põe\n",
            "eles\n",
            "deverá\n",
            "sobre\n",
            "tentei\n",
            "contra\n",
            "te\n",
            "os\n",
            "este\n",
            "onze\n",
            "as\n",
            "tudo\n",
            "somente\n",
            "da\n",
            "suas\n",
            "sexta\n",
            "nossa\n",
            "quatro\n",
            "aquilo\n",
            "porque\n",
            "diz\n",
            "poder\n",
            "disso\n",
            "fará\n",
            "nos\n",
            "dez\n",
            "dois\n",
            "muitos\n",
            "sistema\n",
            "vossos\n",
            "novo\n",
            "oitava\n",
            "ambos\n",
            "um\n",
            "irá\n",
            "momento\n",
            "tenho\n",
            "mês\n",
            "coisa\n",
            "três\n",
            "nas\n",
            "quais\n",
            "lhe\n",
            "esta\n",
            "inicio\n",
            "minhas\n",
            "outras\n",
            "não\n",
            "lá\n",
            "grupo\n",
            "está\n",
            "fomos\n",
            "quinta\n",
            "me\n",
            "posso\n",
            "quinto\n",
            "ir\n",
            "sim\n",
            "estivemos\n",
            "estive\n",
            "bem\n",
            "porquê\n",
            "fora\n",
            "iniciar\n",
            "atrás\n",
            "após\n",
            "meus\n",
            "pelas\n",
            "bom\n",
            "sou\n",
            "próxima\n",
            "forma\n",
            "deste\n",
            "logo\n",
            "tiveram\n",
            "esteve\n",
            "pôde\n",
            "só\n",
            "for\n",
            "área\n",
            "sua\n",
            "onde\n",
            "vem\n",
            "pontos\n",
            "exemplo\n",
            "o\n",
            "sempre\n",
            "ali\n",
            "terceira\n",
            "minha\n",
            "nesse\n",
            "sob\n",
            "fazia\n",
            "deve\n",
            "já\n",
            "aquele\n",
            "vocês\n",
            "desse\n",
            "desta\n",
            "sétima\n",
            "ver\n",
            "outros\n",
            "cedo\n",
            "dar\n",
            "qualquer\n",
            "apoio\n",
            "debaixo\n",
            "novas\n",
            "povo\n",
            "pouco\n",
            "cuja\n",
            "diante\n",
            "tendes\n",
            "até\n",
            "inclusive\n",
            "sois\n",
            "tanto\n",
            "cinco\n",
            "daquele\n",
            "estado\n",
            "nunca\n",
            "todos\n",
            "que\n",
            "do\n",
            "mil\n",
            "aqui\n",
            "fazes\n",
            "és\n",
            "tua\n",
            "nesta\n",
            "cima\n",
            "daquela\n",
            "embora\n",
            "você\n",
            "algo\n",
            "falta\n",
            "número\n",
            "nossos\n",
            "caminho\n",
            "fazeis\n",
            "contudo\n",
            "geral\n",
            "maioria\n",
            "partir\n",
            "sexto\n",
            "porém\n",
            "vindo\n",
            "acerca\n",
            "certeza\n",
            "além\n",
            "se\n",
            "estivestes\n",
            "tais\n",
            "nove\n",
            "tal\n",
            "dezanove\n",
            "maior\n",
            "ao\n",
            "quer\n",
            "são\n",
            "zero\n",
            "menor\n",
            "comprida\n",
            "ter\n",
            "tem\n",
            "depois\n",
            "ela\n"
          ]
        }
      ]
    },
    {
      "cell_type": "code",
      "source": [
        "#caso tenha alguma palavra que queira adicionar na stop word, que o spacy não tenha colocado:\n",
        "\n",
        "nlp.Defaults.stop_words.add('eita')\n",
        "nlp.vocab['eita'].is_stop = True"
      ],
      "metadata": {
        "id": "JSqjegw6Rf8U"
      },
      "execution_count": 31,
      "outputs": []
    },
    {
      "cell_type": "code",
      "source": [
        "nlp.vocab['eita'].is_stop"
      ],
      "metadata": {
        "colab": {
          "base_uri": "https://localhost:8080/"
        },
        "id": "5w69MeR_R3I1",
        "outputId": "a3d0b216-fecc-4b95-f746-c912cfbff76e"
      },
      "execution_count": 32,
      "outputs": [
        {
          "output_type": "execute_result",
          "data": {
            "text/plain": [
              "True"
            ]
          },
          "metadata": {},
          "execution_count": 32
        }
      ]
    },
    {
      "cell_type": "code",
      "source": [
        "#remover as stop words no nosso corpous:\n",
        "#crio uma lista com todos os tokens>\n",
        "token_lista = []\n",
        "for token in documento:\n",
        "  token_lista.append(token.text)\n",
        "\n",
        "#Agora vou ter uma lista stop words:\n",
        "stop_lista=[]\n",
        "for token in token_lista:\n",
        "  if token in nlp.Defaults.stop_words:\n",
        "    stop_lista.append(token)\n",
        "\n",
        "\n",
        "#Lista dos tokens sem o stop word:\n",
        "\n",
        "semStop = [ word for word in token_lista if word not in stop_lista]\n",
        "\n",
        "print(documento.text)\n",
        "\n",
        "print()\n",
        "\n",
        "print(semStop)\n",
        "\n",
        "\n"
      ],
      "metadata": {
        "colab": {
          "base_uri": "https://localhost:8080/"
        },
        "id": "cQbeA96tR64-",
        "outputId": "6d7a11c2-b5cf-4f5e-9cd3-228180145f99"
      },
      "execution_count": 36,
      "outputs": [
        {
          "output_type": "stream",
          "name": "stdout",
          "text": [
            "As ações da Magazine Luiza S.A.,Franca, Brasil, acumularam baixa de 70% ao ano. Assim já devolveram todos os ganhos do período da pandemia.\n",
            "\n",
            "['As', 'ações', 'Magazine', 'Luiza', 'S.A.,Franca', ',', 'Brasil', ',', 'acumularam', 'baixa', '70', '%', 'ano', '.', 'Assim', 'devolveram', 'ganhos', 'período', 'pandemia', '.']\n"
          ]
        }
      ]
    },
    {
      "cell_type": "markdown",
      "source": [
        "####Vocabulário\n",
        "\n",
        "![image.png](data:image/png;base64,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)\n",
        "\n",
        "\n",
        "Esta imagem ilustra como o spaCy processa e armazena informações sobre o texto em três componentes principais:\n",
        "\n",
        "DOC (Documento): Representa o texto processado, dividido em unidades chamadas tokens. Cada token possui atributos associados, como parte do discurso (PRON para pronome, VERB para verbo, NOUN para substantivo) e relações sintáticas com outros tokens (indicadas pelas setas nsubj e dobj, que representam sujeito nominal e objeto direto, respectivamente).\n",
        "\n",
        "VOCAB (Vocabulário): Armazena lexemas, que são as formas canônicas das palavras. Cada token no documento é vinculado a um lexema no Vocab, identificado por um hash numérico único. Esse sistema de hashing facilita uma recuperação rápida e eficiente das informações das palavras.\n",
        "\n",
        "STRING STORE (Armazenamento de Strings): É uma tabela que mapeia os hashes numéricos dos lexemas de volta para as strings de texto originais. Isso permite que o spaCy recupere rapidamente a forma de texto de qualquer palavra usando seu hash, associando-o novamente à sua forma textual, como \"I\", \"love\", e \"coffee\" para os hashes mostrados.\n",
        "\n",
        "Essa estrutura integrada permite que o spaCy seja extremamente eficiente na análise e manipulação de textos, fornecendo acesso rápido às informações detalhadas de cada palavra processada."
      ],
      "metadata": {
        "id": "ab68XEsSVuiT"
      }
    },
    {
      "cell_type": "code",
      "source": [
        "# a palavra \"dados\" tem que ter o mesmo hash:\n",
        "print(\"Hash: \", nlp.vocab.strings[\"dados\"])\n",
        "print(\"Hash: \", documento.vocab.strings[\"dados\"])\n",
        "\n",
        "#Qual a string referente ao hash:\n",
        "print(\"String: \", nlp.vocab.strings [6013848609874238634])\n"
      ],
      "metadata": {
        "colab": {
          "base_uri": "https://localhost:8080/"
        },
        "id": "Ac3y9pj4S9iE",
        "outputId": "ac011364-dcff-4895-bb78-8d2b41268f5b"
      },
      "execution_count": 45,
      "outputs": [
        {
          "output_type": "stream",
          "name": "stdout",
          "text": [
            "Hash:  6013848609874238634\n",
            "Hash:  6013848609874238634\n",
            "String:  dados\n"
          ]
        }
      ]
    },
    {
      "cell_type": "code",
      "source": [
        "lex = nlp.vocab['dados']\n",
        "print(lex.text, \" _ \", lex.orth, \" _ \", lex.is_alpha, \" _ \", lex.is_lower)"
      ],
      "metadata": {
        "colab": {
          "base_uri": "https://localhost:8080/"
        },
        "id": "9qKBtoojWdfl",
        "outputId": "4067bdf1-dc2a-4a50-f252-4e4da672eca1"
      },
      "execution_count": 46,
      "outputs": [
        {
          "output_type": "stream",
          "name": "stdout",
          "text": [
            "dados  _  6013848609874238634  _  True  _  True\n"
          ]
        }
      ]
    },
    {
      "cell_type": "markdown",
      "source": [
        "######Embedding (Incorporação de Palavras)\n",
        "Um embedding, ou incorporação de palavras, é uma representação de texto em forma de vetor num espaço de características contínuas, onde palavras semanticamente similares estão próximas umas das outras.\n",
        "\n",
        "- O código abaixo é usado para explorar a representação vetorial, ou embedding, da palavra \"dados\" em um modelo de linguagem processado pelo spaCy."
      ],
      "metadata": {
        "id": "FyvdKHzNX_Jg"
      }
    },
    {
      "cell_type": "code",
      "source": [
        "print(nlp(\"dados\").vector.shape)"
      ],
      "metadata": {
        "colab": {
          "base_uri": "https://localhost:8080/"
        },
        "id": "sCr_EO_FXlng",
        "outputId": "35aa66db-19ae-47b0-8d44-2d6ca5902faa"
      },
      "execution_count": 48,
      "outputs": [
        {
          "output_type": "stream",
          "name": "stdout",
          "text": [
            "(300,)\n"
          ]
        }
      ]
    },
    {
      "cell_type": "code",
      "source": [
        "#Se eu quiser ver todo o vetor eu retiro o shape:\n",
        "# os 300 peso da palavras em relação a outras 300 palavras\n",
        "print(nlp(\"dados\").vector)"
      ],
      "metadata": {
        "colab": {
          "base_uri": "https://localhost:8080/"
        },
        "id": "LJ46R6uWX63x",
        "outputId": "c7f15060-5789-44a2-8ff7-c7e50019b0ee"
      },
      "execution_count": 50,
      "outputs": [
        {
          "output_type": "stream",
          "name": "stdout",
          "text": [
            "[-1.8078e+00 -2.8421e+00 -5.5345e-01 -4.0565e+00 -2.3565e+00  4.7295e+00\n",
            " -3.3508e+00 -1.2036e+00 -5.3749e+00 -7.5768e-01 -2.0015e+00  5.3618e+00\n",
            "  2.2789e-01  1.2136e+00 -1.4418e+00 -3.0621e+00  2.2060e+00  1.1943e+00\n",
            " -1.8689e+00 -5.9128e+00 -5.1929e-01  2.1897e+00 -2.4651e+00  1.7600e+00\n",
            " -5.6308e+00  1.0053e+00  7.3080e-01  2.0417e-01 -6.0370e+00  1.7474e+00\n",
            "  2.0375e+00  2.7541e+00 -1.0423e+00  1.7632e+00 -1.4484e+00 -2.4344e+00\n",
            " -8.6094e-01  1.7867e+00 -4.9920e+00 -3.1162e+00 -5.3973e-01  2.4241e+00\n",
            "  4.4410e-01 -4.7503e+00  2.1383e+00  3.8537e-01 -2.2418e+00  5.8104e+00\n",
            " -1.1731e+00  2.4686e-02 -1.8413e+00 -5.9321e+00 -7.0872e-03 -2.3093e+00\n",
            "  5.5101e+00 -4.1795e-01  2.9754e+00  3.6709e-01 -8.0867e-01 -1.3751e+00\n",
            "  4.8132e+00 -2.2835e+00 -2.0920e-01  1.2578e+00  4.3466e+00  1.3846e+00\n",
            " -1.5847e+00  3.3322e+00 -4.3669e+00  1.8883e+00 -1.2312e+00  3.7902e-01\n",
            "  8.6331e-01 -4.0607e+00 -1.3444e+00  4.5210e+00  2.2995e-01 -5.9245e+00\n",
            " -2.0598e-01 -3.1810e+00 -3.8640e+00  7.2114e+00  3.1034e+00 -4.2856e+00\n",
            "  5.4147e+00 -7.2224e+00  4.3610e+00 -2.6696e+00  1.9245e+00 -2.6187e+00\n",
            " -5.1742e+00  1.0513e-01  1.9628e+00  1.0356e+00  6.8692e+00 -7.3888e-01\n",
            "  3.8783e+00  4.1958e+00 -8.8872e+00 -1.8452e+00  5.2786e+00  4.2920e+00\n",
            " -4.2204e-01  1.0009e+00  4.2165e-01  1.1927e+00 -8.4580e-01 -2.6577e+00\n",
            "  1.5024e+00  4.4229e-01 -2.5251e+00 -7.1781e-01  7.0878e-01  1.7207e+00\n",
            "  3.8369e+00 -1.5924e+00  2.0870e+00  4.3324e-01 -1.0600e+00  2.7058e+00\n",
            "  1.3282e+00 -7.1241e+00 -1.3663e+00 -3.0763e+00  2.7714e+00  1.3094e+00\n",
            "  1.6072e+00  3.6821e+00  5.3843e+00 -3.5457e-02 -2.9616e+00  1.5253e+00\n",
            "  2.0812e-01  6.0771e-01 -5.5709e-01  7.5687e+00 -9.1431e-01 -3.0477e+00\n",
            "  1.2046e+00  5.3871e-01  5.7112e-01  2.2039e+00 -5.1948e-02 -2.6353e+00\n",
            " -2.8517e+00  1.8675e-01  2.1013e+00  7.5272e-01 -8.7856e+00 -1.4493e+00\n",
            " -7.9085e-01 -1.6936e+00  1.4793e-02 -9.9357e+00  3.7818e+00 -1.7839e+00\n",
            "  1.5425e+00 -3.0899e-02 -5.1442e+00  4.2366e-01  3.2065e+00  3.9226e+00\n",
            " -1.4392e-02  1.5862e+00  7.0632e+00  7.5689e+00 -3.4420e+00 -6.1376e+00\n",
            "  5.0851e-01 -6.3689e-01 -1.8791e-01  1.9850e+00  3.0888e+00 -3.0506e+00\n",
            "  1.1851e-01 -1.2290e+00  7.6061e+00  1.8492e-01 -2.7509e+00 -1.3448e+00\n",
            "  1.9857e+00 -2.4650e+00 -2.0810e+00  5.6084e+00 -7.3379e-01  1.1205e+00\n",
            "  1.3258e-02 -7.0243e-01  1.0118e+00  3.8903e+00 -1.2631e+00 -2.7544e+00\n",
            "  9.3134e-01  2.7516e+00 -1.6767e+00  4.5501e+00 -4.9452e-01  1.0644e+00\n",
            " -1.2653e+00  3.9671e-01 -6.4705e+00 -7.7726e-01 -3.9283e+00  7.9536e+00\n",
            "  2.0967e+00  1.2104e+00  3.4474e+00 -2.2200e+00 -4.9974e+00  3.1827e-01\n",
            " -1.0450e+00 -2.1353e+00  1.0529e+00 -1.6568e+00 -3.0012e+00  4.2834e+00\n",
            "  6.9626e-01  4.5401e+00 -1.7153e-01 -5.9982e-01  3.6147e+00 -3.4545e+00\n",
            "  3.6811e-01 -4.1399e+00 -1.8144e+00  2.9088e+00  8.9164e-01 -2.4783e+00\n",
            " -3.6413e+00 -3.4140e-01 -8.0959e-01 -4.7451e+00  4.2487e+00  6.6012e+00\n",
            " -5.1022e+00  1.5260e+00  3.5160e+00 -1.4569e+00  1.4442e+00  6.8183e+00\n",
            " -5.0775e+00  1.0688e+00  4.8081e+00  3.6586e+00 -3.0766e+00 -8.5266e-01\n",
            " -3.3401e+00 -5.2864e+00 -9.1773e-01 -1.8197e+00  2.0192e+00 -6.7857e+00\n",
            " -3.6542e+00 -3.4654e+00  3.3276e+00  9.0340e-02 -3.0743e+00  3.3329e+00\n",
            " -2.6458e+00  2.6557e-02 -4.7538e-01  2.7974e+00  5.3304e+00  2.9937e+00\n",
            "  3.8899e+00 -3.3433e+00 -3.4940e+00  2.1821e+00  8.1387e+00  3.5272e-01\n",
            "  4.8159e+00 -7.8327e-01 -1.2468e+00  5.9163e+00 -6.0636e-02 -4.3255e-01\n",
            " -1.2690e+00 -3.2938e+00  3.2941e-02 -9.3676e-01 -7.1630e-01  1.4011e+00\n",
            "  1.8334e+00 -1.4261e+00 -1.9903e+00 -1.4721e+00  2.1466e+00 -2.0949e+00\n",
            " -7.6855e-01 -2.8615e+00 -2.0466e+00  7.1870e-01 -1.1195e+00 -3.1117e+00\n",
            "  1.5789e-01 -4.0320e+00 -9.2665e-01 -6.2468e-01 -2.7397e+00  6.0866e-01]\n"
          ]
        }
      ]
    },
    {
      "cell_type": "code",
      "source": [
        "# traz uma média das palavras que traz a sentença das outras palavras\n",
        "print(nlp(\"dados são uma nova forma de ver o mundo\").vector.shape)\n",
        "print(nlp(\"dados são uma nova forma de ver o mundo\").vector)"
      ],
      "metadata": {
        "colab": {
          "base_uri": "https://localhost:8080/"
        },
        "id": "Y7Yf_7TWZAAg",
        "outputId": "cc247772-e322-4394-c6a9-f2e7562299d7"
      },
      "execution_count": 52,
      "outputs": [
        {
          "output_type": "stream",
          "name": "stdout",
          "text": [
            "(300,)\n",
            "[ 0.5255733  -1.0520301  -1.0489888   0.22808893 -2.7599888   0.91837215\n",
            " -1.6993556  -0.44524103 -2.209261   -1.2901455   0.9939946  -1.3996754\n",
            "  0.7378708  -1.6957022  -1.382649   -1.1241877   2.503239    1.3766589\n",
            " -0.63682556  2.7080245  -0.6679023   0.7990059  -1.3761922   1.6491444\n",
            " -0.6950322   0.69378555 -0.19840002  1.6926199  -0.3071023   0.71506053\n",
            "  0.03211441  0.27212894 -1.9055911  -1.5586021  -0.9775556   0.7999823\n",
            " -0.9553054   0.5265729  -0.87427455 -1.2073755  -2.117481    1.2241988\n",
            "  1.5149522  -0.79308677 -1.1521667   0.13741441 -1.7882053   0.50415283\n",
            "  1.3089666   0.06542712 -0.6260744  -1.5624356  -0.707184   -1.2425367\n",
            " -0.04237115 -0.5879791   1.7004043  -0.24798778  0.11633212 -0.55506223\n",
            "  2.0148706   0.01965364  0.92778563  2.3571968  -0.49526003  1.0151839\n",
            "  0.57112557  1.3510779  -0.3038622  -0.24523441 -0.42284998 -0.69732666\n",
            "  0.71998227  0.2875956   0.10309222 -0.6866155   2.128672    0.9791889\n",
            " -1.4044011  -0.4600078   0.10599887  0.84635675  1.2420444   0.40497887\n",
            "  0.24567226 -2.4633954   0.30174115 -1.2952554   0.5795323  -1.899822\n",
            " -0.74619776  2.998889    2.0798278  -0.9101444   0.27261782  0.3154811\n",
            "  3.1923532   1.315211   -3.1751957   0.03176559  1.1431444   1.6177245\n",
            " -1.0905743   0.6142689   1.0441045  -1.0070856  -0.6415578  -0.75415665\n",
            "  0.04653723 -0.7180089  -0.09737895  0.02209669 -0.43218002 -0.37869656\n",
            " -1.4787056  -0.8019056   2.2888644  -0.58004665 -0.35054     0.8161524\n",
            "  0.56656885 -3.1986172  -0.13080996 -0.87027764  0.19671117 -0.18788989\n",
            "  2.1433      0.5740978   0.79283893  1.1020746   0.06806201  0.14578162\n",
            " -0.48713335 -0.9247377   0.84602445  1.326062   -0.13929449 -2.2536204\n",
            "  0.8378011   1.8202833  -2.1101756   0.01467665 -0.1241987  -0.28894553\n",
            " -2.689321    0.35465997  1.3067889   0.78942555 -3.1275606  -0.70258003\n",
            "  1.1796956  -0.09419552 -0.39751524 -2.17274     0.00593225  0.11152443\n",
            " -0.40126875 -0.7324776  -1.110687   -1.6154889   1.9177108   0.59479684\n",
            " -0.9205568   1.6399556   2.1313922   0.8705971  -0.4869177  -2.5268655\n",
            " -0.20582779 -1.351448    1.0684322   1.0798033   0.7770678  -0.88195336\n",
            " -0.94633335 -1.6027511   2.097808   -0.44511667 -1.657932    1.3012689\n",
            "  1.4642056   0.07117888 -0.45494658  1.4971966   1.3140267  -0.48212782\n",
            "  1.0694442  -2.269592    1.3391188   1.5931556  -1.7781789  -1.465089\n",
            "  0.23485115 -2.34892     0.940096    0.5333122  -0.74473196 -1.2676699\n",
            " -0.40783006 -0.7384778  -2.09579     2.0488043  -1.182571    0.37707764\n",
            "  1.1301712   0.28928337  1.3739567  -1.0200423   1.2103223   0.04722336\n",
            "  1.3624822  -1.2681168   1.4688356   0.8132446  -1.719049    1.8276443\n",
            "  1.0804734  -0.31434     0.88836336 -0.67704093 -1.0336466  -0.9087268\n",
            "  0.09643783 -2.5777566  -0.08628993 -0.8835056  -0.5007     -2.010551\n",
            "  0.9359345  -1.839522   -0.45124334 -1.67075     0.1972278  -0.69528896\n",
            " -0.8587457  -0.25463215  0.23403136 -1.7613523   0.39325333  2.0033166\n",
            "  0.16394782 -0.5912411   0.4513964   0.38095444  0.9961722  -0.5356072\n",
            " -0.24399893  1.2084801   1.047721   -0.3533555  -0.68883884 -0.05879111\n",
            " -1.0547067  -0.9298345   0.1543278   0.22240782 -0.8161553   2.490319\n",
            " -1.5402923   0.59167856 -1.8444476   0.68242     2.5562222   0.99307674\n",
            "  0.02924996 -0.70853776 -1.0495977   0.13625993  2.1210868   1.4868933\n",
            "  3.163472   -0.43712902 -0.514627    2.9385633  -2.2680051   0.10609888\n",
            "  2.2179537   0.63511777  0.40360793 -1.1280782  -1.7189742  -0.46922117\n",
            "  2.9208887  -0.7004363  -0.36562064  1.1512333  -1.4175044  -0.44106555\n",
            " -0.48883343 -0.5042111   0.28768444  3.4773679  -1.2891389  -0.65457785\n",
            "  0.3968733  -1.9304742   2.1593056  -0.50640225 -1.4050981   1.26994   ]\n"
          ]
        }
      ]
    },
    {
      "cell_type": "markdown",
      "source": [
        "## **Similaridade**\n",
        "\n",
        "- **Baseado em Contexto**\n",
        "  - Avalia a similaridade considerando o contexto em que as palavras ou frases são usadas.\n",
        "  \n",
        "- **Precisa do Modelo Large do Idioma**\n",
        "  - Requer um modelo de linguagem grande e treinado (como `pt_core_news_md` do spaCy) para calcular a similaridade com precisão.\n",
        "  \n",
        "- **Métrica é o Cosseno**\n",
        "  - Utiliza a métrica de similaridade do cosseno, que retorna um valor entre 0 e 1. Quanto mais próximo de 1, maior a similaridade.\n",
        "  \n",
        "- **Utiliza Representação Vetorial das Palavras (Word Embedding)**\n",
        "  - Baseia-se em representações vetoriais das palavras (embeddings) como Word2Vec, que capturam os significados semânticos das palavras.\n",
        "\n",
        "- **Pode Ser Aplicado entre Docs, Spans e Tokens**\n",
        "  - Pode ser usado para comparar a similaridade entre documentos (Docs), trechos de texto (Spans) e palavras individuais (Tokens).\n",
        "\n",
        "\n",
        "\n",
        "###  **Similaridade VS Matcher**\n",
        "\n",
        "- Similaridade\n",
        " - Retorna um valor numérico que indica a métrica de similaridade entre palavras ou frases.\n",
        "- Matcher\n",
        " - Busca um padrão específico em um texto e retorna se o padrão foi encontrado, semelhante a como funcionam as expressões regulares."
      ],
      "metadata": {
        "id": "GpSuk6Zia1fl"
      }
    },
    {
      "cell_type": "code",
      "source": [
        "#Recomendado tirar o stop word e se mantenha principalemte os substantivos, a busca da similaridade vai ser baseada no vetor:\n",
        "\n",
        "documento1 = nlp (\"Ele viaja regularmente de carro\")\n",
        "documento2 = nlp(\"Ela viaja regularmente de avião\")\n",
        "print(documento1.similarity(documento2))\n"
      ],
      "metadata": {
        "colab": {
          "base_uri": "https://localhost:8080/"
        },
        "id": "UmLd40ebZYN_",
        "outputId": "7c0675b9-3819-4e45-d88b-079c8cc8e31e"
      },
      "execution_count": 56,
      "outputs": [
        {
          "output_type": "stream",
          "name": "stdout",
          "text": [
            "0.8460736377705699\n"
          ]
        }
      ]
    },
    {
      "cell_type": "code",
      "source": [
        "#Verificar se\n",
        "documento3 = nlp (\"Devemos dizer comprimento ou cumprimento?\")\n",
        "tokenA = documento3[2]\n",
        "print(tokenA)\n",
        "tokenB = documento3[4]\n",
        "print(tokenB)\n",
        "\n",
        "#similariade de cada token:\n",
        "print(tokenA.similarity(tokenB))"
      ],
      "metadata": {
        "colab": {
          "base_uri": "https://localhost:8080/"
        },
        "id": "7WXK3_ZQhold",
        "outputId": "2842e735-25a5-47f4-94a3-7bde2c6113bc"
      },
      "execution_count": 60,
      "outputs": [
        {
          "output_type": "stream",
          "name": "stdout",
          "text": [
            "comprimento\n",
            "cumprimento\n",
            "0.580434\n"
          ]
        }
      ]
    },
    {
      "cell_type": "code",
      "source": [
        "documento4 = nlp(\"Ele pede descrição. Ele pede discrição\")\n",
        "partA = documento4[0:3]\n",
        "print(partA)\n",
        "partB = documento4[4:7]\n",
        "print(partB)\n",
        "print(partA.similarity(partB))"
      ],
      "metadata": {
        "colab": {
          "base_uri": "https://localhost:8080/"
        },
        "id": "TtIm08_0ijzQ",
        "outputId": "88ac8210-4e51-47aa-d1d0-e87d791da11d"
      },
      "execution_count": 64,
      "outputs": [
        {
          "output_type": "stream",
          "name": "stdout",
          "text": [
            "Ele pede descrição\n",
            "Ele pede discrição\n",
            "0.96300536\n"
          ]
        }
      ]
    },
    {
      "cell_type": "markdown",
      "source": [
        "##Matching\n",
        "\n",
        "O matching refere-se ao processo de encontrar padrões específicos dentro de um corpus de texto. Isso pode incluir a busca por palavras, frases ou até estruturas de sentenças que correspondam a um determinado padrão. Enquanto a similaridade mede quão semelhantes são duas sequências de texto, o matching busca identificar se um padrão específico está presente no texto."
      ],
      "metadata": {
        "id": "9vlJ7YzojvCE"
      }
    },
    {
      "cell_type": "markdown",
      "source": [
        "####Atributos de Tokens\n",
        "\n",
        "![image.png](data:image/png;base64,iVBORw0KGgoAAAANSUhEUgAAAwgAAAJ7CAYAAABHxLbMAAAAAXNSR0IArs4c6QAAAARnQU1BAACxjwv8YQUAAAAJcEhZcwAADsMAAA7DAcdvqGQAAMb6SURBVHhe7P0PbF1Zfh94/ioZpI0NRGPRFdMoNUDCCoUWE4BuDER3DRriRHyFBGOLtDzi2BlxpbZepm3PqpkG2FwNRL8ECc2akmgFvYwybmeH7EhgZzwipzmkuoPMNKUshUaq9Tg7bmLXlEu0GuSiVChOqmGEhgN3sgn3/M4599xzzv3//pDvkd9P4Zbee/ffueece+/5dy/fOBAIAAAAAABA+HP6XwAAAAAAAFQQAAAAAAAghAoCAAAAAAAYh/IMwocffkiffPIJ/emf/inhkQcAAAAAOM7eeOMN+ot/8S/Sm2++SZ/5zGf0r+2jqRWEP/uzP6M//MM/lJ87OjroU5/6lIwwaI4f/vCH9DM/8zP6GwAAAAAchf/wH/4D/bt/9+/oj//4j+nP/bk/R5/97GfpJ37iJ/Tc1tfUIUZcOeBKwU/91E/JSEHlAAAAAACOO64UcBn4p3/6p+nP//k/bxrM20XTKgg8rIj95E/+pPwXAAAAAOCk+fSnP03//t//e1M2bgdNqyDwMwc8rAgAAAAA4CTjBnMuG7eLplUQ+IFk7loBAAAAADjJuEzMZeN20bQKAj/7jGcOAAAAAOCk4+cQ2ulNnk19SBkAAAAAANoLKggAAAAAAGCgggAAAAAAAAYqCAAAAAAAYKCCAAAAAAAAxiFVED6kpS99lj772S/Q1zf1T4V9SN/9e1+k3/zWK/ntk+98WWzvy/Ttj+VXqIOKS04fPX3h5+mLt79O3948gvf1/psf0De+8mX6+vN9/UOKH2/RN65/gUpf+SZticW35qaQHwAAAADqdDgVhP/v9+nbz67Qlf/iE1p4+n36sf458OE/n6Iv//I36Af6e6wf79Orre/TH33y48j6NdsXhdHbotLxz9vnD1c0z+fp17/2T+ifPBDT3/1VOvdvluirv/yL9MV//IPGxXce+/+K/uB/+336oz/+t/qHFH/4jP73X/o9Wpv4KXr85S/Q2KvP0+d/Ws8DAAAAgJocSgVh67v/lL7/N9+hr/yNX6VPfnedft8rcX7yw2/SdzcziqGf6qVf/x//kH7vS73UsD+/9m8+pP/9W9+nf/3v9fcT7RT95Z8VBeyfE9M7V+jW175Dvzf2Gfr+P3iP/ukLvchh+Ol36Le/9z367b/xpv4hRd+v0z8c/gzR6Xfo1oPv0dq771COtQAAAAAgxSFUELbo+be36OqFz9Gbf/XzdJW+Qd/9l8HwkU/o21/5LP3KLH/+Gv0KD2/5735A9PG36cvi85f/h+/SN79Sos9+9uv0A/Hf14P5tj/Zom+O/zx9QcwrfekOffuHuqIRbOM7Ye+AMyxp8+v02f/0q/Rd8fG7418If6cf06vvfp1+85d5v2J/f/1X6DfnfkA5BrwcM5+inx39DZFeP6D1//eH+jei/f/XN0zclH75N+mbL4KK3T5tLfwm/cpfV8OUSr/8NVoPIu3ff0Lfn7PmfWmJeKBYkB7f/O436cs8z057O92eh/v87F//NVra5l9/TB/+CyudvvDz9NWFLau3A+kIAAAAUIumVxB+/Px/pbkXV+jzP9tB1PE5uvA3SRQIn+uC2pv0zt+v0u/+Gn/+dfrdapWqX/xZOYd99x/9L/STE2v0h3/46xT+antNC//oMX3q2u/S//zP/iH9wr/+Bn11/Bv0g4zOCOmv/ipVH/8WvSM+vvP3v0PV6jS989NEH35nkq5/+f9Jn/rl36LvfG+Nfu/X/gr90cyv0Jf+sV34PCE6fpL+kvjn+5+owvqPRaXqS1fn6M/+81n6XnWNKp//I5r6r+7S+h+L6sG/+L/TL/3WFn3uv1kTcblGvzVI9G//Da/1CX339i/SF7/xr+g//eq3aO1736HKz/2EFZffpd9Z+0m69c/+kP7wv46m8if//Kv0i9fn6F8N3qJvPfkefWfy8/QTcuU/oRcvPkXv/Le/J/f3u//5Kfr2b32JvqGfcUE6AgAAANSmyRWEH9Pv/8sl+uRvfJ4+93/m7x30uf/kCtG3VumZfpj0Ux0d9JNyzNBP0E+Kzx3/J/mz1Pu3btAvnNZfEvz1X7tFV/o+Q2/+zDv0G3/7V4leLND3ZQtzhj//Keo49RPq81/8SeoQ+/4UbdG3/9tvE/3aV+j/9kufpzNvfoZ+9pcq9HcmeukH/+BxZGjUyfIJPfunX6Mf/NLfpb/zX/TSmx2foYHyb9DVT75Jj5+7z3B86i9+hj7/pa/IChe9eEy/s/IJXX13ln79nV76zJtnxHq/QL1qUaGXyl/8BfrMn9dfHVv0+He/TZ+MTtPsl96h3tNv0pkLv0q/8Fd5nqhc/te/SgM/86ZIOxGWvzkqKnuf0B98yGFBOgIAAADUqrkVhP3v03d/VxTY/vlX5RAgHurR/+UlMeO79PhfhsNWkpz+Sz+lPyU5TX9JVjyUT4mCPhdkqdZnCj55TX8kVv/c2b/sPOfwUz/NtZQP6ZM/Vt9PjI8/pD8Q/7zT9Rnx/w/p1Yr451tfpn6dlp/t/zX6pvjpxyK+O/7a36bfm/gZelYpUd+AGu7DvUSf7P6BKK6/I+I06ckRNw0dIj3+4IXY/+f+SuxzJ588X6Kv/b0v0xdv/AqV9HAxCekIAAAAULOmVhD2n39XFCAH6Cv/UL8dR07/kL5ygWj9298XRbV6/Qn9mfWym/3/g7fYS5/6C+Kf/+hTsnD4J3/6ZzxL+rP/n/6Q5M3T9JffJPr9l3/kDEP5Pz5+Leb9FfrMiXpDzj59/9E8fffNX6Wrf40f/f0MnRkW//zNf0jf46Fg1jRd4vkd9LPl36bvrFfpW2Pn6Pu/9SWaf/5jevMzf5nepN+nP9qtodk+IT3Yj59/jX7x+j+lH//cV+i3v/aP6TtPflsOF5OQjgAAAAA1a2IF4U/p+b9YIrrwDv3CO/rtOHJ6h64Mi6Lcv/yn9F39dpy/8B9xAfMP6Pc3X9H3xZTfH9HX/8HXaf2Hn9CHm9+ku7/N+/sv6Z1zYpYoJP4V8e/3/6dv0LdfqPlfmzFtzIquRLze+n169eIHtPVJL134Wz9Ln/zu1+jut75Prz75kLa+8zX6+zNb9LN/60LCcxDHxZ/QH/3g+/T952L67jfpN6//Z/TFRx30lX/0Ffq8HPb1Jn3ur/0Cvfk/zNHvrP1QPUPyJz+kZ3P/K30oIvGT736Dvrn5Ie3/qagq/KW/RKbv569eoHLfJ/T1v/NV+sZ3t+jDT17R+ty3aUvPThekx2/SV+e+S1uvP6FXz0R6/n/Erv/4Q+4rIvrUp+gv/Nt/Rc8eLYQ9CGa9k5iOAAAAAPVpXgXho+/R0reIBv7G54kHqNje/I//Or3D48v/pSom9v78NP3qz/0+3fnl6zRVaID45+gr/5cz9N2//YtU+uXfod//q7fo9+5c0fvrpf/y3Qr9wr/5X+irl3+Rfu1/+hRd+r+aNmblzQt04zffof25L9PPf2WJ/pX4qfeL/5i+c+9z9OE3vko//4USfenrL+hz975D//iL4aj54+n79PWvfJG+eP2L9NVZUdT+ub9L3/ln/4R+vS8cpPPm35imBzJublKpv5/6b7xH3//UZ2Rl4C90/Jie/eavUL/4/Vf+wQ/p5+49oN/4OV63l371//Et+q3/5N/S0t/7JSp94dfod0QdsENuMRunx7feHaB/+z//PfqlwS/Qr/0jtfKbF25Q5ed/TI9/o0T/2a9+g/71f3wp7EEQTm46AgAAANTnjQNBf26o733ve/QzP/Mz+hschh/+8IfHN873f0BL/93v0Dc+fodmv3aFzuifAQAAANoBl9O+8IUv6G+trclvMQJokI6fpSv/zW/QO//8+/RDObYIAAAAAJoBFQRoC1sLX6Qv/vJ79GJilC7wIysAAAAA0BSoIEBb6B39J/RP/sffo98t/2zsK08BAAAAoDFQQQAAAAAAAAMVBAAAAAAAMFBBAAAAAAAAAxUEAAAAAAAwUEEAAAAAAAADFQQAAAAAADBQQQAAAAAAAOONA0F/bqjvfe97+hMAAAAAAHzhC1/Qn1pb0yoIL1++pLNnz+pvcBgQ5wAAAACtqZ3KaRhiBAAAAAAABioIAAAAAABgoIIAAAAAAAAGKggAAAAAAGCgggAAAAAAAAYqCAAAAAAAYKCCAAAAAAAABioIAAAAAABgoIIAAAAAAAAGKggAAAAAAGCgggBG9U4HdXRY0/VF2tPzjqcqzYjjnNnQX7O8XqTRjlFafK2/12FvaZQ67lT1t2xFl6/bxswJSH8AAACI08QKwo9o8boqaOYugDWFKgR2NKhgdzztybQqbc3R9v4+7etp+9IK9WTEG1cqRpcaUIyUhe8ZkVqHqZ8mxHFOnNdfs5weoYX9BRo5rb+3kYalEwAAABx7TawgfJpGHoiC5pMKTQ3GF05ki3UDWyllK2ukkKkKgdvzROVzR11ZaU17S+NUJlE5eDBCnfo31nllQcXbwuEW2wEAAADg6DR/iNH5CdkavXDFLnoePi7scjhytxafGHv07PEqVW66lYNA59vDNDS9HtOyr3sdpolWb/S4PTQ8PCUYpmT9LiuE1jAZU6Hj5c+VaZWmqMTrmGXUPuK2FS99eTVMZ1Evw/PU8k6l0Q67qLxWnaE93BsVbDNYN+ihiu7PjYeCLfjOujP0TP8csverlomvxuVNJzGlDGFSw8+sfTjr2sedI14AAACgpR3NMwi6cMGFFlouU49fiJDDTaKFC1VICb4HhUFRaNHL99xYFb/rQqaY0FuQxy7tLA9R91v6q+90F/XRJu1GCnidsodobZJoaH5bVL700BtO20GiNVEZk0OVnvRR+bbqJeq/tU1zWyWdLlV6eINo7sUE9XMl8sUcDVFFrXerX8zn9O2hcu+a2k6wrXNpBeEcy0+vEL3L82OGCvlhf5doVuapZFOD6zSgl1+bXDXHyqpP7XioiAL6w4Swe/xwvOimFSccXPgu0aaMd7XM9vwmlWJ749LSaVPEv97HvkqbpJ4+NfxMpBX/kJLGgbR4AQAAgNZ2NBUE3avAhRa6HIx7DwpsovBzrkx9T1ThQg0NUoU8WcC8rAsbGw+pvMwFSlFokWPDedkhsZQuZIoJvQWHr/p0ShREr6mCJDt/jeZohZ7JCoYorN6s0NT9RVq8wwXce8nj+V8/oxVOX1lZ0Hhbl6doPa7il3f5ybHEfUbCLvLVPZmnklWe6EKz0D8qKjnLO6LKpb/fCufR+QGRM+MqWlGZ4dhYpylx3tyzeuU6r4xRZTmI52xqH3b8q7RZffzMKcjvLo2qyoE1/Cw9jZW0eAEAAIDWdjQVhDRc+BH/8HML3AugegUC3Bq6JgpCZeoZnHIKIVCrLuoWla6dj/RX3+tdUazto66kgrxjj3a3gqEsKv06OnpERc7avqgcrvWWqSwKnXYBN+KjHVq93C1CZ+ukrl6izd2Ytuiiy0eosPd1NXAonNMTVpL5Olt2OPZ2N4l6u0yBXclIR0fCPt7qdgvy4jwr3eijNefZlBxpDAAAAG2t9SoI0pA19IEnqyIgC6zQOJ104dIQTT1NGLjz/gqtTg7krIipAnlF9/7Yk+nNEYXm2a0KVahMD9OGgPmFVUts4bno8gn8ysTuq/QhRom4cnBuh8ZMHIiKrZ6VLr5SY4ejs6uPaGtXFNV9KUPFHCkVJ7uSdXmO1njokvN8Q440BgAAgLbWehUELujRasKbc/Zo8XaZiMdSy7cj4eHHRui8ck+OP/cfUuWHenu4BdketpOh/yKnS9JzAjx8bIWG352giXfnaDNxOeH0BRq+PEUlO0wbM1SartBAXEG06PIRqqLkPCfAlRl+TqYWfo+G7hnLo+tMRjh4uNJymcat5wXUm6iG6UKunh6VTqs3xq3zR59bly6ImAh1yTdZuZWE9DTOwM8vJD5QDQAAAK3gSCsIamyy95AyP08gCv80LQqswRAG+fClfgh1uUJjPDRFji8XFYlzYSVBjsPGQ8o10A+ykhXnYup5PBw+mJqA05Dst+Ocn9AFynA7YfqVaCp4BkCOq7cKnuL72KT9FiMOk3pw1mxHPhibFJ6iy0fxm67WgjDwdJtoLOMZhERyXH6Qt8X0lJ+OyUe9XtaKw0g4+NW9a9RnDfORaeW9ptYWl07qIW69j44eWrm0Hfu2MTte5DmVmMYAAABwHLxxIOjPDfXy5Us6e/as/gaHAXHeePwGn9kz8QVnAAAAgLzaqZzWos8gALQAOURpiIbfRuUAAAAATg5UEAACcny8NWxG/p2AmL+XAAAAAHCMoYIAENB/nyOcUDkAAACAkwcVBAAAAAAAMFBBAAAAAAAAAxUEAAAAAAAwUEEAAAAAAAADFQQAAAAAADBQQQAAAAAAAAMVBAAAAAAAMN44EPTnhuI/Jw0AAAAAAMrZs2f1p9bW1ApCu0TCcYE4BwAAAGhN7VROwxAjAAAAAAAwUEEAAAAAAAADFQQAAAAAADBQQQAAAAAAAAMVBAAAAAAAMFBBAAAAAAAAAxUEAAAAAAAwUEEAAAAAAAADFQQAAAAAADBQQQAAAAAAAAMVBLDs0eL1Duq4U9XfM2zMUEeHWL5jhnKucYiqNNMxSouv9de2p9JmZkN/bSWvF2n0UPNAC8dFM8jzrBXPsRQyT/C14Tidg3nxtafAdVTbWxqljuuLIncDABy9JlYQfqQKm+JC2Y43cnmxruEi39Y2HlK5t0KV6fUchRFxExzcpLkX+7S/P0H9+leAouS5dpLOsyK4oH2/m7bb6hwTFbjbZep7wteGBRo5rX8+Ebjyuk4D+/u0fWa20L2v88oC7T8YoU79HQDgKDWxgvBpGnkgbhBPKjQ12EGjS267SPWOqjy0aiFcXqz310RhuXRiWnWqT6eocnGCBianaNZLr4jXu7RJfdR1om7+AIftAt1ru0LjLu0sD1H3W/rrCXPhXVWZ43vIQHv1+wAAGM0fYnR+QhS092nhinuL67/FrUuiAK6/t6Z+mhBhPxmtOlVan67QwHlx1BcrtPr4WXKliIc8nCvTKk1Rya7gmSFHcRU/PeRnSS8j5+nfNoLhCEFFUnfRy8kdWmF6dvSU3UJnb8sb7uCF167Euvuxw6CHYQXzMiq3fnjtfXAl2a046/jIOyTDCb+9XvF4TYuLKHs7Ig3e1z8bXhylHBPHQc+NVSKuiPO2THq6+0gdYqOHs4RhTk6joLfCbqBIP1aXk57XF2nRSsNg2yEVDjuPJuerGPI866EeuWxavvDjO227brzmD3vOfci0KIkrwyqVz4nlTONKWnrqfS3p/CrX4eWbmYe940kKp904xNsX36t2Gvrn/8ZD6uHj1vNLT/XvLGt9Pd8OtdOQZo43JYwAAA3Sms8gmPGrPAU3RnVBH72uLq6jd2bCm4lcflTMU8vP3NHL6BuEe5HNunGcUBvrNDU5oIYxnB+gyvIKPUsqkHCl78UcDYnq3RpXoG6JtfjmZoYc8bRNc1slL65FoeHVgJrP6wS/3Se6x7+JbdKNHpFGqotebuOy3ZuxR89eDdO2nLdP2/NDNHU/7ebIhZRgW2J60ie+h4WKqrh5y/DLeaJSdOOhmify0/iNPmvegFxe5cEeWrm0rX7Xx5hUSeFCV4+9HVEh7hPHl12pyUHGtx1+cWy37bgoEq8pcRHBhZMSkRw+orbV/ZgriwEVR+XeNT2ft+fGu40bCjgdaVItPyEqqME+NueDeOZlNqkUVxDic19UVnk4i2qEyJFGojKyfjEIGx/reK5KmUzPx2H+27+5Q+VpPTMHf315TH4BM5CZvpbXz2jHPl4vbW3VO3a8btNYl56RJe8+To/Qgmz4GVLXAtm4ki89px7r/GoaZJqVh/08sk9rl/QscR0M87Y4juUyPbTzjvg+S/fUfL4Girxk8laea2Da+h6+b5UoPI+257vVjKwwAgA0wkGTfPDBB/pTmucHd0+dOjj13nP9nanf7lbVt48Xrx6cOnVX/PrxwaNralnz24ePDq6af3kdbxlnu1r1rlj36sGjD/X3YyRfnMdR8RbEOXv+3qmDq4sf628xgrjXX2OX57i+9khsnXG6+vHu/6bCYW8nMR2ZFwZX3P6ixxmylpfbjckjcfvjY4wNX/y+7OOJxllcmAPu9qLr8vxg3TrjNS0cTppqdrzEpklavMeEJW4fTpiC7fFv3nYz0ih63OlhC8UvZ6dD+rbj1ufwx+ff9PRNl5a2vN24eUXjJW0fbloJudNTztC8behlmpaHEzjpELOePT+aZoK9Tsb6zvzY8yhe7H4BoCXVXk47fK3Xg8At2eIffm6BW/vl8APL0Bnd5HW5m9SnTdr9mP8Nx7yaZbZ2VQuV3SMxyFsHx+tntLIcxjlPpWlKaYHz7dHuFlFflzcQ661uGlreoV39NVsndfXGbMfGrXRBWsphTkWo7RtOTxUPi9C4FfTFMK3ooQKmhe+jHbE/PawqmDg/BfnMET8Ou7OrL2H5IlR8r8oW1SAsPVReXqWdj/QijhzxmhQXnr3dTaLeLt3CG4PjyJybAbX/zd18Rx2/jy7qvuwe39SgapVWvQ5aoTQqot5x9by+e46peBbXr0jvRdH0Va3NwbL+NdPGPTZrpIZzFR2akncfvrzpme6w8rDqqQ6Ok6+D+TTqGqjFnkeBWsMIAJBfaw4xCrqndddqfW/JqdIMFyT1EAbuegbX3vsrYfyYSXXhr+fquk4pACbe5GrAlQP5RhcdRu6i17PyUTdxSQ5N2aExc7ze8zByqIT6nUShTlYS+GZ/eS7cfzDFPqOSUgBKK2DnouK7YoYZhJNTWM4rKy4ssRUcWSjXUgpEqYU7S3Ilyi2gV56oIVvOEI5CaVREXHpa+SkTr+9f13iKe8tPsfTlgvvsGXv4TvpZoZ7/EstdWqGenJWEovuw5U3PutSbhyU19GjnZrANUZma1LMyNfgamHge1RNGAID8Wq+CwBdGHnu6kK/tOi/VqyAurveT2pVOqj169niVKhf9KlgnXbg0RFNP86WDfLDZGcst4vp2mejShToLZiG/5U9WbPTneG4+2lsapzLN0TUuZPktdLrnShIVkXBcMBfs9MfTF2hYbGE8YXy3S8ffoD32XlRWB/lNUSquu86InG49DM7jw/PmTo5vd9t1SIsLnyy42GOevXOK40hULJ2x9SI+S/oB+FzkMzBuPKu0G6YLTmGaXyLgVRIKpZGPC1/uQ8UhVQB0nnnh1wIv68+CLHharwiWYTbzOT9Q8nMEnvzp67dcq/M5nji+O+H+ZXi19LAX2UeM3OlZhyJ5OCY81SWOF7+XiF/coD/m0NBrYMx5tCfCWM0Io+zlSXquBQCggCOqIKgbsekGtt9gwi233Mqvf5NTwa5wVz9dmxcFMdld30M7l4q2Oh9zspATX3jrfHuYhqZncz3AKR9clg+j6jQTcc0PAfpvr6pH55Ux9dpZnS/GX/VlpOUQzZ1ZN8vLB4aDluTz10RVoazfECOmpxS2OIpC8KYZCqKOQ7XcdtLIA1UgDbbJU3yBksO7oB7GNMuqh3uDVuDOK/ecMKxfTG71jBDx7W5bTLWeJ2lx4ZPDr+as+BknummfUxxH6uFMEy75sG1yL6Cdriouw4J/sA35cG9sL4BYNniAVR5/sTRyceEruSIjh+f02vE04LbeijRZmwyHN43TGM0FlUuB84OzPk9Jhbnc6SuO96Z6lbRabpx2epPOClHJsdOZ08WcD2lhL7KPOEXSs0ZF8nBMeEqvuOGB7xWiEmeuYetERVrnG3oNjJ5HPY+5uaLOMAIA5PQGP4igPzfUy5cv6ezZs/obHAbEOUAdNmZodPdaoQJdMPSmkRVhAAA4ntqpnNaizyAcBn71XtAK403oogU4ec5PoKAPAAAgnOAKAnczhw96OZN5Rz8AAAAAwMlygisIAAD14ecS0OsAAADHDSoIAAAAAABgoIIAAAAAAAAGKggAAAAAAGCgggAAAAAAAAYqCAAAAAAAYKCCAAAAAAAABioIAAAAAABgvHEg6M8NxX9OGgAAAAAAlLNnz+pPra2pFYR2iYTjAnEOAAAA0JraqZyGIUYAAAAAAGCgggAAAAAAAAYqCAAAAAAAYKCCAAAAAAAABioIAAAAAABgoIIAAAAAAAAGKggAAAAAAGCgggAAAAAAAAYqCAAAAAAAYKCCAAAAAAAABioIYNmjxesd1HGnqr+3t+qdDhpd2tPfGuD1Io12zJCMHfl5lBZfyzltSKW1ih+d7h3WdH1R/NoCZDxzmDLiemPGDf8R5+G9pdHkMMiw6nxUQMPzcxYO56HlAzs/to/UdD5KbXd9Uuk/s6G/HjH7XJNpXPN5UKUZcT2q+7hqvGYA1KOJFYQfmULH0Z706gTNLGCAuAg9pHJvhSrT60dwIeJ0aqM0Oj1CC/sLNHJaf28ze0vjIq3XaOFKp/6FqPJkn/b31bTWW6aeGm+KjSs0iULD7TL1yXAlx7Xc3/1u2tZhl+E/s1vjDf0QnJ+g7flNKh1qwbK1z6+4/His2Y0NDRA559r8+tRKOq8s0P6DEcqVMyPp2k8T4no0cV5/rdWRXDPgpGtiBeHTNPJA3KyfVGhq8ChbhtQJuj1PVD7XOi0Uraj6dIoqFydoYHKKZtusJQ+KqNLDG0Rzo/36e1T/rTWqLO/Qrv5+NHZpZ3mIut/SXxPsvlqloUsXnBt4/5WcN/Qj0vn2MA0dSUW8FWXnR4CTDtcMOGzNH2Ikar7confULUOyFaARNfljq0rr0xUaEPHTf7FCq4+fpbbABi1W8t/YYR3+sBWrVUUPXVi8o+bN/DNudSnRFK3KSpzdnetsP6PFzVlWbCNSuC08DCXofVLTzPv6Z8lrkTVDYfSydkXU26+cF9OC6LQC+nEkt+eGx6l0Fzm2jXWaujxMF9JaF1/v0qb+6G/b3q8KswinTOtReu83O6jnxirRdEkum1Uhd9PX2raMn/g84es6M5SSX4OhC25+9MOVms+c4/db4b187oWThyoE85z0On2Bhi9P0XpK/DQsP6fEZWL8x1DH4p3HZl07XvS5sWGfEynnbmx+TMnrHucYRBzUNBQr4fyNbss77zU/DKGY4+B4O1cWqTFFJXv5zPNMHZs/n3+LnnNWOHm7/vnj/OZfq6PHFycunt3fktJQn5NLOs6dsBU5T6P7T+aGxY8PZ7tinnOuReLPiy87/SLpqo+VjyPmmu//lnp8p7OvGQANddAkH3zwgf4U5+ODR9dOHVx97+7B1VOnDk7x9N5zPU+o3lW/yenqwaMP9e/Cx4tXE+eddOlxnoHj3KTB84O7GXEbpMPVxY+DX1SaBt8/fHRwN2meTt+7VfVVie5T7uPaI7G29d3OJxZ/2WAf7j7t7XthiuDw2GFUy586dVfMYXZ41bxw2ecHz4PPcr/BOoKIl0c8T/x71f5dcI4vJo6ev+fG9/NqbccWjUc//GpfwTLPxXlqlvaOR24rLt0S0smm1rXjwI/z7HwYkOG109sI0s3ajoz78LsMR1I+89OPv5tlo/H8fFHNU8dmHUskjVSYU9Oo4fnZ3X9m/FvHKuM3Ep6keFHb8eMpKU848S3lzweZ8ZSLn//D8zeaRm5YgnQOl3HTwV3fOmdjzv/s8yw5P8XHYTDfjz/7eGPSxk/bJE6aC84xpaWh3qe9bvCbHc6489QJl7+PFCKsbljC9TLzkHOcbvoG3822I+lqz/eWFez8kef40q4Z0B7qKqcdsiOtIJiLgTyp9IlgfxbkjSk4abx54Ko946VfuOJEb0iCf8OwOMvHLmffQFg0TGoZ+wIaiFvWPYbY40kJb+w85+Jvh1ftPxpf8eGSIjeS7DiS54If50LRY+P9uMurcPJN0Uwx+1HcdIrLB7F5IyI+btx1/TyRJTiOrHxkx1nc/DCfReOWl9fbz4hjNw6i+0mOp6wwx4VLSMvPkbiM34cTJr295/xbTF5MjJe4dCuSH2OWjSwjZcdTPmo7cetEt5Wd/+3w8/qxaRxz/ruy9uMee3S+u75zHPa+Y8MRH69RKWFMTcO47WelZfz82PjPIWu7TnzZxxIXXzw/CENkvrt9N7x2/OU7vlqPF1pHO1UQjvYtRpNj6iGq013UJ/7Z3N2jvfdXaJXUUBfGw13EHNrlLk+9HD/TkDXcBAp4/YxWloN4VVNpmmj1xsNicfxWNw3pj8zuDpdd4IXw+HM3TB1ymITOC46ssep7tLtF1NflDXPj8CaMs9/b3STq7co5jr2TRh5s0/DjHhVOM8Qg3xj6vPpv7dMaqWEE9vCAoseWxH5Ief+WNR7cGX7BaVCQN3xDxU983HR2iTN8K+kB4/RhAiod+LmnPiqfS78+8LAkJS2fqbhdvaHTVU49VF5epZ2PiuaRIhqfn6Nyxv9ymUo3+mjNeUgzPV7qJeNV7LfHbFtdP1Zf+UfWqPMr6fytkXUdjD9nE9R7nqXoH50j0sPw+B5L89dInuEf7dDq5W7q4s9GJ3X1qvtxun66Nk+08r7cKj17HD5Hkj8N07nnadHrhc0dFsT3N6VgHuL4CoYQBdOgSKlcYRDhvTIWvgSEh9YFZaC6jw+g8drsNafqgWN+8Fnc0uVJmn8MIiSRlbLJtbBwKKdtmis63lFePBWuHMye2Tbb2563qw55dFH35SGae2GHiae4N3Pwsn7hRBVilJQbXuTmqMRemK3ji9KFUxFGWSCQhYy4cNWHCxwyPi+t6LcMFT82lvtGzYWWczs0ZuJ/TVTfC5JvVAnWF5OsfKTETWKhW5//wZT0ZpHzAyKMcRXJED/YrKTlMxW3TsVJT/wsUyNu3kNn4lKo8fk5Kmf8X56jNX57itMgkx4vtbDzo4zXyPVITHal1UiLpyLizt8aedeJ6DkboxHnWZrTF2iYVuiZqPRyQX74bZ3CKZXKSAU0Bj84Kyse3Mgk9hA8R1IsDZO552nR60WAKwc9tHMzDMfapJ6Vea55OL7EOWG/MU1Oed9yJK5h/BIQvq+ql4IE8ZH/+OKvGQCN1xIVhL2lWVHcH5IXLXlhEd+CgimfROQ/wCYffFYX0KItEuDjG8aqdaEKdNKFS0M09TTlRjk96z6YOCgueDf5QqkusOENRu2jGN4/Ufl2RqubpAosU/etZfmVrcv6syAfvL4xboVX3DRul4m8t98Y8sZZpoemgiSWv5/UpieO3SpQhK1eOg4HrcKVKAgs8jZlb5hVARO/j6f2soj93wmPT50nStFjK1Sw9VsYudVLf6xPTNwEeSiSF9NV73i9BTKMfdRlXTPcvDFDpekKjckXJ6TnM45bN4wWroiIPDJuNVJUl/LkV6bOifhCWBPyc0T++O+6sqBesWhVElLjpaBIfuR4nS5FHlCVZCt78BAtF7bS40n2YupzM+6hWiXp/FWf7Qfgq3diWvZTroNJ52xE086zgMrnKwsPnYJ88OCr8/pMfX6oXnxxDMFDtnF0xePhwoqb99LSMEX6eZqWX9PC6bfO8ws59Eex3axzzSGP1z3ni5LnztMZ81IQJc/56F4z7LwN0AxHW0HQb13grsfKE90yLN/3yyeK6r7jC4Tp3pY3B92tJ7tgxbyCLRLgkRdD+0IVUq9Vs29+nslhotthemzOb+sWxE4aualeb6vmjdNOb1YPguqutt+ywm+eku/jN2kupoQLouzKt5d9OmC1EglcqZRDT4Jt9dDKpe3kt2txq/eLOdq0joFuzjlDqEJd1L2lhxGIqefxMG3rfMnHoApXejvnxI1U3qj6aUK/Alj+fptoLLWXRdzIxI3JHN8ghedF0WOTBVtuTdTf05y/RnP2fp9SZsum6kZX8ZFWQIjEjchD9KR4K3TXGXsbYuK42Z8QMRyqiMLRuJm/SXMvwvmp+Uxej7ztm1Zg7tFYoz5rqE3pVd4hR1xoiT/vWMPzc8L5lTf+ZRxNql5bmaap8VJQJD+KeHXOPZ7i36zTf2vby59ePBncaKEaoaLSzt97zvbXL8a07KdcBxPPWXF9GdPxKfNaDeeZLc85J1v7p0XVWVZeAmp41Zx1/O75k55PeX2ueExN9+mCfCB/GtqyztPk/JoWTivvy/XWRZrpWULmuebg+HLPeZ5MnPvpGkdWnqZEPtHDvLTs8zErLQAa6w1+EEF/bqiXL1/S2bNn9Tcf1/Z75B/GKdrlCMnS47yx+HVsPa/GkH5t6uSkn7rW8PCCohWPZsL542pcfCSkNzcuLXTRAuK7mI0ZGt291vp/wK6J4WyVcxXXjOPhMMtp9WqzZxDi8Ylj1+bDKd/7nAFOGtkyulVKGHIBTSUKMz384C9u9Eaj8qP8i8xxrazcI4j4Lu78ROtXDljTwpk0BPeQ4ZoBR+CIehCgGdCDAOBrzR4EaAx5HXKe3alEhpcBFKdHOfCzCPywNe5z0CDtVDZGBeEYQZwDAAAAtKZ2KqcdiyFGAAAAAADQGKggAAAAAACAgQoCAAAAAAAYqCAAAAAAAICBCgIAAAAAABioIAAAAAAAgIEKAgAAAAAAGE39OwgAAAAAAKDgD6Xhj3YdOsQ5AAAAQGvCH0oDAAAAAIC2hAoCAAAAAAAYqCAAAAAAAICBCgIAAAAAABioIAAAAAAAgIEKAgAAAAAAGKggAAAAAACAgQoCAAAAAAAYqCAAAAAAAICBCgIAAAAAABioIIBljxavd1DHnar+3jjVO83ZLlRppqODZjb015qodC+yDU7P0aU9/a2R+HhGafE1fy4ernT2tuvXvDhIsDFDHdcXRawAAAA0VxMrCD9Shc26Cy/1UgWojgYWDI6tjYdU7q1QZXpdxFo9ogWx/lv7tH+rX39rsteLNNoxU+cxtKjIsfXTxP4+TZzXX1vQoRek20JjKysAAACN1MQKwqdp5IEoFD6p0NRgfAFBtio3vUVMFaC254nK5466stLaqk+nqHJxggYmp2gWBToAAACAE6n5Q4zOT9C+KKAvXOnUPxyNzisLMhyt3NJ6tKq0Pl2hARE//RcrtPr4WWbFbW9pVPYQqUm3assW7hJN0aqskAUVQLmsM8Qo6NlR08yS3TIe07oaGV7hrm8qoLzcubLY+xSVeF6wT/49bvlY9rZFODbssOlhLzK8Yn4QpsTtB8NkrG3KMOnhXPI3vyXZPTZnH5FjixmGI9MgXN+Jm7jfc3DSWoRnV/9uONsOjkeFrTRNtHqjJ/J7uHxWb4+XHn6+MPP8Y3L3M7rkhzohnhMUiwMxJQ2pSzhHmHtOpaeRbGCx4y42DRgfp/gu83EwPyvOAQDgJDuaZxD0jYwLDrRcph7nhubdtL0CgbopJs+HGm2s09TkAMlBQOcHqLK8Qs9S4pULMj2Ph2lbVLq44rU9v0klLhCdHqGF/TWq0BDNvRDzHoxQtGrIaVwieqLW3d/fpu7HXPDNy19/jfpujKt8wBXSF3Ni7xVa43l6WFP1KanvPD0RFaAbDxMKSP627xHdj4Zt6jHRPZ6vjy9r+1OD6zQg54u4mS6JfDtO9K5afm1SFBQXrKVFWtjHVhHnyEOuACQcm4MLn+dWaJjjXq8/rGfljwOXn9b7N3eozOdugM/nQXvbfVS+zYXeTtmLuDZJNDS/LeYt0MhpsfzrZ7Rzib/z8ts0dzm9xyqMOx1XcttK8jFx5aCHVsx+9mnsVVkUyi1J8RwjXxxsqjwvlxHHtVWKL+AnnCNyHzf6wuMRy/SJilVcrydfB0tbcyI8E+qcTUyDgIi3+zrP6jiX5ysAAECMo6kg6F4FLjjQZb7J8U1LFx70kCB1g/QKBOImWJrWN1V5gyWqPAnWg9qJwtR9Hl4UFDj7aUDE+8r7SYW2PXr2eJUqN8PCf+eVsfzPLnBlRKT7NdObIwqS73LBN6fI+v10bZ5SwiuWuKULUowrQLRJu3EVoJxhs4+dZW2/8iSYz3Er/pkcM/mWe2xoazcszInzI+zpUstv7iYfm626UCaav2edE/00onvvcseBI5rWHD557mo8NG1o/pq17Ws0RykVTFFAnjA9ip104dIQrb6KtMcbYdyJYxgVabG8Y1rvE49JVEJWlis0ZvVc9t9S1wwjdzznjQM73kW+uZmvJ07R+7COlcN0bX6Ipp66Z9WuqEjIyoFV+c5OA3HdfDdYXoXNyXMAAACWo6kgZLC72WUvg6OPulAhaCxZmOKW2rBnhuM9uYV5l3a85TvkkIk8BU6RvrubRL1dYWGrILm+6XlSU8+N1dRCpjvshsMar+aw5dw+6zozRENnuvS3OO7QmOg5kGSPdrfEGdKVEPoCYQxxWg9R91v6a4TapxpCFGy7h8rLq7TzkV4kht0TyGlXs6Rj+miHVi93U1os54/nfHEQife3up3KTLr4fXR29bkFeZHvS9zL4PTM1ZYGAAAASVqvgrAxIwsMFd31b7fSqRZCPf6aCwNOSy/Uau/9FVqdXDO9NmpSwxDWY4dcdFH35aAnx57y9eZECj2MC3T6Yxa5fiS8Ykp6S5IcdrNDY2ZZryXZVzRsRbefSg2N2bkZbMs7B1J1UldvQit4zWHktPYLmqpAqqh9BuerPSU978OVg9kz4dCf7fncfUeutGOKK5y/3hVV2ECReM4XB7HxnllJCcTtQ7MrrOKat8bD+ZxnCIqnAQAAQJqW7EHg7nDZkiYKALNWq97e0qysFJhxwLHj26EYPbTBDC8KqKEf/vAGheeRN8a5AFl4s8d7qyFOIVVYWjFDhqo0M2jN54ridCn/G6n81mQeRqQ/+jrfHs4IW4wC28/mtyTzw+P6Yw7yAfPgeQypSos8Dr7mMKrC59R9K635dbjL+rPA+5wazPvQq9/arvJfTdKO6XQX9Ylv9rMNPPwq3FOReM4XB268i3xzu0x06ULOa5Q+35x4VPnePze7riyoZ36sSkKxNPDw8wt4aBkAACxHWkFQ44m9h5R57KwoHMq3e5zboWGrdVGOc/eGliS+KQTykQUd9fYinywsT8/GPgTOb4Va601KC/VMgP+GFoMf0nwxR5tmiNI40U17nL8a909myMQ6DTyx27v7acJZnyfrYXWx/bFJ600/cjy2FdanlNx6zmET+wqHT/lhi1Fk+5msuJPbWyeyW7b9Y/Px8z38gKpZv0Q7XBivI4z8NyyctH464PXsTegCq57Pk5XufJ6rtOQ0UuPf7fjd6a2xByH1mPhZJvWQbxCm9Yt2r0lGPHvyxIEb7+oB6eS3t0XPET6n3HhUD8vH9QLI80/nA1lRzkgDAACAIt44EPTnhnr58iWdPXtWf2sM8+aOyFs/7Af7Tq5mxPmhMcNFWjAtuYX1frfzUCgAAABAEe1UTmvRIUbx5NterB4E9azCBHVZDzW7E16BCvVSwzyGcg8VAQAAAGhvbVVBkN341gN4wUN4wR9Bi054BSoUxX8Hwa5klmhzPm2oCAAAAMDx0lZDjCAd4hwAAACgNWGIEQAAAAAAtCVUEAAAAAAAwEAFAQAAAAAADFQQAAAAAADAQAUBAAAAAAAMVBAAAAAAAMBABQEAAAAAAIym/h0EAAAAAABQ2uXvIOAPpR0jiHMAAACA1oQ/lAYAAAAAAG0JFQQAAAAAADBQQQAAAAAAAAMVBAAAAAAAMFBBAAAAAAAAAxUEAAAAAAAwUEEAAAAAAAADFQQAAAAAADBQQQAAAAAAAAMVBAAAAAAAMFBBAMseLV7voI47Vf29cap3mrPdQ/F6kUY7ZqhRoee4GF3a099aS2zYNmaoo6ODZjb09zo1Oi/sLY1Sx/VFkXvrJ8OWsa1G7i/NoecTTudDOC4AAGh9Tawg/EgVNhtYsKhNlWZEGDo6Rmnxtf4J4m08pHJvhSrT63UWhjnO3fjuv7VP+7f69bcma3CB/mQTaXm/m7b392ngaWPOoUbnhc4rC7T/YIQ69fcsiQVvUUCePbMd2Za/fNH9HY3oOQgAAJBXEysIn6aRB6Ig8KRCU4MZLWGyhbJZN7N+mhCFm+15ovK5o66stLbq0ymqXJyggckpmj3MlktoXa+76JouDPffukcX1K/HUpUGaOFKaxf7AQAADkPzhxidn6B9UUA/6huvbPUT4Zg4r38AT5XWpys0IOKn/2KFVh8/yxxqIIdayN4ZnnSLvWy9L9EUrcoKWTBkQS7rDCsJenbUNLNkt/rHtH5Ghj+465sKKC93riz2PkUlnhfsU1ZCY5aP5YXtff2zoYdiBctkDJdx4kkcw67+3XDCZh93EA92ePyKdEpYdJxV7f17Yc0M20cPqSeY3zFOz/TPwX5nNgqELSEvuPkorRKfkuYmb6SFS80rTROt3uiJ/j5Y0ssH+TBheWd/LP44/fC660QVyydiSsp3Cecg8+M67TyQw63snrisfLrB+w3mowcPAKCdHeEzCNbNc3BK/6bJG1xwo7FuRPIGNUMz8sblzYP6bKzT1OQAyYEf5weosrxCz1LilgsaPY+H5dATrnhtz29SiQssp0doYX+NKjREcy/EvNihGJz2JaInat39/W3qfsyF+rz89deo78a4ygtcIX0xJ/ZeoTWep4eyVJ+S+s7TE1EBuvEwoQCTFTYuDPbQyqVtM39uq5RYqPXjaf/mDpVFgdPgPD1oh62PyrftgiQX8tZpwJ5/zi7AZoRluUyzdE/N53iZDufXHzaiqcEwbGuTIqxmvh82Mf+SnOHZo2ev7Hw0RFP34wvS1Tsl2pwPj3WsS8+IER+uTtmruTZJNCS3s0Ajp8XCr5/Rjh2Hl4MetITlHSnHKc4pO49WRFo8rCufbKpzSi6j0jq2gJ9wDsp93OgL01OeNz2xeZcrB6WtORGeCXVNyJNP7xPdC8Im4lBeDwAAoC0dUQWBb6olUSBd0zebiv6diQLauTL16RurGhpkt0ZNif/Uem6BBGon0uM+Dy8KxoX304CI25X3k2JWFOoer1LlZlj477wylv/ZBa6MXJ6ja6Y3RxTE3uVCfU6R9fvpmsgnyeHl4TG6oMO4AkSbtBtXAcoKmyhMrixXaMz0iIn5Nys09TTuyKPxxBUYLnAGeFjX0Pw1K2zXaI7syhkX8uywi/mi8LXOhbo8YRHHci+YLwqOY2Lfm7scT40IG1HlSRi2/lERT8s7quWbn2cRS5t9C/1X4iqLIsy3rHz09nC4jRirr4I5ndR/Prq1QGK44oh4mbDi8MKlIWs/GdKOU8Rn2GPJ51QQ9768aXHPqqCotM7T06fofVjxwmG6xhUyL+/uioqErBxYlftc+fTdYHkVNtrazRk2AABoNUdTQZAFG3ETNwVSCxfQxD/83AL3EvTc8NuVxY1oVK3XdUYU29Ju/JCPTo8gznlSwyqSWtl3acdbvkMOaUgodHv2djeJervCwlBBcv3lsjX0ReWT1EKd0yvFYY2XGbaPdsgMXwom7gGLLQxxPA1R91v6a8Qe7W4Fw1eC7fVQeXmVdj7Si0R0Ulev/lgoLL5mhC1UKI1lz6DehxweFo8fbl4jPQwoY7hOUWo4jZqi15xk6cfJDSHhdvmcipcvLfq6vL281Z1e8XHE76Ozq8/NL+K8KnEvg9PzV19eAACA9nOEQ4zS6K5x2V3Nk93qBY229/4KrQa9OWZSwwRkS3VEF3Vf9tOIp7ghGFGRQgmThd185PqR8Iop6c04XDk4t0NjZlkefhEvM2xcKLvMQy+s/fIUO5SK48kvRKnClqIK+xUzDCWckp+VsdYvFBZfM8IWio3HOFw50G9JktuXw8OSyTcgieW2L61QT4MqCVw5kG8v0mHgYU55JR+nGnq0c1Mfl5jsHgFXvrSI7X243C3WziNuH5pdwRH5aY2HCzrPENSXFwAAoP0cTQXhdBeJ26oZ6sDDWwwu9IjiWHkhvu06VKWH3NIXjJuHGumhB5HeHDXUIn7oDM+j2od3yZZPezy2lwd0YWbFDBmq0oz9nAoPEbLG0mfiAr5dkNK9VLGywnb6Ag1TmcZTH3IOqIKVM6aeh6Qs688CPxA+NZj2QKd7LuwtjcshLXIIVKGw+BoRthTyORY3bNWlaH7xW+BlZVV/dol0uBOuLwvmDaEK4mHrvDofcks8Tr/Fnl8CoD9G5EuL1eA5G0nEx+0y0aULJu7S6fPZSU91XvnnfteVBfVMkVVJqCsvyB6iGtcFAIAjcUQ9CP00IR8U5S7rHlrp5cfpNH7Ajp9JEAVA053ttBSKAhO/mYOHiXDr6WG9W/+4kgUR9fYinxwPPj0b+yA4vxVqrdcd5hO+VUU9E+C/QcXgNH4xR5tmiNI40U275bhTjvsnM6RhnQac51RE/nHW58l6YF2OtbfeYiTHS1thfUqJPQi5wvZAPdwZ7jv5zTtyWIwdT08H3Jbk8xO6MBZuy42zIZo7s27myYdMTQ9BsbD46g9bGn69sBu20qvoUBz17Ep4ro+/6rPi2iYK0XYa8gOzuXpKoviZBJW3OM+o8fLhcLlx2ul1Q+Aur380ko7TOgfk7+tEiT0I+dJCPaAebE89GJ38drjoOcjnrJue6mH8uF4AeX7rc0jmp7ryAgAAtJs3DgT9uaFevnxJZ8+e1d8axLzJI99QlpOmKXF+WMwwIAwnC/EblWapG/kdAACg7bVTOa1Fn0Eohl/fZ1q1nAmvQQUAAAAAKKK9KgjczR7zIGzwR9CiE1peAQAAAACKaK8hRpAKcQ4AAADQmjDECAAAAAAA2hIqCAAAAAAAYKCCAAAAAAAABioIAAAAAABgoIIAAAAAAAAGKggAAAAAAGCgggAAAAAAAEZT/w4CAAAAAAAo7fJ3EPCH0o4RxDkAAABAa8IfSgMAAAAAgLaECgIAAAAAABioIAAAAAAAgIEKAgAAAAAAGKggAAAAAACAgQoCAAAAAAAYqCAAAAAAAICBCgIAAAAAABioIAAAAAAAgIEKAgAAAAAAGKgggGWPFq93UMedqv6eYWOGOjrE8h0zlHONo/V6kUYPNawqPmc29Feo36GnYWPtLY1mn1/yGIPzUOShO4vi/w3ScvFXpRlxrLWeI058ymMbpcXX6mvjqbB2XFfpUb3TvvmwaZqZdwHgUDWxgvAjVdis4+J/lOSNx1zoToiNh1TurVBlej3HjU/cLAc3ae7FPu3vT1C//vU4y1W4O0navLDeqvbe36FhcV5tn5kV16AeWjlzgTr1vOOnnyb292nivP4qC+E1FvJPj9DC/gKNnNbfG21jneiJuN7d3KEecW8o0UCbXPfqiNOCjiTv4joE0BRNrCB8mkYeiIvpkwpNDXbQ6FLOdgTdAnHUlYrOKwui4LsmCssl02J03FWfTlHl4gQNTE7RbFZ6vd6lTeqjrmbdjAFOqM4rE7KQq65B+7Rw5fhWD9rK+QlVkRH/crrs3zoJzSLFIO8CHB/NH2KkL6bteaFQrVv7D0aOcQteoErr0xUaEDfA/osVWn38LLlSxEOLzpVplaaoZPeymCFHenJa23Ur1pJeRs7Tv23obmkxqYok/x5sx20ZMj07ekqvSNrbEcu+r3829JAqs0xyK1v1Tgf13Fgl4gojb8vs191H6nArXfkNK8ve/q34CnoreL/B/HyV7GBYkxUuuV17X/5xZsRDMGxAT/LYY/OA3veSXl5XrJPTLCaskbA1Lg0DfnjS4jVIB2cdK52i+/fS3zknZuiZ/lnhYxPhdc6JaPjcPF4gv0kF4885thjeOR6ELTnM+hhf2+Gw0yjIA+KjzGclkaNWqXxOLGcaZrxjTmywCfYlPvrXIme9jDTz8rvJH9423XxTPB8GsvOY4B+PPZ/niWOrxq2fEKd8XXHDb8WdlBHnhfMBqz2OIusGx8fhiLsXCfa1M/s8AYCIgyb54IMP9Kckzw/unjp1cCqY3nuufv7w0cFV8f3ue3fNvLtVNSuYZ9Y5dVdsRXn+Hm/jbrjNa48OPtbzDsSnR9eCdU4dXF0M5xwn2XGeoiriO0gDmTZXDx59qL/GkWkRxr9c31lHxXkY1zq9zT6Y/i1IK5O+wXb9bYjv74Xp+vHiVS+dbWrbJu/obfnbdsIjj8E6Jo/cX0z47fzkhkntQ4YhyNdeeJxjC5blb7wde/lI/Cbxj1PHsbWuOleC48iKBzdcvL3nwWc/DwTb8s+9xDTzw6rDZuY3KQ2d+f4+XEE6+Olkvos4uJs0zw9LkL9NeHXaOHlKbCMxvrLymy9f/CXlwYiY43kkl80Os7NeRv6KXHvE8u78cHm5Lyc+484R7/e0NJNpZG/j+cEjPe+5uL+kHUORfGjLzGNyW3aY4ub7x5Aep3yehftj3jIpcR45tlz5oJ448o5Xfzfhkcfrbse9xnFYHuXYD0Dz1VVOO2RHVkFwCwIWfXEL5iUupy8SwUVALmcuYuqCFlxQnItF5OJ5fNSe8bwLrsBx5t5APN5FOXZ5vgE4BQX3JhX9zb8R8IXdLgB4Ym4MhrNvzV4+dt1oPNgiYYnbh3NMwfa8GyyL2z9vT28/etzpYQvFp2ViuDPjQX2OzQuRdXOE0VknZnl7fsPTMH5eWh6LnReb7oq9fNw54W4v7pzwZMVH2jZqiT9eJzYucqRtwNluXPjsbfnbzY4TO17zxGfWtSwrzeJZ+yqcD11ZeSw2THbaxqSzu040XqLbTI/3cPka80E9cZSVT/35sfsCaA3tVEE4srcYdZ0ZIlouy4e94rr4Kzfjh/WE3YY9VF7WPwYuz9E1+bBbF3VfJlp9tSs+89AZ8Y8eGqK6I8Hx+hmtiLjkZ0WCLtmSiLPVGw9zdsvu0e4WUV+Xl2JvddPQ8g5xKuTTSV29Mdux2V3bKWm5t7tJ1NuVPDTsox1avdwtcopN7X9zN5of48Tvg/PeKu18pL8KU4Ml2pzfth7EFHj/Qbd4MA1OEW3tul35DcDn2tAZ90iNzHjopJEH2zT8uEeF0R/6kEfONPM1Pg13aWd5iLrf0l+1zq6+YvHO+Vp/ZPZQBjkMTUo4J/JIiK+8+S2QK/5y58H4uDMKpbFKo/zc4SV8bcqLh7yUaC0yxLWmNHOGHvGwHa0B15IIk8cadW0tKinOa8wH9cRRoXwqxO4LAIo6sgqCeohpm+a4IH+DCx/ZYwTlxX56SL85R62b15AooMkHy/TkFNZOuL33V2h1cs2JHxW/U7TujCFNknKhb+SFmm8+97tpOwjjizmnoGaLLfTJG42WcoPNW6hLLli6N9DKkzXqE3ncqQjz/kWF1hxLMB328y654oErCSp8a6K4VaiSUCDNfI1Pw+TCdGpB2meFgQuas2fCa8v2fHB08efE7isT+ngp8ZU3vwVyxV/uPJgSd4XTWBV68+GCag/t3AzDtzapZ2URBfrxG3205j1MXDTNJK4cnNuhMb2OfIGFntWIa0mESadDurY60uK8xnxQTxwVyqdCyr4AIL8jqyAoquChLtCbtJvrgSX95hx+JaffgxDQ8yoX+cbAF7QireEnzR49e7yq48rWSRcuDdHU03yxJh9svjHuPnx4u0x0qXGvufNbRGXFRn+OkDeJMj00FRwRnvumzY/o9AUaFhWgkl3YFTe4kn5QO5fzA1QR+xi3Cv57S+NUpmG64LzdiR929yoJvH+xpL1ufqp1z30AsEaZ8VClGWue7PkroFCa+RqehjpPD9qNEeL4BvntXSlvpJmedR/e5OVlD6ffuqvOpQDHlXPdEYXM2YzW79T4yp3ftDzxlzsPxsSdOJ5Fse3sNF6l8kIY4yrMQW9vFr/FWvcIZxLpdK5MfU/8VzCnp1n0OlalRY4fLrDbBfKN9bAHITMf5jhfE/NYc66tMm9aL6Ko3rF6RFLjvMZ8kBVHXAFLaiQslE+FmH3tLS3KbcueIzsMAJDoyCoIfhfv0Py9zPdXd14Zo0rQ1Xi/m+b8liRxM+QhS9z9yD0GqpeAKyHc2qPXk1ORtyccc7IyFV+g6nx7mIacG1cKflvVkz71pgwZxz20cmm7oW+vkukfDBUT0/irvuSWSn4n+os52jTDpsaJbtotm2rozNxWuL2OQaK1lL/pYO9f3ezDgn+wjZ7Hw7Qd27IllhXhIV5WvhFE5Ut73XC7WfgGnlQILiorHkQF25onjy9okRVxPDapz6uEm26hNPM1JQ0XaHt+07oWlOS77VN7FCeHiW6Hy4fDxcT+b6rXOAfh2+m1Qufv6zbRmGmtjpceX0Xym5Ar/vLnwcjxnFsRlZCsMLMhmjuzbub3cKt+Yk9ZP12bJ+uNO9Z3uf66SA+9aIqgwGsPm1S91OlpFr2OlWiHKxPnr4kqjb6/8PSUwh4EGY9p+TDH+ZqYx4S6r61+nHKa3XOOZ/2i1SOSEee15YOMOOIK2GTS35XIyKeR61B0Xz2P+UoGAEW8wQ8i6M8N9fLlSzp79qz+1nxc4ShtzSXfLE+Aw45zOCIbMzS6ew3vGD8EPKyx59UY3nlfsyrNdMxS94sm/gGzZhDnWNDQVPd5lnG+tmsek+G+sUqVrAp2DtU7o7Q72mZ5BKAG7VROO+IhRkeJb1xha4QzoQsSWtn5CVQOAJpJ/v2eNepL+3sweR3T81U+R8g9VDmHoabpv4XKAUCrOTYVhP5bKQ8txdJ/BC1uQmshAMAJpZ4ZkMPPEt6mB7qB7dwKDY/ifglwHB2bIUaAOAcAAABoVRhiBAAAAAAAbQkVBAAAAAAAMFBBAAAAAAAAAxUEAAAAAAAwUEEAAAAAAAADFQQAAAAAADBQQQAAAAAAAKOpfwcBAAAAAACUdvk7CPhDaccI4hwAAACgNeEPpQEAAAAAQFtCBQEAAAAAAAxUEAAAAAAAwEAFAQAAAAAADFQQAAAAAADAQAUBAAAAAAAMVBAAAAAAAMBABQEAAAAAAAxUEAAAAAAAwEAFAQAAAAAADFQQgGhjhjo6OpxpZkPPa4gqzXSM0uJr/bVF7C2NUsf1RdrT34tzj6t6R8Tdnar6cmhaM24bjvNoXWlVA3lezIgYBmgHMdcCc23PysdFriN7tHi9g0aX0s5G3l6j7yMAcJiaWEH4kbyIpBY2Xy/SKF+8Dr1Q1SzqotjRjgW2y3O0vb9P+zw9qdDU4PEvGHVeWaD9ByPUqb/Xq/+WiLtb/fobJGuDSg1fm+53i3Nigo57inLFNr2wB6z94kmcZ4ObNPeCr+uNy8fVOz20c3OfFq5YV055L7fvGf00Ie4lE+f1VwBoO02sIHyaRh4Ehc2jvbDKll1ZcC9QGZEtL0ULMeqiuD1PVD7Xxq0n5weoQpu0226VHICGuUD3Glh5BDh0r3fFVbyPuk7r7w2xR12jKPgDnATNH2J0fkK2SjutDYHTI7TALdZNbnWVLbv7a6LQezhky3Qbt57sLc3S1OQYjdg3Fn8Ykl/RyprvkcN7zPJ2y5Pqvo6fp1ueN3TPU2S+UCQcvKwZtqL2O7MR9ALx5FcQ3bCNLu3q3xV5TPb+gh4ys7yuJHthtCvPwTbsSq1buU4PA3Pj1l/f44XRrtQmp1GMvPEu91eiKVqVlWh72FCRcKv4CcOUHNYcecbHx3Kuh3rkshmNBElp7KWTv51oOqsw2ccRly+c4/TjOCMNnIYSGe8qjKVpotUbPeJ3K4x505Pxsrw9e53IcDD7vOLJTgN97i3puIysG/DiNFjOC2s03hb1evr4UpaXvPkzG3njyU5jne+W9Pwg/hKXd9M+LY+6yyU0RPF+zpXFWTZFJV5O7t/Pk3H7yLr+ifOCz1uzTSFlX07Y6jlXzLyMcxcAGuegST744AP9Kd7z904dnDqlp/ee61+16t1wnpjuVvXvKT5evOqsE9nmwfODu/7vHz46uHrq6sHd98J1zb5kGOx5Vw8efahmZe/raGTFeSIvvk+duitiy6LjIjh+EQMHj66dOri6+LH6mjVfxr0Xf9ceiaWs70EcijS5a9aL244In1lXzTfrZobDw8v727KOXeZRb769LZWHveOyjoPzVhiW5weP9LrP37PiV4Y5/B7kLT8fqu3kDIOTfirO4s8htb1w3vOD5/pzahr5isa7DJO9fI5wW2nlpktWWDPyjM9LD3u/EYlpHLMPb7vqeMPjC66HJs4Slg/j1ItjuXxKGnjH8XH1ufnM+3bSKmtbPrm8e7zyeLw0sNd300zHV1I8S9EwPF9Uy2efT25eS1s+8l2k8SMrjaLx5K1rjkHnu5Q84Cwv85I9T5yL+qNLxMN7YTy58eidV/42xffMa6sfPvPdX159N+env6/Y+TWcK7njBaA91FxOOwJHVkFQYi6i+jfnQlyUvKjYBR8Wsy+9XHCBVTcTfTGSF6lg+ZiLWCB2X0ejrgqCfXP2LuaRGyOz1smar+I+2J5345B4vn1zCck0MfFub0crFA6PMy8mXPbNyf5suOGxwxoblljJ21CscGWGIS5u47YZUMtHw1ksjQrHu3fMucKtt/ecf3O2mxVWf19CStiix8Lb99bXEtM4Np3ccEbShMPkrOOGOzYNrePITIPI9kP+uoXTM26eHQex69rHF5/+jrT9O3LEmyN/OLLjyc4r0XyXuryML3f5XJy85u0zNh+G3LiJhteJj7htcZoE60fmu3EZm6dYbBj9/dYQLwAtqp0qCC34FqMu6r4c05Wbyeoald2d+VVuqrHGnV194v/22PshmhuNG/5U+77awukRujdPtPI+dwHv0e4WUV+XN0TsrW4aWt6h3cz5vl3aWSb5XErYbcxDTsJ4t4dC9NzIG7tFw1HQRzu0erlb5M48EsIScLra+dhzygwDx+0Qdb+lv2oyX29xSvk6aeTBNg0/5nNNhMUMI8lOo1Aj4j1nuJfLVLrRR2vOswFFwppFHYu69gTb6qHy8irtfKQXMVLSODadOqmrV1xddqOpIHF85c5fGq8jP+RIAx7q+YTUEJDU62oj0lM43UV8NWV7u5tEvV3e8xx8nY+L13jx29CKnk+Jy8fnw3hF8grLWJ6H274YphU9fCf1+TV7mFLB+0+xa6vKsxLnaRFTKv/oaVDEXOx1xVfHuVIkXgCgoVqwgsCFln3afzEnbn56nLIpuCThMYziQh+8iUeu2yyHua+js/squHmkFGzkhT1rvo8LBqLiJd+sYU8L8pkHvoHNntk2v2/P543douEoKK6AJB8CjJMSFi6cnNuhMXPcBZ6NyQxDSqErqXAlfpXnmwjLGpX0uZaeRq5GxHvOcItzbm1+UxRS7HHIRcKaRR1L5Ym/rbjniVKOO6UwHVtIqpUstLGcaaCfB9uXBa6kSkIj0lOw8mVyBTVvYTxlG0XPp9TlU/JhRJG8wnIsHzyTJ8JEosKb+GyBfLuWXr/A/af4tVUV7CXO0/ab7oIp14P8dZ4reeIFABquBSsImrwobNPcZfE59uYSQxcmqgu1tOqLgv/9KXETHKYLeQoWde2rxYmb6Oz0EA2/rS7Q/RcrtHpj3CpQiLi6XSa6dEHGQdZ8VydduERUvh33IKLf0rRHzx7nj91i4ShItohO0az1QGNa2kfDUqVFXtdvMdtYz27xDGSGgeN2yHtFbZVmBqeocjGhJ8yqfHedCQoMaWkUVX+85w9315UFUbCxKwnFwpqFjyXvK34T0/j0BRq+PEUlu2FDFOxK0xUaqOfFBdOzzr5k/Ojez6w02FuaCedZrftxakrP5TI9NAU3vfz8NfVqTX4rmpg/buXbvaVxKlPOay2L2UZ1SaR50fMpdfmYfCiuhYsJBdIieYWlLi/yR1jw5YqK/ujxe1L23l/Jef/Jc21dpfJCGDqVRnN0jfMs52nxzY7/Imo+V5LihSt6hUYYAEBRR1RBEDcQ+dYC3b07XbK6D63hO7ILdojm3s1qpeikkZsVs53ZM3NWq1DavhQ1PIH3VfGGL8RJ21cbEzdf9dYWMZ0rU98TqwVWDk/oU705cpkeWrm0Hb6ZKmu+h9/ytNZr7Y8neYNQcRsOFxmnnd4C/TMFw1EMv8J2jfqsIQLrF1NaKyNhKdEO35zPXxO3XOvYn1KB/JMdBo5bVYAO90tPklo1xQ13S+VjnnoeD9O2fqNYchrFKBzv/XRNvwo4eBNNkXDLsE2q4Q58HhcKaxZxLG44xJT0Vp2kNOZ8/GCb5qy47RgkWqv3XfSTw0S3w31tzm+H8ZORBp2iRGyHk6zzu390jkjmKV3gKpyewuU56n4aLl/uXbOWj+ZbmdcKvUY2uo3SK1FQLno+ZSwfyYfnVoh0L0dcPOXOKyxt+be6adNc91R8x+f9Maroew9P46/6cvYg5Lm2invtmXWz7R5nOB/naTf+eTL30dMjNKbPydhzr9ZzJWe8AEDjvcEPIujPDfXy5Us6e/as/taiZHczF4aTClDtpS3iHAAK41c99rwaa80/xBcMeylU4AcAOHnaqZzWukOMfLJLMWhJcKfIe6wBAAAAAKAm7VNBMA8qRaeah5DobaLLEgAAAABAOdlDjI4ZxDkAAABAa8IQIwAAAAAAaEuoIAAAAAAAgIEKAgAAAAAAGKggAAAAAACAgQoCAAAAAAAYqCAAAAAAAICBCgIAAAAAABhN/TsIAAAAAACgtMvfQcAfSjtGEOcAAAAArQl/KA0AAAAAANoSKggAAAAAAGCgggAAAAAAAAYqCAAAAAAAYKCCAAAAAAAABioIAAAAAABgoIIAAAAAAAAGKggAAAAAAGCgggAAAAAAAAYqCAAAAAAAYKCCAEQbM9TR0eFMMxt6XkNUaaZjlBZf668tYm9plDquL9Ke/l6ce1zVOyLu7lTVl0PTmnHbcJxH60qrGsjzYkbEMByp14s0inQAADhUTawg/IgWr2cUNuWF/ygKVfXYyz6udnR5jrb392mfpycVmho8/jfkzisLtP9ghDr193r13xJxd6tff4NkbVCp4WvT/W5xTkxQe6XoCakwAgBAUzWxgvBpGnkQFDY7aHTpUNv+ImTrbkNaIDtb6ria4vwAVWiTdlHIgBPrAt1rYOURAACgnTR/iNH5CdkqvXAl5lZ7eoQWuMW6HVtd046rze0tzdLU5BiNnNY/MH8Ykt/rkzXfI4f3mOXt3oqwhyY6T7eObuiep8h8oUg4nGErar8zG7yPYH2/JdYN2+jSrv5dkcdk7y/oITPL68qkF0a7khlsQ1ZoY+ZnhYG5ceuv7/HCaPeKJadRjLzxLvdXoilapfI5sZxVaS8SbhU/YZiSw5ojz/j4WM71UI9cNrk1PkirUJCH9Fedv6ombHpbdlzFrG/mpYbTzqc6rmqNWx3OPTtc1roOuQ8/fu18ExMHwTZ5co5Xp82SXsbMc49t5n39MwAAHJ6DJvnggw/0p3jP3zt1cOqUnt57rn/VqnfDeWK6W9W/p/r44NE1a5vXHolfBG9barp68OhDuZI33//97sFdE05rXovKivNEkTi6e+CkiJxvH7+K66uLMoaz54ut3bXmf7x4NUyf4HuQBz58dHDXrBe3HRE+s65O82DdzHB4eHl/W9axyzzqzbe3pfKwd1zWcVx1wvL84JFe9/l7VvzKMIff5TbEMZo87xxTzjA46afiLP4cUtsL5z0/eK4/p6aRr2i8yzDZy+cIt5VWbrpkhTUjz/i89LD364vGiRefclthPKhjtPbt55HUvO/iOAjnfSzSLfhcY9za4RJkHMfGUfwxhsvytvW+5Ly0fKHTxtmPFza9jht+AID2VHM57QgcWQVBSb5BJBcu4kVvgi6/UCHJG3R4M1KFLfvmFoYtdv0WU1cFwT42r+DiFkY0a52s+WIJkabB9rwChsTz49MuWthzCz/FwuFx5sWES8aDDpf92XDDY4c1NiyxkrehWOHKDENc3MZtM6CWj4azWBoVjnfvmHOFW2/vOf/mbDcrrP6+hJSwRY+Ft++tr6WmFfP3451X8WEPJaebCmf8vNrj1omP2Lym8LpBHPHnu4ti2WB93pbebna+yJk2KWEBAGgn7VRBaMG3GHVR92Wi1Rs9lNa97+vs6hP/n6JSpBs72d77K7RKFRo4r773X6yI/9tj74doblQNf+o6M0S0vEPRAR3H0OkRujdPtPI+DzLYo90tor4ubyjVW900JOMja75vl3aWRUoNhkMIOuSwiDDe7eE1PTdW1Y+ZioajoI92aPVyt8ideSSEJeAM6+FjzykzDBy3Q9T9lv6qyXNji1PKx8/TbNPwYz7XRFjMeZOdRqFGxHvOcC+XqXSjj9acZwOKhDWLOhZ17Qm21UPl5VXa+UgvUo/TXdQn/uuyh+558uZ9fiB+jUpq2aThQFLRPKHJsMbjdVcfPxPr7tGzx300cOUCDdMKPRPxXX06RZWLfM2sLV/s7W4S9Xbh2Q8AgCPWghUE/RDwizlRPNdjafMU+PUzAWuT4vM03zjzVy4gavdVUDjppK5eUW3ajSlKyMJq1nwfVwBFxeuFSGN+/sRMC/KZBy4gzZ7ZNr9vz4uKWS5Fw1FQXMHm9a4ohsZJCQtXDs7t0Jg57jVRRc0pMwwctwmF2cRClz7fRFhkgVOea+lp5GpEvOcM9+U5WpvfpJIzBr5IWLOoY6k88be1TxO6EaGZiuZ9+dYsXu7SCvUkVhJqyRNCYt4W+CUGy6JCsPGMVnoHqF9s5cIlblCoikpBUBmpLV/EVly4Yqw/AgDA4WjBCoImH2DeprnL4rN/w0ghb5pPuMiV3eonb0Y0Rev6gTpu/aLLw3QhUrCo0kNuzZvkm+EJIAqxs9NDNPy2Kj5wz8rqjXGrwrVHi7fLRJcuyAJG1nyXKkyUb8cVaPxWR26hzF80KBaOgmSL6hTNWg93VhfKiQWXaFiqtMjr+r0AG+v5exAyw8BxO0TuK2qrNDMYtOr6xDyr8i17yaS0NIqqP97zh7vryoIoONuVhGJhzcLHkvcVv/L6Mb1ult1bGqfysv5SWJG8L+L3Tni86jqWJGfcLpfpof2gMaff/LWE610/DUyu0sr9FerT2+h8e5jo8SytUHj9rClfyEqwF5b71hkie9/Q+AMA0GxHVEEQF335tg49vEK2+AdvvrDfYMHd+0M092726wadt3SImx9Nrjmtfv2jc/LG47yZ5PyEbKULhieUpive8AXdg8Hh5L8TcJzfcW/iRkznytT3xGqB5d6ZJ306LnjqoZVL2+EbnLLme/jvD6z1WvvjSRZUO2nkpnp9rPp9nHZ68/YgCAXDUUw/TeyvUZ81/GT9YkrrfyQsJdrhwt/5azRH1rE/pfw9CDnCwHGrCtDhfulJUgt4F3Vv6WEqYup5PGzyeHIaxSgc7/10bV4U6nl53fJdJNwybJNqOCFfMwqFNYs4FjccYkpqnRfLBuHg5cZpTDVo1KRI3u8UKWcd7yBZ160a41Zc37qfBvPFdbd3LfW8kYX/5T4zPFNWXpdFhcYu/NdyPnLD0Is52rTigW5ybzIAABymN/hBBP25oV6+fElnz57V39oQv55vcJPmXtQyVOFotH2cA8Dh42sd/1E4/N0HAICmaqdyWusOMfI5D3a6U+p73gEAAAAAILf2qSAEf1QtZmrMEBIPd4/X9KAjAAAAAED7ap8KAgAANB43hmB4EQAAWFBBAAAAAAAAAxUEAAAAAAAwUEEAAAAAAAADFQQAAAAAADBQQQAAAAAAAAMVBAAAAAAAMFBBAAAAAAAA440DQX9uKP5z0gAAAAAAoJw9e1Z/am1NrSC0SyQcF4hzAAAAgNbUTuU0DDECAAAAAAADFQQAAAAAADBQQQAAAAAAAAMVBAAAAAAAMFBBAAAAAAAAAxUEAAAAAAAwUEEAAAAAAAADFQQAAAAAADBQQQAAAAAAAAMVBAAAAAAAMFBBAKN6p4M6Oqzp+iLt6XmNU6WZjlFafK2/HqbXizTaMSNCcFiO8Fg9e0ujTUrP1sJ5eHSp1qPco8Xr9azfWmSa3zm83N4UGzNtm2/l9TQt7PaxyWtT864VLZkX+Phb5PqYW0PvIa1zf4gTey2VadZBMxv6e134+Bu1LWiGJlYQfiRvto3LTLVSmbDtLkSHShWMSltztL2/T/t62r60Qj0Z8VZfgQwOhbipjd/oo7UHI9Spf4I4nTTyYI36bozjWpGgvvO9tQtEtUiMD1GQmj2zTft5z7nTI7Swv0Ajp/X3Y0/khfvd4n5zko653QVptk8DTxtxHvfThNjWxHn9FVpOEysInxY3W1HQfFKhqUH/IqoKpE1r0ZC1/KBiojLh9jxR+Rxqq3H2lsapTKJy4N3MOq8sqHhbaPNWyBOuulAmmr8mzgTI1k8Dk6u08j4qvVC7Kg3QwhVUxxOJ+/AAGizay+suuqbTrP/WPbqgfoVjrPlDjM5PyNboo75YcmGXw4Haqm+Pnj1epcrN+It159vDNDS9Lm54Pt3rME20eqPH7aHR3ZBmSqsIRrosgx4fNYUVS7W/mQ17flYrhrutmff1z4auqAbLZFVYveNSYfa2Edv9nBbmjDDE7lOsxUMGYn6PqtL69BANv22nrrtPFaduuPztm3Tg8PjDJpzfUo5HL7fIQy/EPA5zMPRBDsfw9yW5aejv2wmnmLerfze8+HPjVx/3kl5Gz+u/WKHVx8/cY7Skx70X3szhCO7yM0v2EIZoukTi3zu+2NbsBO5xuOG000PtT6Vr3Pmeth1DNtqUaIpWZUONfQx+fKYdgwqXtQ/n+O240nG3oRqL1PyMtEjcVpH40L8PlvTyGfs0omntxIs+R/zroZnv78c5lhl6pn8OFcmnal9p1970c8IllxXxU4osq/cjzwEx7/p/T/+93K+eLQVh0V+9/J/n/E5L5yg3nuq7h7jLji5FrlYp51KQP5LTIC0scrs6DwXz/fPM2XfctfSjh9QTzO8Yt/KUDlvqueaFzTqH/PQ3y6TmSTgUB03ywQcf6E9xPj54dO3Uwan37h7cPSX+5em953qe8OGjg6vB76euHjz6MO53nu4ehGvpbVrz71b1rBMiPc6TPBdpYMVxRPr85++dOri6+LH+JlTviri3l1fpEi5jbS+yLM+z083ed5C+YZrzvk9deyTmxPG35a/vh0t9T8wzMqxWfhN58REvK/69623DPVY3zO52MsKQtE9e7r3wuD9evJocD/KcsbYR2aeORysd5Pacdey4tNOE2WHOczxuHKt9+ctY2xffw+XdNI0ct96+2b+/rUj4dPrY1x4WiTOb2EZi3Kvt2XGbmjbe8QThC+Pej2uBj8na3nNxDTXhlMcbfpf79o9N88PlLOvt4+Pqc2t/6ceXts+445HLJ+Y1wQpL5Hz3jtcNt9pO+F3HbVLY0rblbDc9PtKvB55IeMO48eNVhc/aVtp+/GOR+dk+dhU3aeno8vOlnxZift7rUeqyej/WunK+nWZ+uhQ9v/24sbcX4eXFIHxmfX9/6nu4vM1fVsdhSpq7x66PxQ97zrDIbdnH4sWdv28139pearzpsJnvat9h2GOOfZGXdcNY6NxpY7WV047G0VYQggzqZFb3pFQZ28qYhpsJnQuWviDGn6jHVytUECI3TBa5mIjtVTmNvO06yymc/mp73sWEyXSOyxtCzLac5ePW5XXsm4kRs+8E0Yu6H3fWtlLDkH+fqfHA8+x4iF3WDmf8fu3jctLY3l7q8ejPMenrxnn6cYf7jl/ODlvuvBjJ2+l53mEfc8zxpW4rbnknDmPWjd1HwF0+GreBuLjjda3j8NNRc+M0YzsR/vFk57XgeJ/zb95xR9OXtxdsv1jcpW4rd3xEJaeB4ITHDm98vKTtK/H81OLi1F0iJr6MmPDEXke0tHk+Z9ns/djHFhsfiXGqRNex84wnLp7s8MQdJ68Tl96xcZKV5jw/WCcufax1MsISzYf2/uL27cZVerzFhM2Ou7h4lOL3G0g9d9pYO1UQjvYtRpNj0QeUNtZpSvzDzy1wN1PPjVX1uxZ2kfVQeVn/SDyMgmjo0gWMaSysi7ovr9LOR/qr7/UubVIfdeV6kGyPdreI+rq8VHirm4aWd6wuy1UqD5ap74n7gNre7ibRctnqxlTpv/oq2hWbRW6rtys5P3y0I0IxZbq55TQoct7WrjgK3y7tLA9R91v6q8futvXza1QndfXqj6lhSN+n001+riy2kxPv83K3SPUk8fvt7OozcdM/Okekh+Dsvb8SPt9QKE7zcrudeUiHkhE/HIO58mINEuI+Ps8ln1+ZeTQP/byVCg8P4cmD4y68xobrbtIuD1ngYaFPSKdj2hCMjO1kys5rkrgmlCIP2av0VcN7gn3zPSHlWpYoY1u540Mpdj2Ik5W3lfj9JOR7S9F8mkuR61GRZU+P0NjkFK3LYSh8n6/QmByuXMv5XSzPNPQekuu6W/RcynsvyZKV3+o714pc5+o/d6CRWvQ1p0M09yJ8m87+/oQsgPAYudJ0MG+b5i6rpaEenXTh0hBNPY0f7ccFwNXJgZwPuKoL1uZuzCXJuTiKNHwyR5viYmiPL5UFg8k1K931dKv447WRQgaTF1GNbySX3bc2ySn2wbnkmydf0OTbSvT62/NDek4SdbGVUsOQcsPmG6x+m4Rc/sWciNEU/g3T/y4rgYGU/QYX+dMXaJhW6Nlrfn6FwucbCsVpHlw56KGdm+G21ib1rNhwWnGbOy8mSagUp8R9bJ6T4m++mXk0C1cOzu3QWBCW/TWq6FnpOO78ayxPVoVdPzu2/0Kk9LmkQnGO7aTKkdeYyFNr85ui8GOPSVbpW3ni77uW58xybCtXfNRyPUiSlrfT9hOf73dfhbmqaD7NVOR6VPTaJfAzQfL+xI2H5l5Uy/ldLM809B4SV3GJXHeLnkt57yVZ8l1Laz3XkvObq3HnDjRK61UQOKOLUzD5zTn6xr3x0OpB4AwuLqm6pZnf2oK6Z36dV+7R3FYp8oAVV8h6uOWuQAFdPuDpvCZSFPJul4n83p23RmhB3BycSsL5AapMl7yH0mokL8hlemg/AHXfal+Vhdwyjed6qFNXogatAooonC1uqIto2IqlHvh2uXk5eGPUNb6wpoYhaZ9iG16LjKzE6c8Rp7vEGWO1QnEc0xTNWvt0z5eY/YpPM4NTVLkY5ANehmhl4aGoJgzTheAGVihO8/BbtlRPoaJuWlP37Qd27WtCgbzo44JIQiEjNe45bkWes49fpbcVR7asPKpv3CvmjUoqHQy/VVL3vmZT6Ve+bcWdZW9pJowzmX+SpG8nW568pnTJN6q5lQRZcHTWrV3atvLHR57rQR78Jq20vJ2+n64z4g5642F4LOK6MWvOG6FoPs1Q5HpU6NoVkPeFdZp56uaLWs7vQnmmkfcQmW+yrrtZ51Kt95Is+a6lNZ9rMfmtuuQfZ3qelj0LqQ+AQzO0XgWB3wf9pEIkCoodQXeWfuNF55UxWbiR3Wj3u2nOtCZ20si7czSk1ymJpfK1pIHC73/fpzURcybOxdTzeJi2de9NEjncxH6Lh+yO71NvKpHb6aGVS9vxb7HSaS27VeXJ308TutIQhiO7Sz8Wb9vZ1jjRTbu1Knjnvd1t6vZo2NQrX7mAopc9tyJuIGIbN3X45e/jtNPrt3oM0dyZdbN9WeEyrTrpYYjfJ/8uzgPr/Bh/1ZfSCue/tlPFsUoztf76RbflObLfjhLRE7e1iN9uRdNT1Oe8/apYnGbrp2v69cRqW+tE5pwXc2+JPNtrDUl7OmD1MAhF8qKFCzFJwxXT455fqewevzyHklrx8uRRcV0L02qdBvjaGDh/TRQP7OOn3Nc9TmMn7njSN+BOUeMI44zTPmzF9M/3tO1EWelprunZeS0g9zWprv8yT4n0ddcNt1tYyrbyx0ee60E+/be2vbS183b6fiJxeptozGmNLZhPMxS5HhW7dgX4GjZFU1u6MByo5fwukmcaeg+JxnncdTf9XKr9XpIlz7W09nMteuylV1YPodS4cwca5w1+EEF/bqiXL1/S2bNn9Tc4DIjz40n15KzKLt48XboRZihKQmUva/6Jwq/sm6XuF3mHyTQY0gJi7ZnhdjVdA6DNHfF1CRqmncppLfoMAgAEuGWJx+puJjwnkun0CN3j1p/YFh/VLZ//OZPjjAthJdqcv4ebMLQUOZxkuUIDqBwAwCFBBQGgpXHLUYccXjQ8WnsRXlYyZHc0F4KDblyeeqjcu1bTg+DHD3fTH/0fdQRw/miVmORwEvQqAcAhwhCjYwRxDgAAANCaMMQIAAAAAADaEioIAAAAAABgoIIAAAAAAAAGKggAAAAAAGCgggAAAAAAAAYqCAAAAAAAYKCCAAAAAAAARlP/DgIAAAAAACjt8ncQ8IfSjhHEOQAAAEBrwh9KAwAAAACAtoQKAgAAAAAAGKggAAAAAACAgQoCAAAAAAAYqCAAAAAAAICBCgIAAAAAABioIAAAAAAAgIEKAgAAAAAAGKggAAAAAACAgQoCAAAAAAAYqCCcdBsz1NHRETvNbOhlkvC61xdpT389sV4v0ijH2Z2q+LJHi3caGSdVmukYpcXX+mtLaeWwJave6aDRpUPMtcfxPMk8JnEeXD/keD5k9eWjjPiR15QZcYa1oFYOW7trQNxyvlT3IoD6NLGC8CN5AcxV0DwqQeH4JBdyz0/Q/v6+nLbnh4gm18z3ifN6GUi19/4ODb8Q8XdmVuSnHlo5c4E69TzIq10qG+1ZKWKHWzHqpJEH+zT2qqd1r/9HaG9pnMq9a7Rw5YRfKVDZaLj+W9s0t1XCeQd1a2IF4dPyBrH/pEJTg9Ebk6zl6pbqwrVdp9U7vLjsLY063zPJwrE4mahMPbhIQY06r0zQyGn+d0FWrE78TR9A67+1T9feOrHNLwmq9PAG0dxov/4O0EiddOHSEE09RYkG6tP8IUa6hdovNPGNY39/jSr6e357tHh/ymrpnqD6LrOqpav+7RxPqtIVVubSWiBVpc+qaDkVObvVVbfCbuihOXJyK2hOBTKth8erLC5yeIMKZ0zrlDwep0LKYQn3lX18erLC5MeR23KjhhKE87Nan93lR5d29e8hd39efHO47DiJxF3S8ar9zmzY8/2w1h+2qj3fSacSTdEqlc+J3xPj1k7L/OnmbENsOxJqJw+JKanBInc48+QjL27MusXOE5ef14Jl1e+laaLVGz3id7UPGWbnWIM8oL96cRzNS8ns+Og5l9WLkJyWyenv58VFFVc67jiO3TTQcWni1osrOx50Xl3U53sQ9vR8lBT3MTbWaeryMF04rb9LbhzMvK9/NpLDG6SjEz4/D9eVx+oPm33tNOnCYTpXFmfTFJWc9VLSRp6D4bzkfJWyDe94EvObzgPB/OBYQmofThiy4nlJzzfbKRi3zjaFhPjofHuYhqbXvXQEKKY1n0FwMr13QojL8s4y0dCZLv1d0Mv33FgVX/TFxjpZ/JPQPckhCV8Qe2700ZoecsQVuj5RwIi7KPMNoLQ1R9tBRYsvlIMUrvukj8q37QKGKGTdJ7on52/T3GWRbkG6iHXVttS62zettLb5+3jRTSsyD+TF+aJE9ESvL49v3MtvWmKY9ujZq+Hw9/khmrofHCdf3HvkUAK1fTFxPJxLKjyo5VcubZvlx16VRY4OyTR5bO9vM4w3tlymnqcDZv21XvHduRmlH+/U4DoNBOtOijQyadaYsM3SPbX+izlxA9Pd4KdHaEE2FgzR3Asx78GIHKKVtr3qnRJtzgdh2aaxhCzib2P/5g6VRUHZkHloU+1Xb4u7593CpZYWzqM4T3yvn9GOSR+17Kw8DtUIsjYprpsyzhZkj1cmUZC180pFpN/DmGOKSjsnfCl5UlzXx+14fTKgVsmRF9P566s0d9JLHOvORbVtHmqZmY8S4z5qb3eTqLdL5h3Fj4Nt6n7MBedAjvCKc2k8OLf0fKcgXnMea0zY1nVc8oiC1SB9ufGQrwPijJJhu8VnRNr2xLzbZeqz8kqQI1zpYUq6dmSmcZY88fxKX5vlseaL2+T7R0p8nO6iPtqk3bh7GUBeB03ywQcf6E9pnh/cPXXq4NR7z/V3pn67W1XfPl68enDq1F3xq5jznliWl7emq4sfqwUFe1mbXO/ao4NwyeMpX5wnk/Fn0uLjg0fXwnQIOMtU78p4fc6/efHLcW6njdre1YNHH/JnTuPgs6a3JdfgzzHp6Ivuwwvfh48OrnrbiQu/E0ox39+mlDNMzj5j9q/iIRqvUuzydlzFrcvz9Toxx+NsM/V4Y7adeSz1hc1NPz9PpG9PntPOdSNOfFzb+43LQ7HxaOQJp/g1Jp81/DzJ4IRB8Pflz086loCzfoFwxOcdLWY7Jk/K9bzjZ5l5MS5erflx63M4Eq8L2fnIF43bkDm+QFxc2mHMCG/svqxt1pXHGh42Ly799VO3p9ZNinMjI0wcH5H48sOl2XGXdSx1xXMgK26dfabFR/zxwNGrt5x2mFqvB4G7X8U//NwCt/arXgHFHpakWsLyjffuOjOkWlbF9mJbBiEG99QMUfdb+qvW2dVHtLUbtoqIeC1xK59uTVX2aHcrGM4Q9Nz0UHl5lXY+0ouk4ZalJ6R7gvwepIDaR19XdvonkS15Ol8E4eT8tvoqOnQmNUzcchRsQ3aZax/t0OrlbnIbtzupq5doczcmH8Yub1O9Z8G5oSYe8pLSUiRbkpRCx+trRthSpW+PrwVrVFK/Jw59ic/DoYQ89FY3DS3viLXzOMLzJIY9lMO+dtaGWzDD7fEQpdySzglPap7kHpsXw7TCw7nE76ZVOjMvZuD1RU4KeprlNCjuOnZ6ObLykVJr3Ed7FDyFwytwHpYf6stjTQlbmtTtcU/YNg0/1seS1JOWEab4a0e+NE5WPJ5zxW3q/SNnfADUqDWHGAVd+EG3Wp3PB6iHR7nrNDiBU8aHgtZF3ZcTLm72Re3yHK3x0A8nTtVFrGK6PsMp95uR9LMr+7KAEFdJiC9o777Kf2OWhTjrrU1mkt2/MeLCxAWh+91ht7TsMtdSCpqxFZu45V/viiJxgNPEPzd4ShkyYq1f+HhtzQhbquztqQaDfdq+tEI9sZWEuDysbuRKSmUtdwH0iM8TCxdQZ88EQyfU0J7aqeENOzfDMPEQpVzSzglPZp6Uw7r4tzUiUVmUlYTMvJiB1xfpYcIXTE7lzZaVj4rHvV0pj1QmmSzkaoXDK5j168tjTQlbmsztBc8M6kJ+XKE4R5ii147sNE5XPJ5zxW3m/SMtPuqp8AC0YgWBTwpxipQXGl2EVyeSunBjbF42/SaEQbtAU6WZwSmqXHQLlF2iAibHh1uFn/6L/Paq2ipie0szYYXAagH3cc/Q6o2H4T5eL9Ks3cop152i9aDlUY5ptioQ5weoEoyDz5AUJr8VaO/9lfACf/oCDftjxkXhqTRdoYG4m4YOrz12ubpgt75ympA3rtWzbI8TV2NUaf6aqmAXON6IRoStkLTtieOy/taEvNHGUjdtZ/z7xkMqL+vPAudTMyZa0nF2Ke+rao/uPHGpwkxYcNijZ4+tvB5Dxpv1IKN89aaJG79FtUrrOXsQUs8JX1qeFOdK+DsX4PTHzLyorw2Pn5l053HnU/qzPC+pTOO5e5Oz8lGxuI8UDGVB0Dtv+UUcgTzhnZ618rDOfzdVgbiuPNaIsBWRuj1xXNa1VI4MiJO6jaRrR/a1Iv18qSGe88Rt6v0jJT5eP6OV5T7qko0pYrvXMXoCijuiCoLKsGrIgCBuEB0dunWIW4yeVMxvckocQuDqvDJG4hQ1XYvBzcXv+h2av1djq+bJwj0vqkATxJ96oCquRYSXXZtUcS/j/fyEt66Y8qZjlygY6mEFap/xrdCR8N0mGnNa7vppQr9mN3H+iznadIaxxA9pSgqTzHNWXh1/1We1lqouYH5AzmxfPsSW1CMmwiMf0gy7qdcvum/6kvHMDx4H2+PJvoFcnqPup8E89YBbOAwv//FGNSBsqfrp2ryOY51PkrcnbuaiAGB+5zhNaLGUwwnsbTwdcFvC5dAxfvBPzxdxxg83Jg9djA/nUZwnLpHXblp5vWOcdnrdAlT/6ByRTD+d5mLfQVh4nXEak72sinWccv46Uc4ehPRzwpeSJ0UBKvxdpYuK0zx58Z5+fXXcfD4v3fV5CisjUen5KDvuHVwpWl6hZ8F5J4dS2XEwTnTT7nXJEd7JYaLbwTz1EK7Jf/XksUaELY3Y/liQB/W5nbw9UUm0rqXygeLY3s+0bSRfO/JcK5LPF6FoPOeK27T7R0p8cE/E5IBeDqA2b/CDCPpzQ718+ZLOnj2rv8FhQJxzq84o9bwayzds5rgJhnbU2r0P0LaqNNMxS90vah3SdrgaeZ060de8JguGjrXX37bhBlg1PDBpeBMcnXYqp7XoMwgAAADHk+zh2Ep4nS5AHap3VM8xKgdQL1QQAAAADhUPH8FfXYfGkw9gozcJGgBDjI4RxDkAAABAa8IQIwAAAAAAaEuoIAAAAAAAgIEKAgAAAAAAGKggAAAAAACAgQoCAAAAAAAYqCAAAAAAAICBCgIAAAAAABhN/TsIAAAAAACgtMvfQcAfSjtGEOcAAAAArQl/KA0AAAAAANoSKggAAAAAAGCgggAAAAAAAAYqCAAAAAAAYKCCAAAAAAAABioIAAAAAABgoIIAAAAAAAAGKggAAAAAAGCgggAAAAAAAAYqCAAAAAAAYKCCcNJtzFBHR0fsNLOhl0nC615fpD399cR6vUijHGd3quLLHi3eaWScVGmmY5QWX+uvLaWVw5aseqeDRpcOMdcex/Mk85jEeXC9xniW59OMyF2M81iOa1GCvaXRBsd9xnE5YW8xrRy2FPb5Wl961peXEsl7aPvFK0CWJlYQfiQvpLkKmjHkhaAZJ3NOwf5Voe8YOz9B+/v7ctqeHyKaXDPfJ87rZSDV3vs7NPxCxN+ZWZFnemjlzAXq1PMgr3apbLRnpYgdbsWok0Ye7NPYq546r+H9NFHHtajzygLtPxgx56O8rtdxTd9bGqdy7xotXDnhZ/gRVTb89CzGz0sNOpfFPXR7fpNKx72sACdOEysIn5Y3iP0nFZoabP6NiW9+aS0LWfN98kK0v0aV6VKDW6DguOm8MkEjp4M8s4/CA4DWf2ufrr11XK6eVXp4g2hutF9/B1A63x6moen1Q68wATRT84cY6RbqooWmoLB1tK3YqsWh9haL9md6UvSUVtGTlTC7VckZvmS31OiWmw09NEdObmuU2pae0ipozj5maNFuIYxp5Yq2IKpu52Ab2cenJytMfhy5LaZqSEI4P6vFyl1+dGlX/x5y9+fFN4fLjpNI3CUdr9rvzIY93w9r/WGr2vOddCrRFK1S+Zz4PTFu7bTMn27ONsS2I6F28pCYkloCc4czTz7y4sasW+w8cfl5LVhW/V6aJlq90SN+V/uQYXaONcgD+qsXx9G8lMyOj55zWb0I7n5m3tc/S26YVJgX9XGGceXGfzTfcbg53nturBJxow/vx96mWdc+fs/GOk1dHqYLp/V3KS3szEsTK76D+Hf27+e9xLwRxIu9f3s+qz1sqecrzztXFmfBFJWc9VK254Wl5vPVSk+1TXHMSzqOzP6S9mXlpVrPZbleOM/kldMXaPjyFK0n5R2AdnTQJB988IH+FO/5e6cOTl27e3D3mvj3FE93D56rOQd35Xc13a3KHw25njX/1KmrB48+jNnetUcHH/MK1bve8jypdSRvvr+/dpIV51k+Xrx6cOo9lQpMfjfpwlTamDjiuNPxrOJfxzmT8Wqtay1r0th8//jgEadbsG9nWTG3+jzcrs3fx4ePDq7ydoPtyO92+P1j9I5Hfrfyhi0xTCLs71m/8/aTjov5YXao5a8uhker8nsYJnf7+rsdb/bxC3L9XMerw2qFzU3TxoTNrK/TKi3u07bH+w7D8vHB82oYLpu/jUg45Hd7v9HjdCWE00lTL555HzoMbpwKcv/WutaywXbC7zH5ySbi9K4VJ3HpZX930kdS69jhdtMn/piixHYSzwmft10dhjBO3DCpuM6fT/xwxh5zzrBG180XdjufRo8lOt98T80b/r5U+obz6wub2rc13z9fI9fW9O019Hz1jjE9Tfh7kF+8Y3TmKSpN7OOytxdd/7n5LL555xdAnHrLaYfpaCsI5sRTJ6FzcukLQ3gyCvK34IR2LwTO9iKFDz0/cuGP2W8ba2wFwb8YKs4y+mL93L+oC9GLJW/PTjv3wuxc+GU62xfpeHEXZCd8kZtYfPidUIr5sfkhZ5icfcbsX8VDNF6l2OXtuIpbl+frdWKOx9lm6vHGbDvzWOoLm5t+fp5I3548n52CQZz4uLb3G5eHYuPRyBNO8WtMPmv4eZLBCYPg78ufn3QsAWf9AuGIzzta3Hac5d0w5Qtzcr6Lru9JCSuv66RVVtjjtsXr6P3HhsXaZnreiDlue391hi1ufSc8/voZ2+N1U+Ndis9/yfku3/kRppu//aLnsprvpkkoM28BCO1UQTjatxhdnqNrcgiRGsqTbxhSH3U5XbwWs728uqj7stvtDoFd2lkeou639Fets6uPaGvXdMfScplKN/pozRmGtUe7W0G8Bt2xPVReXqWdj/QiaXhY2hNS3deJ6aL20ddV++Cvvd1NGf4eE0Y1BGH1VXToTGqY7GEAsutd+2iHVi93i1xm66SuXqLNXavbOhC7vI3ThOQzPWZ/spt8k3aT8u7pLnHGKIWO19eMsKVK3x6PbV8jNVTEHh7gis/DoYQ89FY3DS3viLXzOMLzJIY9DE4Op6mLO2SEhyjllnROeGSe7O2qYwhnA/JdzrD6MsPO54wIibpm6Glwys0XPs578kN9eaMpYUuTsb3GnK/Z6rrGZZ7L/OD9Ng0/1mniDKECOH7a6zWn5weoYi5C4iZQuELgU2/a2H8xJy7KeiwiTnqNK08JNyP7xiPSYI3f4OCMjVaF4MoT9TYke8r9TEnwdqUXw7RyLq6SEF/Q3n2Vv1AkL/zWW5vMdCvhIcS4MHHh4n43bQfryrykpRQ0Yys2ccu/3hVFnQCnyRDNvdD7MtOCfEg6lrV+4eO1NSNsqbK3x4UO/m370gr1xBY64vKwKngpKZW11MqQ7YjPEwtXDmbPbJttyLeS1YwrBz20czMM09qknpUl7ZzwRCpSTBY286oz3xUIK7MLmplh53NGpLvZdjClPdNm1q8vbzQlbGlybK/+8zVbXde4XOeyLjOIbcoKj1deGDqT76oB0A7aqoKwtzQrKwXmIlTrxcx3eoQW9rdp7rL47F9UT6xOunBpiKYG7QJNlWYGp6hy0b3Ydl1ZUK95swo//Rf57VX2uvntLc2EFQKrBdzXdUZU6248DPfxepFm7VZOua714JiYP263qnKFc7qU/FCiJSlMfkvd3vsr4U34tHpwzXn9nSiQlKYrNBB3k9fhnbUeiqsu2C2anCZE5dtJLXDCcpkemuMRhbzbZaL5ayRTrMDxRjQibIWkbU8cl/W3JmShIJYqZE3dt7ax8ZDKy/qzwPl09ca4VQHVcXYp76tqj+48cfm9IXv07LGV12PIeLPevCJf4Wnixm9NrdJ6zh6E1HPCJyueXp69P6U/51FfvisS1kihOyvsfP5TmcZTHsil6Vkr7+l8c1Pd1+rKG40IWxGp22vc+ZqpnmuczEtp57L4bF3L+f4TUudbcP7Jnjw0NkKba70KQvCWAO6eFFTXsTphO6+MUcXrPsx7EvaPzskLplo3aJEWJ7zZFnffDtHcuw2qdBwD/CYpVaAJ4qhE9CS+BYuXXZtUvTvy4nxevxvarCumxK5lV2eXuOFzb47ZZ3xrYCR8t4nGnFbTfprQr9lNnP9ijjad4QnxQ5qSwiTzpH4rCk/jr/qsFkjVJT23Fc7vGCRa259QBfYIHmq3Rn3WsIL1i2tU0XOZjOfelHNAVKC7nwbzRJ523tme/3ijGhC2VP10bV7Hsc4nydsTBQlRGDG/c5wmNBbIoQ32Np4OuC3hcuhYn5W2PbRyaTtluGN8OI/iPHGJvHbTyusd47TT67aF8zWQZPrpNBf7DsLC64zTmGokkazjlPPXiXL2IKSfEx5unHHy5DjRzfRWfF+RfGeHjeO/UFi58Lm8Qs+C8yUz7Hz+u+cMT07hdXKY6HYwr0Sb89thvqknbzQibGnE9seCvKPPyeTtNfB8zVTkGlf0XO6ibuta3vN4mLZNzwRXqBMafgDa1Bv8IIL+3FAvX76ks2fP6m+NwbXy0tYcbeuLC7+OrIfH9SYWuE6WZsR5u5F54tVYzi7lYyYYLtGonjUAcDTy+nKir1XHDNIS8mqnclpbDTHiLlf7ASR++KjyBJUDAABovs4r92SPYNp7/OGE2ZhRDZWoHMAx02YPKeuHRK0pzwNbAAAA9eOhNPhr6WCR5RI0VMLx01ZDjCAd4hwAAACgNWGIEQAAAAAAtCVUEAAAAAAAwEAFAQAAAAAADFQQAAAAAADAQAUBAAAAAAAMVBAAAAAAAMBABQEAAAAAAIym/h0EAAAAAABQ2uXvIOAPpR0jiHMAAACA1oQ/lAYAAAAAAG0JFQQAAAAAADBQQQAAAAAAAAMVBAAAAAAAMFBBAAAAAAAAAxUEAAAAAAAwUEEAAAAAAAADFQQAAAAAADBQQQAAAAAAAAMVBAAAAAAAMFBBAKN6p4M6Oqzp+iLt6Xlp9pZGcy/rqtJMxygtvtbfeP93qupLE/F+RpeKh7ZmGzM1xk/rkWl9CGkEAAAAR6eJFYQf0eJ1VdCc2dA/+V4v0igXRO0CBxemChROoRH2ZFqVtuZoe3+f9vW0fWmFeqwCfCyRXj2vxmj/wQh16p9q1X9L7PdWv/7WqtxKDRwPh15pBAAAaGFNrCB8mkYeiALfkwpNDRa4+Z6fEIXTbZqjsiiczojiGDTb3tK4iG1ROfAK+Z1XFmh7nqi8kJwKe29da4NCPQAAAADk1fwhRrLAv08LV2Lal0+P0AK3VkcKmJ2qcrE/QSh6NtsePXu8SpWb8T0AnW8P09D0ekJFrUoPz42b1vRg+Ik9VMmtGKqeinDerv5diQ5fcZe3e5XkssHvGRVJZ1mxDXevQtBrFUxJQ2hkj1eJpmiVyufUtuLDk14hVvFjhdnZv907oXsrNnRPm5xSjlUPZaraYfGPJe+xBpzlZ+iZ/jnEYbS2FxM+Oz8E85PS2vQ2Ro5Fx4sdntRjyxuPuvdsmmj1Ro+7XtG4AgAAOCaO7BkEp9CAG+8R2qWd5SHqfkt/9Z3uoj7apF1T2MowXaL1i2qIEvcerd4IKhBcEOuhlUvbap6Yxl6VRWE7SXT5tUt6jig09jweNsOhtuc3qZSQh/xl92/uUFkUBg0uBA5u0twLPZ97r7ZK8QV8WaFdowoNqeV1j4vcx40+Wgv2IZbpE4XNuKF1nO/VUC5d+ZX7p3DdJ31Uvm0PrxOVkftE94KwXZ5KPFZpuUyzdE9t68WcqNyV3EJ33mNlfthedNPKjVU9k3HBu0Sb82EaybSwKk7yeGnNmt+t5+RgHYvsyeJK2dMBtS15bLNuYb6meFSNEWuTREPyOBZo5LT4uWhcAQAAHCNHVkGQ481lYQuOlck1mjivP5+/Jgpiq7Tzkfj8+hmtLFdozOpJ6r+Vkv4bD+Wwp3v28le4QB7t8ei8MkaV2F6OmN6R8xOyMBioPp0SBcN7qlAoiQLjTVGxefzMKlym0ft4Yvd29dO1+SGaeuqGaFdUJGTlwBrKpfZ/LVyX44xW6JmpkInKyLvB8ipstLWbHLbLVpyJCs2YONbNXbV00WONhE1s7544LmNjnabs/QkyLZZ1+F8v0ux0hdasHsJOkYbhtwzWtmVPFsfFqF779AUaDvKW0Oh4rD9fAAAAtK8jqyBAq+iibqugFfF6lzapj7pMQalGH+3Q6uVusbd89nY3iXq7dIHOxj0eJJ9rMT1QcthPXC9HRu+IKOrtbhH1dXl7eaubhpZ3okORYsXvo7Orzy2ALpepxL0MznMeav9qaEtwLD1UXk5Jj5oVPdaE5S3xaWTlp4Jpnkr2ZCXlw0bHYyPyBQAAQPtCBeHE66QLl6Kt3YG991dodXIgf6tvkrjClax8xIsUsA0ugOohPsFwEjnpoSGOuMqPKvwpndTVG7awO3IXbFMqWHbh+fIcrfHwG2eMvtp/5Yl/LPthL0zDFD3W+OV3X4VDjJLTSFeYDq1A3eh4bES+AAAAaF+oIAB1Xrknx1f7z4KYsfWNeEuRbAGeollrDHd1oUz2iHbH+QGqLJdp3F5+iceUc4WGvPHlSVRBb+q+tSwPXVrWn4X+i/ZzEmyPFm+XiS5dEGvnoStYg3bBv0ozg1NUuejGW5d8K5RbSeD9u+s2T9Fj7TozJJZ/GIZNDhnSn1lMGqk3Yg3TBa6sneZhQO4zE3siDfmbrFxYw8Lkela6FNXoeMyMK35GIeaBbAAAgOPgiCoI/ABqMDREmBaF046Uv5cATdapHtQklQ7BpB7ubdSbpPppQj+8G2x//WLaMyjR5UuvVIs8v351rZdfgxuGNelBd37WxVn26YDzDIJ8yxY/0MoPwMpl1IPRsW/dkvj5Av3ArH4YV70Olgv+wTZKRE/iW69l2CdFoVksJ/O72L+7brjdhit4rJHjuk00Zj+DEJNGMs+YYVScr9TDveF87nMR5LMgKh7493Eao7nLcqXa1BmP/aNzRPI49FuMCucLAACA4+ONA0F/bqiXL1/S2bNn9Tc4DIhzAAAAgNbUTuU0DDECAAAAAAADFQQAAAAAADBQQQAAAAAAAAMVBAAAAAAAMFBBAAAAAAAAAxUEAAAAAAAwUEEAAAAAAAADFQQAAAAAADBQQQAAAAAAAAMVBAAAAAAAMN44EPTnhuI/Jw0AAAAAAMrZs2f1p9bW1ApCu0TCcYE4BwAAAGhN7VROwxAjAAAAAAAwUEEAAAAAAAADFQQAAAAAADBQQQAAAAAAAAMVBAAAAAAAMFBBAAAAAAAAAxUEAAAAAAAwUEEAAAAAAAADFQQAAAAAADBQQQAAAAAAAAMVBDCqdzqoo8Oari/Snp6X197SaE3r1YPDPbp0mHuMl33sVZrpGKXF1/prQa1ynIftZB13fXmkmD1avK7O9ZOUr+R5eqeqv51QrxdpNCOf1XPendQ4rve4j+L+acg84ZYBnPTfmHHmySk41ph1o/HA1zZ7mRnxiyu7DBJcs6LrqjDE/A41a2IF4Ufm5jOzoX86yYKT66hO/lTqpCttzdH2/j7t62n70gr1FLyJdF5ZoP0HI9Spvx9nJ/nYIZ9WrtzsLY1TuXdNnusLV1o11x5mhen4ihRcT4/Qwv4CjZzW3+HoiQLu+I0+WjvSe0iF1kwZYI36bvS416/Lbhlh/1a/nsHcdSvTpXBdWXifpe4X1rpPumnXnNdFyiBDNHR5imZb9Lp6nDSxgvBpGnnAmaBCU4MNvEnqmmrRSoesmR5l4fz8hMjw2zRHZZHhW6uWKwsKImTb3oWJC7zb80TlBdTJAY6b3VerNHSmS38DgKNUXSgTzV8ju8h9tPppQpTfVl/t6u9F9NO1+aFw3Y92aPXyMF2wK6TnR0wFtVgZZJX6Ls0R3RhHw0GTNX+IkSwYt3IL1WHqVJWm/YkWugjs0bPHq1S5Gd9q0fn2MA1Nr8dUaHSNf1qcrjd6qCOo5XNPiamIqWVmNoJuwbgeJXee2U4K2RoWLC/2Fbl8OV2hGdtLXFa3XG7YXadBxS7PsTP32EaX/JB6Xa5eBbZxx5l2LJqzLTE53cPR9VWF3w6/X+n10jWyPWteoeP280veyra7T6fBokh+8cOeuP+EPMJS49qjlzXnTGJY1f5mNuzwJR1LQti8cIVx5B8zT/HbDlqqnTR0ji8t/Xg/YrtLOhy/+Z7IbyWaEgWC8jnx3conzvaz8oBzXDP0TP8cSskbDh0++7h52yZcen6B88Q9jqyGr+RwBvFuD9EI5vNvPTdWiaZL1j6ix+KEpeh517A4zpOP/bDY82PWl/nPXsffnpibmJ/qO+786Vul9ekhGn7bvgt7+85xnZCTSLuqzg/12tvd1J/q9FY3DS2v0DMv3pUayiBdI3SPKw633XsHNNhBk3zwwQf6U5KPDx5dO3Vw6pSari5+rH7+8NHB1VNXD+6+d9XMu1vlGe7yZnrvuVwtUfVudB2x/UcfHhw8f098vvZIbFmT+9b7k+vdFeFw1wnIdYPtZYXhkGTHeZznB3e9Y3Olz+d4MGnHON5MnAZpZq2v01d91/Pt+NPxnhSjHy+KfGGnmU5fEwZ/fSc8ntRl+bhF2PxjscKa59jt+SrPWHEhlld5m6n9Bd8bepxZxyK3ZaexH3ZvfX2ehPv3l4//bo61nuMW+76buJ9kblp9fPC8qj/XEI/2/iLh9cTmkcy41vP9ZVPDqrZjz5f5rUDYnr/nbdvelyVyTBYZH04ceceXmn46nznXUys+ND/O5feka7B/HEHeNcu7+S9uf6GYeU4a6PAH3/OcJ+95x5GYXunhDOLdPsfsvBONo5j17X3L9XOmW0PjWG07OR/r+faxOPv311f7tuNCbs9a3z92J67qOm6xfN70leta2/L3pb+HcWjJDEdOkTB46abzhD2Zef668ruXxsH6kThIyw/Mnm/HgxdHkfC3ptrKaUfjyCoIzkmqM7RMdP05yETuxUGwly0gsh0mM6x34QiWCTKzDqM9zz3R1UkUnshHp1UrCH5amXViT+iUC2HW9rzPCq8TH/70ZWOO2zm2mPXt+bHHljcuG3ucsfu1whrdluAcq7++Cp+9jn9TjRw7by/hhlXkuH3OflPwNuKWKxSPXvorxc6P2GOJi+sqx6G73fSwxsRdbB4MxYbFSDiu2DgIxaZHyjru8nH7jM97bh7hZeKPM+4YnX3GhI3nx8dLTPji0s4Lq72t1Pyall4Z4Yxu142n6Hw7rHFxGh93AXt7jY3jjHwcG0f2OtH1OXzOsTvhiTv25PxU6Lh9aenL8+w4iluWwx2z7cLhSCL3KeLKmpx4iUlHw183aTlBhk0sE4Y55rxypORVO57i4qwFtVMF4YjeYsTdaeIf3eXZca5Mq2qGkdTd1FDnr9Hc5VVaeV91A3OYhi5dsPY7RHOjajBQ15khouUd2tXdYbTMzxJwlx53gbezLuoWcbDzkf7qe71Lm9RHXQ18mE3GJZPjErtFCGyd1NVLtLkb13G4SzvLQ9T9lv4asUe7W8GwCd3d2tFD5eW44yuybA1ij83ndiHzkA+lkceZRW2rr8s722SXMOf3OCqNIusE+NjFWVEyYRPToDhLtvjsYbUet2IPo5BDJ3Lov7VPa6SvN2ZISLF4lN3tvV3edSnj/HHkjetVKg+Wqe+J/RBpk/Mrc95EEnNd4/mDVPwhSj4+/ZHVkn4hziMkn2sL44HDumk98BhIiG+LTFNzLQ/DVNu4a1/GecLsoSEx98FAc8NZz3l3yHFc+J6h7jfJz9pk56daj1vKmb4RmdfQQM5w5GY/aLxPE+f1z7kE66pnLccThpHJl3noB6DVkKs6yiCnR2hsUsRTA4ZTQdSRvuZ0aH7bZMTimbEROunCpSFaffyM9jbWxelYobG8z0pMqrd/BFP7PmOh4mDqafwJtvf+Cq1ODjT0mQl+OFJKKYTGX/DiLiTqAqmoG0XlSZguwRTNW0WWrUHcsckLXYALyT20czPc79qkntXQ48yScnPNrOAk4GP333bBkyxY1nPc6mY9eya8bmzP20XPdFxJkOvwmzFkJaFYPHZ29cXcoFl24UrJG9dDNPdkjjZFoSUcs9zk/MqF/3M7NGa2uyauhjaRbre50lLD81OysKPUk34K5xERP/bbUOQU90ae+Pg21x9Bpql3LZeT83aWJuHC4/3u8Dx5MedUpGzNDWc9590hx3Hhe0aW9PxUz3EXSV/JPq7Ua2hUajgOXSeNvJv1EHE/DYjrvgp3fWWQ/lvqjUkz7+sfoGGOqILAJyW3hj10Hzw5Ap1XxqjCrRuidj6U+AaBKj3klgOZSdWFgaZnUzJ/e+m8co/mtkqRh5r4Aasefu1anTehqfvWg0Tiolma1hWx0xdo+LJX+9fzB2ILPSru3e09pPKy/iz0X+S3ZmU8tKgVWbaw013UJ6qc9qvY+C0V4WXbb7XTvWpSY48zC29r1bmYq8IgOb1pBXC6JrYg1XPcfmuZ7s0L8A3Z9A7YxPHcCX+XBRatUDyeH5DXCvu41Ns3vLdzpMgd12+N0IIoUNiVhKbmV79lVjaYhKp3euQrUXNVRpxrY5VmxLVV9QhnpF8uXJjI/3Aitx479xlREZo1+U3gNOXCReLDozZVkF6RPc5MHVut/B4pWRDSnyMKhbOo+s67xsZxhsL3jCxp+am+4y6UvvJ+YfWCpV5DuZEleNBbN3KmhEP2gATxlXiNbLDT3kPEYr9u+qvrfhC39ZVB1NuWpm7Y91cVR805X06OI6og8Nt8uIXK7kKLvlkgluxSEhezoEvQy1BJ+kdF7d10c9r7UjVZbrVz3yDA9NszuMuRa/M6k/bf2pZDk9Q8NbV3RlRvVzJDMPTU83iYtjPeuMTxSnLYQ3L6VcQFeDzY7uAmzb0Itsn7FXHJFwYzn2gtZZ9yqEiv1V39dMBqgRbOT9D2/KbbNZt0QSyybIz0YxcXLd2NGmx7/aLdKsuvgRMXUJOH1kUFVM8SGnqcWfhNY0/6rLD00Mql7Tp6xdT5bR87T+ocqee4xXZvciE5WHecdnrDNjm+IbtDBAOiACRutmab9jCZQvEYTVN5jqQMuYnkkSJxze+q16+Jlte5Rqa5j4db2nH0VJy3epYqgIl/gyGhekq85k0OE90OlivR5vy2rlikp188K7/oY+UhCk4e4SnhPqBek2jF2W2iMafXQqSproiZbSVey0T4ZctokP7rNCDSp1ayccqK0/FXfSktzEXCGWXvKy7d6jnvGhvHWfjaUuyekSU5P9V33EXTd2DSrnzycSZdQ10y/DzMJlguEv+h5GtkTt5QsbTrjyz08zWF4/Ktbi/9S0RP7N5PPt7ayiCSuDY690fZEFVrpRECb/CDCPpzQ718+ZLOnj2rv7Uyrmmq1jGny5Nr2rIw2z5/TKb14lzFLQ8nacgwCIBEnNceUteD2gsKUD/Z4vdq7HCG6AAcJ2aYX/3XsGBolNvwcIKukaL8Nrp7rSWHfrdP2fiIn0FoFP9dw+GU3kohu974QT+/clAjtb24qUnDAgBA4xYoVA4AoE3JYTmbVKq3V1D2+MWNiDhB18jzE238XGjrQA/CMYIeBAA4SuhBADhkcrSD/SwMP3TdPiMfTpp2KhujgnCMIM4BAAAAWlM7ldOOxRAjAAAAAABoDFQQAAAAAADAQAUBAAAAAAAMVBAAAAAAAMBABQEAAAAAAAxUEAAAAAAAwEAFAQAAAAAADFQQAAAAAADAQAUBAAAAAAAMVBAAAAAAAMBABQGM6p0O6uiwpuuLtKfnBSLLdIzS4ms90xJdroNmNnjOHi1e76DRJX/LAAAAANAKUEEAQRXaS1tztL2/T/t62r60Qj0xFYCh+e1wmXmi8rkZqup5ompAM6IyUKI1s4ycnlRoc5crBZ008mCN+m6Mx1YsAAAAAOBooYIAtLc0TmUSlYMHI6L4Huq8sqAqAAth8d/XeWWMRNGfdnVhv3qnRJtcgbjVr34InJ+ghSvB1vtpYHKVVt5HLwIAAABAq0EF4cTbo2ePV6ly060cBDrfHqah6XWrhyDF60Wana7QmKkIJOu/WKHVx88iQ5gAAAAA4GihgnDi7dLO8hB1v6W/+k53UZ/VQ+DjHoOpyTEaOS2+fLRDq5e7qUvNSvdWNw0t74i9AwAAAEArQQUBClu90WMePF6/uB8dTmRxHla+Y/VDZFQ8AAAAAOBooIJw4nVR9+VV2vlIf/W93hXF+D7q4h4CzTyk/KRCU4PWA8oxvQL9t9RDytvzQ/oXAAAAAGhlqCCceJ104dIQTT2Nf8pg7/0VWp0coNg+gvMTtDY5RaWgZ+D0BRq+PEXr8nWmebgVDwAAAAA4eqggAHVeuUdzWyV3CJCwtzRKPTf6aC1lCFH/rTWqTJf03zjopJF352hzMMffOdhYp6ngeYXXizSa8PcUAAAAAOBwoYIAAv9tgn1aI1FJCJ4XEFPP42Ha3p+I7z0w+mlCDjXSBfzTI7Swz3/nIHxOQW7Lq2js7W7S0KULsW9OAgAAAICj88aBoD831MuXL+ns2bP6GxyG9olz/mNqs9T9YkG9/QgAAADgmGunsjF6EOCQ8V9t5j+mdg+VAwAAAIAWhAoCHDI1nCn8q8oAAAAA0EpQQQAAAAAAAAMVBAAAAAAAMFBBAAAAAAAAAxUEAAAAAAAwUEEAAAAAAAADFQQAAAAAADBQQQAAAAAAAAMVBAAAAAAAMN44EPTnhuI/Jw0AAAAAAMrZs2f1p9bW1ApCu0TCcYE4BwAAAGhN7VROwxAjAAAAAAAwUEEAAAAAAAADFQQAAAAAADBQQQAAAAAAAAMVBAAAAAAAMFBBAAAAAAAAAxUEAAAAAAAwUEEAAAAAAAADFQQAAAAAADBQQQAAAAAAAAMVBLDs0eL1Duq4U9Xfj5fqHXFsHaO0+Fp82ZihmQ31e2GvF2m0Y4b8WFLbt6briyJGbTp+U5c5pmSc6bhPwPE3ulRbbOwtjR7bfFuLZsWH3K7Os/WkV8DeXqyEc624Ks3Y552Y6g17GnktSIn/+tOnudeSrPAXkZnGRYjrdkdD8gMAZGliBeFH5gJWc0GskeSNpnEXvXjBTSi9INSyNh5SubdClen1Y3gBrtI6rdH+/hjtnBNpNEg0cF7Pqpu6WZe25mh7f1/sQ03bl1aoJyYvVJ4Ey2zTHJVpvIkFlaMSKQCdHqGF/QUaOa2/Q/sR19DxG3209mCEOvVP9eq8skD7DdxeLHntL9Hm/LY5N/ncG37cU7Dgytf3fNf2/ltiH7f69bfmada1pJHhb2gan5+g7flNKjX1Pg4ArIkVhE/TyANxkXlSoanBBrbW6IJ+0ysdsqWiaEG/nya4YDhPVBaF0JaoGBVQfTpFlYsTNDA5RbPHrtAq0kbe8FQa7e9PiE+Nsbc0Lm7NonLg3QT5xijzwkLSzayTLlwaotVXu/o7QOuqLpSJ5q817Lw5HKLyfpvDvU0LV5yzU9yfVKH6YZtdp+OdnGtJ59vDNHQsG7EAWkvzhxiJGj+3cLgX5yMgWzAb1yqSRraYiH1NNKyF+jBUaX26IlvV+y9WaPXxs9SWtaCFOBxWo7p95e/yu18p9Lr47ZY7royJ74t6W6ZiJStp4TrB7/Y+7N8Vr+vd7Cdl/8zbV/6epj169niVKjfjW8jSb2ZVeniDaG40KU8GLZZ22N1Ka3JcqHiYWdI9Z/p40+PO58aZnZ7R9A/n8289N1aJpkvWPoJjkYtITlhE+NyijT+EwhtW4KTXDD3TP4cywm6tG582Ov42kuPe34e7rZj1ZZ6yj8vfnnfMTh6sLz7S0j1ffPD1YYiG3064jutzuGpvywl/Qnro9cLUcZebeV//bKTFUYzXz2hluUJjsfcfVaieeqq2EeTpUJCG4qPuhZiiVdn4Y8Ic9EwH4dXxGtlWHfk1n7hrSdo23XhU+TTMj2749bwN+1jtfJIx30njIE7tsKWfB37Y6PQFGr48Reup1y4AqNcRPoPgXgTMxUtecEdp5k54o1EXXb38ubK4RJPslZDzs24Qgl2IiSzvXLj9CxXRzkIQjui8Y2VjnaYmB1Tr4PkBqiyv0LOs4xUFwPWL3Bq/T2uTU1QS8TRO9+R37jlavfHQukmsE5nu8DWxfa/lTnzf0duSFStOl0GiNbm8mF7MUbdcUBTIXw2boTzb8+IGf9+++fTQyqVwKMHaJTkjff9yX5s09yKYv01zW6WcN+ld2lkeou639Fff6S7qo03ateLS5F057OFexrAbLpCs04A+nv0nfeJ7cPNNiwtl6jHRPZ4vezeylw/xTbnkxFnfjXH3HLDSX6W3ms/DE3jbNMlDuuIrylwA6XkchmX/5g6Vp/VMJgp2OyYdRXqIAoHp1YrkjW5a4QqJkRJ2cX2Rw2SCdZ8MqFUSTA2Gcb82KdLidhBfah/2sBU59MEp7NrrizwnK0zjRO9a2zO9S37eVXnQFOTrio+UdM8bH693RS7uo660vCrOqdng/Bfn65A43iD81Tt2XG3TWJf63eWn2zZ1P1bXeyUjjuJ8tEOrl7spdndCZ1cf0dauk2axZAOTSEMaUtcJfT5x70Sflc9iY6+e/Joh+VqSts3odXLgKVd+0oi8el9fS3T+c4f5ZM13JZ9XecLWSV29RJu7makGAHU4sgpC9U4PlXtVAYJvJnSjx7rQr9LUlrqhrU2Ki4m8mXGXsFpWFD3CsZc5egTkeEp5cfdwZWRwymxLXqhM4YuJcNBYOM9cxI4bcVG+z8OLgrjspwFxvCvvZxytKAAGhT/udRCpErbUcSXDLhifn7AKirx97wJ/eY6umfk6PE+sYUDiBj0i54t8cCtsrZct9Ms7qvWZn6GgObpntRb2X9HLpuyfh1YNOTdXsY+b2b0otQrHDe/T2KuejEouF0iseDh/Td58VetZSlxobs9G9vIGVxidNOmna/Pk5gkr/VW4VmnnI/09VUyvi0gfPtcNkd4TJh3d4RMqvayhLmLZe1whCWSG3c6X/eF2Yth5sH9UXHtMXlP7sPNa55WxSMU6XF/lOZocM/lMnjNB4TTS0q3yYNC6XVd88LZS0z1nfKQUtCU7PkQYxrxzPBz+0kn958N4MyLpJsL9rrreS1lxdETCYxRxZ8Ieqj+/Jku8lqRtM6ZXpf9WzP3RIa5D7wZ5SMW7W7HKmu9KPK9yhq3rDIZmAjTbEVUQuLta/KOHIAS9ArakIRuNtPf+itivGlbDVCHXbu0VFz3dZcsXJEoqTLU7eVG2W6M6qCTSx+kByPJWNw2lFiC4ZcjdfrKMVnlukdPbsfPO3u4mUW9XQr5J2v8e7W4R9XV5a/Hx5ErvLupOKxhntLzKm1+h8bSq9cxIiItEOZeXcblcpp5gWTHxsKHG3JQz0leze/7kkCUpIb0sqWEXhbOFF8O0wsNExO+prc8p4vNael7ga8jQmYQzhFu6SfXCBWHuGJxyClm1xoeUlO4Nio8s3EizRvp67/WyBNLPXyEjjtyhUvpYMs7jzH2mEgXhB/phZ95nbEW/zvwqOD3gKT3Z9rUkdZsZvSpHqpXDBnDCHOEQI1H8dt4q0W5j9o8PWVHSw0HCSXUTN2acp+o23rkZbt9pLY5IKWhxQed+dzg0RfcoseThAmn7T+muznWjcscx+1Tc6qFbcWQFoghV4JBS4iJWgeVlXEbyhJga8gxPXPpaxyVwoWj2THh9kEOWpPj02n0VVnUyw86FYvnbGpGoFNdSKE7Oa9kVn1iygu2+BUtO+sH3euIjM93zxkedDSSqJ1eEnd/uFVNJiI1TWSnQMuIoePYrmOT95HTaeHXdk2V6TmvBlQS1P1kBilQS6s+vQbypKeVNYNa1JPMc8NOy8HWoiXKGLbGyDQANcUQVBC4gFGyhbgJ5EaXw5sFdwXR5mC5ELsD8AJi4oKcV9NpW0k0yveBbjN9irHuQEul9D1rDvV4v0qJIJ7/FT/UCafLZCfdVf9UlLoik718+lO2M+RUVCn7zyaULZj9pOq/ck2Oh/cKBHGfP47tTCtX8ZpjUCoQ4OvstSMEbk3joQGpcxCi0PMelNYa8sVShyXn+gYeHLevPnGJOq6vKowE5vMC+doi8MWvnp7Swi8Jy+Lu6DtUkJq+ptIm7fuTABVmxdvxrKuuLj9R0zxsfMc/S5CfOpzthWqvrbgzZ2m8/myTWu2+NPk+NoySiAP/uHG1GKj6q0YCHuQYNUzJcVm+eTE+TJ+NUacY652Uvc4y68msBzrUkbZs8T9z37DfVyXX15yOVK2wq/6vzgdOxloe6ASDLEVUQuNWFxxXa3cU5HwI+rca25n9IWV1A+CEueavRw5rkhVO+U5kLompbpemK945vfiZBr8stVw1pPW0xsmAWDrOyqTfwzOZLl1Rq/KuKS57WRWVLz0qgXhG6GeaPcyuiAMG/j8kbn9pOB42/6rNaQ/kVpvwwnu7yF1PpFReMMvbPb9qSD/8G89VDcvnfvKVaEc0QCj2ph3Ct5wc0ZygX/+2E1Hw1RHNn1sNtWu+hT4+LqGLLi7h8oQpWwfJFHtS39xVXSJFDTnqtIRBPB5xeHTm23Ox7nHZ6w5BG8sZtojFnzH1K2EUhNPxdpXNtPZfRvCbT27l+FKGuifb2eFJxV198pKZ77vjI+VxSLFEhFAV7k9b8wG5cPMnhTna6jRPdtHs70uIohewhUb0j4Xr6QVj73JPPwYT3pHEaozmnwmRdR2QPiKhQccOAXl6mf8y5XFd+zZB8LUnbpprHz/0F89YvZj2DcFjyhI0bfOLvWQDQOG8cCPpzQ718+ZLOnj2rv8FhQJwH1Bs8ZKWu5gJbK+DjmKXuF/gDY9AC+KUO53ZorIF/QwRaRCunrRc22TP7aqxBwx0BDlc7ldOO9BmERvEfTgun/C2eeR3mvqBW3LrLLdQ5XtUKAPmc5rfvRF/lCu1uTw6pTB/qeFS8sG3MZA7bBIDGQA/CMYI4V9TY/1X1kF5b30jQgwAAjaafv7Cfr2iZa2Urhw2gfu1UTkMF4RhBnAMAAAC0pnYqpx2LIUYAAAAAANAYqCAAAAAAAICBCgIAAAAAABioIAAAAAAAgIEKAgAAAAAAGKggAAAAAACAgQoCAAAAAAAYTf07CAAAAAAAoOAPpeGPdh06xDkAAABAa8IfSgMAAAAAgLaECgIAAAAAABioIAAAAAAAgIEKAgAAAAAAGKggAAAAAACAgQoCAAAAAAAYqCAAAAAAAICBCgIAAAAAABioIAAAAAAAgIEKAgAAAAAAGKgggFG900EdHdZ0fZH29Lx2tbc0Sh13qvpbAa8XabRjlBZf6+8nmIxDkR9mNsQXES8zS/XlCrm9JuStmtM6UZVmMvIAnzOjOj7k+dOg/de2rezwNlrj4xwAAFpBEysIP6LF66qgKQsWbSYoFJ2Mm9+eTKvS1hxt7+/Tvp62L61QT5MKHHbBqiWdHqGF/QUaOa2/n1h79OzVsMgX29R9X5wP51ao++1OPa8GooIxfqOP1h6MUB1baUn9t8R5c6tff6tP/61tmtsqHe61U1aKZ0Q1AwAATromVhA+TSMPxA3zSYWmBg+nMKgK9Y25wXVeWRCF5DWqTJeORUt6mr2lcSqTqBx4hTaOg+15ovICigwnVyeN3OJ8If7l87nOSlN1oUw0f40aU4w+zjrpwqUhmnqKcw8AAA5f84cYnZ+QrdELV9qxvbCfJrg1/Ri2dob26NnjVarcjD/GzreHaWh6PabSpXod3BZO77eNGdULI6egJ0L3VkwTrd7osX4XnOXF5PTe6OETS3qZpJ4dZxsz9Ez/HOLtBPPTKq7ucI1gKIU9DCuyrhf++HgQU+ZxBfu2w2rFk6TiMdyuPV+nwxK3CIt5QQXXC4cffvvYwoq2vx+/Au7GZ3oFvUrr00M07PRAeNu34iYa52rbpndPTHHpZ89341pw4iA9TkeXdvXvIWfbIl7tJYLwKjoNN3QayCkt7oJlw2WSz71AwfDKZRLyO8fLuTKt0hSVeFlzHH76+3Fm08taDSru/q3j5/2J5appaQUAAEfnoEk++OAD/SlG9e7BqVNXDx59qL8ffHzw6Nqpg1PvPVdfP3x0cPWU+C4nezn2/OCumXfq4Orix97y4XS3qleJW8f6/ep7d8P1gzC0odQ4T8Rx4MexLXn+x4tX3fjidL32SKSm/nzqrlhbs+cJz9+z00FIyBN+WqWmj7/PIF+YddQ23HyRdOzuPHms9rp+eGP2/YiXrem49G9+/Jnv3vnC4uZb8c2ei3wevz2e527v48VHap44jrsmrPFht9NRxpO3X0OmhxWGyPbU9yCO/TiXYbT35x1DsLy/vaTl5XcTVj8swf68PGAfm9xeuI6c7+U1f/vJeVHPd+KHl0nKnznDG9mevU9PQvok5zO9Dzk/uqwfX078eHEXnKuJYQMAOAZqK6cdjaOpIOgblXtzCG5s7k3Mvcmpec4NyxK9ITLvxqVvTGr7envBOnJe0g259R12BcEvUNiFfvuzwukQbsefH11e4PQwBYyscMZvI1IosQt4As+P7Fdy9+dsR1L5SuUj+7OrtuOK+83aR6Qgx/KFJ2TtI3Z78bLiMz7sGu/HXj5uv7xNvf1InPM8Z/msNBKsMKbmydg4sLcfH6f2Nt39x8SDHV9xcRcJQ0o61hje2DgK+NuM3Ye73WB7HA/uduP2z+HT24s5/thzBQDgGGmnCsIRvcWon67ND9Hq42eyK3rv/RVavTxMF3hs88Y6TYl/+LkF7nbuubHKKyhy3hDNjRYYwfz6Ga0sE1Uu6nXOD1BF/LO5G3a1DwVjouVwqJP2YGoXdV9epZ2P9Fff613apD7qiouT0yM0NjlF63IoDQ8fqdCYHEq2R7tbwRCiYHhBD5WXk/ajlu/r8gY5vdVNQ8s7zjCOZAnbsOztbhItl6nHhEnlr9VX+faQbJd2loeo+y391WjEcQU6qatXf/xoR5wv3SLlbGq+na8j5EOowbGX5HkmxW4vZA89ss9HGZ+9Xd7QtIz8ZOP9BkNagmlQhGprV14XIjjeUsIZi9eRHzLyZEYcJKdxbeLjroAaw9vZ1Zccv768+Wy6pF5w4DygzfsPr+Nq4jy3SbuJQ5QAAKBVHNlrTuX42uUVevZajYEfunTBulmKSsAL9SYdNU3gocamSX8YUlbeJgcS47//YkWty5U3s5wqRFSe2GmoponzcgFPSuE2d4Ewfhu7r8ICrSwcTa5FwlT/m2eSCsWNOK6AKuBKKRWMxAoSVw7O7dCYOe41WVGWUrbHlYPZM9smrrZFxT6QXNhMKUjb+5EFfvfNWXJq5DM/shLCMvJkXBzIynEgLo2tNKmFH3cmrLaEuKwpvFreiknefCbOqbVeUfF2XubA+/ev4zzhzWAAAO3gyCoIqvV5lVYWHtLKctDyLPBNSdwmY9+cI1v/E+YlOd1FohgTFoB1L4T7oOTJ1nnlnnylov+QID9g2MOvpEwrQHOaTK/TzNOpsJdGkBWHwbQHVl28/OqNcfdB29tlIqfimK7rjMg5Nx6G+xSF4tlp/ZnJsDbj1ZG6kmUfr9j3othP7cfl5vPgTVPXuDB7+gINX56ikp1eGzNUmq7QQGwFTPBbg3VPnRSzvb2lRXEsfg+IqswbHJ/LZRq3HnxV4dS9gT55LlotyLxfsbS9ft2mZ624rtLMoMiX+gH81DwpwzZFs1ZY+I1LVvVSVjCm7luF4I2HVF7WnwtSDSRlemjyosgX902KKLL3M6n3Lju8kTwZxId1nqYqkM/4Fa9uJYH3T1S+bVca8pO9VnhoGQDgyBxdBUGQhafpKbeFmt8//6Qiu61Vt7SYzE2nnyZezNGQNc9+K0fnlTFRgQiHLKiCoLcO3yCfoBXLpV5huUZWnIup5zG//z6r96afBianaGpLF14D5ydoe37THT5itTD2j84R2W8x4uFdT/qofC5YvodWLm0XevuVei2rtc/bRGNWi3eQFzadYQ9pb2XJL7Lvcyuisitm1HxcQzR3Zl2vw0N77L8dwOml3pMfzO8YJFpLS6vz10T1whpe9ZTCHoSY7fU85jZg8ftN9Zpi9fs47fR68bm/Rn3WsB2ZZxJ7ADivrNLK+0Eu4P266/NUVwVucpjodrCtEm3Ob4e9Vql5Mnos6xetXhbBFIKDdZ8O0NqknlmUvs7ZcUs3xXVKz5a4UpfYe5cd3kieFPFBT5J68QQ9ZFAuLwvnxfKZ/NsNMo+pc4r378SX2S4AALS6N/hBBP25oV6+fElnz57V3+AwIM6PC3795Sx1vzjsiiy/ppLH5VfSKxv1MEOdMGwwgl/9eb9bV7BUWuzcTCnQAwBAW2mnctqR9iAAQCvhFmN+zmBTP3jeBKdH6B63ajvj1SEY/hM8i1W9IypqvWuoHAAAwJFABQEAFG7B7lDDhJzhYg3GQ0+O9x8fzMP+I2k8qeFQwdAzHs5U/8PzAAAAtcEQo2MEcQ4AAADQmjDECAAAAAAA2hIqCAAAAAAAYKCCAAAAAAAABioIAAAAAABgoIIAAAAAAAAGKggAAAAAAGCgggAAAAAAAEZT/w4CAAAAAAAo7fJ3EPCH0o4RxDkAAABAa8IfSgMAAAAAgLaECgIAAAAAABioIAAAAAAAgIEKAgAAAAAAGKggAAAAAACAgQoCAAAAAAAYqCAAAAAAAICBCgIAAAAAABioIAAAAAAAgIEKAgAAAAAAGKggQGhjhjo6Oqxphqp6Vpq9pVHquJNnyTR7tHi9g2Y29NdDVr0jjrfWY3i9SKMdo7T4mr/UdxwyLq8viq0kkPvKly5x+DhHlxK3Xkhj0r2IKs2YeIbWdrTnMwAA1KeJFYQfyRsEFzRruUnIwkfhdbkAIfaZVsBqmEbtS91Ia42nRpEF5EGitf192g+mJ0TrJ+QG339LHO+tfv2toNMjtLC/QCOn9fc6dF5ZoP0HI9Spvx9njaysQKBJlag6K6YAANBemlhB+DSNPOBCZoWmBo+2ICALv1yY5+kQWjzl/nJXHDqPPJ64MlbamqPt/QlyisjnJ2jivP4MAAAAACdC84cYiUImt0YvXCnWJipbUsV6xQqo/TTBLd9eC6xsHd5fo4r+3hjx+6pZjfFUvz169niVKjczjsMbfpRakZGtjf6yMS2bvM3EipTuoQmm1ApXgWW9sAW9Ns5wGR2uqu7F6gjCbceBU9FMa7UNe4jUZLXC6v0s6gqsDEskTtxjm3lf/xywwyQmP12Cnjg5ie3u6t8NZ/2Mlmdn2Rl6pn8OeemQ2OKs4qQ0TbR6o0csZ+3XO57UCr1eNux5c/cfxkUw3MWen3GsfrpZaeLEqZicOOcwFco7MVLiwMmnUnBs4qPM2yWaolUqnxPr6TCrdUQ+k8cTHnfqcdg4POfKYqtTVHLC4+ftlDjV552fJmZd+5gicejNBwCApjvCZxC8woS5AXgFInPzVzeU0evqpjF6Z0YV9OybYLCedTNP5xdorBucvqHNiP0E84ObW+K+9I2dCz60XKYeuQxvU98M/Ztg2g310OzSzvIQdb+lvyaoPrWGHz2piILdw/jCH8fbuRUafqGXFRWzYT2rkI11oifhNioiPh+avODJvaxIh9tl6rOWHdBzIsQ2ZumeXG57nlSB6+mAWu/FHA1Nz+ZLu9fPaOfStt7fNs1dnqJZuyAm9rNzUYUnWhnm/Fmyjm2buh9zQS2Uli6cT3seD9N2MP/mDpU5bwY4D9rDyp70Ufl2wrnjL/uim1ZuOCGRYd2cD46V422TSrHnouo1W5skGpLL6+FZch+bNGfyjoivrVJ8wdVaVsWbH1dr1Hdj3EmjqcF1GtBhW5sUheikY+V8cr2HVky6ieUv6Tkcpzf6rKF4vJ8e6zol1JN3isSBTw5144aQIbW+3XgxvUL0Lm9PxXWu4whw4wWHW2xZLi+H4qk4Kveu6fXFxPnnXEylUF4T1HmnGkD8+FXHmBSHKs68+QAA0FRHVkGo3inR1GUe1qJvLmb8t26ZF4WdOKu9Y+KmO0SroqAzxjeO5R3ZKqp6HLgAppbLR+9LT3GFhqmtbhlGuU9d+Ercl+4F4IIPmWPjG3InXbg0JG7S6/rmKW6Q96eIJscaMm79MPTfsoYfnR8QRYVN2o0p5FQXykTz96zj6qeRWnpFnOFN/TQg4nRzN6GQVGRZIZzXT/1JPVQi/e7pcHe+PSwKR6LQNapj4PQFGr68Sjsfqa+pRKFtwhy/ygerr6x2fLGfa0lhEBUfPkfC+aJg/S4X1ELJ6RLTMyTiSeZNrfp0ShTQr1nrX6M5WqFncenqLyuO6544Jwwd1iDOWOeVMVFZi99eHLUPO++I470pKj2PnznnJH0kCpyyEG099xGJq366JgrnK++Ha1aehHHVPxpeOyI2HlJZxIR9LP1XOB51nFrbUfsZoqmnVrG4jryTOw6Kcq41OY8jjaj4riyLCoP93A7nH1EBdp9bEhU3XTkw56hed8w6L/gYk+KQ89pYxjkNAACNdWQVhK4zonCxrFrZc7WOaUNnutSHy92kPsUXVPOyewNky78nKGCpSoF9Qy1GFpZI3zzlDVJs+2KtW2ukLurOU9jVPSoqrngYQ5w92t0i6usKC1a141bGYH/xaRPKuyy3XG/T8GMe1iKWzTts4XQX9Yn/ukwBqxj7GZgep9U93d7uJlFvl8x/iRLTJatnSKWVGuITrN9D5eW4vJCdrvFhzZm3pIR9vNXtFeRFJX6QC5zuQ+Fy//p6Yse1UxnLKTne4+O0s6uPaGtXHEGMQnknbxzUq4bj8H20Q6vmGhzopK5etyA/Nah6lZzeMV43GK4UTIMi5+bdNwAANN2RVRDsVnhVSDmCN2RszMhCREUPS7BbVxtPtWxzK9ne+yvi5prScnyoVKt2asuhHCKwQ2OyR4SnpOc5ogWE2qghCDs3g/2lpU2RZRlXEvRyVGr62GauHMyesYfd2O3/6WILbLJwpaWmS1zhXBVAFZVWQd63J6cwJ8Wn6+6rsLKTXLjMHr6mpOQdpyA6RHNP5mhz0B5+qPc/aQ13CaYa3kyVfCwpFZ6silwueeOgXg04jpRKi13BqTxRQ5ecRiBeV1z/TO9xMJ2Qt3cBALSDI3wGganCmio01dcTUDtdgBGFrdnUVur6yWEN0yVVKcl6KPgQyd4NEa7IsxuiAiULYX5rIQ/n0B99/Rd5HLw99rtKi7JwoAol4ZCPKs1wq2Esv4WzSuuJaVNkWbFPq0Ige7Gaym8RVkM7cpOFMPt5Cj00LZCaLqqwOXXfSlMeOrOsPwucVlOD+SrmHFfOcyf++cLDm0RYx62C4N7SOJVpmC7k7HmJ5h1xvLfLRJcuuOfKWyO08MKrJPD+GzVOPeZYqkscj7oy7cSZyseN6g3MigNZeTFDFXUcW2maTwOO4zQPlZqikvdcVWm6QgNOBZOHcXqVBF5X5Aw7fvPjBoFivc4AAFDcET6D4A4FMONugyETuvDIr/7M07ugtsdDJMQXZ+iSuqGY4RdcEBbzZEFCjpnVb/w4t0PDOVt3k/elqPHN9kPKeoa8qfIH/yZ61NSzGGu97hCNjvvdqpdDjk235j3lI0jAz2HIhxWD7ZRoRxaQRWXw3TkiM6RlnQYSnjPh8PD48XAb60SJvQJFlhWVlC2V/jzJB3hr/dsHueix1TIP8zROO70FKiX80KkuCAfr003rGYSMdOG3dzlp+nTA7V0RaSUfJA7m85TwgD/3+DnL3iYac86XsCAYbEvGb0qrMJ8nKj/ocySSd9SDrLFv9uK40a8GVr1AYv9OXPFU60sAosdSeqVa1iPxoB+Mjva61CgrDuRzJOHwnHEa856Fss6HlJc1FD4O+RyA/RYjNVyPHy5W64tJPsQeNwxTpY1MaxkmXteNX54aUrkDAICGeONA0J8b6uXLl3T27Fn9DZSqedNLM15nijgHAAAAaE3tVE474iFGJ0XYi9GsygEAAAAAQCOggnAo1LMW/CAeKgcAAAAA0MpQQQAAAAAAAAMVBAAAAAAAMFBBAAAAAAAAAxUEAAAAAAAwUEEAAAAAAAADFQQAAAAAADBQQQAAAAAAAAMVBAAAAAAAMN44EPTnhuI/Jw0AAAAAAMrZs2f1p9bW1ApCu0TCcYE4BwAAAGhN7VROwxAjAAAAAAAwUEEAAAAAAAADFQQAAAAAADBQQQAAAAAAAAMVBAAAAAAAMFBBAAAAAAAAAxUEAAAAAAAwUEEAAAAAAAADFQQAAAAAADBQQQAAAAAAAAMVBDCqdzqoo8Oari/Snp7XKvaWRqnjTlV/gywyvrx0NOks4lF+bkJ88nZHl1ot92Q7SfkrVxq9XqRR61pQvTNDTY8duc/a96Pyd8r6GzMy/89s6O8NU6WZjlFafK2/NkncOQ2tYo8Wr7fntQ/A18QKwo/kidLIC7G8MOqCDTSSuqiVtuZoe3+f9vW0fWmFeg7hhgeN4xf6Oq8s0P6DEerU37lwZNL5Vj/131L/AsTZe3+Hhl+IPHJzR1wLOmj2zDVqh9wydHmTZmMLaeJad39Kf86npSq7ovI0fqOP1vic1hWdYpUFda0vfl/myg+vV+x+UNs9+zD3VWN8JMZ9J408WKO+G+O4b0Lba2IF4dPiRBE3licVmhqMu8AGFwE1mflBi5WZwouELOzsr1FluoQWlAbaWxqnMolCo12QFDi+t+eJyguokB0Xe7ubRL1dTjoDJOm8MkEjp8WH8xOy0WDhSvvknNXHz6L3iI2H4lpXocpl/b3NVBfKRPO6kibTZFtcucui8hbfY6IKzfY8LsCm3ZeT9NMENxrx/eBcTGE6KDCLyZ5X2z07Y18JattXnviI6RlKjft+GphcpZX388YtQIs6aJIPPvhAf4rz8cGja6cOTr33XH2t3j04derqwaMPxecPHx1cPXXq4G5VzXr+nlju1N0DvSSkSI/zJCotgviOkOkRxH+wrE4/kU48+et+vHjVzHPSjtP52qODRzJNg/WeH9w1y4pJzP9YLqzJvBHMv3vwiLcd5BvJW9/JKzq8iypPRbYdcPYhJnv7zvEr8vicMHjSwpxje2782fHLxyrOk6o+nv9/e+cPGtXyxfFjZaVgFXwWuyARYpMqARsDZls3BLR6kiLbSpoQfmDYaon84JFGbCP8HnY+CNm0GyE2jxerNAYMgU3xnrxK0ULF5nfOzNx7Z+7//XOve/X7gRt29/6ZuefM3DnnzJkbc319pqsTvz8Zmct9674UbHLd6L2EruPLLF1PTp15n+j41xfWEWky9u7rhTkmRrZJ9fRlY54b3vVdmQW/R9rASO0rDvf4QAZefa39qhxb3kZnsXjnu/oJ7lNIv9dUHZl24vbN0Dm8OToVHPm59XfPTZObW2/dX+3j3XtOlxNfTd3XX0Ze5keD7PNkGOwLXz+jTwmh9qblIvfBx8T2T4+M9pH6rDLXT7n3MFoHWW12fHg6D8u9qqhn5n+5X6yw3NXzKacsrecuADbD2Wnfh++zBkGiOLtN2nlgJqvnFqhN8R73/J02/z2mc0zXFcQ59VkX9V/M1zDXajQbkn9ncZ3o8UcVUfx4skPHi0F0RSJW0/tLfqrS6bNjathTvrst6t/R+zbm+PvrQ6IDcy2J/vD+372IkUSlFol65lofT+q0t9o1OwWJ7DTo+NmpOd+UF4oedfaJtmV/aIZEoco4ph1Jo1DXOKWdN43hUwoy65zFv/TqzJZfkzpP7fvpUuupuR+p63LHyFdHwnqbRE0lj+c68msh6URyPdrsqWsr+TvIdPs07d0N5Nm7a3al6Cmsc0lHaW3pfYpcMub7OlvQ+wdOeeJ6P2rRrFW/BbOnjPYVoI+3ywunGnQWD2nB7FORzstBX+ptsgwyZuvS+t5IOhJCfVOdI+ks3jnqfqaDiG5Yfgez1HpkZOOlwvj7fI2ECMvslOr7LW4NHrpNtm7qNuuXM5O1RqFG9x+23b7DdXqy1aaFcLv/+xX1/Tav+5ROT0roUzLLPbOnU6/UOT1aUhcSkvqnkKN9pD2r/j7nJ/Es1UL9epKYurfGYznfx8t07YyMtL0R1qnkRaVg3uG+sus9nzbypdj9Uqfmbp9HVwCqy4QsUq5RfZkfrWfR7nT0skO0vES3J/ih+LPRPrCMz2v3ac2fTmXjdr9L7YfB4KYGjK3D4EG+vEMr9gA9t2EZqjI1y+7guR7SRfdNbzpd4LK2xcD1YIOow9fbttIeVHm7e/TKGnTt+oTRZWxbxjQbBWxYxKYn5CCzzplw+f+x5HdrKTTQsGP92Nuv60pvzoeqawSVfuHKc/6eKStRT1Gdy7FiVHnkk7EVMBgSr91I/ea9upbQvnzM8UH7nqeVZ+QEPtoHnoGh60Kba75cVDAkQ5fJfY8ZQUcKp+7mHL++gtwPO6zG+IvIb26FW48tGyuwMMc6MR8dIjLjtvF4h1uDgY33vd029WynUcphw/vQc1SSkMCTpSsnPceG5bjh63iKbt9txo5FHvo6dnuep/v++Sn9M0/7SHlWKZbrPFrmZ6o2az6VS/P6ILWcXNSC95d1bm+s1+uH+Z2SmMAaAFVjYt9iJPmAks/Y2OLBIS6aAsaEOGdd6v9jvobJEbWqXfeGc5mNCHSntwZ1Uh+UwSIxrW/zM/9+/oZotpas+fh8+oz7cUgoY+joT3adc6GiY0YmM3Y0tVjS1yck6SljBmrsMo6DDbH/ndLS/rSun7NIsbz2pY7flZzkoLzp1W6isSn9ZlRDKuh7wrA6iiP+HGVwKoNXy6+7amSutmkVaVWyYaP7+ckS7c3ofUl55JlrYv7pUzdiFE9R7abtECahDXA9K3NEh1tNWroVX5J+85HeRGfJDN/HB20fY2NAp2I4vLbHz/uQUz1O9JoKLmexw9861FByHGwx8yDolzjU1LhGt2TdQc4ZBAB+ACbKQbAHy7Y/DYsOWSw6YpY0Jfzvn3vU3VxI1cH5mTegivHUtFJJvC2a7qKRQWWa+g+DY4OoZrwREJRlGyth8hpDKYbGUINqdp0zEefgaT1IBTmxoqkFkyzPND3FGczaiNKMW8ZJiJNg6kYN4ySU277U8SZ9y9kKfEtUUN9RdBRHiqOtDHotv+A5HWz+LIY4Ceq3HtFivJMQK2NxCszHNEcyj5HuzWC++OMJdazZGhtxDp5ct9PI0npcSnvOYCztY1Cneo6N2lICbEH/K7I8vRCZyzho87e2SWFLGl/GhSyaHqaMyU4HAyCL7+MgmDUHfr6tWZOQFN0BxTJ1b1vlhIdfD+fnIIcGMCevlw1ameVZUxEjcTYoyEPOJByllCif+chIdLS7+nswpatyiM1nQaUQtGjdymXXb2TKn5ImaR1dJw+YDa1HLaK7t/Ugp6aKrXQGlVudbPBn1jnjeuGIqnLQzOfCiZHn0R+iyzQ9aYPJbRPSn81nJlPGOVDGlZWqpvTsl3FEv1lt153RKrF9yfFbjdxvXRmG5L43mo6imMDBop1SwXJe7FD7jn4eiF7d/RZct0AO4myYj2GUA2CtC5G2Yb+G9NptWnLy+Blz35G1BLFIqlWHWquUkMIWnhHQqVVpRNvzETsgQRtJZNT2MUTaip4ZyZurL05m/rcGucj6Ci4rNIakUebrY8ssS6HSyUwAhJ8rDwqc5QCgKL7TDAJ75BIZVYv09HShk1sLSkZHf1TkVU3Z6k0vaozO4LTZCVj3jlOLT4NjJMLTu+lOoycPGiYFwKQhXL58SGTlRevXrB6baWTeHhGtOdE9iezohZNeWarOg0SwJMKmFj16ddCLdIPXOXIZ5hV48XVwyVXnlOvpiGegh/Wz2YFmEOYf7BApeQwzIEXl2TgTZyVdTzIN7+j85YKb354p4xyonHkvpYDlQmu04xudbICKg2v2qTagnNqy2xcfrxYOe+XJNl7DILnvjaijGCLyMQts/RkC1om7nzdvATcb/oEctL6D9REWKhXJltk60UN71kynj6kAhleGWhidf2ZZ+kQzcR0bX18WM1vl92+6PS7SpyLtuUH9XClHo7YPcXaKfH2mOJl5Ha9REcdshKCg6CB3GxixrCGQQE9zgAAIAJPIBXmVkfk8Vt6+fUs3btww30AZFC/zII0hdrAHsaiZmLM1/EMyMALoe4CRaPRMn9aKSL19/Rs9OF8p539dyH08r9HzMp6JZZalkNmUJ1Q/QdATRKmSbTyxi5QBAAAAYHFN3rR1nPKq3RGY2yjvH+HJzFFZBnuZZSlHXl6NbL/lCoBqAgcBAAAAqAiS+lXOwmMwODpdt0r/cRyAJJBi9AMBmQMAAAAATCZIMQIAAAAAAABUEjgIAAAAAAAAAJ/CHIQLFy5QQdlLAAAAAAAAVAaxicU2rgqFOQgXL16kL1++mG8AAAAAAAD8nIhNLLZxVSjMQbh06RJ9+PDBfAMAAAAAAODnRGxisY2rQmEOwpUrV+jbt2/0/v178wsAAAAAAAA/F2ILi00stnFVKHSR8tWrV+nTp0/07t07+vz5M9YkAAAAAACAHx6xecX2FRtYbGGxiatEYf8HwUY8JxHO169f4SQAAAAAAIAfGlmQLGsOJK2oSjMHHqU4CAAAAAAAAIBqUGiKEQAAAAAAAKBawEEAAAAAAAAA+MBBAAAAAAAAAPjAQQAAAAAAAAD4wEEAAAAAAAAA+MBBAAAAAAAAAPjAQQAAAAAAAAD4wEEAAAAAAAAA+MBBAAAAAAAAAPjAQQAAAAAAAAD4wEEAAAAAAAAAGIj+Dwe78aYWVYnfAAAAAElFTkSuQmCC)"
      ],
      "metadata": {
        "id": "wZr1PXf9ls97"
      }
    },
    {
      "cell_type": "markdown",
      "source": [
        "######Padrão estendidos\n",
        "\n",
        "![image.png](data:image/png;base64,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)"
      ],
      "metadata": {
        "id": "Iw78kwQjmurX"
      }
    },
    {
      "cell_type": "markdown",
      "source": [
        "#####Operadores\n",
        "![image.png](data:image/png;base64,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)"
      ],
      "metadata": {
        "id": "NKiYHatGnKo3"
      }
    },
    {
      "cell_type": "code",
      "source": [
        "#Importar a biblioteca\n",
        "from spacy.matcher import Matcher\n",
        "\n",
        "documento5 = nlp(\"Voce pode ligar para (51) - 996465670 ou (11) 12345678 \")\n",
        "\n",
        "matcher = Matcher(nlp.vocab)\n",
        "padrao= [{\"ORTH\": \"(\"},{\"SHAPE\": \"dd\"},{\"ORTH\": \")\"}, {\"ORTH\": \"-\", \"OP\":\"?\"},{\"IS_DIGIT\":True}]\n",
        "matcher.add(\"telefone\", [padrao])\n",
        "\n",
        "#ele vai trazer onde está o padrão:\n",
        "encontrados = matcher(documento5)\n",
        "for id, inicio, fim in encontrados:\n",
        "    print(documento5[inicio:fim])\n",
        "\n",
        "\n"
      ],
      "metadata": {
        "colab": {
          "base_uri": "https://localhost:8080/"
        },
        "id": "Su63AqykjhsK",
        "outputId": "51474997-b900-492c-ab92-8d9a3c4a8899"
      },
      "execution_count": 67,
      "outputs": [
        {
          "output_type": "stream",
          "name": "stdout",
          "text": [
            "(51) - 996465670\n",
            "(11) 12345678\n"
          ]
        }
      ]
    },
    {
      "cell_type": "code",
      "source": [
        "documento6 = nlp(\"Estamos infectados com micro organismos. MICROORGANISMOS são perigosos. Não enxergamos micro-organismos\")\n",
        "matcher = Matcher(nlp.vocab)\n",
        "\n",
        "padrao1 = [{\"LOWER\": \"micro-organismos\"}]\n",
        "padrao2 = [{\"LOWER\": \"microorganismos\"}]\n",
        "padrao3 = [{\"LOWER\": \"micro\"},{\"LOWER\":\"organismos\"}]\n",
        "\n",
        "matcher.add(\"padrao\", [padrao1, padrao2, padrao3])\n",
        "\n",
        "encontrados = matcher(documento6)\n",
        "for id, inicio, fim in encontrados:\n",
        "    print(documento6[inicio:fim])\n",
        "\n",
        "\n"
      ],
      "metadata": {
        "colab": {
          "base_uri": "https://localhost:8080/"
        },
        "id": "ZzRZ6PCwo1Uw",
        "outputId": "a47500f1-0a61-4a73-e30c-a892227944da"
      },
      "execution_count": 72,
      "outputs": [
        {
          "output_type": "stream",
          "name": "stdout",
          "text": [
            "micro organismos\n",
            "MICROORGANISMOS\n",
            "micro-organismos\n"
          ]
        }
      ]
    },
    {
      "cell_type": "markdown",
      "source": [
        "### Displacy\n",
        "Displacy é um módulo de visualização do Spacy que oferece uma maneira intuitiva de visualizar a estrutura linguística dos textos. Ele suporta dois estilos principais:\n",
        "\n",
        "- **Entidades Nomeadas**: Permite destacar e categorizar entidades como nomes de pessoas, locais, organizações, etc.\n",
        "- **Dependência**: Mostra as relações gramaticais entre palavras em uma frase.\n",
        "\n",
        "Além disso, Displacy é altamente personalizável, permitindo ajustes em aspectos como:\n",
        "\n",
        "- **Cor**: Alteração das cores usadas para destacar diferentes entidades ou relações.\n",
        "- **Fundo**: Modificação da cor de fundo para melhor contraste.\n",
        "- **Distância**: Ajuste da distância entre palavras ou entidades para melhor clareza visual.\n",
        "- **Etc.**: Várias outras opções para adaptar a visualização às necessidades específicas do usuário.\n",
        "\n",
        "![image.png](data:image/png;base64,iVBORw0KGgoAAAANSUhEUgAAAoIAAAEhCAYAAADrkMHIAAAAAXNSR0IArs4c6QAAAARnQU1BAACxjwv8YQUAAAAJcEhZcwAADsMAAA7DAcdvqGQAAC6nSURBVHhe7d0PdBTlvf/xb7BosKiooMELlij2ooACrVcSi2hatP7BlmC4EqRq0VbFeo6gtp4EbDH012KkrYLtVeB6rQkWTGhFUEBilTahtQ2IgvTwJ15RQisSFG6h+Gd+8312Ztkkm2Q32f/P+3XOMrMzm5BMnv3uZ555ZibLcQkAAACs082bAgAAwDIEQQAAAEsRBAEAACxFEAQAALAUQRAAAMBSBEEAAABLEQQBAAAsRRAEAACwFEEQAADAUgRBAAAASxEEAQAALEUQBAAAsBRBEAAAwFIEQQAAAEsRBAEAACxFEAQAALAUQRAAAMBSBEEAAABLEQQBAAAsRRAEAACwFEEQAADAUgRBAAAASxEEAQAALEUQBAAAsBRBEAAAwFIEQQAAAEsRBAEAACxFEAQAALAUQRAAAMBSWY7LmwcAoEOHDx+WAwcOyMGDB81D59UJJ5wgPXv2NA+dz87ONssBpC6CIABY4pNPPpGdO3fKrl27moW4cPPtrdPvE4nPfe5zzYJhuPn21vXv31/OOuss830AxAdBEAAyyAcffCA7duwwgS/0ocveeecd71Vdoz19LcObahkctecwFs4880w5++yzTSgMfeiyU0891XsVgM4gCAJAGtGS3TLghT7/8MMPvVe21q1bNxOeNFiFhrhw8+2ti7SHTnsOQ4NhuPn21mlw1d/vs88+875jayeddFKrcBj6PCsry3slgHAIggCQov70pz9JbW2tbN26NRj6GhoavLXhaVDTMBTukZub670qvejvrL97uIcGxvbo76y/u4bCQYMGyVe+8hW58MILvbUACIIAkAL0kK6Gvj/+8Y9mqiHwyJEj3trmTjvttFYhz3+cfvrp3qvs8Pe//z1sQNTHP/7xD+9VzR133HFy8cUXm1CoUw2GJ598srcWsAtBEACSYMuWLSbw1dXVyZ///Gd58803vTVHaajze7BCw96JJ57ovQLt+eijj5oFw7/85S9mm+/evdt7xVEjRowwoXDkyJHy5S9/Wb74xS96a4DMRhAEgDjTnj3t6dPA99prr5lHuBM3Bg8ebIKIhj99DBw40FuDWNJDzRrA/R7YjRs3emuO0kPK+jfQUOg/jj32WG8tkDkIggAQY++9914w8Pnhr+VJHDqWzw8Y/iHK3r17e2uRSPv27TN/I39Mpj70pJVQeuj4oosuMr2z/t/tjDPO8NYC6YsgCAAxsHnzZlm1apWsXr3aTFsaMGBAMED4vX7HHHOMtzadNUjlhNkicxdIcT+R/S/PlvHrC2Tt/Xne+vTz6aefNgvx69evl+3bt3trj7riiivk8ssvN1PtzQXSEUEQADqpvr7ehD59vPLKK97SAD/06UN7kc4//3xvTaapk9lZ5ZK7q8oEwT2Lx0vf7feIMyN9g2A4OqZTQ2FoQAw1evRoEwj1oeMNgXRBEASAKOhhQ7/XT3uKfHo9uzFjxsjXvvY1M9XLlWSUvXUyf2a5VG/fb57mjimT8ntzpXZaodz5swbJvuw8mXpzoVTPKZOaw7lScNd8qRhQIeX7CyT3hYel+pNCKX9qqgzPkLvO6eV81qxZIy+99JKZhh761x5fv7cwPz/fWwqkJoIgAHTg5ZdfDvb8hZ5YoBdmDg1/mXuXiwZZeNV4eev2lVI2Nkey99bI7LGTRH7WKCUjW/cITpX5UjUxJ9A7OC1b5i0rlYKeJ0vuEPdrve+YSfTSP6GhMPREoGHDhgV7Ci+77DJvKZA6CIIAEMYLL7wQ7Pl76623vKViDvH6wU+ndtwH97Ds39ooMihXepmn+6X6vpOlIq/RDXwN7QfBt+4RZ1ZmHSZuj95NxQ+EOt20aZO3RuTcc88N9hReeeWV3lIguQiCAOB5//335ZlnnjEPPQTsGzVqVDD85eXZE2pCHd5aLQ/PmS8r1m2R/f2vlnOzF4pMbj8INjzxVbmnZ4WZt5VepsYPhevWrfOWijlkfP3115tHnz59vKVA4hEEAVhPx/r5AVDvVKE0/F133XUmAJ533nlmmbX2r5Q7z10o576wUKYOM32CUvdglpQPbB0EN/xshJTlrDTh7+hr7A2CofSEEw2Ezz77bDAU6kXD/UCoYwuBROvmTQHAKp999plUVlbKtddea3r5fvGLX5gB/zfddJO8+OKL8uqrr8pdd91FCFQH90vjnr6SOzAQAmVvtVQ8FpgVHfWXs1+a9uyXw5+I9Op5suzf2yj7278FsJW0LWmb0ralbUzbmrY5bXvaBrUtapvUtgkkCj2CAKyi14NbvHix6f3THhqlH9DaIzNx4kTu5hHWYan7f1dL4aJDcl5uD5HehVJStF9mby+QtfcOlw2/vFPuWdYgefeukNI+C2XK5DKpGVctK/uUBs4cHkuPYFtoj0g2giAAK+hJH/7h38OHD5tlY8eODR6W69aNAyRIHu0F9Nvn8uXLzbLs7Oxg+9STTIB4IAgCyGiPP/64PP3004zJQtpoa8zqDTfcIN/5znfMcyBWCIIAMtKiRYvkv/7rv8xdIBRnaSLdhDuL/T/+4z/ku9/9rnz72982z4GuIggCyChPPfWUCYD+B6der+322283h4GBdKWHi3/5y1+a61sq3bHRQPitb33LPAc6iyAIICPo2ZYaAPWMTKV3cdAAWFRUZJ4DmWDp0qUmEOrdbtQll1xiAmFxcbF5DkSLIAggrS1ZssQEwJqaGvNcL8OhAXDy5MnmOZCJfv3rX5tAqBesVgUFBSYQTpgwwTwHIkUQBJCWqqurTQDU28Cp4cOHmwB46623mueADZ544gkTCDds2GCe6+3rNBAWFhaa50BHCIIA0spzzz1nAuDKlSvN80GDBskdd9xhQqAd9/0FmtP7G2sYfOyxx2Tr1q1m2VVXXWUCoV6kGmgPQRBAWti2bZs8+OCD5pCYGjBgQDAA9uzZ0ywDbHbw4MFgIHz77bfNMh0iMWPGDDnnnHPMc6AlgiCAlKcfbhoCGxsbpVevXjJt2jQTAHv37u29AoBv79695j0zd+5c2b9/v/Tt29eEQX3PAC0RBAGkLB33pAFw2bJl5rmOe5o5c6ZccMEF5jmAtr3++usya9YsM55WjRs3zgRCHU8L+AiCAFLSQw89ZELggQMHTM/fAw88IHfeeae3FkCk5s2bJz/60Y9MT+EJJ5xgwuC9997rrYXtCIIAUoreCk4D4Jo1a8xzvRyG9gIOHjzYPAcQvc2bN5veQb3ckhozZowJhHrrOtiNIAggJXz88ccmAJaVlYmWpZycHNMLeNttt3mvANBVv/rVr0zv4J49eyQrK0tKS0tNIOzevbv3CtiGIAgg6fS2WRoC/Yvj6l0StBfw3//9381zALHzt7/9zfQO6t14lF6EXcOg3o4R9iEIAkiaf/7zn6ZH4mc/+5l53r9/fxMAb7nlFvMcQPwsWLDABMJdu3aZ53fffbfpkT/++OPNc9iBIAggKerr680Hj39vYL15vobAs88+2zwHEH87duwwYfCpp54yz/XexbpjNmLECPMcmY8gCCDh9JCUhsB//OMfctppp8lPf/pTuemmm7y1ABLtySeflO9///vB96SGQR2igczXzZsCQELoCSCTJk0yHzh6o/xVq1YRAoEk0/egvhf1PanvTX2P6nsVmY8eQQAJsXv3btML6F++4q677pKHH36Y+wMDKUTvWzx9+nR55JFHzHO9fJP2Dp5xxhnmOTIPQRBA3NXU1JgQuGnTJjnxxBNNAOSEECB16YkkGgg/+ugjOf/8800Y1N5CZB4ODQOIK70Bvl6WQkNgfn6+OfxECARSm75H9b2q71l97+p7WN/LyDz0CAKIi88++8z0AvqHmL7zne+YnsCePXua5wBS38GDB03P4OOPP26e65AO7R3s1o1+pExBEAQQc1u2bDEhcPXq1XLssceaAMh9goH0pfcr1kB45MgRufzyy00YPO+887y1SGdEegAxVV1dbQ4jaQjUa5Hp4SVCIJDe9D2s72V9T+t7W9/j+l5H+qNHEEDMLF261JxlqPQC0doT2Lt3b/McQPrbu3ev6Rn0L0Ct08mTJ5t5pCd6BAHERGgI1DsV/M///A8hEMgw+p7W9/YPf/hD81x3+J544gkzj/R0jPvHDPw1AaCTQkPgnDlz5P777zfzADLTpZdeKllZWfL73/9eli9fLqeccopcdNFF3lqkE4IggC4JDYGPPvqoOUkEQOYLDYMvvviiHH/88XLxxRd7a5EuCIIAOi00BOoFaG+77TYzD8AOoWHwpZdeMpeVGT16tLcW6YAgCKBTQkPg008/LTfeeKOZB2CX0DCoD53XZUgPBEEAUdP7Bf/nf/6nma+qqgrOA7CTBj+9b/jLL79MGEwzBEEAUVm4cKE5U1CtXLlSrr32WjMPwG6XXHKJnHzyyWa8IGEwfXAdQQAR+/nPfx48GaSmpkYuu+wyMw8AvkWLFsmUKVPMvPY1PfDAA2YeqYkgCCAiZWVlMmPGDDOvh3/Y0wfQltAxxITB1EYQBNAhvXuAfzIIIRBAJPQQsd6KTj377LMyfvx4M4/UQhAE0K6NGzfK8OHDzXxlZaVMnDjRzANAR/Rksuuuu87Mv/322/KFL3zBzCN1EAQBtOnTTz+V7Oxs+eSTT8yYH71WIABE4wc/+IH89Kc/leOOO07++c9/mmsNInUQBAG0aciQIbJ582YZPHiwvPnmm95SAIjO1772NVm7dq0UFBSYKVIHsRxAWIWFhSYE9ujRQzZt2uQtBYDorVmzRk466SRztQFOHEktBEEAreihnGXLlpn53/3udxzKAdAlek3BP/zhD2Z+1qxZ5gQ0pAaqO4Bm9BpgOp5HlZSUyJgxY8w8AHSFDjV55plnzLxehUCvQIDkY4wggKA//elPJvgdOHBAiouLpaKiwlsDALExc+ZMefDBB6V3795SV1cnAwcO9NYgGQiCAAw9m09vEfXXv/5VRo4caQo0AMSDXlJGLy2jO57PP/+8HHvssd4aJBqHhgEYt9xyiwmBp512mjz22GPeUgCIvYcffljOOusscxLJ7bff7i1FMhAEAciPfvQjWbx4sZmfN29e8ALSABAPemHpRx991MzruGStQUgODg0Dllu/fr05JPzxxx/LT37yE/n+97/vrQGA+HrooYfkvvvuk+7du8urr75qhqUgsQiCgOWuvfZaWb58uVxzzTVmCgCJNHbsWDNOUKfPPfectxSJQhC0lPb+/N///Z956EkCodNw8+r444+Xz3/+8+YRbj50me7dIfXpWMCpU6ea28j9/ve/l4suushbAyDWqLvh6dUKLr30Ujl8+LDMnz9f7rjjDm8NEoEgmOGOHDkib7zxhnno3SH8+b///e/eK+Lj9NNPl6FDh5rH+eefH5znzLDUsWPHDnNIePfu3VJWVmauGQig66i70Zs9e7aUlpbKGWecYQ4Rn3322d4axBtBMIPs3LmzVeHZunWrt7a5Y445ptXeZMtH6DoVbq+15cNf9+mnn5qvaWnQoEGtCpWeOYbEmzJlihmkPXr0aNMbCCB61N3Y0V7BV155Rb797W/LwoULvaWIN4JgmtMxXXoLMH3s3bvXW9rcmWeeKRdccIEMGzbMTPUR7wt4bt++XV5//XXz2Lhxo5m+88473trm+vTpI+PHjzf3tuUuFomxdOlSmTBhgpnXyzfoDeEBRIa6Gx8vvfRS8GdZsmSJFBUVmXnEF0EwzTQ1NZnis2LFCnnxxRfl4MGD3pqA0MLjT0855RRvbXLt27evWYHyp6FOPPFEU5yuvvpqUxD0OWLro48+MoeEddvrGcJ6pjCAtlF3E0fvc663uNRtqIeI+QyIP4JgGtBDD1p8Vq1aZR7/+te/vDUivXr1kiuvvNK8ifWRjvw9a31o0fLpCQzf/OY3TW+VFifdw0bX+YV2xIgR5jBMz549vTUAfNTd5NRdDdk6XKW+vp4d1UTRIIjU9Nvf/ta55pprnKysLA3rwceAAQOcW265xVm+fLn3ysyxdu1aZ/r06c7AgQOb/c7dunUz20K3CTrv5ZdfDm7TZcuWeUsB+Ki7ya+7Wpv8n0FrFuKLIJiCli5d6lxxxRXN3pAXXHCBc8899zjunqn3qsy3bt06p6SkxPnyl7/cbFvottFthOi5e/lmG95xxx3eEgCKuhuQKnVXa5T+v1qzEF8EwRRSWVnpFBQUBN942dnZ5s2wfv167xUp5v0tztrXGp1D3tN40m2g20K3ib99dFvpNkNkysvLzXb74he/6OzevdtbCtgtlepuU90Cp/y5nd6z5Etm3dUapbVK/0+tXYgfgmAKePLJJ52vfOUrwTfaqaee6tx7773Oli1bvFekpkOrpzsyo9Z7Fmqns6BoilPR4D2NId0mum10G/nbS7edbkO07f3333f69etnttdTTz3lLQXslZJ1t67MkXvXdrBzvcVZcOV0Z0WT9zQBklV3tVbp/6W1S2sY4oMgmERPPPGEc9FFFwXfWGeeeabzwx/+0Pnf//1f7xXJcaipyTn0sffEaXK21Gxx//UdchpfW+tscd+TjZWFjswKFwT1a2qdnXEsVLqNdFvpNvO3n25L3aZo7aGHHjLbSA/vADZLybp7oMlpOuBONQgWVTiNgaVO44YVTsUj85yKmp1Ha3DTCmeqlDnhKm+8JaPu+ofrtYYhPgiCSaCDXy+99NLgG+ncc8915syZ4+zdu9d7RXwdanL3Nz9udNYuKnfK57hF5rVAiTm0YZ5TOORcp2BMgVMwJNcp+HGtc+jQWmd6s6LT6FQUiVNW5zj1c4c7hXMqnPKb3dePmeKUVW8J7Mke2OnUJuiQsW4z3Xa6Df3tqduWAcZHHTlyxBk8eLDZNhUVFd5SwC7Jrrvh7XRW3F3g5A5xa+hlBU5x0VVeEDzk1M7Kc3KLyp2qmrVO1ZxC59yxC5wtTr1TlqM/f66TN6bcqQ3usCdWIuuu1iz9/lrDtJYh9giCCaZ7U/4bZ9iwYc78+fPdsJWIyOTRYJdT6BROLnbKq9c6a6vLnKtyrnIWbGt0qiaLU7LOe51bcObd7haazRVOYRtBsHaW+3uMLHFW7DrkHHq/3lkwOdeZ+pwbKnWvdnJVcK82EXQb6rbUbepvX93WcJzHH3/cbI8vfelL3hLALkmvu21oqp7i5EyucONgwM6nCh0Zs8DZuW2Bc9WwcrcK+w45a+/PCdRXd11BSK9hMiWq7mrt0u+ttQyxRxBMkJZ7o9OmTXP279/vrU2keqd8mDjTVx8tgrUzxCmsfNsUmtyi6c4CNyDWNzQFevR2tRUENTjmOCU1IcV0XYkJgK+3ecg4/nSb6rb1tzO9g46Tn59vtsUvfvELbwlgh9Spu+Fp7TXhztdY5RS79Xb5kmJHcs51A99Up2SOHrkpd0omDw/U1RaHj1NBvOuu1i79vlrLEHsEwQQI3Ru98MILneeff95bkwxHe/R8uhea82Pd92xytlQvcKbfXODkDXR/3oFTnKq6cEEwxyl7TaeFTsUub7Hy9lTX/DjHDZbJLVO6jXVb+9vd1t7BJUuWmN//C1/4gtPUFPKBA2S41Kq74Rxy1t7bfKfcjYZOmR8E711h3rPNHjqOUHe4w56kl3zxqrv6u2sN0++pNQ2x1c3dsIgTvZH/ZZddJu6bwTzXq6TrMr2NT/LkSO5Qkcb393vPRfrm5MqepibZ/26DyKgpUr5ordRuc2TLXQ0y9blGyZYmOXTYe/HBeqldmi+5OQ3SsNRb5jnc8JbU9Hak8a09MiI3x1uaHLqNdVvrNlf6N9C/hS6zyZNPPmmmN954o7kbApDpUrPuhpMtuecUSM3Gt7znrr2N0uDW2+PPK5Cr1tTKW5/rZd63vXplS/2j46W87rDs2eW+vrv3+hQTr7qr20BrmPJrGmLIC4SIMd0T0s2rj4svvjilLki68/ECp+DxkGtVvVbm5GhP3tw8J+/+Fc5O3fNs9Mb8rXzbWXF74JBx+ZwSZ8rEQueqYdoTWOuUuL9b4SLv+3ysl4zRMSyvOOW6Pg6Xjuks3fb6N/D/Hvq3sYH+3vr79uzZ09m+fbu3FMhcqVx3w9pV5RQPLHBKVu40Nbfie1c5w019PeTU/rjAyb1sijk0XHKrzpc5tQecwNUavlflNGrvYAqLdd3VGqa1TL9Xyv9d0wxBMMYOHDjgjBs3Ltj4Z8yY4Xz8cZJO7WpDox52CB3Dt6vCKR6iA5ObnNpHpjqFetbwzdOdBTX+4d1DTuOGtc7amnqn0f1Vmt5wp3tWOCU3z3MqHil08kbqoeRcp/CReu8s4+nO2uSPw25G/wb6t/D/LmPHjnU++OADb21mmjhxovld9YKwQCZLh7rbpsa1zrzbC814wHnrdjo7X3Prq1c/D+2qd+uuW3s3hFyFoWGFM73IrdEzOrreYPLFuu5qLdPvo7UNsUMQjKHGxkZnzJgxpqEOHz48dU9SiPUdQT4+dPR76ThBPevNe5pq9G8ydOhQ8zfSWyht27bNW5NZ9I4AfvFN2TvTADGQNnXXYrGqu9S1+CAIxog2bP9abXpvxGRfFDoZmhrqndrHCp2c+1N7T/Vvf/tb8HIEesX6TCwot912m/n9JkyY4C0BMg91N33Equ5qTdPvoTUOsUEQjIENGzY43bt3D37wHjx40FtjkyY3BE51Cm8ud2rT4E5A+/btc/Ly8szf7JhjjnFWrlzprUl/W7dudXr06GF+t9Q7UxKIDepu+olF3dWapl+vNU5rHbqOINhF69atM41SHzfeeKO3FOli9OjRwb/f008/7S1Nbz/4wQ/M7/PVr37VWwJkFupueutq3dXapl+rtQ5dx+VjuqCyslJGjRpl5m+77TZOa09DelmDMWPGmPkbbrhBHn30UTOfrpqamoLt8Fvf+paZApmEupv+ulp3/dqmf/t9+/aZeXSBFwgRpdDLFOgV1ZHerrvuuuDfM50vL/PMM8+Y32HgwIHeEiBzUHczS1fq7tlnn22+jvundx09gp2ge6RuozXzJSUl8vDDD5t5pK+lS5fK3Xffbeb1b7tmzRozn278n/vKK680UyBTUHczT1fq7hVXXGGmq1atMlN0XpamQW8eEfjLX/4iF154oZm/+eabZdGiRWYemeF73/uezJs3z8zv2LFDzjrrLDOfDo4cOSK5ubmye/duWblyJWEQGYO6m9k6U3efe+45+cY3viGnnXaavPPOO3Lcccd5axAtgmAUPvroI+nXr58cOHBAhg4dKps2bfLWIJNcfvnlZs+0d+/epsD06NHDW5PaVqxYIddcc40MGDBAGhoavKVAeqPu2qEzdVfbxXvvvSe/+c1vZMKECd5SRItDw1HQeyZqMTr11FMpRhls9erV0r9/f9m7d69cf/313tLUpz+3Gjt2rJkCmYC6a4fO1F0OD8cGQTBCEydOlPr6ejP//PPPmykyV01NjZnq4Yf77rvPzKe63/72t2bKIWFkCuquXaKtu1//+tfN9MUXXzRTdA5BMAIPPPCAPPPMM2ZeT3MfOXKkmUfmGjhwYPCD56GHHpK5c+ea+VSll2PQwymnn346QRAZgbprn2jrblFRkTmU7I+LRucQBDtQUVEhs2bNMvP333+/3HnnnWYeme/qq68Onpk4ffp0Wbx4sZlPRS+88IKZFhYWmimQzqi79oq27urYQvW73/3OTNEJerIIwjtw4IAzZMgQc62im266yVsK29x6662mDWhb0DaRivxramXSrfJgJ+ouVKR1d8mSJeZ1Z555prcE0aJHsB0///nP5c0335RzzjlH5syZ4y2FbWbPnm3agLYFbROpRi+toZdcOPHEEzksjLRH3YWKtO7q4eGePXuaoTF/+MMfvKWIBkGwDdu2bQs2vmnTpkmfPn3MPOyjf3ttA0rbhLaNVOKfJMJhYaQ76i580dRdfwd42bJlZoroEATboA3vgw8+MPdD1PtZwm7aBrQtaJvwP6hSxbPPPmumBEGkO+ouQkVad7VXUPk7xYgOF5QO49VXX5XRo0ebeR2E75+iDrvpJQr8Pc9XXnlFLrnkEjOfTHrYRC+y2717d3NnESBdUXcRTqR1V2vgJ598Ihs3bpQLLrjAW4pI0CMYhr/nccstt1CMEKRtQduESpVewaqqKjOlNxDpjrqLcCKtu+PGjTNTegWjRxBsQW9Vo+MMTjnlFHPqOhBK24S2DW0j2laSbfPmzWaaCr2TQGdRd9GeSOrupZdeaqZ+TUTkCIIt+HscOkh10KBBZh7waZsIHcCcbFu2bDHTwYMHmymQjqi7aE8kddevgX5NROQYIxhCu5S1e3n48OFSW1sr2dnZ3hrgqMOHD0t+fr5s2LDB7KF+85vf9NYkXlZWlpnq/Tn1XqxAuqHuIhId1V09oUTvMqKINdGhRzCEP7ZAb3hNMUJbtG34N0VP5ngU/xBITk4OIRBpi7qLSHRUd7UGai1UHB6ODkHQ09jYaBqXNrbrrrvOWwqEp21E24q2GW07ycBhYaQ76i6i0VHd5fBw5xAEPXqfwg8//NA0tLPOOstbCoSnbUTbiraZZN3jkiCIdEfdRTQ6qrsEwc4hCHr8rmZtZEAk/Lbit51E8w9/EASRrqi7iFZ7ddevhRwajg5B0KWDT1etWmUuQvmNb3zDWwq0T9uKthltO9qGEs3f6x0yZIiZAumEuovOaK/u+rWQHsHoEARd7JWis5LZK0iPINIZdRed1VbdpUewcwiCLm1M3bp1oyAhatpmtO0kOgj6ha5fv35y0kknmXkgnVB30Vlt1V2thVoTFWEwctYHwdWrV8umTZtMw+JCpoiWthltO9qGtC0lCieKIJ1Rd9EV7dVdvyZyeDhy1gdBvUG18m9PA0TLv1H+X//6VzNNBMYHIp1Rd9FVbdVdxglGz/og6A82HTp0qJkC0fL3QBMZBBkfiHRG3UVXtVV3/eUcGo6c9UHwtddeM2MNKEjoLD2DTdtQMnoECYJIR9RddFVbddevifQIRs7qINjQ0CA7duwwDYoB9+isXr16meLz9ttvy7Zt27yl8UWPINIVdRex0Fbd9WsiPYKRszoI+ocntCABXeEXnz//+c9mGk/79+830549e8rnP/95Mw+kC+ouYiVc3dWaeMIJJ5j5pqYmM0X7rA6CenhCUZDQVf4hLr9NxZMfBHWPGEg31F3ESlt19+STTzZTgmBkrA6C69evN9Pzzz/fTIHOGj58uJkmskfQL3ZAOqHuIlbaqrunnHKKmRIEI2N1EKyrqzNTBiyjq0aMGGGmiThhhB5BpDPqLmKlrbpLj2B0rA2C9fX18q9//Uv69+8vffr08ZYCnXP66afLv/3bv8mRI0dM24ongiDSFXUXsdRW3SUIRiejg+DkyZMlKysr7ONLX/qSec2uXbvCrtevBaJx3nnnmem7775rpvFCEEQqo+4iUbS9vPfee2Ze25bfjqqrq82yCRMmNGtfoQ/a2lEZHQTnzp3bqb1O/Rr9WiAaflvbu3evmcYLQRCpjLqLRNH2kp2d7T2LHG2tuYwOgp39Y3e2kMFuvXv3NtN4B8EPP/zQTAmCSEXUXSSKtpdLLrnEexY52lpzGT9G8IYbbjCPSEX7esDnF5YPPvjATOPF//6cNYxURd1FoowaNcqbiwxtrTUrThaJNP3razqzJwuoRPUI7tu3z0zpEUQqo+4iEfy6G8khYtpaeFYEwUj/+JEWLiAcv4eOIAhQd5EYft31T9ZrD20tPCuCoOqoO5juYnSVX5DifWiYIIh0Qd1FvPl1t0ePHrS1TrImCKq29gYi3XMF2uNfzT7ePYJ+0CQIIh1QdxFPoXWXttY5VgXBthpDW40HiEaiewT9/w9IZdRdxFNo3aWtdU6W4/LmraEXknz66afNfFFRkSxZssTMA12hV7H3907j+bbSi6Eq/f/oFUS6oO4iHsLV3euvv15+85vfmHk9HPzrX//azCM8K4Pg+++/L4MHDzbzmzdvZk8BAOKMuotEoa1Fx8ogqPw9UwaPAkBiUHeRKLS1yFkbBAEAAGxn1ckiAAAAOIogCAAAYCmCIAAAgKUIggAAAJYiCAIAAFiKIAgAAGApgiAAAIClCIIAAACWIggCAABYiiAIAABgKYIgAACApQiCAAAAliIIAgAAWIogCAAAYCmCIAAAgKUIggAAAJYiCAIAAFiKIAgAAGApgiAAAIClCIIAAACWIggCAABYiiAIAABgKYIgAACApQiCAAAAliIIAgAAWIogCAAAYCmCIAAAgKUIggAAAJYiCAIAAFiKIAgAAGCpBAXBPVI5IUuystp/zF7vvnT9bHd+ttQFvjCsPYvHS9aESve7Aqki0MbHL6ZVAkB81clsMkDMZDkubz6B3D9iVr7UVzZK1cQcb5lHg2CeSK1TIu4EAAAgqO7BLMl/o0IalxRLiwSBTuDQMAAAgKVSNwiaQ8QtDht7Wh0afrdSxoe8tqNDy0DstT40rHutoW2Yw8ZIeS3qblbWeKl811sHdCSCz2Lz+R3ymtDP9qN1tK75cLLg531gff5Md3bpJOkb2j5b/t8PNv+f/dxQ1+z/b92+W/58Let2+z9/ekrRIFgq+XNzpdFxRI9c185yl+S1Ee70j99/koyoC7w28Hr36xk/gCQKHrrw2qSzq0KkuG9GFA1kKDMsp14qdoXW0mqZ1J8da0Qggs9iDVF9i+VoG3PrYn1e67BVXZwvDdOOvqbQDX1TzWtypHhJIBNIkdbXKinu5857/7dUNnr/d6NUvJHf+lwC9/vkb7/n6GuK3PY97ehrtG73LR4htWa9PmplhFu3/Z8v0p8/7bi/TBLUOmXuf11Y6X5MtlRX5ogUOu6GPmpXhVPovr6sLvC0sbLQcRuBY7463OuBhGt0Kor8Nh2Yl1luOQHShPvh2rrNUl8RqQ7bSvjPffN5LmXuWvMsbO00bdP/zI/guREuNwT/H0+znznw8/mvby2Snz89pWiP4AjJ1ZQfiZEFUia618qhN6SKHCkY55agme4eKcMUkCbyZjjizAicohcc1pBXap4DHeros3h9jZRKoYwf1fz0jpxR492l9dIQcoi2cGCuNxeJOqmZ6X7NuILmJ470K5DxRSL1DSE/S1GutPmdvZ+vzewRxc+fbjLgZJE8KTFdvNqd3DejjtsjfeVMrBJ3b9OdK5V8r01yySOktJDxgfkzCwOHv0wbBiIRyWdxICj668yj/yR3adeF/p+BR1+ZtNRbGbGOOqHi9/MnU4acNRwYN+AEj/vrmEIGOSPJRpZ4bdL7QNXBzS0GMAOpYY9Uzi0VmVXrtVlv7BUQlY4+i70dDL8uBh9db2+FwfGBzR+tLlHXro569uL38ydThgTBUNoQa00XdTp31SLDuKGwsbJQ5I0GegWRghqkYalI2ZjmV2+tW8OhYXRWi8/ifrlujArzuWx6orsyhCZXcrUXcnuD99yn1yuO4uhgWz+fL24/f/KlfxA0f4TmvX97FpdLqdv8CkZ6C4CEClzioPnlC+pkYXF163EsQEoIfJiWzg0ZvuDWVnOZDnaqEYmOPov7Fct8d2e4eQ+hG9bySqWwckoXbiDhBs65FVI4M7/Z2MS6B/OltKhCpkSaA9yf755WVygJqeVx+/mTL/2DoB5+qxvR7Lh94PRu7kyCZNE94cbA5Qv8cSRZblGaVRvlYQogUbzeG3NtNq/NugW0Vi/d4a5tNuAeCCeCz2IdO91YKSGvaeMOYx3IuzlwSRltq6bHzw1pVd4luvz/uzN3HtETphor64+O69ZxhkNrgydRRfLz+9crTKd3TJJuMQcAAIBky8AxggAAAIgEQRAAAMBSBEEAAABLEQQBAAAsRRAEAACwFEEQAADAUgRBAAAASxEEAQAALEUQBAAAsBRBEAAAwFIEQQAAAEsRBAEAACxFEAQAALAUQRAAAMBSBEEAAABLEQQBAAAsRRAEAACwFEEQAADAUgRBAAAASyU8CNY9mCVZWeEes6XOe03Qu5UyPuxr/Yf3Netnh1nX4jGhUvaYbwq0ZY9UTtD2EqYthgi04cBr2m7Pgcf4xV6r66Atz14feJkvqvcJ0AHqLlKW394eDF/ZTNsN247qZHbL9hbue3jfv2WN9bX8/oH3ynipfNdbEKqD75WuktMjWFQhjY4jTsijsbJe8tvY+GV1zV979FEiefqCkSXNljdWFupXSW3IMmdJseToa4E25UjxtDJ3WirlfoBryS0E5TPd6ayCQNtTYdqz/6ia2LzVhWvL2l5L88K0/TDft3ZWqfs+IQyiE6i7SGUz8yMPWGYnJF/qKxtD2mCjVLyR7y6PRX2slknT7NmJSZlDwzkTq9wPObs2PlLQyAL3o8wtA8tqwrbDPeuq3BJRKBU3B2Ngl+VMnC8VRW7b/++Oy1fezRXu/14vDeH2VoEoUXeRSkrzIghx2iuXV2p2VJrvaLs78ku8neVY9EQvnSRT2+oQyDApNUbQfMi5G39hhnW7Ip3kyRTt2VhaJTWtwtYeqVlWLVI0Xgr6eYtiIkdyh7qTNxr4MEbCUXeRCsoqdSe3naMxnrr/niTVRRUyZaS3oIWYtGf3+1fMEqkuXmjF0ZfUOlmkX66McCf1DXwcInlyRo13C1K1VK1r0Q7frZGqpW7Bmhbrw117pOENdzI0t8Pvq0VQKudLcUyDKKxG3UUqyC2W+e5OeHXx1PDj84xArSwcV9B2rexXIOOLut6eC2bUSpkbTPPbGLuYSVIrCEqu5Lp/wJZK80IGg4Y+LPgDIQn6Fcs9ujfY4vBw4LBwmRS03BN19z77hmufbQ04bmHP4qkyaWmYw81hvm/+TPfn2t7gvQCIBeouUkPOxHvcCtveUIUGaXB3xiPR9TrpHR2KZuximkqxIBhem4OWZ8RunBYQKm9MmQliRw8v1MnC4urmJ4n42jxZpKpVz124D9e+xSIVu1q/NvzgfjsKE5KPuovEy5OSukDtTYXxeYHx2xGOXUxjKRYEI0/7QFyNnBIoAGu8t//6GimNwUkizT5cteC5CqM41BssTP7PBXQZdRcpZGSJ1JrxeeEOEYfvvQ6ncGCuNxeBNofl5Ejx3MDYxUw+RJxaQfDdBql3N/n4UbEdgQVEL0cKxmnvW43ZE6xbUxr7k0Tcgqc9fNXFfenhQ/JQd5Fi8sz4vHBXUgicWNfWVR0Mbyz3iFyvPXtjYMPzxme3p19g7KLMLI9oqE86SqkgGDgbKNZnZAKdExivUio16+ukZmY8ThIJ6eGL8tBDVHu7QDuou0g93iHimflmXHSojs4Kbn1WcaAXMfzJI4He8LIx7R/pCV7iK8/93t6yTJIyQXDP4vHuH7xQKuZyAVKkijwpmKUhLd+Ng2FOEomJ6A49BE4sKZN7WlyoGugM6i5SlneIuJV+xVLlhkQdbx28c5MRuDNU/swyqW12IfPAjQJaH3nR17u1vZ1L0Rzl1+nMlJwgGOZsyL7FI6Q2zOB61ebZa+6DQ2qIp8AFnHUc35TWJ4n4wrTn4COSC5sGDz3kNy9sbb5PvDs7ANGg7iLN+PW3FXNXm1oZ4Ya7o+2yr0waWusuD1Mf9fW7KqS+WZv2Xh/p3W+8q0lkoixHR60DAADAOil21jAAAAAShSAIAABgKYIgAACApQiCAAAAliIIAgAAWIogCAAAYCmCIAAAgKUIggAAAJYiCAIAAFiKIAgAAGApgiAAAIClCIIAAACWIggCAABYiiAIAABgKYIgAACApQiCAAAAliIIAgAAWIogCAAAYCmCIAAAgKUIggAAAJYiCAIAAFiKIAgAAGApgiAAAIClCIIAAACWIggCAABYiiAIAABgKYIgAACApQiCAAAAliIIAgAAWIogCAAAYCmCIAAAgKUIggAAAJYiCAIAAFiKIAgAAGApgiAAAIClCIIAAACWIggCAABYiiAIAABgKYIgAACApQiCAAAAliIIAgAAWIogCAAAYCmCIAAAgKUIggAAAJYiCAIAAFiKIAgAAGApgiAAAIClCIIAAABWEvn/1F1UaDs88FwAAAAASUVORK5CYII=)\n",
        "\n",
        "\n",
        "\n",
        "![image.png](data:image/png;base64,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)"
      ],
      "metadata": {
        "id": "ZxTsbQ0VsPzk"
      }
    },
    {
      "cell_type": "markdown",
      "source": [
        "- Primeiro precisamos importar o displacy:\n",
        "\n",
        "\n"
      ],
      "metadata": {
        "id": "UojDdafvvi0c"
      }
    },
    {
      "cell_type": "code",
      "source": [
        "#ativo o Jupyter pois estou fazendo em um notebook\n",
        "from spacy import displacy\n",
        "displacy.render(documento, style=\"ent\", jupyter=True)"
      ],
      "metadata": {
        "colab": {
          "base_uri": "https://localhost:8080/",
          "height": 78
        },
        "id": "IoXDuG7PpxjS",
        "outputId": "c6502b01-73ad-4e1b-af20-80603f8758bc"
      },
      "execution_count": 80,
      "outputs": [
        {
          "output_type": "display_data",
          "data": {
            "text/plain": [
              "<IPython.core.display.HTML object>"
            ],
            "text/html": [
              "<span class=\"tex2jax_ignore\"><h2 style=\"margin: 0\">Exemplo</h2>\n",
              "\n",
              "<div class=\"entities\" style=\"line-height: 2.5; direction: ltr\">As ações da \n",
              "<mark class=\"entity\" style=\"background: #7aecec; padding: 0.45em 0.6em; margin: 0 0.25em; line-height: 1; border-radius: 0.35em;\">\n",
              "    Magazine Luiza\n",
              "    <span style=\"font-size: 0.8em; font-weight: bold; line-height: 1; border-radius: 0.35em; vertical-align: middle; margin-left: 0.5rem\">ORG</span>\n",
              "</mark>\n",
              " S.A.,Franca, \n",
              "<mark class=\"entity\" style=\"background: #ff9561; padding: 0.45em 0.6em; margin: 0 0.25em; line-height: 1; border-radius: 0.35em;\">\n",
              "    Brasil\n",
              "    <span style=\"font-size: 0.8em; font-weight: bold; line-height: 1; border-radius: 0.35em; vertical-align: middle; margin-left: 0.5rem\">LOC</span>\n",
              "</mark>\n",
              ", acumularam baixa de 70% ao ano. Assim já devolveram todos os ganhos do período da pandemia.</div></span>"
            ]
          },
          "metadata": {}
        }
      ]
    },
    {
      "cell_type": "code",
      "source": [
        "documento.user_data[\"title\"] = \"Exemplo: \"\n",
        "displacy.render(documento, style=\"dep\", jupyter=True,\n",
        "                options={'compact':True,'distance':80, 'color': '#FFA500','bg': \"#000000\", 'font':\"Arial\"})"
      ],
      "metadata": {
        "id": "W2LieFFav5GR",
        "outputId": "5c1f99cf-579e-4b3e-d0b0-bbe6f7f74fa2",
        "colab": {
          "base_uri": "https://localhost:8080/",
          "height": 379
        }
      },
      "execution_count": 82,
      "outputs": [
        {
          "output_type": "display_data",
          "data": {
            "text/plain": [
              "<IPython.core.display.HTML object>"
            ],
            "text/html": [
              "<span class=\"tex2jax_ignore\"><svg xmlns=\"http://www.w3.org/2000/svg\" xmlns:xlink=\"http://www.w3.org/1999/xlink\" xml:lang=\"pt\" id=\"79f2fb7705de45169313d709c4147537-0\" class=\"displacy\" width=\"1890\" height=\"337.0\" direction=\"ltr\" style=\"max-width: none; height: 337.0px; color: #FFA500; background: #000000; font-family: Arial; direction: ltr\">\n",
              "<text class=\"displacy-token\" fill=\"currentColor\" text-anchor=\"middle\" y=\"247.0\">\n",
              "    <tspan class=\"displacy-word\" fill=\"currentColor\" x=\"50\">As</tspan>\n",
              "    <tspan class=\"displacy-tag\" dy=\"2em\" fill=\"currentColor\" x=\"50\">DET</tspan>\n",
              "</text>\n",
              "\n",
              "<text class=\"displacy-token\" fill=\"currentColor\" text-anchor=\"middle\" y=\"247.0\">\n",
              "    <tspan class=\"displacy-word\" fill=\"currentColor\" x=\"130\">ações</tspan>\n",
              "    <tspan class=\"displacy-tag\" dy=\"2em\" fill=\"currentColor\" x=\"130\">NOUN</tspan>\n",
              "</text>\n",
              "\n",
              "<text class=\"displacy-token\" fill=\"currentColor\" text-anchor=\"middle\" y=\"247.0\">\n",
              "    <tspan class=\"displacy-word\" fill=\"currentColor\" x=\"210\">da</tspan>\n",
              "    <tspan class=\"displacy-tag\" dy=\"2em\" fill=\"currentColor\" x=\"210\">ADP</tspan>\n",
              "</text>\n",
              "\n",
              "<text class=\"displacy-token\" fill=\"currentColor\" text-anchor=\"middle\" y=\"247.0\">\n",
              "    <tspan class=\"displacy-word\" fill=\"currentColor\" x=\"290\">Magazine</tspan>\n",
              "    <tspan class=\"displacy-tag\" dy=\"2em\" fill=\"currentColor\" x=\"290\">PROPN</tspan>\n",
              "</text>\n",
              "\n",
              "<text class=\"displacy-token\" fill=\"currentColor\" text-anchor=\"middle\" y=\"247.0\">\n",
              "    <tspan class=\"displacy-word\" fill=\"currentColor\" x=\"370\">Luiza</tspan>\n",
              "    <tspan class=\"displacy-tag\" dy=\"2em\" fill=\"currentColor\" x=\"370\">PROPN</tspan>\n",
              "</text>\n",
              "\n",
              "<text class=\"displacy-token\" fill=\"currentColor\" text-anchor=\"middle\" y=\"247.0\">\n",
              "    <tspan class=\"displacy-word\" fill=\"currentColor\" x=\"450\">S.A.,Franca,</tspan>\n",
              "    <tspan class=\"displacy-tag\" dy=\"2em\" fill=\"currentColor\" x=\"450\">PROPN</tspan>\n",
              "</text>\n",
              "\n",
              "<text class=\"displacy-token\" fill=\"currentColor\" text-anchor=\"middle\" y=\"247.0\">\n",
              "    <tspan class=\"displacy-word\" fill=\"currentColor\" x=\"530\">Brasil,</tspan>\n",
              "    <tspan class=\"displacy-tag\" dy=\"2em\" fill=\"currentColor\" x=\"530\">PROPN</tspan>\n",
              "</text>\n",
              "\n",
              "<text class=\"displacy-token\" fill=\"currentColor\" text-anchor=\"middle\" y=\"247.0\">\n",
              "    <tspan class=\"displacy-word\" fill=\"currentColor\" x=\"610\">acumularam</tspan>\n",
              "    <tspan class=\"displacy-tag\" dy=\"2em\" fill=\"currentColor\" x=\"610\">VERB</tspan>\n",
              "</text>\n",
              "\n",
              "<text class=\"displacy-token\" fill=\"currentColor\" text-anchor=\"middle\" y=\"247.0\">\n",
              "    <tspan class=\"displacy-word\" fill=\"currentColor\" x=\"690\">baixa</tspan>\n",
              "    <tspan class=\"displacy-tag\" dy=\"2em\" fill=\"currentColor\" x=\"690\">NOUN</tspan>\n",
              "</text>\n",
              "\n",
              "<text class=\"displacy-token\" fill=\"currentColor\" text-anchor=\"middle\" y=\"247.0\">\n",
              "    <tspan class=\"displacy-word\" fill=\"currentColor\" x=\"770\">de</tspan>\n",
              "    <tspan class=\"displacy-tag\" dy=\"2em\" fill=\"currentColor\" x=\"770\">ADP</tspan>\n",
              "</text>\n",
              "\n",
              "<text class=\"displacy-token\" fill=\"currentColor\" text-anchor=\"middle\" y=\"247.0\">\n",
              "    <tspan class=\"displacy-word\" fill=\"currentColor\" x=\"850\">70%</tspan>\n",
              "    <tspan class=\"displacy-tag\" dy=\"2em\" fill=\"currentColor\" x=\"850\">SYM</tspan>\n",
              "</text>\n",
              "\n",
              "<text class=\"displacy-token\" fill=\"currentColor\" text-anchor=\"middle\" y=\"247.0\">\n",
              "    <tspan class=\"displacy-word\" fill=\"currentColor\" x=\"930\">ao</tspan>\n",
              "    <tspan class=\"displacy-tag\" dy=\"2em\" fill=\"currentColor\" x=\"930\">ADP</tspan>\n",
              "</text>\n",
              "\n",
              "<text class=\"displacy-token\" fill=\"currentColor\" text-anchor=\"middle\" y=\"247.0\">\n",
              "    <tspan class=\"displacy-word\" fill=\"currentColor\" x=\"1010\">ano.</tspan>\n",
              "    <tspan class=\"displacy-tag\" dy=\"2em\" fill=\"currentColor\" x=\"1010\">NOUN</tspan>\n",
              "</text>\n",
              "\n",
              "<text class=\"displacy-token\" fill=\"currentColor\" text-anchor=\"middle\" y=\"247.0\">\n",
              "    <tspan class=\"displacy-word\" fill=\"currentColor\" x=\"1090\">Assim</tspan>\n",
              "    <tspan class=\"displacy-tag\" dy=\"2em\" fill=\"currentColor\" x=\"1090\">ADV</tspan>\n",
              "</text>\n",
              "\n",
              "<text class=\"displacy-token\" fill=\"currentColor\" text-anchor=\"middle\" y=\"247.0\">\n",
              "    <tspan class=\"displacy-word\" fill=\"currentColor\" x=\"1170\">já</tspan>\n",
              "    <tspan class=\"displacy-tag\" dy=\"2em\" fill=\"currentColor\" x=\"1170\">ADV</tspan>\n",
              "</text>\n",
              "\n",
              "<text class=\"displacy-token\" fill=\"currentColor\" text-anchor=\"middle\" y=\"247.0\">\n",
              "    <tspan class=\"displacy-word\" fill=\"currentColor\" x=\"1250\">devolveram</tspan>\n",
              "    <tspan class=\"displacy-tag\" dy=\"2em\" fill=\"currentColor\" x=\"1250\">VERB</tspan>\n",
              "</text>\n",
              "\n",
              "<text class=\"displacy-token\" fill=\"currentColor\" text-anchor=\"middle\" y=\"247.0\">\n",
              "    <tspan class=\"displacy-word\" fill=\"currentColor\" x=\"1330\">todos</tspan>\n",
              "    <tspan class=\"displacy-tag\" dy=\"2em\" fill=\"currentColor\" x=\"1330\">DET</tspan>\n",
              "</text>\n",
              "\n",
              "<text class=\"displacy-token\" fill=\"currentColor\" text-anchor=\"middle\" y=\"247.0\">\n",
              "    <tspan class=\"displacy-word\" fill=\"currentColor\" x=\"1410\">os</tspan>\n",
              "    <tspan class=\"displacy-tag\" dy=\"2em\" fill=\"currentColor\" x=\"1410\">DET</tspan>\n",
              "</text>\n",
              "\n",
              "<text class=\"displacy-token\" fill=\"currentColor\" text-anchor=\"middle\" y=\"247.0\">\n",
              "    <tspan class=\"displacy-word\" fill=\"currentColor\" x=\"1490\">ganhos</tspan>\n",
              "    <tspan class=\"displacy-tag\" dy=\"2em\" fill=\"currentColor\" x=\"1490\">NOUN</tspan>\n",
              "</text>\n",
              "\n",
              "<text class=\"displacy-token\" fill=\"currentColor\" text-anchor=\"middle\" y=\"247.0\">\n",
              "    <tspan class=\"displacy-word\" fill=\"currentColor\" x=\"1570\">do</tspan>\n",
              "    <tspan class=\"displacy-tag\" dy=\"2em\" fill=\"currentColor\" x=\"1570\">ADP</tspan>\n",
              "</text>\n",
              "\n",
              "<text class=\"displacy-token\" fill=\"currentColor\" text-anchor=\"middle\" y=\"247.0\">\n",
              "    <tspan class=\"displacy-word\" fill=\"currentColor\" x=\"1650\">período</tspan>\n",
              "    <tspan class=\"displacy-tag\" dy=\"2em\" fill=\"currentColor\" x=\"1650\">NOUN</tspan>\n",
              "</text>\n",
              "\n",
              "<text class=\"displacy-token\" fill=\"currentColor\" text-anchor=\"middle\" y=\"247.0\">\n",
              "    <tspan class=\"displacy-word\" fill=\"currentColor\" x=\"1730\">da</tspan>\n",
              "    <tspan class=\"displacy-tag\" dy=\"2em\" fill=\"currentColor\" x=\"1730\">ADP</tspan>\n",
              "</text>\n",
              "\n",
              "<text class=\"displacy-token\" fill=\"currentColor\" text-anchor=\"middle\" y=\"247.0\">\n",
              "    <tspan class=\"displacy-word\" fill=\"currentColor\" x=\"1810\">pandemia.</tspan>\n",
              "    <tspan class=\"displacy-tag\" dy=\"2em\" fill=\"currentColor\" x=\"1810\">NOUN</tspan>\n",
              "</text>\n",
              "\n",
              "<g class=\"displacy-arrow\">\n",
              "    <path class=\"displacy-arc\" id=\"arrow-79f2fb7705de45169313d709c4147537-0-0\" stroke-width=\"2px\" d=\"M62,202.0 62,188.66666666666666 118.0,188.66666666666666 118.0,202.0\" fill=\"none\" stroke=\"currentColor\"/>\n",
              "    <text dy=\"1.25em\" style=\"font-size: 0.8em; letter-spacing: 1px\">\n",
              "        <textPath xlink:href=\"#arrow-79f2fb7705de45169313d709c4147537-0-0\" class=\"displacy-label\" startOffset=\"50%\" side=\"left\" fill=\"currentColor\" text-anchor=\"middle\">det</textPath>\n",
              "    </text>\n",
              "    <path class=\"displacy-arrowhead\" d=\"M62,204.0 L58,196.0 66,196.0\" fill=\"currentColor\"/>\n",
              "</g>\n",
              "\n",
              "<g class=\"displacy-arrow\">\n",
              "    <path class=\"displacy-arc\" id=\"arrow-79f2fb7705de45169313d709c4147537-0-1\" stroke-width=\"2px\" d=\"M142,202.0 142,135.33333333333331 610.0,135.33333333333331 610.0,202.0\" fill=\"none\" stroke=\"currentColor\"/>\n",
              "    <text dy=\"1.25em\" style=\"font-size: 0.8em; letter-spacing: 1px\">\n",
              "        <textPath xlink:href=\"#arrow-79f2fb7705de45169313d709c4147537-0-1\" class=\"displacy-label\" startOffset=\"50%\" side=\"left\" fill=\"currentColor\" text-anchor=\"middle\">nsubj</textPath>\n",
              "    </text>\n",
              "    <path class=\"displacy-arrowhead\" d=\"M142,204.0 L138,196.0 146,196.0\" fill=\"currentColor\"/>\n",
              "</g>\n",
              "\n",
              "<g class=\"displacy-arrow\">\n",
              "    <path class=\"displacy-arc\" id=\"arrow-79f2fb7705de45169313d709c4147537-0-2\" stroke-width=\"2px\" d=\"M222,202.0 222,188.66666666666666 278.0,188.66666666666666 278.0,202.0\" fill=\"none\" stroke=\"currentColor\"/>\n",
              "    <text dy=\"1.25em\" style=\"font-size: 0.8em; letter-spacing: 1px\">\n",
              "        <textPath xlink:href=\"#arrow-79f2fb7705de45169313d709c4147537-0-2\" class=\"displacy-label\" startOffset=\"50%\" side=\"left\" fill=\"currentColor\" text-anchor=\"middle\">case</textPath>\n",
              "    </text>\n",
              "    <path class=\"displacy-arrowhead\" d=\"M222,204.0 L218,196.0 226,196.0\" fill=\"currentColor\"/>\n",
              "</g>\n",
              "\n",
              "<g class=\"displacy-arrow\">\n",
              "    <path class=\"displacy-arc\" id=\"arrow-79f2fb7705de45169313d709c4147537-0-3\" stroke-width=\"2px\" d=\"M142,202.0 142,175.33333333333334 281.0,175.33333333333334 281.0,202.0\" fill=\"none\" stroke=\"currentColor\"/>\n",
              "    <text dy=\"1.25em\" style=\"font-size: 0.8em; letter-spacing: 1px\">\n",
              "        <textPath xlink:href=\"#arrow-79f2fb7705de45169313d709c4147537-0-3\" class=\"displacy-label\" startOffset=\"50%\" side=\"left\" fill=\"currentColor\" text-anchor=\"middle\">nmod</textPath>\n",
              "    </text>\n",
              "    <path class=\"displacy-arrowhead\" d=\"M281.0,204.0 L285.0,196.0 277.0,196.0\" fill=\"currentColor\"/>\n",
              "</g>\n",
              "\n",
              "<g class=\"displacy-arrow\">\n",
              "    <path class=\"displacy-arc\" id=\"arrow-79f2fb7705de45169313d709c4147537-0-4\" stroke-width=\"2px\" d=\"M302,202.0 302,188.66666666666666 358.0,188.66666666666666 358.0,202.0\" fill=\"none\" stroke=\"currentColor\"/>\n",
              "    <text dy=\"1.25em\" style=\"font-size: 0.8em; letter-spacing: 1px\">\n",
              "        <textPath xlink:href=\"#arrow-79f2fb7705de45169313d709c4147537-0-4\" class=\"displacy-label\" startOffset=\"50%\" side=\"left\" fill=\"currentColor\" text-anchor=\"middle\">appos</textPath>\n",
              "    </text>\n",
              "    <path class=\"displacy-arrowhead\" d=\"M358.0,204.0 L362.0,196.0 354.0,196.0\" fill=\"currentColor\"/>\n",
              "</g>\n",
              "\n",
              "<g class=\"displacy-arrow\">\n",
              "    <path class=\"displacy-arc\" id=\"arrow-79f2fb7705de45169313d709c4147537-0-5\" stroke-width=\"2px\" d=\"M382,202.0 382,188.66666666666666 438.0,188.66666666666666 438.0,202.0\" fill=\"none\" stroke=\"currentColor\"/>\n",
              "    <text dy=\"1.25em\" style=\"font-size: 0.8em; letter-spacing: 1px\">\n",
              "        <textPath xlink:href=\"#arrow-79f2fb7705de45169313d709c4147537-0-5\" class=\"displacy-label\" startOffset=\"50%\" side=\"left\" fill=\"currentColor\" text-anchor=\"middle\">flat:name</textPath>\n",
              "    </text>\n",
              "    <path class=\"displacy-arrowhead\" d=\"M438.0,204.0 L442.0,196.0 434.0,196.0\" fill=\"currentColor\"/>\n",
              "</g>\n",
              "\n",
              "<g class=\"displacy-arrow\">\n",
              "    <path class=\"displacy-arc\" id=\"arrow-79f2fb7705de45169313d709c4147537-0-6\" stroke-width=\"2px\" d=\"M302,202.0 302,162.0 524.0,162.0 524.0,202.0\" fill=\"none\" stroke=\"currentColor\"/>\n",
              "    <text dy=\"1.25em\" style=\"font-size: 0.8em; letter-spacing: 1px\">\n",
              "        <textPath xlink:href=\"#arrow-79f2fb7705de45169313d709c4147537-0-6\" class=\"displacy-label\" startOffset=\"50%\" side=\"left\" fill=\"currentColor\" text-anchor=\"middle\">conj</textPath>\n",
              "    </text>\n",
              "    <path class=\"displacy-arrowhead\" d=\"M524.0,204.0 L528.0,196.0 520.0,196.0\" fill=\"currentColor\"/>\n",
              "</g>\n",
              "\n",
              "<g class=\"displacy-arrow\">\n",
              "    <path class=\"displacy-arc\" id=\"arrow-79f2fb7705de45169313d709c4147537-0-7\" stroke-width=\"2px\" d=\"M622,202.0 622,188.66666666666666 678.0,188.66666666666666 678.0,202.0\" fill=\"none\" stroke=\"currentColor\"/>\n",
              "    <text dy=\"1.25em\" style=\"font-size: 0.8em; letter-spacing: 1px\">\n",
              "        <textPath xlink:href=\"#arrow-79f2fb7705de45169313d709c4147537-0-7\" class=\"displacy-label\" startOffset=\"50%\" side=\"left\" fill=\"currentColor\" text-anchor=\"middle\">obj</textPath>\n",
              "    </text>\n",
              "    <path class=\"displacy-arrowhead\" d=\"M678.0,204.0 L682.0,196.0 674.0,196.0\" fill=\"currentColor\"/>\n",
              "</g>\n",
              "\n",
              "<g class=\"displacy-arrow\">\n",
              "    <path class=\"displacy-arc\" id=\"arrow-79f2fb7705de45169313d709c4147537-0-8\" stroke-width=\"2px\" d=\"M782,202.0 782,188.66666666666666 838.0,188.66666666666666 838.0,202.0\" fill=\"none\" stroke=\"currentColor\"/>\n",
              "    <text dy=\"1.25em\" style=\"font-size: 0.8em; letter-spacing: 1px\">\n",
              "        <textPath xlink:href=\"#arrow-79f2fb7705de45169313d709c4147537-0-8\" class=\"displacy-label\" startOffset=\"50%\" side=\"left\" fill=\"currentColor\" text-anchor=\"middle\">case</textPath>\n",
              "    </text>\n",
              "    <path class=\"displacy-arrowhead\" d=\"M782,204.0 L778,196.0 786,196.0\" fill=\"currentColor\"/>\n",
              "</g>\n",
              "\n",
              "<g class=\"displacy-arrow\">\n",
              "    <path class=\"displacy-arc\" id=\"arrow-79f2fb7705de45169313d709c4147537-0-9\" stroke-width=\"2px\" d=\"M702,202.0 702,175.33333333333334 841.0,175.33333333333334 841.0,202.0\" fill=\"none\" stroke=\"currentColor\"/>\n",
              "    <text dy=\"1.25em\" style=\"font-size: 0.8em; letter-spacing: 1px\">\n",
              "        <textPath xlink:href=\"#arrow-79f2fb7705de45169313d709c4147537-0-9\" class=\"displacy-label\" startOffset=\"50%\" side=\"left\" fill=\"currentColor\" text-anchor=\"middle\">nmod</textPath>\n",
              "    </text>\n",
              "    <path class=\"displacy-arrowhead\" d=\"M841.0,204.0 L845.0,196.0 837.0,196.0\" fill=\"currentColor\"/>\n",
              "</g>\n",
              "\n",
              "<g class=\"displacy-arrow\">\n",
              "    <path class=\"displacy-arc\" id=\"arrow-79f2fb7705de45169313d709c4147537-0-10\" stroke-width=\"2px\" d=\"M942,202.0 942,188.66666666666666 998.0,188.66666666666666 998.0,202.0\" fill=\"none\" stroke=\"currentColor\"/>\n",
              "    <text dy=\"1.25em\" style=\"font-size: 0.8em; letter-spacing: 1px\">\n",
              "        <textPath xlink:href=\"#arrow-79f2fb7705de45169313d709c4147537-0-10\" class=\"displacy-label\" startOffset=\"50%\" side=\"left\" fill=\"currentColor\" text-anchor=\"middle\">case</textPath>\n",
              "    </text>\n",
              "    <path class=\"displacy-arrowhead\" d=\"M942,204.0 L938,196.0 946,196.0\" fill=\"currentColor\"/>\n",
              "</g>\n",
              "\n",
              "<g class=\"displacy-arrow\">\n",
              "    <path class=\"displacy-arc\" id=\"arrow-79f2fb7705de45169313d709c4147537-0-11\" stroke-width=\"2px\" d=\"M622,202.0 622,148.66666666666666 1007.0,148.66666666666666 1007.0,202.0\" fill=\"none\" stroke=\"currentColor\"/>\n",
              "    <text dy=\"1.25em\" style=\"font-size: 0.8em; letter-spacing: 1px\">\n",
              "        <textPath xlink:href=\"#arrow-79f2fb7705de45169313d709c4147537-0-11\" class=\"displacy-label\" startOffset=\"50%\" side=\"left\" fill=\"currentColor\" text-anchor=\"middle\">obl</textPath>\n",
              "    </text>\n",
              "    <path class=\"displacy-arrowhead\" d=\"M1007.0,204.0 L1011.0,196.0 1003.0,196.0\" fill=\"currentColor\"/>\n",
              "</g>\n",
              "\n",
              "<g class=\"displacy-arrow\">\n",
              "    <path class=\"displacy-arc\" id=\"arrow-79f2fb7705de45169313d709c4147537-0-12\" stroke-width=\"2px\" d=\"M1102,202.0 1102,175.33333333333334 1241.0,175.33333333333334 1241.0,202.0\" fill=\"none\" stroke=\"currentColor\"/>\n",
              "    <text dy=\"1.25em\" style=\"font-size: 0.8em; letter-spacing: 1px\">\n",
              "        <textPath xlink:href=\"#arrow-79f2fb7705de45169313d709c4147537-0-12\" class=\"displacy-label\" startOffset=\"50%\" side=\"left\" fill=\"currentColor\" text-anchor=\"middle\">advmod</textPath>\n",
              "    </text>\n",
              "    <path class=\"displacy-arrowhead\" d=\"M1102,204.0 L1098,196.0 1106,196.0\" fill=\"currentColor\"/>\n",
              "</g>\n",
              "\n",
              "<g class=\"displacy-arrow\">\n",
              "    <path class=\"displacy-arc\" id=\"arrow-79f2fb7705de45169313d709c4147537-0-13\" stroke-width=\"2px\" d=\"M1182,202.0 1182,188.66666666666666 1238.0,188.66666666666666 1238.0,202.0\" fill=\"none\" stroke=\"currentColor\"/>\n",
              "    <text dy=\"1.25em\" style=\"font-size: 0.8em; letter-spacing: 1px\">\n",
              "        <textPath xlink:href=\"#arrow-79f2fb7705de45169313d709c4147537-0-13\" class=\"displacy-label\" startOffset=\"50%\" side=\"left\" fill=\"currentColor\" text-anchor=\"middle\">advmod</textPath>\n",
              "    </text>\n",
              "    <path class=\"displacy-arrowhead\" d=\"M1182,204.0 L1178,196.0 1186,196.0\" fill=\"currentColor\"/>\n",
              "</g>\n",
              "\n",
              "<g class=\"displacy-arrow\">\n",
              "    <path class=\"displacy-arc\" id=\"arrow-79f2fb7705de45169313d709c4147537-0-14\" stroke-width=\"2px\" d=\"M1342,202.0 1342,175.33333333333334 1481.0,175.33333333333334 1481.0,202.0\" fill=\"none\" stroke=\"currentColor\"/>\n",
              "    <text dy=\"1.25em\" style=\"font-size: 0.8em; letter-spacing: 1px\">\n",
              "        <textPath xlink:href=\"#arrow-79f2fb7705de45169313d709c4147537-0-14\" class=\"displacy-label\" startOffset=\"50%\" side=\"left\" fill=\"currentColor\" text-anchor=\"middle\">det</textPath>\n",
              "    </text>\n",
              "    <path class=\"displacy-arrowhead\" d=\"M1342,204.0 L1338,196.0 1346,196.0\" fill=\"currentColor\"/>\n",
              "</g>\n",
              "\n",
              "<g class=\"displacy-arrow\">\n",
              "    <path class=\"displacy-arc\" id=\"arrow-79f2fb7705de45169313d709c4147537-0-15\" stroke-width=\"2px\" d=\"M1422,202.0 1422,188.66666666666666 1478.0,188.66666666666666 1478.0,202.0\" fill=\"none\" stroke=\"currentColor\"/>\n",
              "    <text dy=\"1.25em\" style=\"font-size: 0.8em; letter-spacing: 1px\">\n",
              "        <textPath xlink:href=\"#arrow-79f2fb7705de45169313d709c4147537-0-15\" class=\"displacy-label\" startOffset=\"50%\" side=\"left\" fill=\"currentColor\" text-anchor=\"middle\">det</textPath>\n",
              "    </text>\n",
              "    <path class=\"displacy-arrowhead\" d=\"M1422,204.0 L1418,196.0 1426,196.0\" fill=\"currentColor\"/>\n",
              "</g>\n",
              "\n",
              "<g class=\"displacy-arrow\">\n",
              "    <path class=\"displacy-arc\" id=\"arrow-79f2fb7705de45169313d709c4147537-0-16\" stroke-width=\"2px\" d=\"M1262,202.0 1262,162.0 1484.0,162.0 1484.0,202.0\" fill=\"none\" stroke=\"currentColor\"/>\n",
              "    <text dy=\"1.25em\" style=\"font-size: 0.8em; letter-spacing: 1px\">\n",
              "        <textPath xlink:href=\"#arrow-79f2fb7705de45169313d709c4147537-0-16\" class=\"displacy-label\" startOffset=\"50%\" side=\"left\" fill=\"currentColor\" text-anchor=\"middle\">obj</textPath>\n",
              "    </text>\n",
              "    <path class=\"displacy-arrowhead\" d=\"M1484.0,204.0 L1488.0,196.0 1480.0,196.0\" fill=\"currentColor\"/>\n",
              "</g>\n",
              "\n",
              "<g class=\"displacy-arrow\">\n",
              "    <path class=\"displacy-arc\" id=\"arrow-79f2fb7705de45169313d709c4147537-0-17\" stroke-width=\"2px\" d=\"M1582,202.0 1582,188.66666666666666 1638.0,188.66666666666666 1638.0,202.0\" fill=\"none\" stroke=\"currentColor\"/>\n",
              "    <text dy=\"1.25em\" style=\"font-size: 0.8em; letter-spacing: 1px\">\n",
              "        <textPath xlink:href=\"#arrow-79f2fb7705de45169313d709c4147537-0-17\" class=\"displacy-label\" startOffset=\"50%\" side=\"left\" fill=\"currentColor\" text-anchor=\"middle\">case</textPath>\n",
              "    </text>\n",
              "    <path class=\"displacy-arrowhead\" d=\"M1582,204.0 L1578,196.0 1586,196.0\" fill=\"currentColor\"/>\n",
              "</g>\n",
              "\n",
              "<g class=\"displacy-arrow\">\n",
              "    <path class=\"displacy-arc\" id=\"arrow-79f2fb7705de45169313d709c4147537-0-18\" stroke-width=\"2px\" d=\"M1502,202.0 1502,175.33333333333334 1641.0,175.33333333333334 1641.0,202.0\" fill=\"none\" stroke=\"currentColor\"/>\n",
              "    <text dy=\"1.25em\" style=\"font-size: 0.8em; letter-spacing: 1px\">\n",
              "        <textPath xlink:href=\"#arrow-79f2fb7705de45169313d709c4147537-0-18\" class=\"displacy-label\" startOffset=\"50%\" side=\"left\" fill=\"currentColor\" text-anchor=\"middle\">nmod</textPath>\n",
              "    </text>\n",
              "    <path class=\"displacy-arrowhead\" d=\"M1641.0,204.0 L1645.0,196.0 1637.0,196.0\" fill=\"currentColor\"/>\n",
              "</g>\n",
              "\n",
              "<g class=\"displacy-arrow\">\n",
              "    <path class=\"displacy-arc\" id=\"arrow-79f2fb7705de45169313d709c4147537-0-19\" stroke-width=\"2px\" d=\"M1742,202.0 1742,188.66666666666666 1798.0,188.66666666666666 1798.0,202.0\" fill=\"none\" stroke=\"currentColor\"/>\n",
              "    <text dy=\"1.25em\" style=\"font-size: 0.8em; letter-spacing: 1px\">\n",
              "        <textPath xlink:href=\"#arrow-79f2fb7705de45169313d709c4147537-0-19\" class=\"displacy-label\" startOffset=\"50%\" side=\"left\" fill=\"currentColor\" text-anchor=\"middle\">case</textPath>\n",
              "    </text>\n",
              "    <path class=\"displacy-arrowhead\" d=\"M1742,204.0 L1738,196.0 1746,196.0\" fill=\"currentColor\"/>\n",
              "</g>\n",
              "\n",
              "<g class=\"displacy-arrow\">\n",
              "    <path class=\"displacy-arc\" id=\"arrow-79f2fb7705de45169313d709c4147537-0-20\" stroke-width=\"2px\" d=\"M1662,202.0 1662,175.33333333333334 1801.0,175.33333333333334 1801.0,202.0\" fill=\"none\" stroke=\"currentColor\"/>\n",
              "    <text dy=\"1.25em\" style=\"font-size: 0.8em; letter-spacing: 1px\">\n",
              "        <textPath xlink:href=\"#arrow-79f2fb7705de45169313d709c4147537-0-20\" class=\"displacy-label\" startOffset=\"50%\" side=\"left\" fill=\"currentColor\" text-anchor=\"middle\">nmod</textPath>\n",
              "    </text>\n",
              "    <path class=\"displacy-arrowhead\" d=\"M1801.0,204.0 L1805.0,196.0 1797.0,196.0\" fill=\"currentColor\"/>\n",
              "</g>\n",
              "</svg></span>"
            ]
          },
          "metadata": {}
        }
      ]
    },
    {
      "cell_type": "code",
      "source": [],
      "metadata": {
        "id": "EW6v1M_dwEq1"
      },
      "execution_count": null,
      "outputs": []
    }
  ]
}