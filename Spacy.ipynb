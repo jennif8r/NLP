{
  "nbformat": 4,
  "nbformat_minor": 0,
  "metadata": {
    "colab": {
      "provenance": [],
      "toc_visible": true,
      "authorship_tag": "ABX9TyOnG5cT2TMDQ8FBmI14f5v1",
      "include_colab_link": true
    },
    "kernelspec": {
      "name": "python3",
      "display_name": "Python 3"
    },
    "language_info": {
      "name": "python"
    }
  },
  "cells": [
    {
      "cell_type": "markdown",
      "metadata": {
        "id": "view-in-github",
        "colab_type": "text"
      },
      "source": [
        "<a href=\"https://colab.research.google.com/github/jennif8r/NLP/blob/main/Spacy.ipynb\" target=\"_parent\"><img src=\"https://colab.research.google.com/assets/colab-badge.svg\" alt=\"Open In Colab\"/></a>"
      ]
    },
    {
      "cell_type": "markdown",
      "source": [
        "#Baixando Biblioteca..."
      ],
      "metadata": {
        "id": "N_iGsSNILkdv"
      }
    },
    {
      "cell_type": "code",
      "execution_count": 1,
      "metadata": {
        "id": "wllOpltc0sVQ",
        "colab": {
          "base_uri": "https://localhost:8080/"
        },
        "collapsed": true,
        "outputId": "40ebcb78-cc23-4198-f5a1-2d543a15eb7e"
      },
      "outputs": [
        {
          "output_type": "stream",
          "name": "stdout",
          "text": [
            "Collecting spacy==3.2.0\n",
            "  Downloading spacy-3.2.0-cp310-cp310-manylinux_2_17_x86_64.manylinux2014_x86_64.whl (6.0 MB)\n",
            "\u001b[2K     \u001b[90m━━━━━━━━━━━━━━━━━━━━━━━━━━━━━━━━━━━━━━━━\u001b[0m \u001b[32m6.0/6.0 MB\u001b[0m \u001b[31m12.9 MB/s\u001b[0m eta \u001b[36m0:00:00\u001b[0m\n",
            "\u001b[?25hRequirement already satisfied: spacy-legacy<3.1.0,>=3.0.8 in /usr/local/lib/python3.10/dist-packages (from spacy==3.2.0) (3.0.12)\n",
            "Requirement already satisfied: spacy-loggers<2.0.0,>=1.0.0 in /usr/local/lib/python3.10/dist-packages (from spacy==3.2.0) (1.0.5)\n",
            "Requirement already satisfied: murmurhash<1.1.0,>=0.28.0 in /usr/local/lib/python3.10/dist-packages (from spacy==3.2.0) (1.0.10)\n",
            "Requirement already satisfied: cymem<2.1.0,>=2.0.2 in /usr/local/lib/python3.10/dist-packages (from spacy==3.2.0) (2.0.8)\n",
            "Requirement already satisfied: preshed<3.1.0,>=3.0.2 in /usr/local/lib/python3.10/dist-packages (from spacy==3.2.0) (3.0.9)\n",
            "Collecting thinc<8.1.0,>=8.0.12 (from spacy==3.2.0)\n",
            "  Downloading thinc-8.0.17-cp310-cp310-manylinux_2_17_x86_64.manylinux2014_x86_64.whl (659 kB)\n",
            "\u001b[2K     \u001b[90m━━━━━━━━━━━━━━━━━━━━━━━━━━━━━━━━━━━━━━━━\u001b[0m \u001b[32m659.5/659.5 kB\u001b[0m \u001b[31m9.5 MB/s\u001b[0m eta \u001b[36m0:00:00\u001b[0m\n",
            "\u001b[?25hRequirement already satisfied: blis<0.8.0,>=0.4.0 in /usr/local/lib/python3.10/dist-packages (from spacy==3.2.0) (0.7.11)\n",
            "Collecting wasabi<1.1.0,>=0.8.1 (from spacy==3.2.0)\n",
            "  Downloading wasabi-0.10.1-py3-none-any.whl (26 kB)\n",
            "Requirement already satisfied: srsly<3.0.0,>=2.4.1 in /usr/local/lib/python3.10/dist-packages (from spacy==3.2.0) (2.4.8)\n",
            "Requirement already satisfied: catalogue<2.1.0,>=2.0.6 in /usr/local/lib/python3.10/dist-packages (from spacy==3.2.0) (2.0.10)\n",
            "Collecting typer<0.5.0,>=0.3.0 (from spacy==3.2.0)\n",
            "  Downloading typer-0.4.2-py3-none-any.whl (27 kB)\n",
            "Collecting pathy>=0.3.5 (from spacy==3.2.0)\n",
            "  Downloading pathy-0.11.0-py3-none-any.whl (47 kB)\n",
            "\u001b[2K     \u001b[90m━━━━━━━━━━━━━━━━━━━━━━━━━━━━━━━━━━━━━━━━\u001b[0m \u001b[32m47.3/47.3 kB\u001b[0m \u001b[31m2.9 MB/s\u001b[0m eta \u001b[36m0:00:00\u001b[0m\n",
            "\u001b[?25hRequirement already satisfied: tqdm<5.0.0,>=4.38.0 in /usr/local/lib/python3.10/dist-packages (from spacy==3.2.0) (4.66.4)\n",
            "Requirement already satisfied: numpy>=1.15.0 in /usr/local/lib/python3.10/dist-packages (from spacy==3.2.0) (1.25.2)\n",
            "Requirement already satisfied: requests<3.0.0,>=2.13.0 in /usr/local/lib/python3.10/dist-packages (from spacy==3.2.0) (2.31.0)\n",
            "Collecting pydantic!=1.8,!=1.8.1,<1.9.0,>=1.7.4 (from spacy==3.2.0)\n",
            "  Downloading pydantic-1.8.2-py3-none-any.whl (126 kB)\n",
            "\u001b[2K     \u001b[90m━━━━━━━━━━━━━━━━━━━━━━━━━━━━━━━━━━━━━━━━\u001b[0m \u001b[32m126.0/126.0 kB\u001b[0m \u001b[31m4.3 MB/s\u001b[0m eta \u001b[36m0:00:00\u001b[0m\n",
            "\u001b[?25hRequirement already satisfied: jinja2 in /usr/local/lib/python3.10/dist-packages (from spacy==3.2.0) (3.1.4)\n",
            "Requirement already satisfied: setuptools in /usr/local/lib/python3.10/dist-packages (from spacy==3.2.0) (67.7.2)\n",
            "Requirement already satisfied: packaging>=20.0 in /usr/local/lib/python3.10/dist-packages (from spacy==3.2.0) (24.1)\n",
            "Requirement already satisfied: langcodes<4.0.0,>=3.2.0 in /usr/local/lib/python3.10/dist-packages (from spacy==3.2.0) (3.4.0)\n",
            "Requirement already satisfied: language-data>=1.2 in /usr/local/lib/python3.10/dist-packages (from langcodes<4.0.0,>=3.2.0->spacy==3.2.0) (1.2.0)\n",
            "Collecting smart-open<7.0.0,>=5.2.1 (from pathy>=0.3.5->spacy==3.2.0)\n",
            "  Downloading smart_open-6.4.0-py3-none-any.whl (57 kB)\n",
            "\u001b[2K     \u001b[90m━━━━━━━━━━━━━━━━━━━━━━━━━━━━━━━━━━━━━━━━\u001b[0m \u001b[32m57.0/57.0 kB\u001b[0m \u001b[31m3.8 MB/s\u001b[0m eta \u001b[36m0:00:00\u001b[0m\n",
            "\u001b[?25hCollecting pathlib-abc==0.1.1 (from pathy>=0.3.5->spacy==3.2.0)\n",
            "  Downloading pathlib_abc-0.1.1-py3-none-any.whl (23 kB)\n",
            "Requirement already satisfied: typing-extensions>=3.7.4.3 in /usr/local/lib/python3.10/dist-packages (from pydantic!=1.8,!=1.8.1,<1.9.0,>=1.7.4->spacy==3.2.0) (4.12.2)\n",
            "Requirement already satisfied: charset-normalizer<4,>=2 in /usr/local/lib/python3.10/dist-packages (from requests<3.0.0,>=2.13.0->spacy==3.2.0) (3.3.2)\n",
            "Requirement already satisfied: idna<4,>=2.5 in /usr/local/lib/python3.10/dist-packages (from requests<3.0.0,>=2.13.0->spacy==3.2.0) (3.7)\n",
            "Requirement already satisfied: urllib3<3,>=1.21.1 in /usr/local/lib/python3.10/dist-packages (from requests<3.0.0,>=2.13.0->spacy==3.2.0) (2.0.7)\n",
            "Requirement already satisfied: certifi>=2017.4.17 in /usr/local/lib/python3.10/dist-packages (from requests<3.0.0,>=2.13.0->spacy==3.2.0) (2024.6.2)\n",
            "Requirement already satisfied: click<9.0.0,>=7.1.1 in /usr/local/lib/python3.10/dist-packages (from typer<0.5.0,>=0.3.0->spacy==3.2.0) (8.1.7)\n",
            "Requirement already satisfied: MarkupSafe>=2.0 in /usr/local/lib/python3.10/dist-packages (from jinja2->spacy==3.2.0) (2.1.5)\n",
            "Requirement already satisfied: marisa-trie>=0.7.7 in /usr/local/lib/python3.10/dist-packages (from language-data>=1.2->langcodes<4.0.0,>=3.2.0->spacy==3.2.0) (1.2.0)\n",
            "Installing collected packages: wasabi, typer, smart-open, pydantic, pathlib-abc, thinc, pathy, spacy\n",
            "  Attempting uninstall: wasabi\n",
            "    Found existing installation: wasabi 1.1.3\n",
            "    Uninstalling wasabi-1.1.3:\n",
            "      Successfully uninstalled wasabi-1.1.3\n",
            "  Attempting uninstall: typer\n",
            "    Found existing installation: typer 0.12.3\n",
            "    Uninstalling typer-0.12.3:\n",
            "      Successfully uninstalled typer-0.12.3\n",
            "  Attempting uninstall: smart-open\n",
            "    Found existing installation: smart-open 7.0.4\n",
            "    Uninstalling smart-open-7.0.4:\n",
            "      Successfully uninstalled smart-open-7.0.4\n",
            "  Attempting uninstall: pydantic\n",
            "    Found existing installation: pydantic 2.8.0\n",
            "    Uninstalling pydantic-2.8.0:\n",
            "      Successfully uninstalled pydantic-2.8.0\n",
            "  Attempting uninstall: thinc\n",
            "    Found existing installation: thinc 8.2.5\n",
            "    Uninstalling thinc-8.2.5:\n",
            "      Successfully uninstalled thinc-8.2.5\n",
            "  Attempting uninstall: spacy\n",
            "    Found existing installation: spacy 3.7.5\n",
            "    Uninstalling spacy-3.7.5:\n",
            "      Successfully uninstalled spacy-3.7.5\n",
            "\u001b[31mERROR: pip's dependency resolver does not currently take into account all the packages that are installed. This behaviour is the source of the following dependency conflicts.\n",
            "en-core-web-sm 3.7.1 requires spacy<3.8.0,>=3.7.2, but you have spacy 3.2.0 which is incompatible.\n",
            "inflect 7.0.0 requires pydantic>=1.9.1, but you have pydantic 1.8.2 which is incompatible.\u001b[0m\u001b[31m\n",
            "\u001b[0mSuccessfully installed pathlib-abc-0.1.1 pathy-0.11.0 pydantic-1.8.2 smart-open-6.4.0 spacy-3.2.0 thinc-8.0.17 typer-0.4.2 wasabi-0.10.1\n"
          ]
        }
      ],
      "source": [
        "!pip install -U spacy==3.2.0"
      ]
    },
    {
      "cell_type": "markdown",
      "source": [
        "Baixando a biblioteca do modelo pré-treinado em portugues:"
      ],
      "metadata": {
        "id": "iqaOiVI_Ckrc"
      }
    },
    {
      "cell_type": "code",
      "source": [
        "!python -m spacy download 'pt_core_news_lg'"
      ],
      "metadata": {
        "colab": {
          "base_uri": "https://localhost:8080/"
        },
        "collapsed": true,
        "id": "w_pUxaNmBoiE",
        "outputId": "7deb442f-2323-49c2-aec4-4b38514c2506"
      },
      "execution_count": 2,
      "outputs": [
        {
          "output_type": "stream",
          "name": "stdout",
          "text": [
            "2024-07-08 11:28:21.469291: E external/local_xla/xla/stream_executor/cuda/cuda_dnn.cc:9261] Unable to register cuDNN factory: Attempting to register factory for plugin cuDNN when one has already been registered\n",
            "2024-07-08 11:28:21.469357: E external/local_xla/xla/stream_executor/cuda/cuda_fft.cc:607] Unable to register cuFFT factory: Attempting to register factory for plugin cuFFT when one has already been registered\n",
            "2024-07-08 11:28:21.472710: E external/local_xla/xla/stream_executor/cuda/cuda_blas.cc:1515] Unable to register cuBLAS factory: Attempting to register factory for plugin cuBLAS when one has already been registered\n",
            "2024-07-08 11:28:21.490875: I tensorflow/core/platform/cpu_feature_guard.cc:182] This TensorFlow binary is optimized to use available CPU instructions in performance-critical operations.\n",
            "To enable the following instructions: AVX2 FMA, in other operations, rebuild TensorFlow with the appropriate compiler flags.\n",
            "2024-07-08 11:28:23.696722: W tensorflow/compiler/tf2tensorrt/utils/py_utils.cc:38] TF-TRT Warning: Could not find TensorRT\n",
            "\u001b[33mDEPRECATION: https://github.com/explosion/spacy-models/releases/download/pt_core_news_lg-3.2.0/pt_core_news_lg-3.2.0-py3-none-any.whl#egg=pt_core_news_lg==3.2.0 contains an egg fragment with a non-PEP 508 name pip 25.0 will enforce this behaviour change. A possible replacement is to use the req @ url syntax, and remove the egg fragment. Discussion can be found at https://github.com/pypa/pip/issues/11617\u001b[0m\u001b[33m\n",
            "\u001b[0mCollecting pt-core-news-lg==3.2.0\n",
            "  Downloading https://github.com/explosion/spacy-models/releases/download/pt_core_news_lg-3.2.0/pt_core_news_lg-3.2.0-py3-none-any.whl (577.4 MB)\n",
            "\u001b[2K     \u001b[90m━━━━━━━━━━━━━━━━━━━━━━━━━━━━━━━━━━━━━━━━\u001b[0m \u001b[32m577.4/577.4 MB\u001b[0m \u001b[31m2.4 MB/s\u001b[0m eta \u001b[36m0:00:00\u001b[0m\n",
            "\u001b[?25hRequirement already satisfied: spacy<3.3.0,>=3.2.0 in /usr/local/lib/python3.10/dist-packages (from pt-core-news-lg==3.2.0) (3.2.0)\n",
            "Requirement already satisfied: spacy-legacy<3.1.0,>=3.0.8 in /usr/local/lib/python3.10/dist-packages (from spacy<3.3.0,>=3.2.0->pt-core-news-lg==3.2.0) (3.0.12)\n",
            "Requirement already satisfied: spacy-loggers<2.0.0,>=1.0.0 in /usr/local/lib/python3.10/dist-packages (from spacy<3.3.0,>=3.2.0->pt-core-news-lg==3.2.0) (1.0.5)\n",
            "Requirement already satisfied: murmurhash<1.1.0,>=0.28.0 in /usr/local/lib/python3.10/dist-packages (from spacy<3.3.0,>=3.2.0->pt-core-news-lg==3.2.0) (1.0.10)\n",
            "Requirement already satisfied: cymem<2.1.0,>=2.0.2 in /usr/local/lib/python3.10/dist-packages (from spacy<3.3.0,>=3.2.0->pt-core-news-lg==3.2.0) (2.0.8)\n",
            "Requirement already satisfied: preshed<3.1.0,>=3.0.2 in /usr/local/lib/python3.10/dist-packages (from spacy<3.3.0,>=3.2.0->pt-core-news-lg==3.2.0) (3.0.9)\n",
            "Requirement already satisfied: thinc<8.1.0,>=8.0.12 in /usr/local/lib/python3.10/dist-packages (from spacy<3.3.0,>=3.2.0->pt-core-news-lg==3.2.0) (8.0.17)\n",
            "Requirement already satisfied: blis<0.8.0,>=0.4.0 in /usr/local/lib/python3.10/dist-packages (from spacy<3.3.0,>=3.2.0->pt-core-news-lg==3.2.0) (0.7.11)\n",
            "Requirement already satisfied: wasabi<1.1.0,>=0.8.1 in /usr/local/lib/python3.10/dist-packages (from spacy<3.3.0,>=3.2.0->pt-core-news-lg==3.2.0) (0.10.1)\n",
            "Requirement already satisfied: srsly<3.0.0,>=2.4.1 in /usr/local/lib/python3.10/dist-packages (from spacy<3.3.0,>=3.2.0->pt-core-news-lg==3.2.0) (2.4.8)\n",
            "Requirement already satisfied: catalogue<2.1.0,>=2.0.6 in /usr/local/lib/python3.10/dist-packages (from spacy<3.3.0,>=3.2.0->pt-core-news-lg==3.2.0) (2.0.10)\n",
            "Requirement already satisfied: typer<0.5.0,>=0.3.0 in /usr/local/lib/python3.10/dist-packages (from spacy<3.3.0,>=3.2.0->pt-core-news-lg==3.2.0) (0.4.2)\n",
            "Requirement already satisfied: pathy>=0.3.5 in /usr/local/lib/python3.10/dist-packages (from spacy<3.3.0,>=3.2.0->pt-core-news-lg==3.2.0) (0.11.0)\n",
            "Requirement already satisfied: tqdm<5.0.0,>=4.38.0 in /usr/local/lib/python3.10/dist-packages (from spacy<3.3.0,>=3.2.0->pt-core-news-lg==3.2.0) (4.66.4)\n",
            "Requirement already satisfied: numpy>=1.15.0 in /usr/local/lib/python3.10/dist-packages (from spacy<3.3.0,>=3.2.0->pt-core-news-lg==3.2.0) (1.25.2)\n",
            "Requirement already satisfied: requests<3.0.0,>=2.13.0 in /usr/local/lib/python3.10/dist-packages (from spacy<3.3.0,>=3.2.0->pt-core-news-lg==3.2.0) (2.31.0)\n",
            "Requirement already satisfied: pydantic!=1.8,!=1.8.1,<1.9.0,>=1.7.4 in /usr/local/lib/python3.10/dist-packages (from spacy<3.3.0,>=3.2.0->pt-core-news-lg==3.2.0) (1.8.2)\n",
            "Requirement already satisfied: jinja2 in /usr/local/lib/python3.10/dist-packages (from spacy<3.3.0,>=3.2.0->pt-core-news-lg==3.2.0) (3.1.4)\n",
            "Requirement already satisfied: setuptools in /usr/local/lib/python3.10/dist-packages (from spacy<3.3.0,>=3.2.0->pt-core-news-lg==3.2.0) (67.7.2)\n",
            "Requirement already satisfied: packaging>=20.0 in /usr/local/lib/python3.10/dist-packages (from spacy<3.3.0,>=3.2.0->pt-core-news-lg==3.2.0) (24.1)\n",
            "Requirement already satisfied: langcodes<4.0.0,>=3.2.0 in /usr/local/lib/python3.10/dist-packages (from spacy<3.3.0,>=3.2.0->pt-core-news-lg==3.2.0) (3.4.0)\n",
            "Requirement already satisfied: language-data>=1.2 in /usr/local/lib/python3.10/dist-packages (from langcodes<4.0.0,>=3.2.0->spacy<3.3.0,>=3.2.0->pt-core-news-lg==3.2.0) (1.2.0)\n",
            "Requirement already satisfied: smart-open<7.0.0,>=5.2.1 in /usr/local/lib/python3.10/dist-packages (from pathy>=0.3.5->spacy<3.3.0,>=3.2.0->pt-core-news-lg==3.2.0) (6.4.0)\n",
            "Requirement already satisfied: pathlib-abc==0.1.1 in /usr/local/lib/python3.10/dist-packages (from pathy>=0.3.5->spacy<3.3.0,>=3.2.0->pt-core-news-lg==3.2.0) (0.1.1)\n",
            "Requirement already satisfied: typing-extensions>=3.7.4.3 in /usr/local/lib/python3.10/dist-packages (from pydantic!=1.8,!=1.8.1,<1.9.0,>=1.7.4->spacy<3.3.0,>=3.2.0->pt-core-news-lg==3.2.0) (4.12.2)\n",
            "Requirement already satisfied: charset-normalizer<4,>=2 in /usr/local/lib/python3.10/dist-packages (from requests<3.0.0,>=2.13.0->spacy<3.3.0,>=3.2.0->pt-core-news-lg==3.2.0) (3.3.2)\n",
            "Requirement already satisfied: idna<4,>=2.5 in /usr/local/lib/python3.10/dist-packages (from requests<3.0.0,>=2.13.0->spacy<3.3.0,>=3.2.0->pt-core-news-lg==3.2.0) (3.7)\n",
            "Requirement already satisfied: urllib3<3,>=1.21.1 in /usr/local/lib/python3.10/dist-packages (from requests<3.0.0,>=2.13.0->spacy<3.3.0,>=3.2.0->pt-core-news-lg==3.2.0) (2.0.7)\n",
            "Requirement already satisfied: certifi>=2017.4.17 in /usr/local/lib/python3.10/dist-packages (from requests<3.0.0,>=2.13.0->spacy<3.3.0,>=3.2.0->pt-core-news-lg==3.2.0) (2024.6.2)\n",
            "Requirement already satisfied: click<9.0.0,>=7.1.1 in /usr/local/lib/python3.10/dist-packages (from typer<0.5.0,>=0.3.0->spacy<3.3.0,>=3.2.0->pt-core-news-lg==3.2.0) (8.1.7)\n",
            "Requirement already satisfied: MarkupSafe>=2.0 in /usr/local/lib/python3.10/dist-packages (from jinja2->spacy<3.3.0,>=3.2.0->pt-core-news-lg==3.2.0) (2.1.5)\n",
            "Requirement already satisfied: marisa-trie>=0.7.7 in /usr/local/lib/python3.10/dist-packages (from language-data>=1.2->langcodes<4.0.0,>=3.2.0->spacy<3.3.0,>=3.2.0->pt-core-news-lg==3.2.0) (1.2.0)\n",
            "Installing collected packages: pt-core-news-lg\n",
            "Successfully installed pt-core-news-lg-3.2.0\n",
            "\u001b[38;5;2m✔ Download and installation successful\u001b[0m\n",
            "You can now load the package via spacy.load('pt_core_news_lg')\n"
          ]
        }
      ]
    },
    {
      "cell_type": "code",
      "source": [
        "import spacy"
      ],
      "metadata": {
        "id": "bONb4uXfZf0B"
      },
      "execution_count": 3,
      "outputs": []
    },
    {
      "cell_type": "code",
      "source": [
        "nlp = spacy.load('pt_core_news_lg')"
      ],
      "metadata": {
        "colab": {
          "base_uri": "https://localhost:8080/"
        },
        "id": "8SnBmXlBZoKG",
        "outputId": "097391e5-993b-4c40-d7f9-aafd3c8a9498"
      },
      "execution_count": 4,
      "outputs": [
        {
          "output_type": "stream",
          "name": "stderr",
          "text": [
            "/usr/local/lib/python3.10/dist-packages/torch/__init__.py:747: UserWarning: torch.set_default_tensor_type() is deprecated as of PyTorch 2.1, please use torch.set_default_dtype() and torch.set_default_device() as alternatives. (Triggered internally at ../torch/csrc/tensor/python_tensor.cpp:431.)\n",
            "  _C._set_default_tensor_type(t)\n"
          ]
        }
      ]
    },
    {
      "cell_type": "code",
      "source": [
        "print(type(nlp))"
      ],
      "metadata": {
        "colab": {
          "base_uri": "https://localhost:8080/"
        },
        "id": "petBkgwFZzta",
        "outputId": "0c9850f5-9c65-4ced-cdb9-565762f28af0"
      },
      "execution_count": 5,
      "outputs": [
        {
          "output_type": "stream",
          "name": "stdout",
          "text": [
            "<class 'spacy.lang.pt.Portuguese'>\n"
          ]
        }
      ]
    },
    {
      "cell_type": "markdown",
      "source": [
        "vamos verificar o que tem no objeto:"
      ],
      "metadata": {
        "id": "VennVhZjaIb9"
      }
    },
    {
      "cell_type": "code",
      "source": [
        "print(nlp.pipe_names)"
      ],
      "metadata": {
        "colab": {
          "base_uri": "https://localhost:8080/"
        },
        "id": "D1fW8hNeZ7TZ",
        "outputId": "4dfddd41-8869-4d01-d2e0-e14b1627267f"
      },
      "execution_count": 6,
      "outputs": [
        {
          "output_type": "stream",
          "name": "stdout",
          "text": [
            "['tok2vec', 'morphologizer', 'parser', 'attribute_ruler', 'lemmatizer', 'ner']\n"
          ]
        }
      ]
    },
    {
      "cell_type": "code",
      "source": [
        "#Ao invez de subirmos um documento iremo criar e digitar seu dados dentro dele:\n",
        "\n",
        "documento = nlp(\"As ações da Magazine Luiza S.A.,Franca, Brasil, acumularam baixa de 70% ao ano. Assim já devolveram todos os ganhos do período da pandemia.\")\n",
        "#documento = nlp(\"alegações extraordinárias requerem evidências extraordinárias.carl sagan: 'https://carlsangan.com'\")"
      ],
      "metadata": {
        "id": "UaqEKsRFaSKC"
      },
      "execution_count": 8,
      "outputs": []
    },
    {
      "cell_type": "code",
      "source": [
        "len(documento.vocab)"
      ],
      "metadata": {
        "colab": {
          "base_uri": "https://localhost:8080/"
        },
        "id": "TgNYC5YIa1jU",
        "outputId": "fca8538b-49c2-4b3d-d26c-8725116ecae0"
      },
      "execution_count": 9,
      "outputs": [
        {
          "output_type": "execute_result",
          "data": {
            "text/plain": [
              "381"
            ]
          },
          "metadata": {},
          "execution_count": 9
        }
      ]
    },
    {
      "cell_type": "code",
      "source": [
        "print(type(documento))"
      ],
      "metadata": {
        "colab": {
          "base_uri": "https://localhost:8080/"
        },
        "id": "SqP3qzbBa5YL",
        "outputId": "6392bf41-b7b1-4866-d91d-98331a566ccd"
      },
      "execution_count": 10,
      "outputs": [
        {
          "output_type": "stream",
          "name": "stdout",
          "text": [
            "<class 'spacy.tokens.doc.Doc'>\n"
          ]
        }
      ]
    },
    {
      "cell_type": "markdown",
      "source": [
        "#Produção de Tokens"
      ],
      "metadata": {
        "id": "eDqLiVgxfn_f"
      }
    },
    {
      "cell_type": "markdown",
      "source": [
        "### Tokenization\n",
        "Processo de separar a sentença em suas partes: palavras, pontos, símbolos.\n",
        "\n",
        "![Exemplo](/Imagem/Tokenization.png)"
      ],
      "metadata": {
        "id": "1Yx6i-wBf7e3"
      }
    },
    {
      "cell_type": "code",
      "source": [
        "#pegar o nosso documento e fazer a tokenização dela.\n",
        "for token in documento:\n",
        "  print(token.text)"
      ],
      "metadata": {
        "colab": {
          "base_uri": "https://localhost:8080/"
        },
        "id": "0lVDp-pvbFrP",
        "outputId": "7c683296-b461-42ea-85c9-7e416a081312"
      },
      "execution_count": 11,
      "outputs": [
        {
          "output_type": "stream",
          "name": "stdout",
          "text": [
            "As\n",
            "ações\n",
            "da\n",
            "Magazine\n",
            "Luiza\n",
            "S.A.,Franca\n",
            ",\n",
            "Brasil\n",
            ",\n",
            "acumularam\n",
            "baixa\n",
            "de\n",
            "70\n",
            "%\n",
            "ao\n",
            "ano\n",
            ".\n",
            "Assim\n",
            "já\n",
            "devolveram\n",
            "todos\n",
            "os\n",
            "ganhos\n",
            "do\n",
            "período\n",
            "da\n",
            "pandemia\n",
            ".\n"
          ]
        }
      ]
    },
    {
      "cell_type": "code",
      "source": [
        "print(len(documento))"
      ],
      "metadata": {
        "colab": {
          "base_uri": "https://localhost:8080/"
        },
        "id": "EqMZhdQGG-6a",
        "outputId": "ba04d5d6-0689-4970-9dc3-171d4345e936"
      },
      "execution_count": 12,
      "outputs": [
        {
          "output_type": "stream",
          "name": "stdout",
          "text": [
            "28\n"
          ]
        }
      ]
    },
    {
      "cell_type": "markdown",
      "source": [
        "Identificar quais tokens é alfanumerico,stop word..."
      ],
      "metadata": {
        "id": "NAvxcyYKH4JR"
      }
    },
    {
      "cell_type": "code",
      "source": [
        "print(\"Token: \", [token.text for token in documento])\n",
        "print(\"Stop word: \", [token.is_stop for token in documento])\n",
        "print(\"Alfanumerico: \", [token.is_alpha for token in documento])\n",
        "print(\"Maísculo: \", [token.is_upper for token in documento])\n",
        "print(\"Pontuação: \", [token.is_punct for token in documento])\n",
        "print(\"Número: \", [token.like_num for token in documento])\n",
        "print(\"Setença Inicial: \", [token.is_sent_start for token in documento])"
      ],
      "metadata": {
        "colab": {
          "base_uri": "https://localhost:8080/"
        },
        "id": "L_4DZXRvHDWq",
        "outputId": "9f7c7f87-6dfc-4efd-b2e5-2355e0c382d4"
      },
      "execution_count": 13,
      "outputs": [
        {
          "output_type": "stream",
          "name": "stdout",
          "text": [
            "Token:  ['As', 'ações', 'da', 'Magazine', 'Luiza', 'S.A.,Franca', ',', 'Brasil', ',', 'acumularam', 'baixa', 'de', '70', '%', 'ao', 'ano', '.', 'Assim', 'já', 'devolveram', 'todos', 'os', 'ganhos', 'do', 'período', 'da', 'pandemia', '.']\n",
            "Stop word:  [True, False, True, False, False, False, False, False, False, False, False, True, False, False, True, False, False, True, True, False, True, True, False, True, False, True, False, False]\n",
            "Alfanumerico:  [True, True, True, True, True, False, False, True, False, True, True, True, False, False, True, True, False, True, True, True, True, True, True, True, True, True, True, False]\n",
            "Maísculo:  [False, False, False, False, False, False, False, False, False, False, False, False, False, False, False, False, False, False, False, False, False, False, False, False, False, False, False, False]\n",
            "Pontuação:  [False, False, False, False, False, False, True, False, True, False, False, False, False, True, False, False, True, False, False, False, False, False, False, False, False, False, False, True]\n",
            "Número:  [False, False, False, False, False, False, False, False, False, False, False, False, True, False, False, False, False, False, False, False, False, False, False, False, False, False, False, False]\n",
            "Setença Inicial:  [True, False, False, False, False, False, False, False, False, False, False, False, False, False, False, False, False, True, False, False, False, False, False, False, False, False, False, False]\n"
          ]
        }
      ]
    },
    {
      "cell_type": "code",
      "source": [
        "#mostrar o formato das palavras\n",
        "print(\"Tokens: \", [token.text for token in documento])\n",
        "print(\"Formato: \", [token.shape_ for token in documento])"
      ],
      "metadata": {
        "colab": {
          "base_uri": "https://localhost:8080/"
        },
        "id": "Yd6Nd3ccH_ud",
        "outputId": "debf6cf8-1a78-457b-fc5e-5540fb96c113"
      },
      "execution_count": 15,
      "outputs": [
        {
          "output_type": "stream",
          "name": "stdout",
          "text": [
            "Tokens:  ['As', 'ações', 'da', 'Magazine', 'Luiza', 'S.A.,Franca', ',', 'Brasil', ',', 'acumularam', 'baixa', 'de', '70', '%', 'ao', 'ano', '.', 'Assim', 'já', 'devolveram', 'todos', 'os', 'ganhos', 'do', 'período', 'da', 'pandemia', '.']\n",
            "Formato:  ['Xx', 'xxxx', 'xx', 'Xxxxx', 'Xxxxx', 'X.X.,Xxxxx', ',', 'Xxxxx', ',', 'xxxx', 'xxxx', 'xx', 'dd', '%', 'xx', 'xxx', '.', 'Xxxxx', 'xx', 'xxxx', 'xxxx', 'xx', 'xxxx', 'xx', 'xxxx', 'xx', 'xxxx', '.']\n"
          ]
        }
      ]
    },
    {
      "cell_type": "code",
      "source": [
        "for token in documento:\n",
        "  if token.like_num:\n",
        "    print(\"Número encontrado: \", token.text)\n",
        "  if token.is_punct:\n",
        "    print(\"Pontuação encontrada: \", token.text)"
      ],
      "metadata": {
        "colab": {
          "base_uri": "https://localhost:8080/"
        },
        "id": "gniP4yYeIPUQ",
        "outputId": "3d7045d0-c0f6-4577-8697-edb296a6d8b0"
      },
      "execution_count": 17,
      "outputs": [
        {
          "output_type": "stream",
          "name": "stdout",
          "text": [
            "Pontuação encontrada:  ,\n",
            "Pontuação encontrada:  ,\n",
            "Número encontrado:  70\n",
            "Pontuação encontrada:  %\n",
            "Pontuação encontrada:  .\n",
            "Pontuação encontrada:  .\n"
          ]
        }
      ]
    },
    {
      "cell_type": "markdown",
      "source": [
        "#Part-Of-Speech (POS)\n",
        "Adiciona tags a cada token, como por exemplo, se é verbo, substantivo, etc.\n",
        "\n",
        "![Exemplo](/Imagem/PartsOfSpeechTaggong.png)"
      ],
      "metadata": {
        "id": "DpsbIXLQJFsH"
      }
    },
    {
      "cell_type": "markdown",
      "source": [
        "O spaCy também gera as dependências dos tokens, que são as dependências sintáticas que existem entre os diferentes tokens."
      ],
      "metadata": {
        "id": "2zdMLDCpLwIn"
      }
    },
    {
      "cell_type": "code",
      "source": [
        "# Os atributos com subscrito (_) mostram a representação textual do valor; sem o subscrito, eles podem retornar códigos numéricos que representam esses valores. Na verdade, eles trazem a referência para o objeto.\n",
        "for token in documento:\n",
        "  print(token.text, \" - \", token.pos_, \" - \", token.dep_ , \" - \", token.lemma_ , \" - \", token.shape_)"
      ],
      "metadata": {
        "colab": {
          "base_uri": "https://localhost:8080/"
        },
        "id": "YtFlI-mHIvSI",
        "outputId": "dde5b9c6-567c-470d-cbf8-c3bc82e0f224"
      },
      "execution_count": 23,
      "outputs": [
        {
          "output_type": "stream",
          "name": "stdout",
          "text": [
            "As  -  DET  -  det  -  As  -  Xx\n",
            "ações  -  NOUN  -  nsubj  -  ações  -  xxxx\n",
            "da  -  ADP  -  case  -  da  -  xx\n",
            "Magazine  -  PROPN  -  nmod  -  Magazine  -  Xxxxx\n",
            "Luiza  -  PROPN  -  appos  -  Luiza  -  Xxxxx\n",
            "S.A.,Franca  -  PROPN  -  flat:name  -  S.A.,Franca  -  X.X.,Xxxxx\n",
            ",  -  PUNCT  -  punct  -  ,  -  ,\n",
            "Brasil  -  PROPN  -  conj  -  Brasil  -  Xxxxx\n",
            ",  -  PUNCT  -  punct  -  ,  -  ,\n",
            "acumularam  -  VERB  -  ROOT  -  acumular  -  xxxx\n",
            "baixa  -  NOUN  -  obj  -  baixo  -  xxxx\n",
            "de  -  ADP  -  case  -  de  -  xx\n",
            "70  -  NUM  -  nummod  -  70  -  dd\n",
            "%  -  SYM  -  nmod  -  %  -  %\n",
            "ao  -  ADP  -  case  -  ao  -  xx\n",
            "ano  -  NOUN  -  obl  -  ano  -  xxx\n",
            ".  -  PUNCT  -  punct  -  .  -  .\n",
            "Assim  -  ADV  -  advmod  -  Assim  -  Xxxxx\n",
            "já  -  ADV  -  advmod  -  já  -  xx\n",
            "devolveram  -  VERB  -  ROOT  -  devolver  -  xxxx\n",
            "todos  -  DET  -  det  -  todo  -  xxxx\n",
            "os  -  DET  -  det  -  o  -  xx\n",
            "ganhos  -  NOUN  -  obj  -  ganho  -  xxxx\n",
            "do  -  ADP  -  case  -  do  -  xx\n",
            "período  -  NOUN  -  nmod  -  período  -  xxxx\n",
            "da  -  ADP  -  case  -  da  -  xx\n",
            "pandemia  -  NOUN  -  nmod  -  pandemia  -  xxxx\n",
            ".  -  PUNCT  -  punct  -  .  -  .\n"
          ]
        }
      ]
    },
    {
      "cell_type": "code",
      "source": [
        "#Traz uma descrição morfológica das palavras:\n",
        "for token in documento:\n",
        "  print(token.text, \" - \", token.morph)"
      ],
      "metadata": {
        "id": "sIhTLD6cMeK0",
        "outputId": "1f13fe61-baff-491e-ebb7-5850536e7e1e",
        "colab": {
          "base_uri": "https://localhost:8080/"
        }
      },
      "execution_count": 26,
      "outputs": [
        {
          "output_type": "stream",
          "name": "stdout",
          "text": [
            "As  -  Definite=Def|Gender=Fem|Number=Plur|PronType=Art\n",
            "ações  -  Gender=Fem|Number=Plur\n",
            "da  -  Definite=Def|Gender=Fem|Number=Sing|PronType=Art\n",
            "Magazine  -  Gender=Fem|Number=Sing\n",
            "Luiza  -  Gender=Fem|Number=Sing\n",
            "S.A.,Franca  -  Number=Sing\n",
            ",  -  \n",
            "Brasil  -  Gender=Masc|Number=Sing\n",
            ",  -  \n",
            "acumularam  -  Mood=Ind|Number=Plur|Person=3|Tense=Past|VerbForm=Fin\n",
            "baixa  -  Gender=Fem|Number=Sing\n",
            "de  -  \n",
            "70  -  NumType=Card\n",
            "%  -  \n",
            "ao  -  Definite=Def|Gender=Masc|Number=Sing|PronType=Art\n",
            "ano  -  Gender=Masc|Number=Sing\n",
            ".  -  \n",
            "Assim  -  \n",
            "já  -  \n",
            "devolveram  -  Mood=Ind|Number=Plur|Person=3|Tense=Past|VerbForm=Fin\n",
            "todos  -  Gender=Masc|Number=Plur|PronType=Tot\n",
            "os  -  Definite=Def|Gender=Masc|Number=Plur|PronType=Art\n",
            "ganhos  -  Gender=Masc|Number=Plur\n",
            "do  -  Definite=Def|Gender=Masc|Number=Sing|PronType=Art\n",
            "período  -  Gender=Masc|Number=Sing\n",
            "da  -  Definite=Def|Gender=Fem|Number=Sing|PronType=Art\n",
            "pandemia  -  Gender=Fem|Number=Sing\n",
            ".  -  \n"
          ]
        }
      ]
    },
    {
      "cell_type": "code",
      "source": [
        "#Mais refinada:\n",
        "for token in documento:\n",
        "  print(token.text, \" - \", token.tag_)"
      ],
      "metadata": {
        "id": "3diTc5cDOPmE",
        "outputId": "4735063f-a3c1-4cb7-9df8-353060b607ef",
        "colab": {
          "base_uri": "https://localhost:8080/"
        }
      },
      "execution_count": 27,
      "outputs": [
        {
          "output_type": "stream",
          "name": "stdout",
          "text": [
            "As  -  DET\n",
            "ações  -  NOUN\n",
            "da  -  ADP\n",
            "Magazine  -  PROPN\n",
            "Luiza  -  PROPN\n",
            "S.A.,Franca  -  PROPN\n",
            ",  -  PUNCT\n",
            "Brasil  -  PROPN\n",
            ",  -  PUNCT\n",
            "acumularam  -  VERB\n",
            "baixa  -  NOUN\n",
            "de  -  ADP\n",
            "70  -  NUM\n",
            "%  -  SYM\n",
            "ao  -  ADP\n",
            "ano  -  NOUN\n",
            ".  -  PUNCT\n",
            "Assim  -  ADV\n",
            "já  -  ADV\n",
            "devolveram  -  VERB\n",
            "todos  -  DET\n",
            "os  -  DET\n",
            "ganhos  -  NOUN\n",
            "do  -  ADP\n",
            "período  -  NOUN\n",
            "da  -  ADP\n",
            "pandemia  -  NOUN\n",
            ".  -  PUNCT\n"
          ]
        }
      ]
    },
    {
      "cell_type": "markdown",
      "source": [
        "####Listando Entidade Nomeadas\n",
        "\n",
        "lista de entidades nomeadas do spacy:\n",
        "\n",
        "![image.png](data:image/png;base64,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)"
      ],
      "metadata": {
        "id": "a-8y2BQeO82P"
      }
    },
    {
      "cell_type": "code",
      "source": [],
      "metadata": {
        "id": "56jdjIFoOseO"
      },
      "execution_count": null,
      "outputs": []
    }
  ]
}